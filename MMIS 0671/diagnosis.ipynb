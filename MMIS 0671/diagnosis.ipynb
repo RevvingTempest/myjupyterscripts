{
  "nbformat": 4,
  "nbformat_minor": 0,
  "metadata": {
    "colab": {
      "name": "diagnosis.ipynb",
      "provenance": [],
      "collapsed_sections": []
    },
    "kernelspec": {
      "name": "python3",
      "display_name": "Python 3"
    },
    "language_info": {
      "name": "python"
    }
  },
  "cells": [
    {
      "cell_type": "markdown",
      "metadata": {
        "id": "sL7Kdp3moNka"
      },
      "source": [
        "# Diagnosis\n",
        "**Goal**: Our goal is to develop a model to predict the class of a binary output variable, *diagnosis*, based on 16 input features (*test1, …, test16*).  A secondary goal is to eliminate irrelevant input features and identify a small number of rules for diagnosis based on the remaining relevant features.\n",
        "\n",
        "**Data**: The dataset contains labeled samples: 4000 for training and 1000 for testing. Each sample contains 16 input features, representing values for 16 tests. Its label, *diagnosis*, can take two possible values (0 and 1). In addition, there are 30 unlabeled samples. The training, test, and unlabeled samples are in CSV files \"*diagnosis.train.csv*\", \"*diagnosis.test.csv*\", and \"*diagnosis.new.csv*\", respectively.    \n",
        "\n",
        "**Approach**: We shall choose a good model for this binary classification task based on results from *k*-fold cross-validation on the 4000 training samples. The selected model will be trained on all 4000 training samples and evaluated on the 1000 test samples. We shall then use the trained model to classify unlabeled samples. We shall also investigate whether a DecisionTreeClassifier with a few rules can achieve satisfactory classification accuracy."
      ]
    },
    {
      "cell_type": "markdown",
      "metadata": {
        "id": "pYaVGfd4qO0B"
      },
      "source": [
        "## Import modules"
      ]
    },
    {
      "cell_type": "code",
      "metadata": {
        "id": "KWlSMPV4oLDw"
      },
      "source": [
        "import pandas as pd # for data handling\n",
        "from sklearn.model_selection import cross_val_score # for cross-validation\n",
        "from sklearn.metrics import accuracy_score, classification_report # evaluation metrics\n",
        "import matplotlib.pyplot as plt # for plotting\n",
        "\n",
        "# scikit-learn classifiers evaluated (change as desired)\n",
        "from sklearn.naive_bayes import GaussianNB \n",
        "from sklearn.tree import DecisionTreeClassifier, plot_tree\n",
        "from sklearn.ensemble import RandomForestClassifier, ExtraTreesClassifier\n",
        "from sklearn.neighbors import KNeighborsClassifier\n",
        "from sklearn.linear_model import LogisticRegression\n",
        "from sklearn.svm import SVC\n",
        "from sklearn.neural_network import MLPClassifier"
      ],
      "execution_count": 1,
      "outputs": []
    },
    {
      "cell_type": "markdown",
      "metadata": {
        "id": "qFXeyqMfqSTQ"
      },
      "source": [
        "## Get data\n",
        "We shall extract the following 3 *CSV* files with data from the *zip* file \"*diagnosis.data.zip*\":\n",
        "1. *diagnosis.train.csv*  with 4000 rows and 17 columns.   \n",
        "2. *diagnosis.test.csv*   with  1000 rows and 17 columns.   \n",
        "3. *diagnosis.new.csv*  with 30 rows and 17 columns.\n",
        "\n",
        "The first column, **diagnosis**, in the files \"*diagnosis.train.csv*\" and \"*diagnosis.test.csv*\"  contains the binary output labels. The file \"*diagnosis.new.csv*\" contains unlabeled sampled; the first column **ID** is an identifier. The next 16 columns (*test_1*, ..., *test_16*) contain input features. \n",
        "\n",
        "We shall read data from these *CSV* files into *pandas* dataframes."
      ]
    },
    {
      "cell_type": "markdown",
      "metadata": {
        "id": "d7UZjWh77hmQ"
      },
      "source": [
        "### Extract *CSV* files from *zip* file\n",
        "We shall use unzip to extract CSV files from zip file with data.\n",
        "- “**!**” allows us to run command line commands from a code cell in a notebook.\n"
      ]
    },
    {
      "cell_type": "code",
      "metadata": {
        "colab": {
          "base_uri": "https://localhost:8080/"
        },
        "id": "qnSnuRaDqbWQ",
        "outputId": "5d9293f2-04a2-4d07-f843-0884b80d3d86"
      },
      "source": [
        "! unzip '/content/drive/MyDrive/Colab Notebooks/courses/sklearn_classifiers/data/diagnosis.data.zip'"
      ],
      "execution_count": 2,
      "outputs": [
        {
          "output_type": "stream",
          "text": [
            "Archive:  /content/drive/MyDrive/Colab Notebooks/courses/sklearn_classifiers/data/diagnosis.data.zip\n",
            "replace diagnosis.new.csv? [y]es, [n]o, [A]ll, [N]one, [r]ename: A\n",
            "  inflating: diagnosis.new.csv       \n",
            "  inflating: diagnosis.test.csv      \n",
            "  inflating: diagnosis.train.csv     \n"
          ],
          "name": "stdout"
        }
      ]
    },
    {
      "cell_type": "markdown",
      "metadata": {
        "id": "z_Q4wVD18cpP"
      },
      "source": [
        "### Read data into *pandas* dataframes\n",
        "We shall use *pandas* **read_csv** function to read data from the CSV files \"*diagnosis.train.csv*\", \"*diagnosis.test.csv*\", and \"*diagnosis.new.csv*\" to *pandas* dataframes **train**, **test**, and **new**, respectively."
      ]
    },
    {
      "cell_type": "code",
      "metadata": {
        "colab": {
          "base_uri": "https://localhost:8080/",
          "height": 211
        },
        "id": "3LNrsgt9qgYQ",
        "outputId": "f3423994-cd5b-44a5-8e52-1d4b5841a8e0"
      },
      "source": [
        "# Read data from CSV files into pandas dataframes\n",
        "train = pd.read_csv('diagnosis.train.csv') # training data\n",
        "test = pd.read_csv('diagnosis.test.csv') # test data\n",
        "new = pd.read_csv('diagnosis.new.csv') # unlabeled data\n",
        "# Show number of rows and columns in each dataframe\n",
        "print('train contains %d rows and %d columns' %train.shape)\n",
        "print('test contains %d rows and %d columns' %test.shape)\n",
        "print('new contains %d rows and %d columns' %new.shape)\n",
        "print('First 3 rows in train:') \n",
        "train.head(3) # display first 3 training samples "
      ],
      "execution_count": 3,
      "outputs": [
        {
          "output_type": "stream",
          "text": [
            "train contains 4000 rows and 17 columns\n",
            "test contains 1000 rows and 17 columns\n",
            "new contains 30 rows and 17 columns\n",
            "First 3 rows in train:\n"
          ],
          "name": "stdout"
        },
        {
          "output_type": "execute_result",
          "data": {
            "text/html": [
              "<div>\n",
              "<style scoped>\n",
              "    .dataframe tbody tr th:only-of-type {\n",
              "        vertical-align: middle;\n",
              "    }\n",
              "\n",
              "    .dataframe tbody tr th {\n",
              "        vertical-align: top;\n",
              "    }\n",
              "\n",
              "    .dataframe thead th {\n",
              "        text-align: right;\n",
              "    }\n",
              "</style>\n",
              "<table border=\"1\" class=\"dataframe\">\n",
              "  <thead>\n",
              "    <tr style=\"text-align: right;\">\n",
              "      <th></th>\n",
              "      <th>diagnosis</th>\n",
              "      <th>test_1</th>\n",
              "      <th>test_2</th>\n",
              "      <th>test_3</th>\n",
              "      <th>test_4</th>\n",
              "      <th>test_5</th>\n",
              "      <th>test_6</th>\n",
              "      <th>test_7</th>\n",
              "      <th>test_8</th>\n",
              "      <th>test_9</th>\n",
              "      <th>test_10</th>\n",
              "      <th>test_11</th>\n",
              "      <th>test_12</th>\n",
              "      <th>test_13</th>\n",
              "      <th>test_14</th>\n",
              "      <th>test_15</th>\n",
              "      <th>test_16</th>\n",
              "    </tr>\n",
              "  </thead>\n",
              "  <tbody>\n",
              "    <tr>\n",
              "      <th>0</th>\n",
              "      <td>1.0</td>\n",
              "      <td>0.111</td>\n",
              "      <td>0.312</td>\n",
              "      <td>0.639</td>\n",
              "      <td>0.170</td>\n",
              "      <td>0.256</td>\n",
              "      <td>0.099</td>\n",
              "      <td>0.381</td>\n",
              "      <td>0.758</td>\n",
              "      <td>0.847</td>\n",
              "      <td>0.325</td>\n",
              "      <td>0.726</td>\n",
              "      <td>0.635</td>\n",
              "      <td>0.613</td>\n",
              "      <td>0.722</td>\n",
              "      <td>0.893</td>\n",
              "      <td>0.830</td>\n",
              "    </tr>\n",
              "    <tr>\n",
              "      <th>1</th>\n",
              "      <td>1.0</td>\n",
              "      <td>0.705</td>\n",
              "      <td>0.551</td>\n",
              "      <td>0.492</td>\n",
              "      <td>0.786</td>\n",
              "      <td>0.376</td>\n",
              "      <td>0.881</td>\n",
              "      <td>0.832</td>\n",
              "      <td>0.049</td>\n",
              "      <td>0.290</td>\n",
              "      <td>0.740</td>\n",
              "      <td>0.488</td>\n",
              "      <td>0.937</td>\n",
              "      <td>0.092</td>\n",
              "      <td>0.885</td>\n",
              "      <td>0.122</td>\n",
              "      <td>0.627</td>\n",
              "    </tr>\n",
              "    <tr>\n",
              "      <th>2</th>\n",
              "      <td>1.0</td>\n",
              "      <td>0.662</td>\n",
              "      <td>0.766</td>\n",
              "      <td>0.485</td>\n",
              "      <td>0.076</td>\n",
              "      <td>0.771</td>\n",
              "      <td>0.010</td>\n",
              "      <td>0.509</td>\n",
              "      <td>0.947</td>\n",
              "      <td>0.075</td>\n",
              "      <td>0.575</td>\n",
              "      <td>0.824</td>\n",
              "      <td>0.772</td>\n",
              "      <td>0.145</td>\n",
              "      <td>0.915</td>\n",
              "      <td>0.740</td>\n",
              "      <td>0.843</td>\n",
              "    </tr>\n",
              "  </tbody>\n",
              "</table>\n",
              "</div>"
            ],
            "text/plain": [
              "   diagnosis  test_1  test_2  test_3  ...  test_13  test_14  test_15  test_16\n",
              "0        1.0   0.111   0.312   0.639  ...    0.613    0.722    0.893    0.830\n",
              "1        1.0   0.705   0.551   0.492  ...    0.092    0.885    0.122    0.627\n",
              "2        1.0   0.662   0.766   0.485  ...    0.145    0.915    0.740    0.843\n",
              "\n",
              "[3 rows x 17 columns]"
            ]
          },
          "metadata": {
            "tags": []
          },
          "execution_count": 3
        }
      ]
    },
    {
      "cell_type": "code",
      "metadata": {
        "colab": {
          "base_uri": "https://localhost:8080/",
          "height": 126
        },
        "id": "Sqy43wrss_QW",
        "outputId": "9d8642c1-33f3-4f78-9d9f-671c8c978556"
      },
      "source": [
        "print('Last 2 rows in new:') \n",
        "new.tail(2) # display last 2 unlabeled samples"
      ],
      "execution_count": 4,
      "outputs": [
        {
          "output_type": "stream",
          "text": [
            "Last 2 rows in new:\n"
          ],
          "name": "stdout"
        },
        {
          "output_type": "execute_result",
          "data": {
            "text/html": [
              "<div>\n",
              "<style scoped>\n",
              "    .dataframe tbody tr th:only-of-type {\n",
              "        vertical-align: middle;\n",
              "    }\n",
              "\n",
              "    .dataframe tbody tr th {\n",
              "        vertical-align: top;\n",
              "    }\n",
              "\n",
              "    .dataframe thead th {\n",
              "        text-align: right;\n",
              "    }\n",
              "</style>\n",
              "<table border=\"1\" class=\"dataframe\">\n",
              "  <thead>\n",
              "    <tr style=\"text-align: right;\">\n",
              "      <th></th>\n",
              "      <th>ID</th>\n",
              "      <th>test_1</th>\n",
              "      <th>test_2</th>\n",
              "      <th>test_3</th>\n",
              "      <th>test_4</th>\n",
              "      <th>test_5</th>\n",
              "      <th>test_6</th>\n",
              "      <th>test_7</th>\n",
              "      <th>test_8</th>\n",
              "      <th>test_9</th>\n",
              "      <th>test_10</th>\n",
              "      <th>test_11</th>\n",
              "      <th>test_12</th>\n",
              "      <th>test_13</th>\n",
              "      <th>test_14</th>\n",
              "      <th>test_15</th>\n",
              "      <th>test_16</th>\n",
              "    </tr>\n",
              "  </thead>\n",
              "  <tbody>\n",
              "    <tr>\n",
              "      <th>28</th>\n",
              "      <td>ID_029</td>\n",
              "      <td>0.858</td>\n",
              "      <td>0.738</td>\n",
              "      <td>0.664</td>\n",
              "      <td>0.605</td>\n",
              "      <td>0.269</td>\n",
              "      <td>0.507</td>\n",
              "      <td>0.048</td>\n",
              "      <td>0.471</td>\n",
              "      <td>0.979</td>\n",
              "      <td>0.506</td>\n",
              "      <td>0.718</td>\n",
              "      <td>0.079</td>\n",
              "      <td>0.534</td>\n",
              "      <td>0.583</td>\n",
              "      <td>0.606</td>\n",
              "      <td>0.048</td>\n",
              "    </tr>\n",
              "    <tr>\n",
              "      <th>29</th>\n",
              "      <td>ID_030</td>\n",
              "      <td>0.607</td>\n",
              "      <td>0.414</td>\n",
              "      <td>0.660</td>\n",
              "      <td>0.866</td>\n",
              "      <td>0.562</td>\n",
              "      <td>0.790</td>\n",
              "      <td>0.457</td>\n",
              "      <td>0.817</td>\n",
              "      <td>0.413</td>\n",
              "      <td>0.101</td>\n",
              "      <td>0.181</td>\n",
              "      <td>0.803</td>\n",
              "      <td>0.298</td>\n",
              "      <td>0.501</td>\n",
              "      <td>0.929</td>\n",
              "      <td>0.147</td>\n",
              "    </tr>\n",
              "  </tbody>\n",
              "</table>\n",
              "</div>"
            ],
            "text/plain": [
              "        ID  test_1  test_2  test_3  ...  test_13  test_14  test_15  test_16\n",
              "28  ID_029   0.858   0.738   0.664  ...    0.534    0.583    0.606    0.048\n",
              "29  ID_030   0.607   0.414   0.660  ...    0.298    0.501    0.929    0.147\n",
              "\n",
              "[2 rows x 17 columns]"
            ]
          },
          "metadata": {
            "tags": []
          },
          "execution_count": 4
        }
      ]
    },
    {
      "cell_type": "markdown",
      "metadata": {
        "id": "Cy4SdaiY9lFo"
      },
      "source": [
        "### Specify inputs and outputs\n",
        "- **features**: List of the 16 input feature names\n",
        "- **X_train**: $4000 \\times 16$ array containing input values for training samples.\n",
        "- **y_train**: Array containing labels for the 4000 training samples.\n",
        "- **X_test**: $1000 \\times 16$ array containing input values for test samples.\n",
        "- **y_test**: Array containing labels for the 1000 training samples.\n",
        "- **X_new**: $30 \\times 16$ array containing input values for unlabeled samples.\n",
        "\n",
        "\n",
        "\n",
        "\n"
      ]
    },
    {
      "cell_type": "code",
      "metadata": {
        "colab": {
          "base_uri": "https://localhost:8080/"
        },
        "id": "GJ8ohEGf-Mi8",
        "outputId": "b97bfe13-0702-4d81-9366-30596b83704c"
      },
      "source": [
        "features = list(train)[1:] # all but the first column header are feature names\n",
        "print(\"features:\", features)\n",
        "X_train, X_test, X_new = train[features], test[features], new[features]\n",
        "y_train, y_test = train.diagnosis, test.diagnosis\n",
        "print('Shapes:')\n",
        "print(f'X_train: {X_train.shape}, X_test: {X_test.shape}, X_new: {X_new.shape}')\n",
        "print(f'y_train: {y_train.shape}, y_test: {y_test.shape}')"
      ],
      "execution_count": 5,
      "outputs": [
        {
          "output_type": "stream",
          "text": [
            "features: ['test_1', 'test_2', 'test_3', 'test_4', 'test_5', 'test_6', 'test_7', 'test_8', 'test_9', 'test_10', 'test_11', 'test_12', 'test_13', 'test_14', 'test_15', 'test_16']\n",
            "Shapes:\n",
            "X_train: (4000, 16), X_test: (1000, 16), X_new: (30, 16)\n",
            "y_train: (4000,), y_test: (1000,)\n"
          ],
          "name": "stdout"
        }
      ]
    },
    {
      "cell_type": "markdown",
      "metadata": {
        "id": "DnxBpRlZ-5I9"
      },
      "source": [
        "## Evaluate models using *k*-fold cross-validation\n",
        "We shall use **4**-fold cross-validation so that 3000 of the 4000 training samples are used for training and the remaining 1000 samples are used for validation in each fold. The mean cross-validation accuracy for each model with chosen hyper-parameters on the 4 runs will be computed using the command:\n",
        "- **score = cross_val_score(model, X_train, y_train, cv=4).mean()**\n",
        "> - *model*: classifier object with specified hyperparameters\n",
        "> - *X_train*, *y_train*: Inputs and output labels for training\n",
        "> - *cv*: number of folds in cross-validation\n",
        "> - *mean*(): computes mean accuracy from the *cv* runs \n",
        "\n",
        "You can look up the documentation for each classifier, change hyper-parameter values, and observe the results. We shall also observe the time it takes to train and evaluate each model 4 times in this *4*-fold cross-validation process.\n"
      ]
    },
    {
      "cell_type": "markdown",
      "metadata": {
        "id": "5txUT58tqyFa"
      },
      "source": [
        "### GaussianNB\n",
        "\n",
        "https://scikit-learn.org/stable/modules/generated/sklearn.naive_bayes.GaussianNB.html"
      ]
    },
    {
      "cell_type": "code",
      "metadata": {
        "colab": {
          "base_uri": "https://localhost:8080/"
        },
        "id": "NrfDQpqMq8Jr",
        "outputId": "5ab0c5b2-1359-44eb-9314-4d8846b784a8"
      },
      "source": [
        "%%time\n",
        "model = GaussianNB() # change hyperparameters as desired\n",
        "score = cross_val_score(model, X_train, y_train, cv=4).mean() # mean cross-validation accuracy\n",
        "print(f'Mean cross-validation accuracy = {score:0.4f}')"
      ],
      "execution_count": 6,
      "outputs": [
        {
          "output_type": "stream",
          "text": [
            "Mean cross-validation accuracy = 0.8207\n",
            "CPU times: user 30.3 ms, sys: 1.54 ms, total: 31.9 ms\n",
            "Wall time: 35.4 ms\n"
          ],
          "name": "stdout"
        }
      ]
    },
    {
      "cell_type": "markdown",
      "metadata": {
        "id": "L61SWfGztPUz"
      },
      "source": [
        "### DecisionTreeClassifier\n",
        "\n",
        "https://scikit-learn.org/stable/modules/generated/sklearn.tree.DecisionTreeClassifier.html"
      ]
    },
    {
      "cell_type": "code",
      "metadata": {
        "colab": {
          "base_uri": "https://localhost:8080/"
        },
        "id": "V6IlKW1ZKFrq",
        "outputId": "bc8166ff-ede7-458d-b581-706ee8173674"
      },
      "source": [
        "%%time\n",
        "model = DecisionTreeClassifier(max_leaf_nodes=10) # change hyperparameters as desired\n",
        "score = cross_val_score(model, X_train, y_train, cv=4).mean() # mean cross-validation accuracy\n",
        "print(f'Mean cross-validation accuracy = {score:0.4f}')"
      ],
      "execution_count": 7,
      "outputs": [
        {
          "output_type": "stream",
          "text": [
            "Mean cross-validation accuracy = 0.9600\n",
            "CPU times: user 123 ms, sys: 2.76 ms, total: 126 ms\n",
            "Wall time: 133 ms\n"
          ],
          "name": "stdout"
        }
      ]
    },
    {
      "cell_type": "markdown",
      "metadata": {
        "id": "dw2J3q89Kq8u"
      },
      "source": [
        "### RandomForestClassifier\n",
        "\n",
        "https://scikit-learn.org/stable/modules/generated/sklearn.ensemble.RandomForestClassifier.html"
      ]
    },
    {
      "cell_type": "code",
      "metadata": {
        "colab": {
          "base_uri": "https://localhost:8080/"
        },
        "id": "Bg1tRS0KK4zl",
        "outputId": "cd9374c1-5068-4d48-f4a4-1613136e7867"
      },
      "source": [
        "%%time\n",
        "model = RandomForestClassifier(n_estimators=10) # change hyperparameters as desired\n",
        "score = cross_val_score(model, X_train, y_train, cv=4).mean() # mean cross-validation accuracy\n",
        "print(f'Mean cross-validation accuracy = {score:0.4f}')"
      ],
      "execution_count": 8,
      "outputs": [
        {
          "output_type": "stream",
          "text": [
            "Mean cross-validation accuracy = 0.9577\n",
            "CPU times: user 495 ms, sys: 5.02 ms, total: 500 ms\n",
            "Wall time: 516 ms\n"
          ],
          "name": "stdout"
        }
      ]
    },
    {
      "cell_type": "markdown",
      "metadata": {
        "id": "d86dfu7ducAE"
      },
      "source": [
        "### ExtraTreesClassifier\n",
        "\n",
        "https://scikit-learn.org/stable/modules/generated/sklearn.ensemble.ExtraTreesClassifier.html"
      ]
    },
    {
      "cell_type": "code",
      "metadata": {
        "colab": {
          "base_uri": "https://localhost:8080/"
        },
        "id": "emyzWlJyKUSx",
        "outputId": "ea3b09a4-263e-4090-a840-8ea1c836f2da"
      },
      "source": [
        "%%time\n",
        "model = ExtraTreesClassifier(n_estimators=100) # change hyperparameters as desired\n",
        "score = cross_val_score(model, X_train, y_train, cv=4).mean() # mean cross-validation accuracy\n",
        "print(f'Mean cross-validation accuracy = {score:0.4f}')"
      ],
      "execution_count": 9,
      "outputs": [
        {
          "output_type": "stream",
          "text": [
            "Mean cross-validation accuracy = 0.9193\n",
            "CPU times: user 1.81 s, sys: 25.9 ms, total: 1.84 s\n",
            "Wall time: 1.87 s\n"
          ],
          "name": "stdout"
        }
      ]
    },
    {
      "cell_type": "markdown",
      "metadata": {
        "id": "LRG62pOxwrQT"
      },
      "source": [
        "### KNeighborsClassifier\n",
        "\n",
        "https://scikit-learn.org/stable/modules/generated/sklearn.neighbors.KNeighborsClassifier.html"
      ]
    },
    {
      "cell_type": "code",
      "metadata": {
        "colab": {
          "base_uri": "https://localhost:8080/"
        },
        "id": "bXltDGqnLHmH",
        "outputId": "2c084f31-9a2d-448a-9324-a810c0743a4c"
      },
      "source": [
        "%%time\n",
        "model = KNeighborsClassifier(n_neighbors=11, algorithm='brute') # change hyperparameters as desired\n",
        "score = cross_val_score(model, X_train, y_train, cv=4).mean() # mean cross-validation accuracy\n",
        "print(f'Mean cross-validation accuracy = {score:0.4f}')"
      ],
      "execution_count": 10,
      "outputs": [
        {
          "output_type": "stream",
          "text": [
            "Mean cross-validation accuracy = 0.7502\n",
            "CPU times: user 576 ms, sys: 417 ms, total: 993 ms\n",
            "Wall time: 533 ms\n"
          ],
          "name": "stdout"
        }
      ]
    },
    {
      "cell_type": "markdown",
      "metadata": {
        "id": "UlOltPrLLrug"
      },
      "source": [
        "### LogisticRegression\n",
        "\n",
        "https://scikit-learn.org/stable/modules/generated/sklearn.linear_model.LogisticRegression.html"
      ]
    },
    {
      "cell_type": "code",
      "metadata": {
        "colab": {
          "base_uri": "https://localhost:8080/"
        },
        "id": "bCHYnbyHL3SH",
        "outputId": "04964498-3188-4318-d273-60841f7ed397"
      },
      "source": [
        "%%time\n",
        "model = LogisticRegression(max_iter=10000) # change hyperparameters as desired\n",
        "score = cross_val_score(model, X_train, y_train, cv=4).mean() # mean cross-validation accuracy\n",
        "print(f'Mean cross-validation accuracy = {score:0.4f}')"
      ],
      "execution_count": 11,
      "outputs": [
        {
          "output_type": "stream",
          "text": [
            "Mean cross-validation accuracy = 0.7487\n",
            "CPU times: user 115 ms, sys: 76.8 ms, total: 192 ms\n",
            "Wall time: 103 ms\n"
          ],
          "name": "stdout"
        }
      ]
    },
    {
      "cell_type": "markdown",
      "metadata": {
        "id": "A-iTOgGMMPQN"
      },
      "source": [
        "### SVC\n",
        "\n",
        "https://scikit-learn.org/stable/modules/generated/sklearn.svm.SVC.html"
      ]
    },
    {
      "cell_type": "code",
      "metadata": {
        "colab": {
          "base_uri": "https://localhost:8080/"
        },
        "id": "dABpGY4CMZEx",
        "outputId": "83555671-21ab-41aa-d543-81f94441f7c2"
      },
      "source": [
        "%%time\n",
        "model = SVC() # change hyperparameters as desired\n",
        "score = cross_val_score(model, X_train, y_train, cv=4).mean() # mean cross-validation accuracy\n",
        "print(f'Mean cross-validation accuracy = {score:0.4f}')"
      ],
      "execution_count": 12,
      "outputs": [
        {
          "output_type": "stream",
          "text": [
            "Mean cross-validation accuracy = 0.8405\n",
            "CPU times: user 1.73 s, sys: 93.5 ms, total: 1.82 s\n",
            "Wall time: 1.75 s\n"
          ],
          "name": "stdout"
        }
      ]
    },
    {
      "cell_type": "markdown",
      "metadata": {
        "id": "HRyD_Sx_5UQa"
      },
      "source": [
        "### MLPClassifier\n",
        "https://scikit-learn.org/stable/modules/generated/sklearn.neural_network.MLPClassifier.html"
      ]
    },
    {
      "cell_type": "code",
      "metadata": {
        "colab": {
          "base_uri": "https://localhost:8080/"
        },
        "id": "IdJ-K_USNDxe",
        "outputId": "3354eb06-e84f-4379-a1d3-6884105233d1"
      },
      "source": [
        "%%time\n",
        "model = MLPClassifier(hidden_layer_sizes=100, max_iter=1000) # change hyperparameters as desired\n",
        "score = cross_val_score(model, X_train, y_train, cv=4).mean() # mean cross-validation accuracy\n",
        "print(f'Mean cross-validation accuracy = {score:0.4f}')"
      ],
      "execution_count": 13,
      "outputs": [
        {
          "output_type": "stream",
          "text": [
            "Mean cross-validation accuracy = 0.8742\n",
            "CPU times: user 1min, sys: 45.9 s, total: 1min 46s\n",
            "Wall time: 54.8 s\n"
          ],
          "name": "stdout"
        }
      ]
    },
    {
      "cell_type": "markdown",
      "metadata": {
        "id": "C2SCLsZcC2MA"
      },
      "source": [
        "## Select a good model\n",
        "Since a DecisionTree classifier has high cross-validation accuracy, we shall search for good hyper-parameter values for a DecisionTree model using cross-validation. In this example I shall vary the number of rules (*max_leaf_nodes*)."
      ]
    },
    {
      "cell_type": "code",
      "metadata": {
        "colab": {
          "base_uri": "https://localhost:8080/"
        },
        "id": "ic1FrpZVNkCL",
        "outputId": "59d70481-51a3-4824-cd35-3280267aeb84"
      },
      "source": [
        "for k in range(2,15): # number of rules\n",
        "    model = DecisionTreeClassifier(max_leaf_nodes=k)\n",
        "    score = cross_val_score(model, X_train, y_train, cv=4).mean() # mean cross-validation accuracy\n",
        "    print(f'Mean cross-validation accuracy with {k} rules = {score:0.4f}')"
      ],
      "execution_count": 14,
      "outputs": [
        {
          "output_type": "stream",
          "text": [
            "Mean cross-validation accuracy with 2 rules = 0.6372\n",
            "Mean cross-validation accuracy with 3 rules = 0.7837\n",
            "Mean cross-validation accuracy with 4 rules = 0.8810\n",
            "Mean cross-validation accuracy with 5 rules = 0.9612\n",
            "Mean cross-validation accuracy with 6 rules = 0.9610\n",
            "Mean cross-validation accuracy with 7 rules = 0.9607\n",
            "Mean cross-validation accuracy with 8 rules = 0.9602\n",
            "Mean cross-validation accuracy with 9 rules = 0.9602\n",
            "Mean cross-validation accuracy with 10 rules = 0.9602\n",
            "Mean cross-validation accuracy with 11 rules = 0.9600\n",
            "Mean cross-validation accuracy with 12 rules = 0.9595\n",
            "Mean cross-validation accuracy with 13 rules = 0.9587\n",
            "Mean cross-validation accuracy with 14 rules = 0.9590\n"
          ],
          "name": "stdout"
        }
      ]
    },
    {
      "cell_type": "markdown",
      "metadata": {
        "id": "prBLKKoqW30p"
      },
      "source": [
        "For this classification problem, cross-validation accuracy increases as the number of rules increase up to 5, and then it starts decreasing. So we shall choose the following model:\n",
        "- DecisionTreeClassifier(max_leaf_nodes=5)  "
      ]
    },
    {
      "cell_type": "code",
      "metadata": {
        "colab": {
          "base_uri": "https://localhost:8080/"
        },
        "id": "-GSe63ssXaS4",
        "outputId": "81055881-de65-4c15-8f58-7c1505dc6b25"
      },
      "source": [
        "chosen_model = DecisionTreeClassifier(max_leaf_nodes=5) # chosen model\n",
        "print(chosen_model) # display model parameters"
      ],
      "execution_count": 15,
      "outputs": [
        {
          "output_type": "stream",
          "text": [
            "DecisionTreeClassifier(ccp_alpha=0.0, class_weight=None, criterion='gini',\n",
            "                       max_depth=None, max_features=None, max_leaf_nodes=5,\n",
            "                       min_impurity_decrease=0.0, min_impurity_split=None,\n",
            "                       min_samples_leaf=1, min_samples_split=2,\n",
            "                       min_weight_fraction_leaf=0.0, presort='deprecated',\n",
            "                       random_state=None, splitter='best')\n"
          ],
          "name": "stdout"
        }
      ]
    },
    {
      "cell_type": "markdown",
      "metadata": {
        "id": "mObRT95gXrzZ"
      },
      "source": [
        "## Train and test selected model"
      ]
    },
    {
      "cell_type": "code",
      "metadata": {
        "colab": {
          "base_uri": "https://localhost:8080/"
        },
        "id": "RZ_fqywZXw83",
        "outputId": "43118bbc-edd3-4596-fe28-db95266f4f38"
      },
      "source": [
        "%%time\n",
        "chosen_model.fit(X_train, y_train) # train selected model on ALL training examples\n",
        "predicted = chosen_model.predict(X_test) # predicted diagnosis for test examples\n",
        "acc = accuracy_score(y_test, predicted) # accuracy on test samples\n",
        "print(f'Accuracy on test samples = {acc:0.4f}') # show test accuracy\n",
        "print(\"Classification report on test samples:\") # for precision, recall, F1-score\n",
        "print(classification_report(y_test, predicted, digits=4)) # rounded to 4 decimal places"
      ],
      "execution_count": 16,
      "outputs": [
        {
          "output_type": "stream",
          "text": [
            "Accuracy on test samples = 0.9590\n",
            "Classification report on test samples:\n",
            "              precision    recall  f1-score   support\n",
            "\n",
            "         0.0     0.9542    0.9782    0.9661       597\n",
            "         1.0     0.9665    0.9305    0.9482       403\n",
            "\n",
            "    accuracy                         0.9590      1000\n",
            "   macro avg     0.9604    0.9544    0.9571      1000\n",
            "weighted avg     0.9592    0.9590    0.9589      1000\n",
            "\n",
            "CPU times: user 41.5 ms, sys: 0 ns, total: 41.5 ms\n",
            "Wall time: 46 ms\n"
          ],
          "name": "stdout"
        }
      ]
    },
    {
      "cell_type": "markdown",
      "metadata": {
        "id": "HaPNAkBiGCkA"
      },
      "source": [
        "## Predict class for unlabeled samples\n",
        "We shall use our trained model to predict the output class for the unlabeled samples."
      ]
    },
    {
      "cell_type": "code",
      "metadata": {
        "colab": {
          "base_uri": "https://localhost:8080/",
          "height": 948
        },
        "id": "yEqI9Ic6GV_v",
        "outputId": "8e4694c6-c8c7-42c8-c170-e706c77fdde2"
      },
      "source": [
        "predicted_new = chosen_model.predict(X_new) # predicted classes for unlabeled samples\n",
        "new_prediction = pd.DataFrame() # dataframe with predicted classes\n",
        "new_prediction['ID'] = new.ID # identifiers for unlabeled samples\n",
        "new_prediction['diagnosis'] = predicted_new # # predicted classes for unlabeled samples\n",
        "new_prediction.to_csv('diagnosis.prediction.csv', index=False) # save as CSV file\n",
        "new_prediction # display results"
      ],
      "execution_count": 17,
      "outputs": [
        {
          "output_type": "execute_result",
          "data": {
            "text/html": [
              "<div>\n",
              "<style scoped>\n",
              "    .dataframe tbody tr th:only-of-type {\n",
              "        vertical-align: middle;\n",
              "    }\n",
              "\n",
              "    .dataframe tbody tr th {\n",
              "        vertical-align: top;\n",
              "    }\n",
              "\n",
              "    .dataframe thead th {\n",
              "        text-align: right;\n",
              "    }\n",
              "</style>\n",
              "<table border=\"1\" class=\"dataframe\">\n",
              "  <thead>\n",
              "    <tr style=\"text-align: right;\">\n",
              "      <th></th>\n",
              "      <th>ID</th>\n",
              "      <th>diagnosis</th>\n",
              "    </tr>\n",
              "  </thead>\n",
              "  <tbody>\n",
              "    <tr>\n",
              "      <th>0</th>\n",
              "      <td>ID_001</td>\n",
              "      <td>0.0</td>\n",
              "    </tr>\n",
              "    <tr>\n",
              "      <th>1</th>\n",
              "      <td>ID_002</td>\n",
              "      <td>0.0</td>\n",
              "    </tr>\n",
              "    <tr>\n",
              "      <th>2</th>\n",
              "      <td>ID_003</td>\n",
              "      <td>0.0</td>\n",
              "    </tr>\n",
              "    <tr>\n",
              "      <th>3</th>\n",
              "      <td>ID_004</td>\n",
              "      <td>0.0</td>\n",
              "    </tr>\n",
              "    <tr>\n",
              "      <th>4</th>\n",
              "      <td>ID_005</td>\n",
              "      <td>0.0</td>\n",
              "    </tr>\n",
              "    <tr>\n",
              "      <th>5</th>\n",
              "      <td>ID_006</td>\n",
              "      <td>0.0</td>\n",
              "    </tr>\n",
              "    <tr>\n",
              "      <th>6</th>\n",
              "      <td>ID_007</td>\n",
              "      <td>0.0</td>\n",
              "    </tr>\n",
              "    <tr>\n",
              "      <th>7</th>\n",
              "      <td>ID_008</td>\n",
              "      <td>0.0</td>\n",
              "    </tr>\n",
              "    <tr>\n",
              "      <th>8</th>\n",
              "      <td>ID_009</td>\n",
              "      <td>0.0</td>\n",
              "    </tr>\n",
              "    <tr>\n",
              "      <th>9</th>\n",
              "      <td>ID_010</td>\n",
              "      <td>0.0</td>\n",
              "    </tr>\n",
              "    <tr>\n",
              "      <th>10</th>\n",
              "      <td>ID_011</td>\n",
              "      <td>0.0</td>\n",
              "    </tr>\n",
              "    <tr>\n",
              "      <th>11</th>\n",
              "      <td>ID_012</td>\n",
              "      <td>0.0</td>\n",
              "    </tr>\n",
              "    <tr>\n",
              "      <th>12</th>\n",
              "      <td>ID_013</td>\n",
              "      <td>0.0</td>\n",
              "    </tr>\n",
              "    <tr>\n",
              "      <th>13</th>\n",
              "      <td>ID_014</td>\n",
              "      <td>0.0</td>\n",
              "    </tr>\n",
              "    <tr>\n",
              "      <th>14</th>\n",
              "      <td>ID_015</td>\n",
              "      <td>1.0</td>\n",
              "    </tr>\n",
              "    <tr>\n",
              "      <th>15</th>\n",
              "      <td>ID_016</td>\n",
              "      <td>1.0</td>\n",
              "    </tr>\n",
              "    <tr>\n",
              "      <th>16</th>\n",
              "      <td>ID_017</td>\n",
              "      <td>1.0</td>\n",
              "    </tr>\n",
              "    <tr>\n",
              "      <th>17</th>\n",
              "      <td>ID_018</td>\n",
              "      <td>1.0</td>\n",
              "    </tr>\n",
              "    <tr>\n",
              "      <th>18</th>\n",
              "      <td>ID_019</td>\n",
              "      <td>1.0</td>\n",
              "    </tr>\n",
              "    <tr>\n",
              "      <th>19</th>\n",
              "      <td>ID_020</td>\n",
              "      <td>1.0</td>\n",
              "    </tr>\n",
              "    <tr>\n",
              "      <th>20</th>\n",
              "      <td>ID_021</td>\n",
              "      <td>1.0</td>\n",
              "    </tr>\n",
              "    <tr>\n",
              "      <th>21</th>\n",
              "      <td>ID_022</td>\n",
              "      <td>1.0</td>\n",
              "    </tr>\n",
              "    <tr>\n",
              "      <th>22</th>\n",
              "      <td>ID_023</td>\n",
              "      <td>1.0</td>\n",
              "    </tr>\n",
              "    <tr>\n",
              "      <th>23</th>\n",
              "      <td>ID_024</td>\n",
              "      <td>1.0</td>\n",
              "    </tr>\n",
              "    <tr>\n",
              "      <th>24</th>\n",
              "      <td>ID_025</td>\n",
              "      <td>1.0</td>\n",
              "    </tr>\n",
              "    <tr>\n",
              "      <th>25</th>\n",
              "      <td>ID_026</td>\n",
              "      <td>1.0</td>\n",
              "    </tr>\n",
              "    <tr>\n",
              "      <th>26</th>\n",
              "      <td>ID_027</td>\n",
              "      <td>1.0</td>\n",
              "    </tr>\n",
              "    <tr>\n",
              "      <th>27</th>\n",
              "      <td>ID_028</td>\n",
              "      <td>1.0</td>\n",
              "    </tr>\n",
              "    <tr>\n",
              "      <th>28</th>\n",
              "      <td>ID_029</td>\n",
              "      <td>1.0</td>\n",
              "    </tr>\n",
              "    <tr>\n",
              "      <th>29</th>\n",
              "      <td>ID_030</td>\n",
              "      <td>1.0</td>\n",
              "    </tr>\n",
              "  </tbody>\n",
              "</table>\n",
              "</div>"
            ],
            "text/plain": [
              "        ID  diagnosis\n",
              "0   ID_001        0.0\n",
              "1   ID_002        0.0\n",
              "2   ID_003        0.0\n",
              "3   ID_004        0.0\n",
              "4   ID_005        0.0\n",
              "5   ID_006        0.0\n",
              "6   ID_007        0.0\n",
              "7   ID_008        0.0\n",
              "8   ID_009        0.0\n",
              "9   ID_010        0.0\n",
              "10  ID_011        0.0\n",
              "11  ID_012        0.0\n",
              "12  ID_013        0.0\n",
              "13  ID_014        0.0\n",
              "14  ID_015        1.0\n",
              "15  ID_016        1.0\n",
              "16  ID_017        1.0\n",
              "17  ID_018        1.0\n",
              "18  ID_019        1.0\n",
              "19  ID_020        1.0\n",
              "20  ID_021        1.0\n",
              "21  ID_022        1.0\n",
              "22  ID_023        1.0\n",
              "23  ID_024        1.0\n",
              "24  ID_025        1.0\n",
              "25  ID_026        1.0\n",
              "26  ID_027        1.0\n",
              "27  ID_028        1.0\n",
              "28  ID_029        1.0\n",
              "29  ID_030        1.0"
            ]
          },
          "metadata": {
            "tags": []
          },
          "execution_count": 17
        }
      ]
    },
    {
      "cell_type": "markdown",
      "metadata": {
        "id": "HuYzuoj8ZWUm"
      },
      "source": [
        "## Extract rules from Decision Tree\n",
        "We shall visualize the decision tree using the *plot_tree* function\n",
        "- https://scikit-learn.org/stable/modules/generated/sklearn.tree.plot_tree.html "
      ]
    },
    {
      "cell_type": "code",
      "metadata": {
        "colab": {
          "base_uri": "https://localhost:8080/",
          "height": 575
        },
        "id": "F0sFgjOrZ3Dn",
        "outputId": "26d6f089-adb4-4d87-c3eb-cbaa07edaa4e"
      },
      "source": [
        "plt.figure(figsize=(10, 10)) # size of figure to be displayed\n",
        "\n",
        "plot_tree(chosen_model, \n",
        "          feature_names=features, \n",
        "          class_names=[f'{c}' for c in chosen_model.classes_], \n",
        "          filled=True, rounded=True, impurity=False) # plot tree\n",
        "\n",
        "plt.savefig(\"decision_tree.png\") # save as PNG file\n",
        "plt.show() # show tree"
      ],
      "execution_count": 18,
      "outputs": [
        {
          "output_type": "display_data",
          "data": {
            "image/png": "[encoded data removed]",
            "text/plain": [
              "<Figure size 720x720 with 1 Axes>"
            ]
          },
          "metadata": {
            "tags": [],
            "needs_background": "light"
          }
        }
      ]
    },
    {
      "cell_type": "markdown",
      "metadata": {
        "id": "pDLcDVMAeXxQ"
      },
      "source": [
        "The Decision Tree encodes the following rules:\n",
        "\n",
        "1. IF *test_7* $>$ 0.764 THEN *diagnosis* = 0.\n",
        "2. IF *test_7* $\\le$ 0.764 AND *test_13* $>$ 0.794 THEN *diagnosis* = 0.\n",
        "3. IF *test_7* $\\le$ 0.764 AND *test_13* $\\le$ 0.794 AND *test_3* $>$ 0.806  THEN *diagnosis* = 0.\n",
        "4. IF *test_7* $\\le$ 0.764 AND *test_13* $\\le$ 0.794 AND *test_3* $\\le$ 0.806 AND *test_12* $>$ 0.816  THEN *diagnosis* = 0.\n",
        "5. IF *test_7* $\\le$ 0.764 AND *test_13* $\\le$ 0.794 AND *test_3* $\\le$ 0.806 AND *test_12* $\\le$ 0.816  THEN *diagnosis* = 0.   "
      ]
    },
    {
      "cell_type": "markdown",
      "metadata": {
        "id": "SbTzGu2PgApr"
      },
      "source": [
        "### Relevant features\n",
        "The rules above use only 4 of the 16 tests as input features. The attribute *feature_importances_* of a trained decision tree may be used to infer the relative imprtance of features. We shall plot feature importances and confirm that only 4 of the tests (**test_3, test_7, test_12, test_13**) are relevant for this classification problem; the other 12 tests may eliminated without affecting classification accuracy. "
      ]
    },
    {
      "cell_type": "code",
      "metadata": {
        "colab": {
          "base_uri": "https://localhost:8080/",
          "height": 340
        },
        "id": "cQUCoFwjbJZ3",
        "outputId": "f318bd6b-f868-43dc-fbae-959dc081d3a0"
      },
      "source": [
        "plt.figure(figsize=(16, 4)) # size of figure to be displayed\n",
        "plt.bar(features, chosen_model.feature_importances_)\n",
        "plt.xticks(rotation = 60, fontsize=16)\n",
        "plt.title('Feature importances', fontsize=24)\n",
        "plt.show()"
      ],
      "execution_count": 19,
      "outputs": [
        {
          "output_type": "display_data",
          "data": {
            "image/png": "[encoded data removed]",
            "text/plain": [
              "<Figure size 1152x288 with 1 Axes>"
            ]
          },
          "metadata": {
            "tags": [],
            "needs_background": "light"
          }
        }
      ]
    }
  ]
}