{
  "nbformat": 4,
  "nbformat_minor": 0,
  "metadata": {
    "colab": {
      "name": "digit.ipynb",
      "provenance": [],
      "collapsed_sections": [],
      "toc_visible": true
    },
    "kernelspec": {
      "name": "python3",
      "display_name": "Python 3"
    },
    "language_info": {
      "name": "python"
    }
  },
  "cells": [
    {
      "cell_type": "markdown",
      "metadata": {
        "id": "0NefZRJBtZJi"
      },
      "source": [
        "# Digit Recognition \n",
        "\n",
        "**Goal**: Our goal is to develop a model to recognize handwritten digits.\n",
        "\n",
        "**Data**: We shall use the *Keras* *MNIST* dataset (https://keras.io/api/datasets/mnist/) to train and evaluate our models. The dataset contains  $28\\times28$ grayscale images of handwritten digits; each image is labeled with the digit (**0,...,9**) that it represents. There are 60,000 training samples and 10,000 test samples.    \n",
        "\n",
        "**Approach**: We shall choose a good model for this digit recognition task based on results from *k*-fold cross-validation on the 60,000 training samples. The selected model will be evaluated on the 10,000 test samples. We shall then use the trained model to classify unlabeled images and see whether it can recognize our own handwriting.\n",
        "\n"
      ]
    },
    {
      "cell_type": "markdown",
      "metadata": {
        "id": "pYaVGfd4qO0B"
      },
      "source": [
        "## Import modules"
      ]
    },
    {
      "cell_type": "code",
      "metadata": {
        "id": "KWlSMPV4oLDw"
      },
      "source": [
        "from keras.datasets import mnist # to obtain labeled images\n",
        "\n",
        "import pandas as pd # for data handling\n",
        "import numpy as np # for computation\n",
        "from sklearn.model_selection import cross_val_score # for cross-validation\n",
        "from sklearn.metrics import accuracy_score, classification_report # evaluation metrics\n",
        "import matplotlib.pyplot as plt # for plotting\n",
        "\n",
        "# scikit-learn classifiers evaluated (change as desired)\n",
        "from sklearn.naive_bayes import MultinomialNB, GaussianNB\n",
        "from sklearn.tree import DecisionTreeClassifier, plot_tree\n",
        "from sklearn.ensemble import RandomForestClassifier, ExtraTreesClassifier\n",
        "from sklearn.neighbors import KNeighborsClassifier\n",
        "from sklearn.linear_model import LogisticRegression\n",
        "from sklearn.svm import SVC\n",
        "from sklearn.neural_network import MLPClassifier"
      ],
      "execution_count": 1,
      "outputs": []
    },
    {
      "cell_type": "markdown",
      "metadata": {
        "id": "NqyNjn_1YN8N"
      },
      "source": [
        "## Get MNIST data\n",
        "We shall use the *MNIST* *load_data* function to load labeled images of digits from *keras.datasets* (https://keras.io/api/datasets/mnist/) into the following *NumPy* arrays:\n",
        "- *x_train* and *x_test*: contain 60,000 images for training and 10,000 images testing, respectively. Each image is a $28\\times28$ array of grayscale values (between 0 and 255).\n",
        "- *y_train* and *y_test*: contain corresponding labels (digits between **0** and **9**) for the training and test samples, respectively.\n",
        "\n"
      ]
    },
    {
      "cell_type": "code",
      "metadata": {
        "colab": {
          "base_uri": "https://localhost:8080/"
        },
        "id": "3nfcqTBX66tw",
        "outputId": "a1a0682f-9f53-4c43-fd66-34dabd3f4cc0"
      },
      "source": [
        "(x_train, y_train), (x_test, y_test) = mnist.load_data()\n",
        "print('Shape of arrays:')\n",
        "print(f'  x_train: {x_train.shape},   y_train: {y_train.shape}')\n",
        "print(f'  x_test: {x_test.shape},   y_test: {y_test.shape}')"
      ],
      "execution_count": 2,
      "outputs": [
        {
          "output_type": "stream",
          "text": [
            "Downloading data from https://storage.googleapis.com/tensorflow/tf-keras-datasets/mnist.npz\n",
            "11493376/11490434 [==============================] - 0s 0us/step\n",
            "Shape of arrays:\n",
            "  x_train: (60000, 28, 28),   y_train: (60000,)\n",
            "  x_test: (10000, 28, 28),   y_test: (10000,)\n"
          ],
          "name": "stdout"
        }
      ]
    },
    {
      "cell_type": "markdown",
      "metadata": {
        "id": "zUEN7wfPiC5t"
      },
      "source": [
        "## Display image\n",
        "We can use the *imshow* function of *pyplot* to display images of digits"
      ]
    },
    {
      "cell_type": "code",
      "metadata": {
        "colab": {
          "base_uri": "https://localhost:8080/",
          "height": 282
        },
        "id": "dvOZdoqXgTp3",
        "outputId": "929fb7a1-cff0-410f-88e1-e0e4763967d8"
      },
      "source": [
        "k = 101 # # specify k and display k-th labeled training image\n",
        "image, label = x_train[k], y_train[k] \n",
        "plt.imshow(image)\n",
        "print(f'Image in x_train[{k}] is labeled {label}')"
      ],
      "execution_count": 27,
      "outputs": [
        {
          "output_type": "stream",
          "text": [
            "Image in x_train[101] is labeled 7\n"
          ],
          "name": "stdout"
        },
        {
          "output_type": "display_data",
          "data": {
            "image/png": "[encoded data removed]",
            "text/plain": [
              "<Figure size 432x288 with 1 Axes>"
            ]
          },
          "metadata": {
            "tags": [],
            "needs_background": "light"
          }
        }
      ]
    },
    {
      "cell_type": "code",
      "metadata": {
        "colab": {
          "base_uri": "https://localhost:8080/",
          "height": 282
        },
        "id": "BmbTnpppil6M",
        "outputId": "9b845a62-3cc2-45cc-d7a9-e3d734a2f970"
      },
      "source": [
        "k = 111 # specify k and display k-th labeled test image\n",
        "image, label = x_test[k], y_test[k] \n",
        "plt.imshow(image)\n",
        "print(f'Image in x_test[{k}] is labeled {label}')"
      ],
      "execution_count": 29,
      "outputs": [
        {
          "output_type": "stream",
          "text": [
            "Image in x_test[111] is labeled 7\n"
          ],
          "name": "stdout"
        },
        {
          "output_type": "display_data",
          "data": {
            "image/png": "[encoded data removed]",
            "text/plain": [
              "<Figure size 432x288 with 1 Axes>"
            ]
          },
          "metadata": {
            "tags": [],
            "needs_background": "light"
          }
        }
      ]
    },
    {
      "cell_type": "markdown",
      "metadata": {
        "id": "Cy4SdaiY9lFo"
      },
      "source": [
        "## Specify inputs and outputs\n",
        "\n",
        "Each training and test sample is a ***2-dimensional*** array of size $28\\times28$. To use each sample as an input for a *Scikit-Learn* classifier, we must convert it to a ***1-dimensional*** array with $28\\times28=784$ input features representing grayscale values of pixels.\n",
        "\n",
        "The function ***to1D*** is used to reshape training and test inputs. It also\n",
        "converts grayscale values between 0 and 255 to a real number between 0 and 1.\n",
        "\n",
        "- **X_train**: $60,000 \\times 784$ array containing input values for training samples.\n",
        "- **y_train**: Array containing labels for the 60,000 training samples.\n",
        "- **X_test**: $10,000 \\times 784$ array containing input values for test samples.\n",
        "- **y_test**: Array containing labels for the 10,000 training samples.\n",
        "\n",
        "\n",
        "\n",
        "\n",
        "\n"
      ]
    },
    {
      "cell_type": "code",
      "metadata": {
        "colab": {
          "base_uri": "https://localhost:8080/"
        },
        "id": "541SgmksNADQ",
        "outputId": "f610eb96-35b0-420f-c248-6a81121588d2"
      },
      "source": [
        "def to1D(x):\n",
        "    \"\"\"Returns normalized array with N rows and 784 columns, given N 28x28 images\"\"\"\n",
        "    return x.reshape(-1, 28*28)/255.0\n",
        "X_train, X_test = to1D(x_train), to1D(x_test)\n",
        "print('Shapes:')\n",
        "print(f'X_train: {X_train.shape}, X_test: {X_test.shape}')\n",
        "print(f'y_train: {y_train.shape}, y_test: {y_test.shape}')"
      ],
      "execution_count": 5,
      "outputs": [
        {
          "output_type": "stream",
          "text": [
            "Shapes:\n",
            "X_train: (60000, 784), X_test: (10000, 784)\n",
            "y_train: (60000,), y_test: (10000,)\n"
          ],
          "name": "stdout"
        }
      ]
    },
    {
      "cell_type": "markdown",
      "metadata": {
        "id": "DnxBpRlZ-5I9"
      },
      "source": [
        "## Evaluate models using *k*-fold cross-validation\n",
        "We shall use **4**-fold cross-validation so that 45,000 of the 60,000 training samples are used for training and the remaining 15,000 samples are used for validation in each fold. The mean cross-validation accuracy for each model with chosen hyper-parameters on the 4 runs will be computed using the command:\n",
        "- **score = cross_val_score(model, X_train, y_train, cv=4).mean()**\n",
        "> - model: classifier object with specified hyperparameters\n",
        "> - X_train, y_train: Inputs and output labels for training\n",
        "> - cv: number of folds in cross-validation\n",
        "> - mean(): computes mean accuracy from the *cv* runs \n",
        "\n",
        "You can look up the documentation for each classifier, change hyper-parameter values, and observe the results. We shall also observe the time it takes to train and evaluate each model 4 times in this process.\n"
      ]
    },
    {
      "cell_type": "markdown",
      "metadata": {
        "id": "5txUT58tqyFa"
      },
      "source": [
        "### MultinomialNB\n",
        "\n",
        "https://scikit-learn.org/stable/modules/generated/sklearn.naive_bayes.MultinomialNB.html"
      ]
    },
    {
      "cell_type": "code",
      "metadata": {
        "colab": {
          "base_uri": "https://localhost:8080/"
        },
        "id": "NrfDQpqMq8Jr",
        "outputId": "b1ad582b-e31e-492d-ec24-eeff7dc35752"
      },
      "source": [
        "%%time\n",
        "model = MultinomialNB() # change hyperparameters as desired\n",
        "score = cross_val_score(model, X_train, y_train, cv=4).mean() # mean cross-validation accuracy\n",
        "print(f'Mean cross-validation accuracy = {score:0.4f}')"
      ],
      "execution_count": 32,
      "outputs": [
        {
          "output_type": "stream",
          "text": [
            "Mean cross-validation accuracy = 0.8227\n",
            "CPU times: user 2.17 s, sys: 448 ms, total: 2.62 s\n",
            "Wall time: 1.53 s\n"
          ],
          "name": "stdout"
        }
      ]
    },
    {
      "cell_type": "markdown",
      "metadata": {
        "id": "L61SWfGztPUz"
      },
      "source": [
        "### DecisionTreeClassifier\n",
        "\n",
        "https://scikit-learn.org/stable/modules/generated/sklearn.tree.DecisionTreeClassifier.html"
      ]
    },
    {
      "cell_type": "code",
      "metadata": {
        "colab": {
          "base_uri": "https://localhost:8080/"
        },
        "id": "V6IlKW1ZKFrq",
        "outputId": "177ee5d5-b996-431a-8d18-73c6e5ba5d96"
      },
      "source": [
        "%%time\n",
        "model = DecisionTreeClassifier() # change hyperparameters as desired\n",
        "score = cross_val_score(model, X_train, y_train, cv=4).mean() # mean cross-validation accuracy\n",
        "print(f'Mean cross-validation accuracy = {score:0.4f}')"
      ],
      "execution_count": 7,
      "outputs": [
        {
          "output_type": "stream",
          "text": [
            "Mean cross-validation accuracy = 0.8631\n",
            "CPU times: user 57.1 s, sys: 140 ms, total: 57.2 s\n",
            "Wall time: 57 s\n"
          ],
          "name": "stdout"
        }
      ]
    },
    {
      "cell_type": "markdown",
      "metadata": {
        "id": "d86dfu7ducAE"
      },
      "source": [
        "### ExtraTreesClassifier\n",
        "\n",
        "https://scikit-learn.org/stable/modules/generated/sklearn.ensemble.ExtraTreesClassifier.html"
      ]
    },
    {
      "cell_type": "code",
      "metadata": {
        "colab": {
          "base_uri": "https://localhost:8080/"
        },
        "id": "emyzWlJyKUSx",
        "outputId": "d529fb41-01d0-4fcd-cb07-6243eaf50efd"
      },
      "source": [
        "%%time\n",
        "model = ExtraTreesClassifier() # change hyperparameters as desired\n",
        "score = cross_val_score(model, X_train, y_train, cv=4).mean() # mean cross-validation accuracy\n",
        "print(f'Mean cross-validation accuracy = {score:0.4f}')"
      ],
      "execution_count": 8,
      "outputs": [
        {
          "output_type": "stream",
          "text": [
            "Mean cross-validation accuracy = 0.9696\n",
            "CPU times: user 1min 34s, sys: 550 ms, total: 1min 34s\n",
            "Wall time: 1min 34s\n"
          ],
          "name": "stdout"
        }
      ]
    },
    {
      "cell_type": "markdown",
      "metadata": {
        "id": "LRG62pOxwrQT"
      },
      "source": [
        "### KNeighborsClassifier\n",
        "\n",
        "https://scikit-learn.org/stable/modules/generated/sklearn.neighbors.KNeighborsClassifier.html"
      ]
    },
    {
      "cell_type": "code",
      "metadata": {
        "colab": {
          "base_uri": "https://localhost:8080/"
        },
        "id": "bXltDGqnLHmH",
        "outputId": "bda1b62c-6128-42c6-f939-e349a82508f2"
      },
      "source": [
        "%%time\n",
        "model = KNeighborsClassifier(n_neighbors=10, algorithm='brute') # change hyperparameters as desired\n",
        "score = cross_val_score(model, X_train, y_train, cv=4).mean() # mean cross-validation accuracy\n",
        "print(f'Mean cross-validation accuracy = {score:0.4f}')"
      ],
      "execution_count": 9,
      "outputs": [
        {
          "output_type": "stream",
          "text": [
            "Mean cross-validation accuracy = 0.9643\n",
            "CPU times: user 4min 41s, sys: 5.14 s, total: 4min 46s\n",
            "Wall time: 2min 47s\n"
          ],
          "name": "stdout"
        }
      ]
    },
    {
      "cell_type": "markdown",
      "metadata": {
        "id": "HRyD_Sx_5UQa"
      },
      "source": [
        "### MLPClassifier\n",
        "https://scikit-learn.org/stable/modules/generated/sklearn.neural_network.MLPClassifier.html"
      ]
    },
    {
      "cell_type": "code",
      "metadata": {
        "colab": {
          "base_uri": "https://localhost:8080/"
        },
        "id": "IdJ-K_USNDxe",
        "outputId": "76164977-472b-4afc-ca53-5e47ae8a5e82"
      },
      "source": [
        "%%time\n",
        "model = MLPClassifier(hidden_layer_sizes=400) # change hyperparameters as desired\n",
        "score = cross_val_score(model, X_train, y_train, cv=4).mean() # mean cross-validation accuracy\n",
        "print(f'Mean cross-validation accuracy = {score:0.4f}')"
      ],
      "execution_count": 10,
      "outputs": [
        {
          "output_type": "stream",
          "text": [
            "Mean cross-validation accuracy = 0.9801\n",
            "CPU times: user 16min 28s, sys: 5min 54s, total: 22min 22s\n",
            "Wall time: 11min 26s\n"
          ],
          "name": "stdout"
        }
      ]
    },
    {
      "cell_type": "markdown",
      "metadata": {
        "id": "C2SCLsZcC2MA"
      },
      "source": [
        "## Select a good model\n",
        "Since MLPClassifier has high cross-validation accuracy, we shall search for good hyper-parameter values for a MLPClassifier model using cross-validation. In this example I shall vary *hidden_layer_sizes*."
      ]
    },
    {
      "cell_type": "code",
      "metadata": {
        "colab": {
          "base_uri": "https://localhost:8080/"
        },
        "id": "ic1FrpZVNkCL",
        "outputId": "de13308c-b5b2-4995-bb8c-c1be3f58313b"
      },
      "source": [
        "%%time\n",
        "for h in [100, 500]: # number of neurons in hidden layer\n",
        "    model = MLPClassifier(hidden_layer_sizes=h, max_iter=1000)\n",
        "    score = cross_val_score(model, X_train, y_train, cv=4).mean() # mean cross-validation accuracy\n",
        "    print(f'Mean cross-validation accuracy with hidden_layer_sizes = {h}: {score:0.4f}')"
      ],
      "execution_count": 11,
      "outputs": [
        {
          "output_type": "stream",
          "text": [
            "Mean cross-validation accuracy with hidden_layer_sizes = 100: 0.9749\n",
            "Mean cross-validation accuracy with hidden_layer_sizes = 500: 0.9805\n"
          ],
          "name": "stdout"
        }
      ]
    },
    {
      "cell_type": "markdown",
      "metadata": {
        "id": "prBLKKoqW30p"
      },
      "source": [
        "For this classification problem, we shall choose:\n",
        "- MLPClassifier(hidden_layer_sizes=500)"
      ]
    },
    {
      "cell_type": "code",
      "metadata": {
        "colab": {
          "base_uri": "https://localhost:8080/"
        },
        "id": "-GSe63ssXaS4",
        "outputId": "771fdb1b-0784-4b68-ce9e-304cdc9127bb"
      },
      "source": [
        "chosen_model = MLPClassifier(hidden_layer_sizes=500, verbose=True) # chosen model\n",
        "print(chosen_model) # display model parameters"
      ],
      "execution_count": 34,
      "outputs": [
        {
          "output_type": "stream",
          "text": [
            "MLPClassifier(activation='relu', alpha=0.0001, batch_size='auto', beta_1=0.9,\n",
            "              beta_2=0.999, early_stopping=False, epsilon=1e-08,\n",
            "              hidden_layer_sizes=500, learning_rate='constant',\n",
            "              learning_rate_init=0.001, max_fun=15000, max_iter=200,\n",
            "              momentum=0.9, n_iter_no_change=10, nesterovs_momentum=True,\n",
            "              power_t=0.5, random_state=None, shuffle=True, solver='adam',\n",
            "              tol=0.0001, validation_fraction=0.1, verbose=True,\n",
            "              warm_start=False)\n"
          ],
          "name": "stdout"
        }
      ]
    },
    {
      "cell_type": "markdown",
      "metadata": {
        "id": "mObRT95gXrzZ"
      },
      "source": [
        "## Train and test selected model"
      ]
    },
    {
      "cell_type": "code",
      "metadata": {
        "colab": {
          "base_uri": "https://localhost:8080/"
        },
        "id": "RZ_fqywZXw83",
        "outputId": "4408ce8a-8926-4d6c-f131-d1958c5a2c90"
      },
      "source": [
        "%%time\n",
        "chosen_model.fit(X_train, y_train) # train selected model on ALL training examples\n",
        "predicted = chosen_model.predict(X_test) # predicted churn for test examples\n",
        "acc = accuracy_score(y_test, predicted) # accuracy on test samples\n",
        "print(f'Accuracy on test samples = {acc:0.4f}') # show test accuracy\n",
        "print(\"Classification report on test samples:\") # for precision, recall, F1-score\n",
        "print(classification_report(y_test, predicted, digits=4)) # rounded to 4 decimal places"
      ],
      "execution_count": 35,
      "outputs": [
        {
          "output_type": "stream",
          "text": [
            "Iteration 1, loss = 0.30229403\n",
            "Iteration 2, loss = 0.12983267\n",
            "Iteration 3, loss = 0.08607226\n",
            "Iteration 4, loss = 0.06325354\n",
            "Iteration 5, loss = 0.04787147\n",
            "Iteration 6, loss = 0.03692088\n",
            "Iteration 7, loss = 0.02869263\n",
            "Iteration 8, loss = 0.02115267\n",
            "Iteration 9, loss = 0.01671445\n",
            "Iteration 10, loss = 0.01332410\n",
            "Iteration 11, loss = 0.01106487\n",
            "Iteration 12, loss = 0.00932741\n",
            "Iteration 13, loss = 0.00641155\n",
            "Iteration 14, loss = 0.00590690\n",
            "Iteration 15, loss = 0.00578840\n",
            "Iteration 16, loss = 0.00320090\n",
            "Iteration 17, loss = 0.00261856\n",
            "Iteration 18, loss = 0.00223574\n",
            "Iteration 19, loss = 0.00546227\n",
            "Iteration 20, loss = 0.01778641\n",
            "Iteration 21, loss = 0.00457524\n",
            "Iteration 22, loss = 0.00249762\n",
            "Iteration 23, loss = 0.00148266\n",
            "Iteration 24, loss = 0.00116662\n",
            "Iteration 25, loss = 0.00107667\n",
            "Iteration 26, loss = 0.00102205\n",
            "Iteration 27, loss = 0.00097503\n",
            "Iteration 28, loss = 0.00093749\n",
            "Iteration 29, loss = 0.00090736\n",
            "Iteration 30, loss = 0.00088036\n",
            "Iteration 31, loss = 0.00084930\n",
            "Iteration 32, loss = 0.00088877\n",
            "Iteration 33, loss = 0.02718942\n",
            "Iteration 34, loss = 0.00609089\n",
            "Iteration 35, loss = 0.00184199\n",
            "Training loss did not improve more than tol=0.000100 for 10 consecutive epochs. Stopping.\n",
            "Accuracy on test samples = 0.9838\n",
            "Classification report on test samples:\n",
            "              precision    recall  f1-score   support\n",
            "\n",
            "           0     0.9858    0.9929    0.9893       980\n",
            "           1     0.9947    0.9921    0.9934      1135\n",
            "           2     0.9834    0.9767    0.9801      1032\n",
            "           3     0.9803    0.9832    0.9817      1010\n",
            "           4     0.9817    0.9847    0.9832       982\n",
            "           5     0.9887    0.9798    0.9842       892\n",
            "           6     0.9864    0.9864    0.9864       958\n",
            "           7     0.9806    0.9844    0.9825      1028\n",
            "           8     0.9774    0.9774    0.9774       974\n",
            "           9     0.9782    0.9792    0.9787      1009\n",
            "\n",
            "    accuracy                         0.9838     10000\n",
            "   macro avg     0.9837    0.9837    0.9837     10000\n",
            "weighted avg     0.9838    0.9838    0.9838     10000\n",
            "\n",
            "CPU times: user 6min 6s, sys: 2min 15s, total: 8min 21s\n",
            "Wall time: 4min 16s\n"
          ],
          "name": "stdout"
        }
      ]
    },
    {
      "cell_type": "markdown",
      "metadata": {
        "id": "HaPNAkBiGCkA"
      },
      "source": [
        "## Predict class for unlabeled samples\n",
        "We shall use our trained model to predict the output class for the unlabeled samples."
      ]
    },
    {
      "cell_type": "code",
      "metadata": {
        "colab": {
          "base_uri": "https://localhost:8080/",
          "height": 261
        },
        "id": "MdmamrebZzEr",
        "outputId": "57aff2f8-dc37-40cf-a267-3c6d136ece65"
      },
      "source": [
        "filename = '/content/drive/MyDrive/Colab Notebooks/courses/sklearn_classifiers/data/digit.new.csv'\n",
        "new = pd.read_csv(filename) # read data into dataframe\n",
        "print(f'Shape of new: {new.shape}')\n",
        "new.head() # show first 5 rows"
      ],
      "execution_count": 36,
      "outputs": [
        {
          "output_type": "stream",
          "text": [
            "Shape of new: (30, 785)\n"
          ],
          "name": "stdout"
        },
        {
          "output_type": "execute_result",
          "data": {
            "text/html": [
              "<div>\n",
              "<style scoped>\n",
              "    .dataframe tbody tr th:only-of-type {\n",
              "        vertical-align: middle;\n",
              "    }\n",
              "\n",
              "    .dataframe tbody tr th {\n",
              "        vertical-align: top;\n",
              "    }\n",
              "\n",
              "    .dataframe thead th {\n",
              "        text-align: right;\n",
              "    }\n",
              "</style>\n",
              "<table border=\"1\" class=\"dataframe\">\n",
              "  <thead>\n",
              "    <tr style=\"text-align: right;\">\n",
              "      <th></th>\n",
              "      <th>ID</th>\n",
              "      <th>pix001</th>\n",
              "      <th>pix002</th>\n",
              "      <th>pix003</th>\n",
              "      <th>pix004</th>\n",
              "      <th>pix005</th>\n",
              "      <th>pix006</th>\n",
              "      <th>pix007</th>\n",
              "      <th>pix008</th>\n",
              "      <th>pix009</th>\n",
              "      <th>pix010</th>\n",
              "      <th>pix011</th>\n",
              "      <th>pix012</th>\n",
              "      <th>pix013</th>\n",
              "      <th>pix014</th>\n",
              "      <th>pix015</th>\n",
              "      <th>pix016</th>\n",
              "      <th>pix017</th>\n",
              "      <th>pix018</th>\n",
              "      <th>pix019</th>\n",
              "      <th>pix020</th>\n",
              "      <th>pix021</th>\n",
              "      <th>pix022</th>\n",
              "      <th>pix023</th>\n",
              "      <th>pix024</th>\n",
              "      <th>pix025</th>\n",
              "      <th>pix026</th>\n",
              "      <th>pix027</th>\n",
              "      <th>pix028</th>\n",
              "      <th>pix029</th>\n",
              "      <th>pix030</th>\n",
              "      <th>pix031</th>\n",
              "      <th>pix032</th>\n",
              "      <th>pix033</th>\n",
              "      <th>pix034</th>\n",
              "      <th>pix035</th>\n",
              "      <th>pix036</th>\n",
              "      <th>pix037</th>\n",
              "      <th>pix038</th>\n",
              "      <th>pix039</th>\n",
              "      <th>...</th>\n",
              "      <th>pix745</th>\n",
              "      <th>pix746</th>\n",
              "      <th>pix747</th>\n",
              "      <th>pix748</th>\n",
              "      <th>pix749</th>\n",
              "      <th>pix750</th>\n",
              "      <th>pix751</th>\n",
              "      <th>pix752</th>\n",
              "      <th>pix753</th>\n",
              "      <th>pix754</th>\n",
              "      <th>pix755</th>\n",
              "      <th>pix756</th>\n",
              "      <th>pix757</th>\n",
              "      <th>pix758</th>\n",
              "      <th>pix759</th>\n",
              "      <th>pix760</th>\n",
              "      <th>pix761</th>\n",
              "      <th>pix762</th>\n",
              "      <th>pix763</th>\n",
              "      <th>pix764</th>\n",
              "      <th>pix765</th>\n",
              "      <th>pix766</th>\n",
              "      <th>pix767</th>\n",
              "      <th>pix768</th>\n",
              "      <th>pix769</th>\n",
              "      <th>pix770</th>\n",
              "      <th>pix771</th>\n",
              "      <th>pix772</th>\n",
              "      <th>pix773</th>\n",
              "      <th>pix774</th>\n",
              "      <th>pix775</th>\n",
              "      <th>pix776</th>\n",
              "      <th>pix777</th>\n",
              "      <th>pix778</th>\n",
              "      <th>pix779</th>\n",
              "      <th>pix780</th>\n",
              "      <th>pix781</th>\n",
              "      <th>pix782</th>\n",
              "      <th>pix783</th>\n",
              "      <th>pix784</th>\n",
              "    </tr>\n",
              "  </thead>\n",
              "  <tbody>\n",
              "    <tr>\n",
              "      <th>0</th>\n",
              "      <td>ID_01</td>\n",
              "      <td>0</td>\n",
              "      <td>0</td>\n",
              "      <td>0</td>\n",
              "      <td>0</td>\n",
              "      <td>0</td>\n",
              "      <td>0</td>\n",
              "      <td>0</td>\n",
              "      <td>0</td>\n",
              "      <td>0</td>\n",
              "      <td>0</td>\n",
              "      <td>0</td>\n",
              "      <td>0</td>\n",
              "      <td>0</td>\n",
              "      <td>0</td>\n",
              "      <td>0</td>\n",
              "      <td>0</td>\n",
              "      <td>0</td>\n",
              "      <td>0</td>\n",
              "      <td>0</td>\n",
              "      <td>0</td>\n",
              "      <td>0</td>\n",
              "      <td>0</td>\n",
              "      <td>0</td>\n",
              "      <td>0</td>\n",
              "      <td>0</td>\n",
              "      <td>0</td>\n",
              "      <td>0</td>\n",
              "      <td>0</td>\n",
              "      <td>0</td>\n",
              "      <td>0</td>\n",
              "      <td>0</td>\n",
              "      <td>0</td>\n",
              "      <td>0</td>\n",
              "      <td>0</td>\n",
              "      <td>0</td>\n",
              "      <td>0</td>\n",
              "      <td>0</td>\n",
              "      <td>0</td>\n",
              "      <td>0</td>\n",
              "      <td>...</td>\n",
              "      <td>0</td>\n",
              "      <td>0</td>\n",
              "      <td>0</td>\n",
              "      <td>0</td>\n",
              "      <td>0</td>\n",
              "      <td>0</td>\n",
              "      <td>0</td>\n",
              "      <td>0</td>\n",
              "      <td>0</td>\n",
              "      <td>0</td>\n",
              "      <td>0</td>\n",
              "      <td>0</td>\n",
              "      <td>0</td>\n",
              "      <td>0</td>\n",
              "      <td>0</td>\n",
              "      <td>0</td>\n",
              "      <td>0</td>\n",
              "      <td>0</td>\n",
              "      <td>0</td>\n",
              "      <td>0</td>\n",
              "      <td>0</td>\n",
              "      <td>0</td>\n",
              "      <td>0</td>\n",
              "      <td>0</td>\n",
              "      <td>0</td>\n",
              "      <td>0</td>\n",
              "      <td>0</td>\n",
              "      <td>0</td>\n",
              "      <td>0</td>\n",
              "      <td>0</td>\n",
              "      <td>0</td>\n",
              "      <td>0</td>\n",
              "      <td>0</td>\n",
              "      <td>0</td>\n",
              "      <td>0</td>\n",
              "      <td>0</td>\n",
              "      <td>0</td>\n",
              "      <td>0</td>\n",
              "      <td>0</td>\n",
              "      <td>0</td>\n",
              "    </tr>\n",
              "    <tr>\n",
              "      <th>1</th>\n",
              "      <td>ID_02</td>\n",
              "      <td>0</td>\n",
              "      <td>0</td>\n",
              "      <td>0</td>\n",
              "      <td>0</td>\n",
              "      <td>0</td>\n",
              "      <td>0</td>\n",
              "      <td>0</td>\n",
              "      <td>0</td>\n",
              "      <td>0</td>\n",
              "      <td>0</td>\n",
              "      <td>0</td>\n",
              "      <td>0</td>\n",
              "      <td>0</td>\n",
              "      <td>0</td>\n",
              "      <td>0</td>\n",
              "      <td>0</td>\n",
              "      <td>0</td>\n",
              "      <td>0</td>\n",
              "      <td>0</td>\n",
              "      <td>0</td>\n",
              "      <td>0</td>\n",
              "      <td>0</td>\n",
              "      <td>0</td>\n",
              "      <td>0</td>\n",
              "      <td>0</td>\n",
              "      <td>0</td>\n",
              "      <td>0</td>\n",
              "      <td>0</td>\n",
              "      <td>0</td>\n",
              "      <td>0</td>\n",
              "      <td>0</td>\n",
              "      <td>0</td>\n",
              "      <td>0</td>\n",
              "      <td>0</td>\n",
              "      <td>0</td>\n",
              "      <td>0</td>\n",
              "      <td>0</td>\n",
              "      <td>0</td>\n",
              "      <td>0</td>\n",
              "      <td>...</td>\n",
              "      <td>0</td>\n",
              "      <td>0</td>\n",
              "      <td>0</td>\n",
              "      <td>0</td>\n",
              "      <td>0</td>\n",
              "      <td>0</td>\n",
              "      <td>0</td>\n",
              "      <td>0</td>\n",
              "      <td>0</td>\n",
              "      <td>0</td>\n",
              "      <td>0</td>\n",
              "      <td>0</td>\n",
              "      <td>0</td>\n",
              "      <td>0</td>\n",
              "      <td>0</td>\n",
              "      <td>0</td>\n",
              "      <td>0</td>\n",
              "      <td>0</td>\n",
              "      <td>0</td>\n",
              "      <td>0</td>\n",
              "      <td>0</td>\n",
              "      <td>0</td>\n",
              "      <td>0</td>\n",
              "      <td>0</td>\n",
              "      <td>0</td>\n",
              "      <td>0</td>\n",
              "      <td>0</td>\n",
              "      <td>0</td>\n",
              "      <td>0</td>\n",
              "      <td>0</td>\n",
              "      <td>0</td>\n",
              "      <td>0</td>\n",
              "      <td>0</td>\n",
              "      <td>0</td>\n",
              "      <td>0</td>\n",
              "      <td>0</td>\n",
              "      <td>0</td>\n",
              "      <td>0</td>\n",
              "      <td>0</td>\n",
              "      <td>0</td>\n",
              "    </tr>\n",
              "    <tr>\n",
              "      <th>2</th>\n",
              "      <td>ID_03</td>\n",
              "      <td>0</td>\n",
              "      <td>0</td>\n",
              "      <td>0</td>\n",
              "      <td>0</td>\n",
              "      <td>0</td>\n",
              "      <td>0</td>\n",
              "      <td>0</td>\n",
              "      <td>0</td>\n",
              "      <td>0</td>\n",
              "      <td>0</td>\n",
              "      <td>0</td>\n",
              "      <td>0</td>\n",
              "      <td>0</td>\n",
              "      <td>0</td>\n",
              "      <td>0</td>\n",
              "      <td>0</td>\n",
              "      <td>0</td>\n",
              "      <td>0</td>\n",
              "      <td>0</td>\n",
              "      <td>0</td>\n",
              "      <td>0</td>\n",
              "      <td>0</td>\n",
              "      <td>0</td>\n",
              "      <td>0</td>\n",
              "      <td>0</td>\n",
              "      <td>0</td>\n",
              "      <td>0</td>\n",
              "      <td>0</td>\n",
              "      <td>0</td>\n",
              "      <td>0</td>\n",
              "      <td>0</td>\n",
              "      <td>0</td>\n",
              "      <td>0</td>\n",
              "      <td>0</td>\n",
              "      <td>0</td>\n",
              "      <td>0</td>\n",
              "      <td>0</td>\n",
              "      <td>0</td>\n",
              "      <td>0</td>\n",
              "      <td>...</td>\n",
              "      <td>0</td>\n",
              "      <td>0</td>\n",
              "      <td>0</td>\n",
              "      <td>0</td>\n",
              "      <td>0</td>\n",
              "      <td>0</td>\n",
              "      <td>0</td>\n",
              "      <td>0</td>\n",
              "      <td>0</td>\n",
              "      <td>0</td>\n",
              "      <td>0</td>\n",
              "      <td>0</td>\n",
              "      <td>0</td>\n",
              "      <td>0</td>\n",
              "      <td>0</td>\n",
              "      <td>0</td>\n",
              "      <td>0</td>\n",
              "      <td>0</td>\n",
              "      <td>0</td>\n",
              "      <td>0</td>\n",
              "      <td>0</td>\n",
              "      <td>0</td>\n",
              "      <td>0</td>\n",
              "      <td>0</td>\n",
              "      <td>0</td>\n",
              "      <td>0</td>\n",
              "      <td>0</td>\n",
              "      <td>0</td>\n",
              "      <td>0</td>\n",
              "      <td>0</td>\n",
              "      <td>0</td>\n",
              "      <td>0</td>\n",
              "      <td>0</td>\n",
              "      <td>0</td>\n",
              "      <td>0</td>\n",
              "      <td>0</td>\n",
              "      <td>0</td>\n",
              "      <td>0</td>\n",
              "      <td>0</td>\n",
              "      <td>0</td>\n",
              "    </tr>\n",
              "    <tr>\n",
              "      <th>3</th>\n",
              "      <td>ID_04</td>\n",
              "      <td>0</td>\n",
              "      <td>0</td>\n",
              "      <td>0</td>\n",
              "      <td>0</td>\n",
              "      <td>0</td>\n",
              "      <td>0</td>\n",
              "      <td>0</td>\n",
              "      <td>0</td>\n",
              "      <td>0</td>\n",
              "      <td>0</td>\n",
              "      <td>0</td>\n",
              "      <td>0</td>\n",
              "      <td>0</td>\n",
              "      <td>0</td>\n",
              "      <td>0</td>\n",
              "      <td>0</td>\n",
              "      <td>0</td>\n",
              "      <td>0</td>\n",
              "      <td>0</td>\n",
              "      <td>0</td>\n",
              "      <td>0</td>\n",
              "      <td>0</td>\n",
              "      <td>0</td>\n",
              "      <td>0</td>\n",
              "      <td>0</td>\n",
              "      <td>0</td>\n",
              "      <td>0</td>\n",
              "      <td>0</td>\n",
              "      <td>0</td>\n",
              "      <td>0</td>\n",
              "      <td>0</td>\n",
              "      <td>0</td>\n",
              "      <td>0</td>\n",
              "      <td>0</td>\n",
              "      <td>0</td>\n",
              "      <td>0</td>\n",
              "      <td>0</td>\n",
              "      <td>0</td>\n",
              "      <td>0</td>\n",
              "      <td>...</td>\n",
              "      <td>0</td>\n",
              "      <td>0</td>\n",
              "      <td>0</td>\n",
              "      <td>0</td>\n",
              "      <td>0</td>\n",
              "      <td>0</td>\n",
              "      <td>0</td>\n",
              "      <td>0</td>\n",
              "      <td>0</td>\n",
              "      <td>0</td>\n",
              "      <td>0</td>\n",
              "      <td>0</td>\n",
              "      <td>0</td>\n",
              "      <td>0</td>\n",
              "      <td>0</td>\n",
              "      <td>0</td>\n",
              "      <td>0</td>\n",
              "      <td>0</td>\n",
              "      <td>0</td>\n",
              "      <td>0</td>\n",
              "      <td>0</td>\n",
              "      <td>0</td>\n",
              "      <td>0</td>\n",
              "      <td>0</td>\n",
              "      <td>0</td>\n",
              "      <td>0</td>\n",
              "      <td>0</td>\n",
              "      <td>0</td>\n",
              "      <td>0</td>\n",
              "      <td>0</td>\n",
              "      <td>0</td>\n",
              "      <td>0</td>\n",
              "      <td>0</td>\n",
              "      <td>0</td>\n",
              "      <td>0</td>\n",
              "      <td>0</td>\n",
              "      <td>0</td>\n",
              "      <td>0</td>\n",
              "      <td>0</td>\n",
              "      <td>0</td>\n",
              "    </tr>\n",
              "    <tr>\n",
              "      <th>4</th>\n",
              "      <td>ID_05</td>\n",
              "      <td>0</td>\n",
              "      <td>0</td>\n",
              "      <td>0</td>\n",
              "      <td>0</td>\n",
              "      <td>0</td>\n",
              "      <td>0</td>\n",
              "      <td>0</td>\n",
              "      <td>0</td>\n",
              "      <td>0</td>\n",
              "      <td>0</td>\n",
              "      <td>0</td>\n",
              "      <td>0</td>\n",
              "      <td>0</td>\n",
              "      <td>0</td>\n",
              "      <td>0</td>\n",
              "      <td>0</td>\n",
              "      <td>0</td>\n",
              "      <td>0</td>\n",
              "      <td>0</td>\n",
              "      <td>0</td>\n",
              "      <td>0</td>\n",
              "      <td>0</td>\n",
              "      <td>0</td>\n",
              "      <td>0</td>\n",
              "      <td>0</td>\n",
              "      <td>0</td>\n",
              "      <td>0</td>\n",
              "      <td>0</td>\n",
              "      <td>0</td>\n",
              "      <td>0</td>\n",
              "      <td>0</td>\n",
              "      <td>0</td>\n",
              "      <td>0</td>\n",
              "      <td>0</td>\n",
              "      <td>0</td>\n",
              "      <td>0</td>\n",
              "      <td>0</td>\n",
              "      <td>0</td>\n",
              "      <td>0</td>\n",
              "      <td>...</td>\n",
              "      <td>0</td>\n",
              "      <td>0</td>\n",
              "      <td>0</td>\n",
              "      <td>0</td>\n",
              "      <td>0</td>\n",
              "      <td>0</td>\n",
              "      <td>0</td>\n",
              "      <td>0</td>\n",
              "      <td>0</td>\n",
              "      <td>0</td>\n",
              "      <td>0</td>\n",
              "      <td>0</td>\n",
              "      <td>0</td>\n",
              "      <td>0</td>\n",
              "      <td>0</td>\n",
              "      <td>0</td>\n",
              "      <td>0</td>\n",
              "      <td>0</td>\n",
              "      <td>0</td>\n",
              "      <td>0</td>\n",
              "      <td>0</td>\n",
              "      <td>0</td>\n",
              "      <td>0</td>\n",
              "      <td>0</td>\n",
              "      <td>0</td>\n",
              "      <td>0</td>\n",
              "      <td>0</td>\n",
              "      <td>0</td>\n",
              "      <td>0</td>\n",
              "      <td>0</td>\n",
              "      <td>0</td>\n",
              "      <td>0</td>\n",
              "      <td>0</td>\n",
              "      <td>0</td>\n",
              "      <td>0</td>\n",
              "      <td>0</td>\n",
              "      <td>0</td>\n",
              "      <td>0</td>\n",
              "      <td>0</td>\n",
              "      <td>0</td>\n",
              "    </tr>\n",
              "  </tbody>\n",
              "</table>\n",
              "<p>5 rows × 785 columns</p>\n",
              "</div>"
            ],
            "text/plain": [
              "      ID  pix001  pix002  pix003  ...  pix781  pix782  pix783  pix784\n",
              "0  ID_01       0       0       0  ...       0       0       0       0\n",
              "1  ID_02       0       0       0  ...       0       0       0       0\n",
              "2  ID_03       0       0       0  ...       0       0       0       0\n",
              "3  ID_04       0       0       0  ...       0       0       0       0\n",
              "4  ID_05       0       0       0  ...       0       0       0       0\n",
              "\n",
              "[5 rows x 785 columns]"
            ]
          },
          "metadata": {
            "tags": []
          },
          "execution_count": 36
        }
      ]
    },
    {
      "cell_type": "code",
      "metadata": {
        "colab": {
          "base_uri": "https://localhost:8080/",
          "height": 935
        },
        "id": "yEqI9Ic6GV_v",
        "outputId": "4b09e78c-4504-4cc0-ba56-d70e269763c9"
      },
      "source": [
        "features = list(new)[1:] # all but the fits column are input features (pixel values)\n",
        "new_labels = chosen_model.predict(new[features].values/255.0) # predicted labels using normalized pixel values\n",
        "new_df = pd.DataFrame() # dataframe with predicted digits for unlabeled images \n",
        "new_df['ID'] = new.ID # ID for unlabeled images\n",
        "new_df['digit'] = new_labels # predicted labels for unlabeled images\n",
        "new_df.to_csv('new_digits.csv', index=False)\n",
        "new_df # show predicted labels"
      ],
      "execution_count": 37,
      "outputs": [
        {
          "output_type": "execute_result",
          "data": {
            "text/html": [
              "<div>\n",
              "<style scoped>\n",
              "    .dataframe tbody tr th:only-of-type {\n",
              "        vertical-align: middle;\n",
              "    }\n",
              "\n",
              "    .dataframe tbody tr th {\n",
              "        vertical-align: top;\n",
              "    }\n",
              "\n",
              "    .dataframe thead th {\n",
              "        text-align: right;\n",
              "    }\n",
              "</style>\n",
              "<table border=\"1\" class=\"dataframe\">\n",
              "  <thead>\n",
              "    <tr style=\"text-align: right;\">\n",
              "      <th></th>\n",
              "      <th>ID</th>\n",
              "      <th>digit</th>\n",
              "    </tr>\n",
              "  </thead>\n",
              "  <tbody>\n",
              "    <tr>\n",
              "      <th>0</th>\n",
              "      <td>ID_01</td>\n",
              "      <td>2</td>\n",
              "    </tr>\n",
              "    <tr>\n",
              "      <th>1</th>\n",
              "      <td>ID_02</td>\n",
              "      <td>6</td>\n",
              "    </tr>\n",
              "    <tr>\n",
              "      <th>2</th>\n",
              "      <td>ID_03</td>\n",
              "      <td>7</td>\n",
              "    </tr>\n",
              "    <tr>\n",
              "      <th>3</th>\n",
              "      <td>ID_04</td>\n",
              "      <td>1</td>\n",
              "    </tr>\n",
              "    <tr>\n",
              "      <th>4</th>\n",
              "      <td>ID_05</td>\n",
              "      <td>8</td>\n",
              "    </tr>\n",
              "    <tr>\n",
              "      <th>5</th>\n",
              "      <td>ID_06</td>\n",
              "      <td>3</td>\n",
              "    </tr>\n",
              "    <tr>\n",
              "      <th>6</th>\n",
              "      <td>ID_07</td>\n",
              "      <td>0</td>\n",
              "    </tr>\n",
              "    <tr>\n",
              "      <th>7</th>\n",
              "      <td>ID_08</td>\n",
              "      <td>3</td>\n",
              "    </tr>\n",
              "    <tr>\n",
              "      <th>8</th>\n",
              "      <td>ID_09</td>\n",
              "      <td>4</td>\n",
              "    </tr>\n",
              "    <tr>\n",
              "      <th>9</th>\n",
              "      <td>ID_10</td>\n",
              "      <td>3</td>\n",
              "    </tr>\n",
              "    <tr>\n",
              "      <th>10</th>\n",
              "      <td>ID_11</td>\n",
              "      <td>4</td>\n",
              "    </tr>\n",
              "    <tr>\n",
              "      <th>11</th>\n",
              "      <td>ID_12</td>\n",
              "      <td>7</td>\n",
              "    </tr>\n",
              "    <tr>\n",
              "      <th>12</th>\n",
              "      <td>ID_13</td>\n",
              "      <td>8</td>\n",
              "    </tr>\n",
              "    <tr>\n",
              "      <th>13</th>\n",
              "      <td>ID_14</td>\n",
              "      <td>5</td>\n",
              "    </tr>\n",
              "    <tr>\n",
              "      <th>14</th>\n",
              "      <td>ID_15</td>\n",
              "      <td>1</td>\n",
              "    </tr>\n",
              "    <tr>\n",
              "      <th>15</th>\n",
              "      <td>ID_16</td>\n",
              "      <td>6</td>\n",
              "    </tr>\n",
              "    <tr>\n",
              "      <th>16</th>\n",
              "      <td>ID_17</td>\n",
              "      <td>6</td>\n",
              "    </tr>\n",
              "    <tr>\n",
              "      <th>17</th>\n",
              "      <td>ID_18</td>\n",
              "      <td>5</td>\n",
              "    </tr>\n",
              "    <tr>\n",
              "      <th>18</th>\n",
              "      <td>ID_19</td>\n",
              "      <td>0</td>\n",
              "    </tr>\n",
              "    <tr>\n",
              "      <th>19</th>\n",
              "      <td>ID_20</td>\n",
              "      <td>6</td>\n",
              "    </tr>\n",
              "    <tr>\n",
              "      <th>20</th>\n",
              "      <td>ID_21</td>\n",
              "      <td>4</td>\n",
              "    </tr>\n",
              "    <tr>\n",
              "      <th>21</th>\n",
              "      <td>ID_22</td>\n",
              "      <td>7</td>\n",
              "    </tr>\n",
              "    <tr>\n",
              "      <th>22</th>\n",
              "      <td>ID_23</td>\n",
              "      <td>2</td>\n",
              "    </tr>\n",
              "    <tr>\n",
              "      <th>23</th>\n",
              "      <td>ID_24</td>\n",
              "      <td>2</td>\n",
              "    </tr>\n",
              "    <tr>\n",
              "      <th>24</th>\n",
              "      <td>ID_25</td>\n",
              "      <td>9</td>\n",
              "    </tr>\n",
              "    <tr>\n",
              "      <th>25</th>\n",
              "      <td>ID_26</td>\n",
              "      <td>4</td>\n",
              "    </tr>\n",
              "    <tr>\n",
              "      <th>26</th>\n",
              "      <td>ID_27</td>\n",
              "      <td>1</td>\n",
              "    </tr>\n",
              "    <tr>\n",
              "      <th>27</th>\n",
              "      <td>ID_28</td>\n",
              "      <td>5</td>\n",
              "    </tr>\n",
              "    <tr>\n",
              "      <th>28</th>\n",
              "      <td>ID_29</td>\n",
              "      <td>9</td>\n",
              "    </tr>\n",
              "    <tr>\n",
              "      <th>29</th>\n",
              "      <td>ID_30</td>\n",
              "      <td>0</td>\n",
              "    </tr>\n",
              "  </tbody>\n",
              "</table>\n",
              "</div>"
            ],
            "text/plain": [
              "       ID  digit\n",
              "0   ID_01      2\n",
              "1   ID_02      6\n",
              "2   ID_03      7\n",
              "3   ID_04      1\n",
              "4   ID_05      8\n",
              "5   ID_06      3\n",
              "6   ID_07      0\n",
              "7   ID_08      3\n",
              "8   ID_09      4\n",
              "9   ID_10      3\n",
              "10  ID_11      4\n",
              "11  ID_12      7\n",
              "12  ID_13      8\n",
              "13  ID_14      5\n",
              "14  ID_15      1\n",
              "15  ID_16      6\n",
              "16  ID_17      6\n",
              "17  ID_18      5\n",
              "18  ID_19      0\n",
              "19  ID_20      6\n",
              "20  ID_21      4\n",
              "21  ID_22      7\n",
              "22  ID_23      2\n",
              "23  ID_24      2\n",
              "24  ID_25      9\n",
              "25  ID_26      4\n",
              "26  ID_27      1\n",
              "27  ID_28      5\n",
              "28  ID_29      9\n",
              "29  ID_30      0"
            ]
          },
          "metadata": {
            "tags": []
          },
          "execution_count": 37
        }
      ]
    },
    {
      "cell_type": "markdown",
      "metadata": {
        "id": "cb9U-XYLdGea"
      },
      "source": [
        "## Other stuff\n",
        "You do not need to do what follows but it may help you understand the model's performance on this image recognition task."
      ]
    },
    {
      "cell_type": "markdown",
      "metadata": {
        "id": "55UbUaDNbVC9"
      },
      "source": [
        "### Display unlabeled images\n",
        "We shall display the unlabeled images along with our model's prediction.\n"
      ]
    },
    {
      "cell_type": "code",
      "metadata": {
        "colab": {
          "base_uri": "https://localhost:8080/",
          "height": 354
        },
        "id": "fiilljZ5bdgj",
        "outputId": "5148a9f4-5f58-4f23-bed7-3a2cd15ebead"
      },
      "source": [
        "def displayDigits(images, labels, nCols=5):\n",
        "    \"\"\"Displays images with labels (nCols per row)\n",
        "    - images: list of vectors with 784 (28x28) grayscale values\n",
        "    - labels: list of labels for images\"\"\"\n",
        "    nRows = np.ceil(len(labels)/nCols).astype('int') # number of rows\n",
        "    plt.figure(figsize=(2*nCols,2*nRows)) # figure size\n",
        "    for i in range(len(labels)):\n",
        "        plt.subplot(nRows,nCols,i+1)\n",
        "        plt.xticks([])\n",
        "        plt.yticks([])\n",
        "        plt.grid(False)\n",
        "        plt.imshow(images[i], interpolation='nearest', cmap='gray_r')\n",
        "        plt.xlabel(str(labels[i]), fontsize=24)\n",
        "    plt.tight_layout()\n",
        "    plt.show()\n",
        "    return\n",
        "\n",
        "images = new[features].values.reshape(-1, 28, 28) # reshape as 28 x 28 images\n",
        "labels = new_labels # predicted labels for unlabeled images\n",
        "displayDigits(images, labels, 10) # display images with predicted labels"
      ],
      "execution_count": 38,
      "outputs": [
        {
          "output_type": "display_data",
          "data": {
            "image/png": "[encoded data removed]",
            "text/plain": [
              "<Figure size 1440x432 with 30 Axes>"
            ]
          },
          "metadata": {
            "tags": []
          }
        }
      ]
    },
    {
      "cell_type": "markdown",
      "metadata": {
        "id": "rsWegiNVduK4"
      },
      "source": [
        "## Predict your own handwriting\n",
        "We can use the model to predict our own handwritten digits."
      ]
    },
    {
      "cell_type": "code",
      "metadata": {
        "id": "kGTeRHdo5iSu"
      },
      "source": [
        "# https://gist.github.com/korakot/8409b3feec20f159d8a50b0a811d3bca\n",
        "\n",
        "from IPython.display import HTML, Image\n",
        "from google.colab.output import eval_js\n",
        "from base64 import b64decode\n",
        "import PIL\n",
        "\n",
        "canvas_html = \"\"\"\n",
        "<canvas width=%d height=%d style=\"border:1px solid #000000;\"></canvas>\n",
        "<button>Predict digit</button>\n",
        "<script>\n",
        "var canvas = document.querySelector('canvas')\n",
        "var ctx = canvas.getContext('2d')\n",
        "ctx.lineWidth = %d\n",
        "var button = document.querySelector('button')\n",
        "var mouse = {x: 0, y: 0}\n",
        "canvas.addEventListener('mousemove', function(e) {\n",
        "  mouse.x = e.pageX - this.offsetLeft\n",
        "  mouse.y = e.pageY - this.offsetTop\n",
        "})\n",
        "canvas.onmousedown = ()=>{\n",
        "  ctx.beginPath()\n",
        "  ctx.moveTo(mouse.x, mouse.y)\n",
        "  canvas.addEventListener('mousemove', onPaint)\n",
        "}\n",
        "canvas.onmouseup = ()=>{\n",
        "  canvas.removeEventListener('mousemove', onPaint)\n",
        "}\n",
        "var onPaint = ()=>{\n",
        "  ctx.lineTo(mouse.x, mouse.y)\n",
        "  ctx.stroke()\n",
        "}\n",
        "var data = new Promise(resolve=>{\n",
        "  button.onclick = ()=>{\n",
        "    resolve(canvas.toDataURL('image/png'))\n",
        "  }\n",
        "})\n",
        "</script>\n",
        "\"\"\"\n",
        "def predictImage(model, infile):\n",
        "    img = PIL.Image.open(infile).resize((20,20))\n",
        "    img = np.array(img).mean(axis=2)\n",
        "    m = img.max()\n",
        "    img = img*255/m\n",
        "    a = np.zeros((28,28))\n",
        "    a[4:4+20,4:4+20] = img\n",
        "    x = np.array([a]).reshape((1,28*28))/255.0\n",
        "    digit = model.predict(x)[0] # predicted digit\n",
        "    conf = model.predict_proba(x)[0].max() # confidence in prediction\n",
        "    print(f'Predicted digit {digit}, Confidence = {conf:0.2f}')\n",
        "    return\n",
        "\n",
        "def draw(model, filename='digit.png', w=200, h=200, line_width=20):\n",
        "    print(\"Draw a digit in the box below and click the 'Predict digit' button\")\n",
        "    display(HTML(canvas_html % (w, h, line_width)))\n",
        "    data = eval_js(\"data\")\n",
        "    binary = b64decode(data.split(',')[1])\n",
        "    with open(filename, 'wb') as f:\n",
        "        f.write(binary)\n",
        "    return predictImage(model, filename)"
      ],
      "execution_count": 39,
      "outputs": []
    },
    {
      "cell_type": "code",
      "metadata": {
        "id": "9NOHksQBbmZa",
        "colab": {
          "base_uri": "https://localhost:8080/",
          "height": 260
        },
        "outputId": "cef0404c-048f-4477-9353-146e9785afa5"
      },
      "source": [
        "draw(chosen_model) # predict with chosen_model"
      ],
      "execution_count": 46,
      "outputs": [
        {
          "output_type": "stream",
          "text": [
            "Draw a digit in the box below and click the 'Predict digit' button\n"
          ],
          "name": "stdout"
        },
        {
          "output_type": "display_data",
          "data": {
            "text/html": [
              "\n",
              "<canvas width=200 height=200 style=\"border:1px solid #000000;\"></canvas>\n",
              "<button>Predict digit</button>\n",
              "<script>\n",
              "var canvas = document.querySelector('canvas')\n",
              "var ctx = canvas.getContext('2d')\n",
              "ctx.lineWidth = 20\n",
              "var button = document.querySelector('button')\n",
              "var mouse = {x: 0, y: 0}\n",
              "canvas.addEventListener('mousemove', function(e) {\n",
              "  mouse.x = e.pageX - this.offsetLeft\n",
              "  mouse.y = e.pageY - this.offsetTop\n",
              "})\n",
              "canvas.onmousedown = ()=>{\n",
              "  ctx.beginPath()\n",
              "  ctx.moveTo(mouse.x, mouse.y)\n",
              "  canvas.addEventListener('mousemove', onPaint)\n",
              "}\n",
              "canvas.onmouseup = ()=>{\n",
              "  canvas.removeEventListener('mousemove', onPaint)\n",
              "}\n",
              "var onPaint = ()=>{\n",
              "  ctx.lineTo(mouse.x, mouse.y)\n",
              "  ctx.stroke()\n",
              "}\n",
              "var data = new Promise(resolve=>{\n",
              "  button.onclick = ()=>{\n",
              "    resolve(canvas.toDataURL('image/png'))\n",
              "  }\n",
              "})\n",
              "</script>\n"
            ],
            "text/plain": [
              "<IPython.core.display.HTML object>"
            ]
          },
          "metadata": {
            "tags": []
          }
        },
        {
          "output_type": "stream",
          "text": [
            "Predicted digit 3, Confidence = 0.97\n"
          ],
          "name": "stdout"
        }
      ]
    }
  ]
}