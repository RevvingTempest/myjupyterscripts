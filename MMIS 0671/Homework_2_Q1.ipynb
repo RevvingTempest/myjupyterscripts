{
 "cells": [
  {
   "cell_type": "markdown",
   "id": "690b70f2-f928-49ad-a513-e0cef99e4bf7",
   "metadata": {
    "id": "pYaVGfd4qO0B"
   },
   "source": [
    "## Import modules"
   ]
  },
  {
   "cell_type": "code",
   "execution_count": 2,
   "id": "784fe6bf-3744-471c-9884-6549c2717ef3",
   "metadata": {
    "id": "KWlSMPV4oLDw"
   },
   "outputs": [],
   "source": [
    "import pandas as pd # for data handling\n",
    "from sklearn.model_selection import cross_val_score # for cross-validation\n",
    "from sklearn.metrics import accuracy_score, classification_report, confusion_matrix # evaluation metrics\n",
    "from sklearn import set_config # enable configure\n",
    "set_config(print_changed_only=False) # configure print to show all not just changed values\n",
    "import matplotlib.pyplot as plt # for plotting\n",
    "import numpy as np\n",
    "\n",
    "# scikit-learn classifiers evaluated (change as desired)\n",
    "from sklearn.naive_bayes import GaussianNB \n",
    "from sklearn.tree import DecisionTreeClassifier, plot_tree\n",
    "from sklearn.ensemble import RandomForestClassifier, ExtraTreesClassifier\n",
    "from sklearn.neighbors import KNeighborsClassifier\n",
    "from sklearn.linear_model import LogisticRegression\n",
    "from sklearn.svm import SVC\n",
    "from sklearn.neural_network import MLPClassifier"
   ]
  },
  {
   "cell_type": "code",
   "execution_count": 3,
   "id": "34215560-1e67-4e37-8e92-777c5d9b0c1f",
   "metadata": {
    "colab": {
     "base_uri": "https://localhost:8080/",
     "height": 211
    },
    "id": "3LNrsgt9qgYQ",
    "outputId": "f3423994-cd5b-44a5-8e52-1d4b5841a8e0",
    "tags": []
   },
   "outputs": [
    {
     "name": "stdout",
     "output_type": "stream",
     "text": [
      "train contains 10000 rows and 26 columns\n",
      "test contains 2000 rows and 26 columns\n",
      "new contains 30 rows and 26 columns\n",
      "First 3 rows in train:\n"
     ]
    },
    {
     "data": {
      "text/html": [
       "<div>\n",
       "<style scoped>\n",
       "    .dataframe tbody tr th:only-of-type {\n",
       "        vertical-align: middle;\n",
       "    }\n",
       "\n",
       "    .dataframe tbody tr th {\n",
       "        vertical-align: top;\n",
       "    }\n",
       "\n",
       "    .dataframe thead th {\n",
       "        text-align: right;\n",
       "    }\n",
       "</style>\n",
       "<table border=\"1\" class=\"dataframe\">\n",
       "  <thead>\n",
       "    <tr style=\"text-align: right;\">\n",
       "      <th></th>\n",
       "      <th>y</th>\n",
       "      <th>x_1</th>\n",
       "      <th>x_2</th>\n",
       "      <th>x_3</th>\n",
       "      <th>x_4</th>\n",
       "      <th>x_5</th>\n",
       "      <th>x_6</th>\n",
       "      <th>x_7</th>\n",
       "      <th>x_8</th>\n",
       "      <th>x_9</th>\n",
       "      <th>...</th>\n",
       "      <th>x_16</th>\n",
       "      <th>x_17</th>\n",
       "      <th>x_18</th>\n",
       "      <th>x_19</th>\n",
       "      <th>x_20</th>\n",
       "      <th>x_21</th>\n",
       "      <th>x_22</th>\n",
       "      <th>x_23</th>\n",
       "      <th>x_24</th>\n",
       "      <th>x_25</th>\n",
       "    </tr>\n",
       "  </thead>\n",
       "  <tbody>\n",
       "    <tr>\n",
       "      <th>0</th>\n",
       "      <td>1.0</td>\n",
       "      <td>0.523</td>\n",
       "      <td>0.303</td>\n",
       "      <td>0.898</td>\n",
       "      <td>0.505</td>\n",
       "      <td>0.264</td>\n",
       "      <td>0.441</td>\n",
       "      <td>0.794</td>\n",
       "      <td>0.868</td>\n",
       "      <td>0.744</td>\n",
       "      <td>...</td>\n",
       "      <td>0.136</td>\n",
       "      <td>0.187</td>\n",
       "      <td>0.452</td>\n",
       "      <td>0.459</td>\n",
       "      <td>0.656</td>\n",
       "      <td>0.126</td>\n",
       "      <td>0.245</td>\n",
       "      <td>0.973</td>\n",
       "      <td>0.917</td>\n",
       "      <td>0.740</td>\n",
       "    </tr>\n",
       "    <tr>\n",
       "      <th>1</th>\n",
       "      <td>0.0</td>\n",
       "      <td>0.546</td>\n",
       "      <td>0.782</td>\n",
       "      <td>0.323</td>\n",
       "      <td>0.495</td>\n",
       "      <td>0.970</td>\n",
       "      <td>0.127</td>\n",
       "      <td>0.167</td>\n",
       "      <td>0.359</td>\n",
       "      <td>0.065</td>\n",
       "      <td>...</td>\n",
       "      <td>0.616</td>\n",
       "      <td>0.734</td>\n",
       "      <td>0.935</td>\n",
       "      <td>0.782</td>\n",
       "      <td>0.218</td>\n",
       "      <td>0.223</td>\n",
       "      <td>0.931</td>\n",
       "      <td>0.205</td>\n",
       "      <td>0.487</td>\n",
       "      <td>0.065</td>\n",
       "    </tr>\n",
       "    <tr>\n",
       "      <th>2</th>\n",
       "      <td>0.0</td>\n",
       "      <td>0.441</td>\n",
       "      <td>0.260</td>\n",
       "      <td>0.824</td>\n",
       "      <td>0.715</td>\n",
       "      <td>0.071</td>\n",
       "      <td>0.004</td>\n",
       "      <td>0.819</td>\n",
       "      <td>0.063</td>\n",
       "      <td>0.343</td>\n",
       "      <td>...</td>\n",
       "      <td>0.209</td>\n",
       "      <td>0.174</td>\n",
       "      <td>0.542</td>\n",
       "      <td>0.970</td>\n",
       "      <td>0.171</td>\n",
       "      <td>0.459</td>\n",
       "      <td>0.316</td>\n",
       "      <td>0.949</td>\n",
       "      <td>0.871</td>\n",
       "      <td>0.720</td>\n",
       "    </tr>\n",
       "  </tbody>\n",
       "</table>\n",
       "<p>3 rows × 26 columns</p>\n",
       "</div>"
      ],
      "text/plain": [
       "     y    x_1    x_2    x_3    x_4    x_5    x_6    x_7    x_8    x_9  ...  \\\n",
       "0  1.0  0.523  0.303  0.898  0.505  0.264  0.441  0.794  0.868  0.744  ...   \n",
       "1  0.0  0.546  0.782  0.323  0.495  0.970  0.127  0.167  0.359  0.065  ...   \n",
       "2  0.0  0.441  0.260  0.824  0.715  0.071  0.004  0.819  0.063  0.343  ...   \n",
       "\n",
       "    x_16   x_17   x_18   x_19   x_20   x_21   x_22   x_23   x_24   x_25  \n",
       "0  0.136  0.187  0.452  0.459  0.656  0.126  0.245  0.973  0.917  0.740  \n",
       "1  0.616  0.734  0.935  0.782  0.218  0.223  0.931  0.205  0.487  0.065  \n",
       "2  0.209  0.174  0.542  0.970  0.171  0.459  0.316  0.949  0.871  0.720  \n",
       "\n",
       "[3 rows x 26 columns]"
      ]
     },
     "execution_count": 3,
     "metadata": {},
     "output_type": "execute_result"
    }
   ],
   "source": [
    "# Read data from CSV files into pandas dataframes\n",
    "train = pd.read_csv('hw2.q1.train.csv') # training data\n",
    "test = pd.read_csv('hw2.q1.test.csv') # test data\n",
    "new = pd.read_csv('hw2.q1.new.csv') # unlabeled data\n",
    "# Show number of rows and columns in each dataframe\n",
    "print('train contains %d rows and %d columns' %train.shape)\n",
    "print('test contains %d rows and %d columns' %test.shape)\n",
    "print('new contains %d rows and %d columns' %new.shape)\n",
    "print('First 3 rows in train:') \n",
    "train.head(3) # display first 3 training samples "
   ]
  },
  {
   "cell_type": "markdown",
   "id": "89022dbd-66ff-4bbe-880a-8bbf66b1bfa4",
   "metadata": {
    "id": "Cy4SdaiY9lFo",
    "tags": []
   },
   "source": [
    "### Specify inputs and outputs\n",
    "- **features**: List of the 16 input feature names\n",
    "- **X_train**: $4000 \\times 16$ array containing input values for training samples.\n",
    "- **y_train**: Array containing labels for the 4000 training samples.\n",
    "- **X_test**: $1000 \\times 16$ array containing input values for test samples.\n",
    "- **y_test**: Array containing labels for the 1000 training samples.\n",
    "- **X_new**: $30 \\times 16$ array containing input values for unlabeled samples.\n",
    "\n",
    "\n",
    "\n",
    "\n"
   ]
  },
  {
   "cell_type": "code",
   "execution_count": 4,
   "id": "ba72d5e0-3806-41a0-a5da-288806c578b4",
   "metadata": {
    "colab": {
     "base_uri": "https://localhost:8080/"
    },
    "id": "GJ8ohEGf-Mi8",
    "outputId": "b97bfe13-0702-4d81-9366-30596b83704c",
    "tags": []
   },
   "outputs": [
    {
     "name": "stdout",
     "output_type": "stream",
     "text": [
      "features: ['x_1', 'x_2', 'x_3', 'x_4', 'x_5', 'x_6', 'x_7', 'x_8', 'x_9', 'x_10', 'x_11', 'x_12', 'x_13', 'x_14', 'x_15', 'x_16', 'x_17', 'x_18', 'x_19', 'x_20', 'x_21', 'x_22', 'x_23', 'x_24', 'x_25']\n",
      "Shapes:\n",
      "X_train: (10000, 25), X_test: (2000, 25), X_new: (30, 25)\n",
      "y_train: (10000,), y_test: (2000,)\n"
     ]
    }
   ],
   "source": [
    "features = list(train)[1:] # all but the first column header are feature names\n",
    "print(\"features:\", features)\n",
    "X_train, X_test, X_new = train[features], test[features], new[features]\n",
    "y_train, y_test = train.y, test.y\n",
    "print('Shapes:')\n",
    "print(f'X_train: {X_train.shape}, X_test: {X_test.shape}, X_new: {X_new.shape}')\n",
    "print(f'y_train: {y_train.shape}, y_test: {y_test.shape}')"
   ]
  },
  {
   "cell_type": "markdown",
   "id": "458e27ac-04c5-40d4-92b5-7d0c32f38585",
   "metadata": {},
   "source": [
    "## QUESTION 1"
   ]
  },
  {
   "cell_type": "markdown",
   "id": "197b5307-682b-4684-b17c-f1cc12575819",
   "metadata": {
    "id": "DnxBpRlZ-5I9",
    "tags": []
   },
   "source": [
    "## Evaluate models using *k*-fold cross-validation\n",
    "We shall use **4**-fold cross-validation so that 3000 of the 4000 training samples are used for training and the remaining 1000 samples are used for validation in each fold. The mean cross-validation accuracy for each model with chosen hyper-parameters on the 4 runs will be computed using the command:\n",
    "- **score = cross_val_score(model, X_train, y_train, cv=4).mean()**\n",
    "> - *model*: classifier object with specified hyperparameters\n",
    "> - *X_train*, *y_train*: Inputs and output labels for training\n",
    "> - *cv*: number of folds in cross-validation\n",
    "> - *mean*(): computes mean accuracy from the *cv* runs \n",
    "\n",
    "You can look up the documentation for each classifier, change hyper-parameter values, and observe the results. We shall also observe the time it takes to train and evaluate each model 4 times in this *4*-fold cross-validation process.\n"
   ]
  },
  {
   "cell_type": "markdown",
   "id": "ab5305c7-7b26-4136-b4c4-aafbf3a806f9",
   "metadata": {},
   "source": [
    "**Task 1**"
   ]
  },
  {
   "cell_type": "code",
   "execution_count": 5,
   "id": "52cb0d7d-a7a7-4872-908b-7f10dea72dea",
   "metadata": {
    "colab": {
     "base_uri": "https://localhost:8080/"
    },
    "id": "ic1FrpZVNkCL",
    "outputId": "59d70481-51a3-4824-cd35-3280267aeb84"
   },
   "outputs": [
    {
     "name": "stdout",
     "output_type": "stream",
     "text": [
      "Mean cross-validation accuracy with 2 rules = 0.7178\n",
      "Mean cross-validation accuracy with 3 rules = 0.8636\n",
      "Mean cross-validation accuracy with 4 rules = 0.9695\n",
      "Mean cross-validation accuracy with 5 rules = 0.9695\n",
      "Mean cross-validation accuracy with 6 rules = 0.9695\n",
      "Mean cross-validation accuracy with 7 rules = 0.9691\n",
      "Mean cross-validation accuracy with 8 rules = 0.9690\n",
      "Mean cross-validation accuracy with 9 rules = 0.9688\n",
      "Mean cross-validation accuracy with 10 rules = 0.9687\n",
      "Mean cross-validation accuracy with 11 rules = 0.9689\n",
      "Mean cross-validation accuracy with 12 rules = 0.9687\n",
      "Mean cross-validation accuracy with 13 rules = 0.9688\n",
      "Mean cross-validation accuracy with 14 rules = 0.9686\n"
     ]
    }
   ],
   "source": [
    "for k in range(2,15): # number of rules\n",
    "    model = DecisionTreeClassifier(max_leaf_nodes=k)\n",
    "    score = cross_val_score(model, X_train, y_train, cv=5).mean() # mean cross-validation accuracy\n",
    "    print(f'Mean cross-validation accuracy with {k} rules = {score:0.4f}')"
   ]
  },
  {
   "cell_type": "markdown",
   "id": "fa8b8457-e67e-46f8-80f6-2caae88f13d6",
   "metadata": {
    "id": "prBLKKoqW30p"
   },
   "source": [
    "For this classification problem, cross-validation accuracy increases as the number of rules increase up to 5, and then it starts decreasing. So we shall choose the following model:\n",
    "- DecisionTreeClassifier(max_leaf_nodes=5)  "
   ]
  },
  {
   "cell_type": "code",
   "execution_count": 6,
   "id": "68918e92-0494-455e-a804-11102c6cc85d",
   "metadata": {
    "colab": {
     "base_uri": "https://localhost:8080/"
    },
    "id": "-GSe63ssXaS4",
    "outputId": "81055881-de65-4c15-8f58-7c1505dc6b25",
    "tags": []
   },
   "outputs": [
    {
     "name": "stdout",
     "output_type": "stream",
     "text": [
      "DecisionTreeClassifier(ccp_alpha=0.0, class_weight=None, criterion='gini',\n",
      "                       max_depth=None, max_features=None, max_leaf_nodes=4,\n",
      "                       min_impurity_decrease=0.0, min_impurity_split=None,\n",
      "                       min_samples_leaf=1, min_samples_split=2,\n",
      "                       min_weight_fraction_leaf=0.0, random_state=None,\n",
      "                       splitter='best')\n"
     ]
    }
   ],
   "source": [
    "chosen_model = DecisionTreeClassifier(max_leaf_nodes=4) # chosen model\n",
    "print(chosen_model) # display model parameters"
   ]
  },
  {
   "cell_type": "markdown",
   "id": "0a6ec41f-abfe-49ce-a39e-9ddac39c9393",
   "metadata": {
    "id": "mObRT95gXrzZ",
    "tags": []
   },
   "source": [
    "## Train and test selected model"
   ]
  },
  {
   "cell_type": "markdown",
   "id": "547ff169-7e15-4418-839d-aa164d59d216",
   "metadata": {},
   "source": [
    "**Task 2**"
   ]
  },
  {
   "cell_type": "code",
   "execution_count": 7,
   "id": "8d5fe5f6-c05d-4566-a612-5d723e235f23",
   "metadata": {
    "colab": {
     "base_uri": "https://localhost:8080/"
    },
    "id": "RZ_fqywZXw83",
    "outputId": "43118bbc-edd3-4596-fe28-db95266f4f38"
   },
   "outputs": [
    {
     "name": "stdout",
     "output_type": "stream",
     "text": [
      "Accuracy on test samples = 0.9710\n",
      "Classification report on test samples:\n",
      "              precision    recall  f1-score   support\n",
      "\n",
      "         0.0     0.9679    0.9771    0.9725      1048\n",
      "         1.0     0.9745    0.9643    0.9694       952\n",
      "\n",
      "    accuracy                         0.9710      2000\n",
      "   macro avg     0.9712    0.9707    0.9709      2000\n",
      "weighted avg     0.9710    0.9710    0.9710      2000\n",
      "\n",
      "Wall time: 56 ms\n"
     ]
    }
   ],
   "source": [
    "%%time\n",
    "chosen_model.fit(X_train, y_train) # train selected model on ALL training examples\n",
    "predicted = chosen_model.predict(X_test) # predicted diagnosis for test examples\n",
    "acc = accuracy_score(y_test, predicted) # accuracy on test samples\n",
    "print(f'Accuracy on test samples = {acc:0.4f}') # show test accuracy\n",
    "print(\"Classification report on test samples:\") # for precision, recall, F1-score\n",
    "print(classification_report(y_test, predicted, digits=4)) # rounded to 4 decimal places"
   ]
  },
  {
   "cell_type": "markdown",
   "id": "0273a87d-7f16-43aa-bc34-3b1680ae0f95",
   "metadata": {},
   "source": [
    "**Task 2**"
   ]
  },
  {
   "cell_type": "code",
   "execution_count": 8,
   "id": "656700c2-50a2-4028-a4b4-c2a9c2cdf2f8",
   "metadata": {},
   "outputs": [
    {
     "data": {
      "text/plain": [
       "array([[1024,   24],\n",
       "       [  34,  918]], dtype=int64)"
      ]
     },
     "execution_count": 8,
     "metadata": {},
     "output_type": "execute_result"
    }
   ],
   "source": [
    "confusion_matrix(y_test, predicted)"
   ]
  },
  {
   "cell_type": "markdown",
   "id": "d66c0959-739a-43aa-a858-09c5610c17f6",
   "metadata": {
    "id": "HaPNAkBiGCkA",
    "tags": []
   },
   "source": [
    "## Predict class for unlabeled samples\n",
    "We shall use our trained model to predict the output class for the unlabeled samples."
   ]
  },
  {
   "cell_type": "markdown",
   "id": "736de5ea-3c99-4051-beba-eae982d55655",
   "metadata": {},
   "source": [
    "**Task 3**"
   ]
  },
  {
   "cell_type": "code",
   "execution_count": 9,
   "id": "62635680-7758-4cb3-82cd-cae5f081e726",
   "metadata": {
    "colab": {
     "base_uri": "https://localhost:8080/",
     "height": 948
    },
    "id": "yEqI9Ic6GV_v",
    "outputId": "8e4694c6-c8c7-42c8-c170-e706c77fdde2"
   },
   "outputs": [
    {
     "data": {
      "text/html": [
       "<div>\n",
       "<style scoped>\n",
       "    .dataframe tbody tr th:only-of-type {\n",
       "        vertical-align: middle;\n",
       "    }\n",
       "\n",
       "    .dataframe tbody tr th {\n",
       "        vertical-align: top;\n",
       "    }\n",
       "\n",
       "    .dataframe thead th {\n",
       "        text-align: right;\n",
       "    }\n",
       "</style>\n",
       "<table border=\"1\" class=\"dataframe\">\n",
       "  <thead>\n",
       "    <tr style=\"text-align: right;\">\n",
       "      <th></th>\n",
       "      <th>ID</th>\n",
       "      <th>y</th>\n",
       "    </tr>\n",
       "  </thead>\n",
       "  <tbody>\n",
       "    <tr>\n",
       "      <th>0</th>\n",
       "      <td>ID_001</td>\n",
       "      <td>0.0</td>\n",
       "    </tr>\n",
       "    <tr>\n",
       "      <th>1</th>\n",
       "      <td>ID_002</td>\n",
       "      <td>0.0</td>\n",
       "    </tr>\n",
       "    <tr>\n",
       "      <th>2</th>\n",
       "      <td>ID_003</td>\n",
       "      <td>0.0</td>\n",
       "    </tr>\n",
       "    <tr>\n",
       "      <th>3</th>\n",
       "      <td>ID_004</td>\n",
       "      <td>0.0</td>\n",
       "    </tr>\n",
       "    <tr>\n",
       "      <th>4</th>\n",
       "      <td>ID_005</td>\n",
       "      <td>0.0</td>\n",
       "    </tr>\n",
       "    <tr>\n",
       "      <th>5</th>\n",
       "      <td>ID_006</td>\n",
       "      <td>0.0</td>\n",
       "    </tr>\n",
       "    <tr>\n",
       "      <th>6</th>\n",
       "      <td>ID_007</td>\n",
       "      <td>0.0</td>\n",
       "    </tr>\n",
       "    <tr>\n",
       "      <th>7</th>\n",
       "      <td>ID_008</td>\n",
       "      <td>0.0</td>\n",
       "    </tr>\n",
       "    <tr>\n",
       "      <th>8</th>\n",
       "      <td>ID_009</td>\n",
       "      <td>0.0</td>\n",
       "    </tr>\n",
       "    <tr>\n",
       "      <th>9</th>\n",
       "      <td>ID_010</td>\n",
       "      <td>0.0</td>\n",
       "    </tr>\n",
       "    <tr>\n",
       "      <th>10</th>\n",
       "      <td>ID_011</td>\n",
       "      <td>0.0</td>\n",
       "    </tr>\n",
       "    <tr>\n",
       "      <th>11</th>\n",
       "      <td>ID_012</td>\n",
       "      <td>0.0</td>\n",
       "    </tr>\n",
       "    <tr>\n",
       "      <th>12</th>\n",
       "      <td>ID_013</td>\n",
       "      <td>0.0</td>\n",
       "    </tr>\n",
       "    <tr>\n",
       "      <th>13</th>\n",
       "      <td>ID_014</td>\n",
       "      <td>0.0</td>\n",
       "    </tr>\n",
       "    <tr>\n",
       "      <th>14</th>\n",
       "      <td>ID_015</td>\n",
       "      <td>0.0</td>\n",
       "    </tr>\n",
       "    <tr>\n",
       "      <th>15</th>\n",
       "      <td>ID_016</td>\n",
       "      <td>0.0</td>\n",
       "    </tr>\n",
       "    <tr>\n",
       "      <th>16</th>\n",
       "      <td>ID_017</td>\n",
       "      <td>0.0</td>\n",
       "    </tr>\n",
       "    <tr>\n",
       "      <th>17</th>\n",
       "      <td>ID_018</td>\n",
       "      <td>1.0</td>\n",
       "    </tr>\n",
       "    <tr>\n",
       "      <th>18</th>\n",
       "      <td>ID_019</td>\n",
       "      <td>1.0</td>\n",
       "    </tr>\n",
       "    <tr>\n",
       "      <th>19</th>\n",
       "      <td>ID_020</td>\n",
       "      <td>1.0</td>\n",
       "    </tr>\n",
       "    <tr>\n",
       "      <th>20</th>\n",
       "      <td>ID_021</td>\n",
       "      <td>1.0</td>\n",
       "    </tr>\n",
       "    <tr>\n",
       "      <th>21</th>\n",
       "      <td>ID_022</td>\n",
       "      <td>1.0</td>\n",
       "    </tr>\n",
       "    <tr>\n",
       "      <th>22</th>\n",
       "      <td>ID_023</td>\n",
       "      <td>1.0</td>\n",
       "    </tr>\n",
       "    <tr>\n",
       "      <th>23</th>\n",
       "      <td>ID_024</td>\n",
       "      <td>1.0</td>\n",
       "    </tr>\n",
       "    <tr>\n",
       "      <th>24</th>\n",
       "      <td>ID_025</td>\n",
       "      <td>1.0</td>\n",
       "    </tr>\n",
       "    <tr>\n",
       "      <th>25</th>\n",
       "      <td>ID_026</td>\n",
       "      <td>1.0</td>\n",
       "    </tr>\n",
       "    <tr>\n",
       "      <th>26</th>\n",
       "      <td>ID_027</td>\n",
       "      <td>1.0</td>\n",
       "    </tr>\n",
       "    <tr>\n",
       "      <th>27</th>\n",
       "      <td>ID_028</td>\n",
       "      <td>1.0</td>\n",
       "    </tr>\n",
       "    <tr>\n",
       "      <th>28</th>\n",
       "      <td>ID_029</td>\n",
       "      <td>1.0</td>\n",
       "    </tr>\n",
       "    <tr>\n",
       "      <th>29</th>\n",
       "      <td>ID_030</td>\n",
       "      <td>1.0</td>\n",
       "    </tr>\n",
       "  </tbody>\n",
       "</table>\n",
       "</div>"
      ],
      "text/plain": [
       "        ID    y\n",
       "0   ID_001  0.0\n",
       "1   ID_002  0.0\n",
       "2   ID_003  0.0\n",
       "3   ID_004  0.0\n",
       "4   ID_005  0.0\n",
       "5   ID_006  0.0\n",
       "6   ID_007  0.0\n",
       "7   ID_008  0.0\n",
       "8   ID_009  0.0\n",
       "9   ID_010  0.0\n",
       "10  ID_011  0.0\n",
       "11  ID_012  0.0\n",
       "12  ID_013  0.0\n",
       "13  ID_014  0.0\n",
       "14  ID_015  0.0\n",
       "15  ID_016  0.0\n",
       "16  ID_017  0.0\n",
       "17  ID_018  1.0\n",
       "18  ID_019  1.0\n",
       "19  ID_020  1.0\n",
       "20  ID_021  1.0\n",
       "21  ID_022  1.0\n",
       "22  ID_023  1.0\n",
       "23  ID_024  1.0\n",
       "24  ID_025  1.0\n",
       "25  ID_026  1.0\n",
       "26  ID_027  1.0\n",
       "27  ID_028  1.0\n",
       "28  ID_029  1.0\n",
       "29  ID_030  1.0"
      ]
     },
     "execution_count": 9,
     "metadata": {},
     "output_type": "execute_result"
    }
   ],
   "source": [
    "predicted_new = chosen_model.predict(X_new) # predicted classes for unlabeled samples\n",
    "new_prediction = pd.DataFrame() # dataframe with predicted classes\n",
    "new_prediction['ID'] = new.ID # identifiers for unlabeled samples\n",
    "new_prediction['y'] = predicted_new # # predicted classes for unlabeled samples\n",
    "new_prediction.to_csv('hw2.prediction.csv', index=False) # save as CSV file\n",
    "new_prediction # display results"
   ]
  },
  {
   "cell_type": "markdown",
   "id": "04324dc2-096d-4182-9e05-63036aa5d70a",
   "metadata": {
    "id": "HuYzuoj8ZWUm",
    "tags": []
   },
   "source": [
    "## Extract rules from Decision Tree\n",
    "We shall visualize the decision tree using the *plot_tree* function\n",
    "- https://scikit-learn.org/stable/modules/generated/sklearn.tree.plot_tree.html "
   ]
  },
  {
   "cell_type": "markdown",
   "id": "9ad5918d-7161-4255-9a3d-006bb6a332f2",
   "metadata": {},
   "source": [
    "**Task 2**"
   ]
  },
  {
   "cell_type": "code",
   "execution_count": 12,
   "id": "420c59af-11bb-48b2-a3f7-cb26cfce26c4",
   "metadata": {
    "colab": {
     "base_uri": "https://localhost:8080/",
     "height": 575
    },
    "id": "F0sFgjOrZ3Dn",
    "outputId": "26d6f089-adb4-4d87-c3eb-cbaa07edaa4e"
   },
   "outputs": [
    {
     "data": {
      "image/png": "[encoded data removed]",
      "text/plain": [
       "<Figure size 720x720 with 1 Axes>"
      ]
     },
     "metadata": {
      "needs_background": "light"
     },
     "output_type": "display_data"
    }
   ],
   "source": [
    "plt.figure(figsize=(10, 10)) # size of figure to be displayed\n",
    "\n",
    "plot_tree(chosen_model, \n",
    "          feature_names=features, \n",
    "          class_names=[f'{c}' for c in chosen_model.classes_], \n",
    "          filled=True, rounded=True, impurity=False) # plot tree\n",
    "\n",
    "plt.savefig(\"decision_tree.png\") # save as PNG file\n",
    "plt.show() # show tree"
   ]
  },
  {
   "cell_type": "markdown",
   "id": "1f4371cc-5ab9-45c2-b6a5-03e5635900d2",
   "metadata": {
    "id": "pDLcDVMAeXxQ"
   },
   "source": [
    "(THIS IS AN EXAMPLE!)The Decision Tree encodes the following rules:\n",
    "\n",
    "1. IF *test_7* $>$ 0.764 THEN *diagnosis* = 0.\n",
    "2. IF *test_7* $\\le$ 0.764 AND *test_13* $>$ 0.794 THEN *diagnosis* = 0.\n",
    "3. IF *test_7* $\\le$ 0.764 AND *test_13* $\\le$ 0.794 AND *test_3* $>$ 0.806  THEN *diagnosis* = 0.\n",
    "4. IF *test_7* $\\le$ 0.764 AND *test_13* $\\le$ 0.794 AND *test_3* $\\le$ 0.806 AND *test_12* $>$ 0.816  THEN *diagnosis* = 0.\n",
    "5. IF *test_7* $\\le$ 0.764 AND *test_13* $\\le$ 0.794 AND *test_3* $\\le$ 0.806 AND *test_12* $\\le$ 0.816  THEN *diagnosis* = 0.   "
   ]
  },
  {
   "cell_type": "code",
   "execution_count": 11,
   "id": "ae00d026-5887-4a1f-8ba8-2c81e23c0d2c",
   "metadata": {
    "colab": {
     "base_uri": "https://localhost:8080/",
     "height": 340
    },
    "id": "cQUCoFwjbJZ3",
    "outputId": "f318bd6b-f868-43dc-fbae-959dc081d3a0"
   },
   "outputs": [
    {
     "data": {
      "image/png": "[encoded data removed]",
      "text/plain": [
       "<Figure size 1152x288 with 1 Axes>"
      ]
     },
     "metadata": {
      "needs_background": "light"
     },
     "output_type": "display_data"
    }
   ],
   "source": [
    "plt.figure(figsize=(16, 4)) # size of figure to be displayed\n",
    "plt.bar(features, chosen_model.feature_importances_)\n",
    "plt.xticks(rotation = 60, fontsize=16)\n",
    "plt.title('Feature importances', fontsize=24)\n",
    "plt.show()"
   ]
  },
  {
   "cell_type": "code",
   "execution_count": null,
   "id": "fdb7ebec-0479-46c0-9320-66de427a9cfe",
   "metadata": {},
   "outputs": [],
   "source": []
  }
 ],
 "metadata": {
  "kernelspec": {
   "display_name": "Python 3 (ipykernel)",
   "language": "python",
   "name": "python3"
  },
  "language_info": {
   "codemirror_mode": {
    "name": "ipython",
    "version": 3
   },
   "file_extension": ".py",
   "mimetype": "text/x-python",
   "name": "python",
   "nbconvert_exporter": "python",
   "pygments_lexer": "ipython3",
   "version": "3.9.6"
  }
 },
 "nbformat": 4,
 "nbformat_minor": 5
}
