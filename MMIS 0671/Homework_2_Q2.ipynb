{
 "cells": [
  {
   "cell_type": "markdown",
   "id": "74db372c-90a0-4331-b65b-a3ab43640948",
   "metadata": {},
   "source": [
    "## Homework 2 - Question 2"
   ]
  },
  {
   "cell_type": "code",
   "execution_count": 1,
   "id": "8bed9885-42dc-40c6-839d-6891e82cafd7",
   "metadata": {
    "id": "KWlSMPV4oLDw"
   },
   "outputs": [],
   "source": [
    "import pandas as pd # for data handling\n",
    "from sklearn.model_selection import cross_val_score # for cross-validation\n",
    "from sklearn.metrics import accuracy_score, classification_report, confusion_matrix # evaluation metrics\n",
    "from sklearn import set_config # enable configure\n",
    "set_config(print_changed_only=False) # configure print to show all not just changed values\n",
    "import matplotlib.pyplot as plt # for plotting\n",
    "\n",
    "# scikit-learn classifiers evaluated (change as desired)\n",
    "from sklearn.naive_bayes import GaussianNB \n",
    "from sklearn.tree import DecisionTreeClassifier, plot_tree\n",
    "from sklearn.ensemble import RandomForestClassifier, ExtraTreesClassifier\n",
    "from sklearn.neighbors import KNeighborsClassifier\n",
    "from sklearn.linear_model import LogisticRegression\n",
    "from sklearn.svm import SVC\n",
    "from sklearn.neural_network import MLPClassifier"
   ]
  },
  {
   "cell_type": "code",
   "execution_count": 2,
   "id": "9b74172a-2981-4711-85b2-f18f2ae80bcb",
   "metadata": {
    "colab": {
     "base_uri": "https://localhost:8080/",
     "height": 211
    },
    "id": "3LNrsgt9qgYQ",
    "outputId": "f3423994-cd5b-44a5-8e52-1d4b5841a8e0",
    "tags": []
   },
   "outputs": [
    {
     "name": "stdout",
     "output_type": "stream",
     "text": [
      "train contains 8000 rows and 11 columns\n",
      "test contains 2000 rows and 11 columns\n",
      "new contains 30 rows and 11 columns\n",
      "First 3 rows in train:\n"
     ]
    },
    {
     "data": {
      "text/html": [
       "<div>\n",
       "<style scoped>\n",
       "    .dataframe tbody tr th:only-of-type {\n",
       "        vertical-align: middle;\n",
       "    }\n",
       "\n",
       "    .dataframe tbody tr th {\n",
       "        vertical-align: top;\n",
       "    }\n",
       "\n",
       "    .dataframe thead th {\n",
       "        text-align: right;\n",
       "    }\n",
       "</style>\n",
       "<table border=\"1\" class=\"dataframe\">\n",
       "  <thead>\n",
       "    <tr style=\"text-align: right;\">\n",
       "      <th></th>\n",
       "      <th>y</th>\n",
       "      <th>x1</th>\n",
       "      <th>x2</th>\n",
       "      <th>x3</th>\n",
       "      <th>x4</th>\n",
       "      <th>x5</th>\n",
       "      <th>x6</th>\n",
       "      <th>x7</th>\n",
       "      <th>x8</th>\n",
       "      <th>x9</th>\n",
       "      <th>x10</th>\n",
       "    </tr>\n",
       "  </thead>\n",
       "  <tbody>\n",
       "    <tr>\n",
       "      <th>0</th>\n",
       "      <td>2.0</td>\n",
       "      <td>-0.613</td>\n",
       "      <td>-1.465</td>\n",
       "      <td>-1.105</td>\n",
       "      <td>0.436</td>\n",
       "      <td>-1.658</td>\n",
       "      <td>-1.357</td>\n",
       "      <td>-2.375</td>\n",
       "      <td>-0.997</td>\n",
       "      <td>-0.653</td>\n",
       "      <td>1.186</td>\n",
       "    </tr>\n",
       "    <tr>\n",
       "      <th>1</th>\n",
       "      <td>1.0</td>\n",
       "      <td>-1.154</td>\n",
       "      <td>0.473</td>\n",
       "      <td>3.159</td>\n",
       "      <td>-4.770</td>\n",
       "      <td>0.402</td>\n",
       "      <td>-0.160</td>\n",
       "      <td>-1.925</td>\n",
       "      <td>-0.105</td>\n",
       "      <td>-2.304</td>\n",
       "      <td>0.032</td>\n",
       "    </tr>\n",
       "    <tr>\n",
       "      <th>2</th>\n",
       "      <td>2.0</td>\n",
       "      <td>0.147</td>\n",
       "      <td>-0.814</td>\n",
       "      <td>-0.792</td>\n",
       "      <td>-1.403</td>\n",
       "      <td>2.124</td>\n",
       "      <td>-2.263</td>\n",
       "      <td>-2.133</td>\n",
       "      <td>-2.461</td>\n",
       "      <td>-0.781</td>\n",
       "      <td>0.932</td>\n",
       "    </tr>\n",
       "  </tbody>\n",
       "</table>\n",
       "</div>"
      ],
      "text/plain": [
       "     y     x1     x2     x3     x4     x5     x6     x7     x8     x9    x10\n",
       "0  2.0 -0.613 -1.465 -1.105  0.436 -1.658 -1.357 -2.375 -0.997 -0.653  1.186\n",
       "1  1.0 -1.154  0.473  3.159 -4.770  0.402 -0.160 -1.925 -0.105 -2.304  0.032\n",
       "2  2.0  0.147 -0.814 -0.792 -1.403  2.124 -2.263 -2.133 -2.461 -0.781  0.932"
      ]
     },
     "execution_count": 2,
     "metadata": {},
     "output_type": "execute_result"
    }
   ],
   "source": [
    "# Read data from CSV files into pandas dataframes\n",
    "train = pd.read_csv('hw2.q2.train.csv') # training data\n",
    "test = pd.read_csv('hw2.q2.test.csv') # test data\n",
    "new = pd.read_csv('hw2.q2.new.csv') # unlabeled data\n",
    "# Show number of rows and columns in each dataframe\n",
    "print('train contains %d rows and %d columns' %train.shape)\n",
    "print('test contains %d rows and %d columns' %test.shape)\n",
    "print('new contains %d rows and %d columns' %new.shape)\n",
    "print('First 3 rows in train:') \n",
    "train.head(3) # display first 3 training samples "
   ]
  },
  {
   "cell_type": "markdown",
   "id": "6aafb4bd-d2ac-491e-bc0f-80adf95465c0",
   "metadata": {
    "id": "Cy4SdaiY9lFo",
    "tags": []
   },
   "source": [
    "### Specify inputs and outputs\n",
    "- **features**: List of the 16 input feature names\n",
    "- **X_train**: $4000 \\times 16$ array containing input values for training samples.\n",
    "- **y_train**: Array containing labels for the 4000 training samples.\n",
    "- **X_test**: $1000 \\times 16$ array containing input values for test samples.\n",
    "- **y_test**: Array containing labels for the 1000 training samples.\n",
    "- **X_new**: $30 \\times 16$ array containing input values for unlabeled samples.\n",
    "\n",
    "\n",
    "\n",
    "\n"
   ]
  },
  {
   "cell_type": "code",
   "execution_count": 3,
   "id": "ebe2e589-b1f7-4ae2-b590-0f1176a00771",
   "metadata": {
    "colab": {
     "base_uri": "https://localhost:8080/"
    },
    "id": "GJ8ohEGf-Mi8",
    "outputId": "b97bfe13-0702-4d81-9366-30596b83704c"
   },
   "outputs": [
    {
     "name": "stdout",
     "output_type": "stream",
     "text": [
      "features: ['x1', 'x2', 'x3', 'x4', 'x5', 'x6', 'x7', 'x8', 'x9', 'x10']\n",
      "Shapes:\n",
      "X_train: (8000, 10), X_test: (2000, 10), X_new: (30, 10)\n",
      "y_train: (8000,), y_test: (2000,)\n"
     ]
    }
   ],
   "source": [
    "features = list(train)[1:] # all but the first column header are feature names\n",
    "print(\"features:\", features)\n",
    "X_train, X_test, X_new = train[features], test[features], new[features]\n",
    "y_train, y_test = train.y, test.y\n",
    "print('Shapes:')\n",
    "print(f'X_train: {X_train.shape}, X_test: {X_test.shape}, X_new: {X_new.shape}')\n",
    "print(f'y_train: {y_train.shape}, y_test: {y_test.shape}')"
   ]
  },
  {
   "cell_type": "markdown",
   "id": "3d5de12c-e19e-4b15-819a-fdb4a528cce3",
   "metadata": {
    "id": "DnxBpRlZ-5I9",
    "tags": []
   },
   "source": [
    "## Evaluate models using *k*-fold cross-validation\n",
    "We shall use **4**-fold cross-validation so that 3000 of the 4000 training samples are used for training and the remaining 1000 samples are used for validation in each fold. The mean cross-validation accuracy for each model with chosen hyper-parameters on the 4 runs will be computed using the command:\n",
    "- **score = cross_val_score(model, X_train, y_train, cv=4).mean()**\n",
    "> - *model*: classifier object with specified hyperparameters\n",
    "> - *X_train*, *y_train*: Inputs and output labels for training\n",
    "> - *cv*: number of folds in cross-validation\n",
    "> - *mean*(): computes mean accuracy from the *cv* runs \n",
    "\n",
    "You can look up the documentation for each classifier, change hyper-parameter values, and observe the results. We shall also observe the time it takes to train and evaluate each model 4 times in this *4*-fold cross-validation process.\n"
   ]
  },
  {
   "cell_type": "markdown",
   "id": "8ac3dafa-14bc-4750-b70b-dca76cde5e34",
   "metadata": {
    "id": "5txUT58tqyFa"
   },
   "source": [
    "### GaussianNB\n",
    "\n",
    "https://scikit-learn.org/stable/modules/generated/sklearn.naive_bayes.GaussianNB.html"
   ]
  },
  {
   "cell_type": "code",
   "execution_count": 4,
   "id": "98488794-5dad-4b95-9d5b-932bc6d1fd4e",
   "metadata": {
    "colab": {
     "base_uri": "https://localhost:8080/"
    },
    "id": "NrfDQpqMq8Jr",
    "outputId": "5ab0c5b2-1359-44eb-9314-4d8846b784a8",
    "tags": []
   },
   "outputs": [
    {
     "name": "stdout",
     "output_type": "stream",
     "text": [
      "Mean cross-validation accuracy = 0.8490\n",
      "Wall time: 19 ms\n"
     ]
    }
   ],
   "source": [
    "%%time\n",
    "model = GaussianNB() # change hyperparameters as desired\n",
    "score = cross_val_score(model, X_train, y_train, cv=4).mean() # mean cross-validation accuracy\n",
    "print(f'Mean cross-validation accuracy = {score:0.4f}')"
   ]
  },
  {
   "cell_type": "code",
   "execution_count": 5,
   "id": "a9b1879a-5972-44e6-9cff-c7afbbebf54a",
   "metadata": {},
   "outputs": [
    {
     "data": {
      "text/plain": [
       "GaussianNB(priors=None, var_smoothing=1e-09)"
      ]
     },
     "execution_count": 5,
     "metadata": {},
     "output_type": "execute_result"
    }
   ],
   "source": [
    "model"
   ]
  },
  {
   "cell_type": "markdown",
   "id": "871dbed4-9ed0-43cd-90d7-75a046b2ae80",
   "metadata": {
    "id": "L61SWfGztPUz"
   },
   "source": [
    "### DecisionTreeClassifier\n",
    "\n",
    "https://scikit-learn.org/stable/modules/generated/sklearn.tree.DecisionTreeClassifier.html"
   ]
  },
  {
   "cell_type": "code",
   "execution_count": 6,
   "id": "0ec8db15-133f-425b-8ca4-828c0e350a4a",
   "metadata": {
    "colab": {
     "base_uri": "https://localhost:8080/"
    },
    "id": "V6IlKW1ZKFrq",
    "outputId": "bc8166ff-ede7-458d-b581-706ee8173674"
   },
   "outputs": [
    {
     "name": "stdout",
     "output_type": "stream",
     "text": [
      "Mean cross-validation accuracy = 0.7064\n",
      "Wall time: 90 ms\n"
     ]
    }
   ],
   "source": [
    "%%time\n",
    "model = DecisionTreeClassifier(max_leaf_nodes=10) # change hyperparameters as desired\n",
    "score = cross_val_score(model, X_train, y_train, cv=4).mean() # mean cross-validation accuracy\n",
    "print(f'Mean cross-validation accuracy = {score:0.4f}')"
   ]
  },
  {
   "cell_type": "markdown",
   "id": "999a9efb-4168-4a08-8b88-20780198f35d",
   "metadata": {
    "id": "dw2J3q89Kq8u"
   },
   "source": [
    "### RandomForestClassifier\n",
    "\n",
    "https://scikit-learn.org/stable/modules/generated/sklearn.ensemble.RandomForestClassifier.html"
   ]
  },
  {
   "cell_type": "code",
   "execution_count": 7,
   "id": "2d21b8db-9dda-44f7-be6b-3159366f6f9b",
   "metadata": {
    "colab": {
     "base_uri": "https://localhost:8080/"
    },
    "id": "Bg1tRS0KK4zl",
    "outputId": "cd9374c1-5068-4d48-f4a4-1613136e7867"
   },
   "outputs": [
    {
     "name": "stdout",
     "output_type": "stream",
     "text": [
      "Mean cross-validation accuracy = 0.9406\n",
      "Wall time: 3.86 s\n"
     ]
    }
   ],
   "source": [
    "%%time\n",
    "model = RandomForestClassifier(n_estimators=100) # change hyperparameters as desired\n",
    "score = cross_val_score(model, X_train, y_train, cv=4).mean() # mean cross-validation accuracy\n",
    "print(f'Mean cross-validation accuracy = {score:0.4f}')"
   ]
  },
  {
   "cell_type": "markdown",
   "id": "3274e733-d866-472f-ad5f-1379cf726a88",
   "metadata": {
    "id": "d86dfu7ducAE"
   },
   "source": [
    "### ExtraTreesClassifier\n",
    "\n",
    "https://scikit-learn.org/stable/modules/generated/sklearn.ensemble.ExtraTreesClassifier.html"
   ]
  },
  {
   "cell_type": "code",
   "execution_count": 8,
   "id": "b5f8a59c-5221-4031-b67c-019f27a1a3e0",
   "metadata": {
    "colab": {
     "base_uri": "https://localhost:8080/"
    },
    "id": "emyzWlJyKUSx",
    "outputId": "ea3b09a4-263e-4090-a840-8ea1c836f2da"
   },
   "outputs": [
    {
     "name": "stdout",
     "output_type": "stream",
     "text": [
      "Mean cross-validation accuracy = 0.9520\n",
      "Wall time: 1.53 s\n"
     ]
    }
   ],
   "source": [
    "%%time\n",
    "model = ExtraTreesClassifier() # change hyperparameters as desired\n",
    "score = cross_val_score(model, X_train, y_train, cv=4).mean() # mean cross-validation accuracy\n",
    "print(f'Mean cross-validation accuracy = {score:0.4f}')"
   ]
  },
  {
   "cell_type": "markdown",
   "id": "72a93c72-be35-4d89-8167-bc1065cd477b",
   "metadata": {
    "id": "LRG62pOxwrQT"
   },
   "source": [
    "### KNeighborsClassifier\n",
    "\n",
    "https://scikit-learn.org/stable/modules/generated/sklearn.neighbors.KNeighborsClassifier.html"
   ]
  },
  {
   "cell_type": "code",
   "execution_count": 9,
   "id": "6757604b-5124-427f-bed9-7b2c3a996fd2",
   "metadata": {
    "colab": {
     "base_uri": "https://localhost:8080/"
    },
    "id": "bXltDGqnLHmH",
    "outputId": "2c084f31-9a2d-448a-9324-a810c0743a4c"
   },
   "outputs": [
    {
     "name": "stdout",
     "output_type": "stream",
     "text": [
      "Mean cross-validation accuracy = 0.9640\n",
      "Wall time: 513 ms\n"
     ]
    }
   ],
   "source": [
    "%%time\n",
    "model = KNeighborsClassifier() # change hyperparameters as desired\n",
    "score = cross_val_score(model, X_train, y_train, cv=4).mean() # mean cross-validation accuracy\n",
    "print(f'Mean cross-validation accuracy = {score:0.4f}')"
   ]
  },
  {
   "cell_type": "code",
   "execution_count": 10,
   "id": "cc6b7861-db2d-49fa-82e7-5f52169f37c6",
   "metadata": {},
   "outputs": [
    {
     "name": "stdout",
     "output_type": "stream",
     "text": [
      "Mean cross-validation accuracy = 0.9626\n",
      "Mean cross-validation accuracy = 0.9626\n",
      "Mean cross-validation accuracy = 0.9626\n",
      "Mean cross-validation accuracy = 0.9626\n",
      "Mean cross-validation accuracy = 0.9626\n",
      "Mean cross-validation accuracy = 0.9626\n",
      "Mean cross-validation accuracy = 0.9626\n",
      "Mean cross-validation accuracy = 0.9626\n",
      "Mean cross-validation accuracy = 0.9626\n",
      "Mean cross-validation accuracy = 0.9626\n",
      "Mean cross-validation accuracy = 0.9626\n",
      "Mean cross-validation accuracy = 0.9626\n",
      "Mean cross-validation accuracy = 0.9626\n",
      "Wall time: 10.3 s\n"
     ]
    }
   ],
   "source": [
    "%%time\n",
    "# KNeighborsClassifier Loop\n",
    "for x in range(2,15):\n",
    "    \n",
    "    model = KNeighborsClassifier(n_neighbors=11, algorithm='brute') # change hyperparameters as desired\n",
    "    score = cross_val_score(model, X_train, y_train, cv=4).mean() # mean cross-validation accuracy\n",
    "    print(f'Mean cross-validation accuracy = {score:0.4f}')"
   ]
  },
  {
   "cell_type": "markdown",
   "id": "a2d5beef-1e57-46d2-9b99-1d5f7a588a7f",
   "metadata": {
    "id": "UlOltPrLLrug"
   },
   "source": [
    "### LogisticRegression\n",
    "\n",
    "https://scikit-learn.org/stable/modules/generated/sklearn.linear_model.LogisticRegression.html"
   ]
  },
  {
   "cell_type": "code",
   "execution_count": 11,
   "id": "6ec38222-89a6-4d5d-b562-65afeb63bb78",
   "metadata": {
    "colab": {
     "base_uri": "https://localhost:8080/"
    },
    "id": "bCHYnbyHL3SH",
    "outputId": "04964498-3188-4318-d273-60841f7ed397"
   },
   "outputs": [
    {
     "name": "stdout",
     "output_type": "stream",
     "text": [
      "Mean cross-validation accuracy = 0.8812\n",
      "Wall time: 222 ms\n"
     ]
    }
   ],
   "source": [
    "%%time\n",
    "model = LogisticRegression(max_iter=1000) # change hyperparameters as desired\n",
    "score = cross_val_score(model, X_train, y_train, cv=4).mean() # mean cross-validation accuracy\n",
    "print(f'Mean cross-validation accuracy = {score:0.4f}')"
   ]
  },
  {
   "cell_type": "markdown",
   "id": "9c5dbef1-41b5-4b85-9f12-ff189a93faf1",
   "metadata": {
    "id": "A-iTOgGMMPQN"
   },
   "source": [
    "### SVC\n",
    "\n",
    "https://scikit-learn.org/stable/modules/generated/sklearn.svm.SVC.html"
   ]
  },
  {
   "cell_type": "code",
   "execution_count": 12,
   "id": "3332bf22-050a-430e-8b7b-54874756be79",
   "metadata": {
    "colab": {
     "base_uri": "https://localhost:8080/"
    },
    "id": "dABpGY4CMZEx",
    "outputId": "83555671-21ab-41aa-d543-81f94441f7c2"
   },
   "outputs": [
    {
     "name": "stdout",
     "output_type": "stream",
     "text": [
      "Mean cross-validation accuracy = 0.9669\n",
      "Wall time: 3.7 s\n"
     ]
    }
   ],
   "source": [
    "%%time\n",
    "model = SVC() # change hyperparameters as desired\n",
    "score = cross_val_score(model, X_train, y_train, cv=4).mean() # mean cross-validation accuracy\n",
    "print(f'Mean cross-validation accuracy = {score:0.4f}')"
   ]
  },
  {
   "cell_type": "code",
   "execution_count": 13,
   "id": "8c7df9d2-575f-4e58-aff5-ff4a8c7aab77",
   "metadata": {},
   "outputs": [
    {
     "data": {
      "text/plain": [
       "SVC(C=1.0, break_ties=False, cache_size=200, class_weight=None, coef0=0.0,\n",
       "    decision_function_shape='ovr', degree=3, gamma='scale', kernel='rbf',\n",
       "    max_iter=-1, probability=False, random_state=None, shrinking=True,\n",
       "    tol=0.001, verbose=False)"
      ]
     },
     "execution_count": 13,
     "metadata": {},
     "output_type": "execute_result"
    }
   ],
   "source": [
    "model"
   ]
  },
  {
   "cell_type": "markdown",
   "id": "4a5aedac-728f-4183-bc8e-4d33fbc899d0",
   "metadata": {
    "id": "HRyD_Sx_5UQa"
   },
   "source": [
    "### MLPClassifier\n",
    "https://scikit-learn.org/stable/modules/generated/sklearn.neural_network.MLPClassifier.html"
   ]
  },
  {
   "cell_type": "code",
   "execution_count": 14,
   "id": "af4851e7-898d-4f55-9467-a47984dd9006",
   "metadata": {
    "colab": {
     "base_uri": "https://localhost:8080/"
    },
    "id": "IdJ-K_USNDxe",
    "outputId": "3354eb06-e84f-4379-a1d3-6884105233d1"
   },
   "outputs": [
    {
     "name": "stdout",
     "output_type": "stream",
     "text": [
      "Mean cross-validation accuracy = 0.9546\n",
      "Wall time: 50 s\n"
     ]
    }
   ],
   "source": [
    "%%time\n",
    "model = MLPClassifier(max_iter=1000) # change hyperparameters as desired\n",
    "score = cross_val_score(model, X_train, y_train, cv=4).mean() # mean cross-validation accuracy\n",
    "print(f'Mean cross-validation accuracy = {score:0.4f}')"
   ]
  },
  {
   "cell_type": "code",
   "execution_count": 18,
   "id": "c5aae012-18db-4ce0-a751-e118a3b8ae10",
   "metadata": {},
   "outputs": [
    {
     "name": "stdout",
     "output_type": "stream",
     "text": [
      "Iteration 1, loss = 0.77886345\n",
      "Iteration 2, loss = 0.31621823\n",
      "Iteration 3, loss = 0.24933180\n",
      "Iteration 4, loss = 0.22173870\n",
      "Iteration 5, loss = 0.20545505\n",
      "Iteration 6, loss = 0.19349323\n",
      "Iteration 7, loss = 0.18429350\n",
      "Iteration 8, loss = 0.17682996\n",
      "Iteration 9, loss = 0.17156879\n",
      "Iteration 10, loss = 0.16552729\n",
      "Wall time: 911 ms\n"
     ]
    },
    {
     "name": "stderr",
     "output_type": "stream",
     "text": [
      "f:\\program files\\python\\python39\\lib\\site-packages\\sklearn\\neural_network\\_multilayer_perceptron.py:614: ConvergenceWarning: Stochastic Optimizer: Maximum iterations (10) reached and the optimization hasn't converged yet.\n",
      "  warnings.warn(\n"
     ]
    },
    {
     "data": {
      "text/plain": [
       "MLPClassifier(activation='relu', alpha=0.0001, batch_size='auto', beta_1=0.9,\n",
       "              beta_2=0.999, early_stopping=False, epsilon=1e-08,\n",
       "              hidden_layer_sizes=(200, 25), learning_rate='constant',\n",
       "              learning_rate_init=0.001, max_fun=15000, max_iter=10,\n",
       "              momentum=0.9, n_iter_no_change=10, nesterovs_momentum=True,\n",
       "              power_t=0.5, random_state=None, shuffle=True, solver='adam',\n",
       "              tol=0.0001, validation_fraction=0.1, verbose=True,\n",
       "              warm_start=False)"
      ]
     },
     "execution_count": 18,
     "metadata": {},
     "output_type": "execute_result"
    }
   ],
   "source": [
    "%%time\n",
    "model = MLPClassifier(max_iter=100,\n",
    "                      hidden_layer_sizes=(200,25), \n",
    "                      verbose=True) # change hyperparameters as desired\n",
    "model.fit(X_train, y_train)"
   ]
  },
  {
   "cell_type": "code",
   "execution_count": 79,
   "id": "3db8cdc3-d0ee-458b-95f6-42a5e5dcf18d",
   "metadata": {},
   "outputs": [
    {
     "name": "stdout",
     "output_type": "stream",
     "text": [
      "Mean cross-validation accuracy in 2 = 0.9715\n",
      "Wall time: 9.29 s\n"
     ]
    }
   ],
   "source": [
    "%%time\n",
    "for c in [2]:\n",
    "    model = SVC(C=c, gamma='auto')\n",
    "    score = cross_val_score(model, X_train, y_train, cv=4).mean()\n",
    "    print(f'Mean cross-validation accuracy in {c} = {score:0.4f}')"
   ]
  },
  {
   "cell_type": "code",
   "execution_count": 71,
   "id": "c9e8005a-2873-40c6-8323-d38b31f2462b",
   "metadata": {},
   "outputs": [
    {
     "data": {
      "text/plain": [
       "SVC(C=2, break_ties=False, cache_size=200, class_weight=None, coef0=0.0,\n",
       "    decision_function_shape='ovr', degree=3, gamma='auto', kernel='rbf',\n",
       "    max_iter=-1, probability=False, random_state=None, shrinking=True,\n",
       "    tol=0.001, verbose=False)"
      ]
     },
     "execution_count": 71,
     "metadata": {},
     "output_type": "execute_result"
    }
   ],
   "source": [
    "model"
   ]
  },
  {
   "cell_type": "code",
   "execution_count": 81,
   "id": "509b12f2-077b-4e1e-9611-fbba9e4742b5",
   "metadata": {},
   "outputs": [
    {
     "name": "stdout",
     "output_type": "stream",
     "text": [
      "Accuracy on test samples = 0.9745\n",
      "Classification report on test samples:\n",
      "              precision    recall  f1-score   support\n",
      "\n",
      "         0.0     0.9589    0.9800    0.9693       500\n",
      "         1.0     0.9698    0.9659    0.9678       498\n",
      "         2.0     0.9837    0.9797    0.9817       493\n",
      "         3.0     0.9861    0.9725    0.9792       509\n",
      "\n",
      "    accuracy                         0.9745      2000\n",
      "   macro avg     0.9746    0.9745    0.9745      2000\n",
      "weighted avg     0.9746    0.9745    0.9745      2000\n",
      "\n"
     ]
    },
    {
     "data": {
      "text/html": [
       "<div>\n",
       "<style scoped>\n",
       "    .dataframe tbody tr th:only-of-type {\n",
       "        vertical-align: middle;\n",
       "    }\n",
       "\n",
       "    .dataframe tbody tr th {\n",
       "        vertical-align: top;\n",
       "    }\n",
       "\n",
       "    .dataframe thead th {\n",
       "        text-align: right;\n",
       "    }\n",
       "</style>\n",
       "<table border=\"1\" class=\"dataframe\">\n",
       "  <thead>\n",
       "    <tr style=\"text-align: right;\">\n",
       "      <th></th>\n",
       "      <th>0</th>\n",
       "      <th>1</th>\n",
       "      <th>2</th>\n",
       "      <th>3</th>\n",
       "    </tr>\n",
       "  </thead>\n",
       "  <tbody>\n",
       "    <tr>\n",
       "      <th>0</th>\n",
       "      <td>490</td>\n",
       "      <td>5</td>\n",
       "      <td>1</td>\n",
       "      <td>4</td>\n",
       "    </tr>\n",
       "    <tr>\n",
       "      <th>1</th>\n",
       "      <td>10</td>\n",
       "      <td>481</td>\n",
       "      <td>5</td>\n",
       "      <td>2</td>\n",
       "    </tr>\n",
       "    <tr>\n",
       "      <th>2</th>\n",
       "      <td>6</td>\n",
       "      <td>3</td>\n",
       "      <td>483</td>\n",
       "      <td>1</td>\n",
       "    </tr>\n",
       "    <tr>\n",
       "      <th>3</th>\n",
       "      <td>5</td>\n",
       "      <td>7</td>\n",
       "      <td>2</td>\n",
       "      <td>495</td>\n",
       "    </tr>\n",
       "  </tbody>\n",
       "</table>\n",
       "</div>"
      ],
      "text/plain": [
       "     0    1    2    3\n",
       "0  490    5    1    4\n",
       "1   10  481    5    2\n",
       "2    6    3  483    1\n",
       "3    5    7    2  495"
      ]
     },
     "execution_count": 81,
     "metadata": {},
     "output_type": "execute_result"
    }
   ],
   "source": [
    "chosen_model = SVC(C=2, gamma='auto')\n",
    "chosen_model.fit(X_train, y_train) # train selected model on ALL training examples\n",
    "predicted = chosen_model.predict(X_test) # predicted diagnosis for test examples\n",
    "acc = accuracy_score(y_test, predicted) # accuracy on test samples\n",
    "print(f'Accuracy on test samples = {acc:0.4f}') # show test accuracy\n",
    "print(\"Classification report on test samples:\") # for precision, recall, F1-score\n",
    "print(classification_report(y_test, predicted, digits=4)) # rounded to 4 decimal places\n",
    "cr = pd.DataFrame(classification_report(y_test, predicted, digits=4, output_dict=True))\n",
    "cr.to_csv('Homework_2_Q2_Task_2.csv')\n",
    "cr\n",
    "cm = pd.DataFrame(confusion_matrix(y_test, predicted))\n",
    "cm.to_csv('cm.hw2.q2.csv')\n",
    "cm"
   ]
  },
  {
   "cell_type": "code",
   "execution_count": 62,
   "id": "511feee7-4be6-4fa7-92eb-39767e456e48",
   "metadata": {},
   "outputs": [
    {
     "data": {
      "text/plain": [
       "0       3.0\n",
       "1       0.0\n",
       "2       2.0\n",
       "3       0.0\n",
       "4       0.0\n",
       "       ... \n",
       "1995    3.0\n",
       "1996    2.0\n",
       "1997    1.0\n",
       "1998    3.0\n",
       "1999    3.0\n",
       "Name: y, Length: 2000, dtype: float64"
      ]
     },
     "execution_count": 62,
     "metadata": {},
     "output_type": "execute_result"
    }
   ],
   "source": [
    "y_test"
   ]
  },
  {
   "cell_type": "code",
   "execution_count": 65,
   "id": "d5ef3fe2-3b80-4a46-ba81-661f46158424",
   "metadata": {},
   "outputs": [
    {
     "data": {
      "text/html": [
       "<div>\n",
       "<style scoped>\n",
       "    .dataframe tbody tr th:only-of-type {\n",
       "        vertical-align: middle;\n",
       "    }\n",
       "\n",
       "    .dataframe tbody tr th {\n",
       "        vertical-align: top;\n",
       "    }\n",
       "\n",
       "    .dataframe thead th {\n",
       "        text-align: right;\n",
       "    }\n",
       "</style>\n",
       "<table border=\"1\" class=\"dataframe\">\n",
       "  <thead>\n",
       "    <tr style=\"text-align: right;\">\n",
       "      <th></th>\n",
       "      <th>ID</th>\n",
       "      <th>y</th>\n",
       "    </tr>\n",
       "  </thead>\n",
       "  <tbody>\n",
       "    <tr>\n",
       "      <th>0</th>\n",
       "      <td>ID_001</td>\n",
       "      <td>0.0</td>\n",
       "    </tr>\n",
       "    <tr>\n",
       "      <th>1</th>\n",
       "      <td>ID_002</td>\n",
       "      <td>0.0</td>\n",
       "    </tr>\n",
       "    <tr>\n",
       "      <th>2</th>\n",
       "      <td>ID_003</td>\n",
       "      <td>0.0</td>\n",
       "    </tr>\n",
       "    <tr>\n",
       "      <th>3</th>\n",
       "      <td>ID_004</td>\n",
       "      <td>0.0</td>\n",
       "    </tr>\n",
       "    <tr>\n",
       "      <th>4</th>\n",
       "      <td>ID_005</td>\n",
       "      <td>0.0</td>\n",
       "    </tr>\n",
       "    <tr>\n",
       "      <th>5</th>\n",
       "      <td>ID_006</td>\n",
       "      <td>0.0</td>\n",
       "    </tr>\n",
       "    <tr>\n",
       "      <th>6</th>\n",
       "      <td>ID_007</td>\n",
       "      <td>0.0</td>\n",
       "    </tr>\n",
       "    <tr>\n",
       "      <th>7</th>\n",
       "      <td>ID_008</td>\n",
       "      <td>0.0</td>\n",
       "    </tr>\n",
       "    <tr>\n",
       "      <th>8</th>\n",
       "      <td>ID_009</td>\n",
       "      <td>0.0</td>\n",
       "    </tr>\n",
       "    <tr>\n",
       "      <th>9</th>\n",
       "      <td>ID_010</td>\n",
       "      <td>0.0</td>\n",
       "    </tr>\n",
       "    <tr>\n",
       "      <th>10</th>\n",
       "      <td>ID_011</td>\n",
       "      <td>1.0</td>\n",
       "    </tr>\n",
       "    <tr>\n",
       "      <th>11</th>\n",
       "      <td>ID_012</td>\n",
       "      <td>1.0</td>\n",
       "    </tr>\n",
       "    <tr>\n",
       "      <th>12</th>\n",
       "      <td>ID_013</td>\n",
       "      <td>1.0</td>\n",
       "    </tr>\n",
       "    <tr>\n",
       "      <th>13</th>\n",
       "      <td>ID_014</td>\n",
       "      <td>3.0</td>\n",
       "    </tr>\n",
       "    <tr>\n",
       "      <th>14</th>\n",
       "      <td>ID_015</td>\n",
       "      <td>1.0</td>\n",
       "    </tr>\n",
       "    <tr>\n",
       "      <th>15</th>\n",
       "      <td>ID_016</td>\n",
       "      <td>1.0</td>\n",
       "    </tr>\n",
       "    <tr>\n",
       "      <th>16</th>\n",
       "      <td>ID_017</td>\n",
       "      <td>2.0</td>\n",
       "    </tr>\n",
       "    <tr>\n",
       "      <th>17</th>\n",
       "      <td>ID_018</td>\n",
       "      <td>2.0</td>\n",
       "    </tr>\n",
       "    <tr>\n",
       "      <th>18</th>\n",
       "      <td>ID_019</td>\n",
       "      <td>2.0</td>\n",
       "    </tr>\n",
       "    <tr>\n",
       "      <th>19</th>\n",
       "      <td>ID_020</td>\n",
       "      <td>2.0</td>\n",
       "    </tr>\n",
       "    <tr>\n",
       "      <th>20</th>\n",
       "      <td>ID_021</td>\n",
       "      <td>2.0</td>\n",
       "    </tr>\n",
       "    <tr>\n",
       "      <th>21</th>\n",
       "      <td>ID_022</td>\n",
       "      <td>2.0</td>\n",
       "    </tr>\n",
       "    <tr>\n",
       "      <th>22</th>\n",
       "      <td>ID_023</td>\n",
       "      <td>2.0</td>\n",
       "    </tr>\n",
       "    <tr>\n",
       "      <th>23</th>\n",
       "      <td>ID_024</td>\n",
       "      <td>3.0</td>\n",
       "    </tr>\n",
       "    <tr>\n",
       "      <th>24</th>\n",
       "      <td>ID_025</td>\n",
       "      <td>3.0</td>\n",
       "    </tr>\n",
       "    <tr>\n",
       "      <th>25</th>\n",
       "      <td>ID_026</td>\n",
       "      <td>3.0</td>\n",
       "    </tr>\n",
       "    <tr>\n",
       "      <th>26</th>\n",
       "      <td>ID_027</td>\n",
       "      <td>3.0</td>\n",
       "    </tr>\n",
       "    <tr>\n",
       "      <th>27</th>\n",
       "      <td>ID_028</td>\n",
       "      <td>3.0</td>\n",
       "    </tr>\n",
       "    <tr>\n",
       "      <th>28</th>\n",
       "      <td>ID_029</td>\n",
       "      <td>3.0</td>\n",
       "    </tr>\n",
       "    <tr>\n",
       "      <th>29</th>\n",
       "      <td>ID_030</td>\n",
       "      <td>3.0</td>\n",
       "    </tr>\n",
       "  </tbody>\n",
       "</table>\n",
       "</div>"
      ],
      "text/plain": [
       "        ID    y\n",
       "0   ID_001  0.0\n",
       "1   ID_002  0.0\n",
       "2   ID_003  0.0\n",
       "3   ID_004  0.0\n",
       "4   ID_005  0.0\n",
       "5   ID_006  0.0\n",
       "6   ID_007  0.0\n",
       "7   ID_008  0.0\n",
       "8   ID_009  0.0\n",
       "9   ID_010  0.0\n",
       "10  ID_011  1.0\n",
       "11  ID_012  1.0\n",
       "12  ID_013  1.0\n",
       "13  ID_014  3.0\n",
       "14  ID_015  1.0\n",
       "15  ID_016  1.0\n",
       "16  ID_017  2.0\n",
       "17  ID_018  2.0\n",
       "18  ID_019  2.0\n",
       "19  ID_020  2.0\n",
       "20  ID_021  2.0\n",
       "21  ID_022  2.0\n",
       "22  ID_023  2.0\n",
       "23  ID_024  3.0\n",
       "24  ID_025  3.0\n",
       "25  ID_026  3.0\n",
       "26  ID_027  3.0\n",
       "27  ID_028  3.0\n",
       "28  ID_029  3.0\n",
       "29  ID_030  3.0"
      ]
     },
     "execution_count": 65,
     "metadata": {},
     "output_type": "execute_result"
    }
   ],
   "source": [
    "predicted_new = chosen_model.predict(X_new) # predicted classes for unlabeled samples\n",
    "new_prediction = pd.DataFrame() # dataframe with predicted classes\n",
    "new_prediction['ID'] = new.ID # identifiers for unlabeled samples\n",
    "new_prediction['y'] = predicted_new # # predicted classes for unlabeled samples\n",
    "new_prediction # display results"
   ]
  }
 ],
 "metadata": {
  "kernelspec": {
   "display_name": "Python 3 (ipykernel)",
   "language": "python",
   "name": "python3"
  },
  "language_info": {
   "codemirror_mode": {
    "name": "ipython",
    "version": 3
   },
   "file_extension": ".py",
   "mimetype": "text/x-python",
   "name": "python",
   "nbconvert_exporter": "python",
   "pygments_lexer": "ipython3",
   "version": "3.9.6"
  }
 },
 "nbformat": 4,
 "nbformat_minor": 5
}
