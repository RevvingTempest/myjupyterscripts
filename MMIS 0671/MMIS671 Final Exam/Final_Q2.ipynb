{
 "cells": [
  {
   "cell_type": "markdown",
   "id": "1c009475-38e1-4cc1-8203-f5e8fe3578a2",
   "metadata": {
    "id": "pYaVGfd4qO0B"
   },
   "source": [
    "## Import modules"
   ]
  },
  {
   "cell_type": "code",
   "execution_count": 42,
   "id": "10be5b93-a55c-4f7a-b922-affff5c136a7",
   "metadata": {
    "id": "KWlSMPV4oLDw"
   },
   "outputs": [],
   "source": [
    "import pandas as pd # for data handling\n",
    "from sklearn.model_selection import cross_val_score # for cross-validation\n",
    "from sklearn.metrics import accuracy_score, classification_report, confusion_matrix # evaluation metrics\n",
    "from sklearn import set_config # enable configure\n",
    "set_config(print_changed_only=False) # configure print to show all not just changed values\n",
    "import matplotlib.pyplot as plt # for plotting\n",
    "import numpy as np\n",
    "\n",
    "# scikit-learn classifiers evaluated (change as desired)\n",
    "from sklearn.naive_bayes import GaussianNB \n",
    "from sklearn.tree import DecisionTreeClassifier, plot_tree\n",
    "from sklearn.ensemble import RandomForestClassifier, ExtraTreesClassifier\n",
    "from sklearn.neighbors import KNeighborsClassifier\n",
    "from sklearn.linear_model import LogisticRegression\n",
    "from sklearn.svm import SVC\n",
    "from sklearn.neural_network import MLPClassifier"
   ]
  },
  {
   "cell_type": "code",
   "execution_count": 43,
   "id": "2ffca7e7-327e-4939-81ab-e7c469eababa",
   "metadata": {
    "colab": {
     "base_uri": "https://localhost:8080/",
     "height": 211
    },
    "id": "3LNrsgt9qgYQ",
    "outputId": "f3423994-cd5b-44a5-8e52-1d4b5841a8e0",
    "tags": []
   },
   "outputs": [
    {
     "name": "stdout",
     "output_type": "stream",
     "text": [
      "train contains 8000 rows and 41 columns\n",
      "test contains 2000 rows and 41 columns\n",
      "new contains 20 rows and 41 columns\n",
      "First 3 rows in train:\n"
     ]
    },
    {
     "data": {
      "text/html": [
       "<div>\n",
       "<style scoped>\n",
       "    .dataframe tbody tr th:only-of-type {\n",
       "        vertical-align: middle;\n",
       "    }\n",
       "\n",
       "    .dataframe tbody tr th {\n",
       "        vertical-align: top;\n",
       "    }\n",
       "\n",
       "    .dataframe thead th {\n",
       "        text-align: right;\n",
       "    }\n",
       "</style>\n",
       "<table border=\"1\" class=\"dataframe\">\n",
       "  <thead>\n",
       "    <tr style=\"text-align: right;\">\n",
       "      <th></th>\n",
       "      <th>y</th>\n",
       "      <th>x1</th>\n",
       "      <th>x2</th>\n",
       "      <th>x3</th>\n",
       "      <th>x4</th>\n",
       "      <th>x5</th>\n",
       "      <th>x6</th>\n",
       "      <th>x7</th>\n",
       "      <th>x8</th>\n",
       "      <th>x9</th>\n",
       "      <th>...</th>\n",
       "      <th>x31</th>\n",
       "      <th>x32</th>\n",
       "      <th>x33</th>\n",
       "      <th>x34</th>\n",
       "      <th>x35</th>\n",
       "      <th>x36</th>\n",
       "      <th>x37</th>\n",
       "      <th>x38</th>\n",
       "      <th>x39</th>\n",
       "      <th>x40</th>\n",
       "    </tr>\n",
       "  </thead>\n",
       "  <tbody>\n",
       "    <tr>\n",
       "      <th>0</th>\n",
       "      <td>0.0</td>\n",
       "      <td>0.143</td>\n",
       "      <td>0.961</td>\n",
       "      <td>0.335</td>\n",
       "      <td>0.663</td>\n",
       "      <td>0.702</td>\n",
       "      <td>0.714</td>\n",
       "      <td>0.070</td>\n",
       "      <td>0.587</td>\n",
       "      <td>0.163</td>\n",
       "      <td>...</td>\n",
       "      <td>0.008</td>\n",
       "      <td>0.465</td>\n",
       "      <td>0.756</td>\n",
       "      <td>0.284</td>\n",
       "      <td>0.553</td>\n",
       "      <td>0.933</td>\n",
       "      <td>0.090</td>\n",
       "      <td>0.322</td>\n",
       "      <td>0.607</td>\n",
       "      <td>0.003</td>\n",
       "    </tr>\n",
       "    <tr>\n",
       "      <th>1</th>\n",
       "      <td>0.0</td>\n",
       "      <td>0.062</td>\n",
       "      <td>0.950</td>\n",
       "      <td>0.977</td>\n",
       "      <td>0.047</td>\n",
       "      <td>0.850</td>\n",
       "      <td>0.523</td>\n",
       "      <td>0.294</td>\n",
       "      <td>0.264</td>\n",
       "      <td>0.123</td>\n",
       "      <td>...</td>\n",
       "      <td>0.188</td>\n",
       "      <td>0.454</td>\n",
       "      <td>0.987</td>\n",
       "      <td>0.180</td>\n",
       "      <td>0.369</td>\n",
       "      <td>0.509</td>\n",
       "      <td>0.382</td>\n",
       "      <td>0.033</td>\n",
       "      <td>0.866</td>\n",
       "      <td>0.368</td>\n",
       "    </tr>\n",
       "    <tr>\n",
       "      <th>2</th>\n",
       "      <td>1.0</td>\n",
       "      <td>0.280</td>\n",
       "      <td>0.728</td>\n",
       "      <td>0.387</td>\n",
       "      <td>0.520</td>\n",
       "      <td>0.470</td>\n",
       "      <td>0.286</td>\n",
       "      <td>0.959</td>\n",
       "      <td>0.661</td>\n",
       "      <td>0.757</td>\n",
       "      <td>...</td>\n",
       "      <td>0.215</td>\n",
       "      <td>0.083</td>\n",
       "      <td>0.347</td>\n",
       "      <td>0.273</td>\n",
       "      <td>0.219</td>\n",
       "      <td>0.871</td>\n",
       "      <td>0.553</td>\n",
       "      <td>0.423</td>\n",
       "      <td>0.681</td>\n",
       "      <td>0.962</td>\n",
       "    </tr>\n",
       "  </tbody>\n",
       "</table>\n",
       "<p>3 rows × 41 columns</p>\n",
       "</div>"
      ],
      "text/plain": [
       "     y     x1     x2     x3     x4     x5     x6     x7     x8     x9  ...  \\\n",
       "0  0.0  0.143  0.961  0.335  0.663  0.702  0.714  0.070  0.587  0.163  ...   \n",
       "1  0.0  0.062  0.950  0.977  0.047  0.850  0.523  0.294  0.264  0.123  ...   \n",
       "2  1.0  0.280  0.728  0.387  0.520  0.470  0.286  0.959  0.661  0.757  ...   \n",
       "\n",
       "     x31    x32    x33    x34    x35    x36    x37    x38    x39    x40  \n",
       "0  0.008  0.465  0.756  0.284  0.553  0.933  0.090  0.322  0.607  0.003  \n",
       "1  0.188  0.454  0.987  0.180  0.369  0.509  0.382  0.033  0.866  0.368  \n",
       "2  0.215  0.083  0.347  0.273  0.219  0.871  0.553  0.423  0.681  0.962  \n",
       "\n",
       "[3 rows x 41 columns]"
      ]
     },
     "execution_count": 43,
     "metadata": {},
     "output_type": "execute_result"
    }
   ],
   "source": [
    "# Read data from CSV files into pandas dataframes\n",
    "train = pd.read_csv('MMIS671 Final Exam/final.q2.train.csv') # training data\n",
    "test = pd.read_csv('MMIS671 Final Exam/final.q2.test.csv') # test data\n",
    "new = pd.read_csv('MMIS671 Final Exam/final.q2.new.csv') # unlabeled data\n",
    "# Show number of rows and columns in each dataframe\n",
    "print('train contains %d rows and %d columns' %train.shape)\n",
    "print('test contains %d rows and %d columns' %test.shape)\n",
    "print('new contains %d rows and %d columns' %new.shape)\n",
    "print('First 3 rows in train:') \n",
    "train.head(3) # display first 3 training samples "
   ]
  },
  {
   "cell_type": "markdown",
   "id": "b17960e1-0ea2-4c56-b9d4-73338e01ac9f",
   "metadata": {
    "id": "Cy4SdaiY9lFo",
    "tags": []
   },
   "source": [
    "### Specify inputs and outputs\n",
    "- **features**: List of the 16 input feature names\n",
    "- **X_train**: $4000 \\times 16$ array containing input values for training samples.\n",
    "- **y_train**: Array containing labels for the 4000 training samples.\n",
    "- **X_test**: $1000 \\times 16$ array containing input values for test samples.\n",
    "- **y_test**: Array containing labels for the 1000 training samples.\n",
    "- **X_new**: $30 \\times 16$ array containing input values for unlabeled samples.\n",
    "\n",
    "\n",
    "\n",
    "\n"
   ]
  },
  {
   "cell_type": "code",
   "execution_count": 44,
   "id": "d03434e8-972b-4b4d-8bc1-5d4e1a42eeee",
   "metadata": {
    "colab": {
     "base_uri": "https://localhost:8080/"
    },
    "id": "GJ8ohEGf-Mi8",
    "outputId": "b97bfe13-0702-4d81-9366-30596b83704c",
    "tags": []
   },
   "outputs": [
    {
     "name": "stdout",
     "output_type": "stream",
     "text": [
      "features: ['x1', 'x2', 'x3', 'x4', 'x5', 'x6', 'x7', 'x8', 'x9', 'x10', 'x11', 'x12', 'x13', 'x14', 'x15', 'x16', 'x17', 'x18', 'x19', 'x20', 'x21', 'x22', 'x23', 'x24', 'x25', 'x26', 'x27', 'x28', 'x29', 'x30', 'x31', 'x32', 'x33', 'x34', 'x35', 'x36', 'x37', 'x38', 'x39', 'x40']\n",
      "Shapes:\n",
      "X_train: (8000, 40), X_test: (2000, 40), X_new: (20, 40)\n",
      "y_train: (8000,), y_test: (2000,)\n"
     ]
    }
   ],
   "source": [
    "features = list(train)[1:] # all but the first column header are feature names\n",
    "print(\"features:\", features)\n",
    "X_train, X_test, X_new = train[features], test[features], new[features]\n",
    "y_train, y_test = train.y, test.y\n",
    "print('Shapes:')\n",
    "print(f'X_train: {X_train.shape}, X_test: {X_test.shape}, X_new: {X_new.shape}')\n",
    "print(f'y_train: {y_train.shape}, y_test: {y_test.shape}')"
   ]
  },
  {
   "cell_type": "markdown",
   "id": "263d25fc-42b7-4896-abc9-300cd7beb18c",
   "metadata": {},
   "source": [
    "## QUESTION 1"
   ]
  },
  {
   "cell_type": "markdown",
   "id": "04e9c19c-5d82-4d90-9d63-5c9a55bacc36",
   "metadata": {
    "id": "DnxBpRlZ-5I9",
    "tags": []
   },
   "source": [
    "## Evaluate models using *k*-fold cross-validation\n",
    "We shall use **4**-fold cross-validation so that 3000 of the 4000 training samples are used for training and the remaining 1000 samples are used for validation in each fold. The mean cross-validation accuracy for each model with chosen hyper-parameters on the 4 runs will be computed using the command:\n",
    "- **score = cross_val_score(model, X_train, y_train, cv=4).mean()**\n",
    "> - *model*: classifier object with specified hyperparameters\n",
    "> - *X_train*, *y_train*: Inputs and output labels for training\n",
    "> - *cv*: number of folds in cross-validation\n",
    "> - *mean*(): computes mean accuracy from the *cv* runs \n",
    "\n",
    "You can look up the documentation for each classifier, change hyper-parameter values, and observe the results. We shall also observe the time it takes to train and evaluate each model 4 times in this *4*-fold cross-validation process.\n"
   ]
  },
  {
   "cell_type": "markdown",
   "id": "ddfe3ca8-bf8b-4246-b4e3-5b92233149a8",
   "metadata": {},
   "source": [
    "**Task 1**"
   ]
  },
  {
   "cell_type": "code",
   "execution_count": 45,
   "id": "ae09ea82-b57b-4337-ab57-ef9c273b3237",
   "metadata": {
    "colab": {
     "base_uri": "https://localhost:8080/"
    },
    "id": "ic1FrpZVNkCL",
    "outputId": "59d70481-51a3-4824-cd35-3280267aeb84"
   },
   "outputs": [
    {
     "name": "stdout",
     "output_type": "stream",
     "text": [
      "Mean cross-validation accuracy with 2 rules = 0.6334\n",
      "Mean cross-validation accuracy with 3 rules = 0.7210\n",
      "Mean cross-validation accuracy with 4 rules = 0.7974\n",
      "Mean cross-validation accuracy with 5 rules = 0.8608\n",
      "Mean cross-validation accuracy with 6 rules = 0.9095\n",
      "Mean cross-validation accuracy with 7 rules = 0.9572\n",
      "Mean cross-validation accuracy with 8 rules = 0.9569\n",
      "Mean cross-validation accuracy with 9 rules = 0.9564\n",
      "Mean cross-validation accuracy with 10 rules = 0.9561\n",
      "Mean cross-validation accuracy with 11 rules = 0.9556\n",
      "Mean cross-validation accuracy with 12 rules = 0.9555\n",
      "Mean cross-validation accuracy with 13 rules = 0.9555\n",
      "Mean cross-validation accuracy with 14 rules = 0.9555\n"
     ]
    }
   ],
   "source": [
    "for k in range(2,15): # number of rules\n",
    "    model = DecisionTreeClassifier(max_leaf_nodes=k)\n",
    "    score = cross_val_score(model, X_train, y_train, cv=5).mean() # mean cross-validation accuracy\n",
    "    print(f'Mean cross-validation accuracy with {k} rules = {score:0.4f}')"
   ]
  },
  {
   "cell_type": "markdown",
   "id": "e8090083-4758-4b0d-be85-64534053b3f5",
   "metadata": {
    "id": "prBLKKoqW30p"
   },
   "source": [
    "For this classification problem, cross-validation accuracy increases as the number of rules increase up to 5, and then it starts decreasing. So we shall choose the following model:\n",
    "- DecisionTreeClassifier(max_leaf_nodes=7)  "
   ]
  },
  {
   "cell_type": "code",
   "execution_count": 46,
   "id": "180400b6-8056-4eac-a21b-d689544f9168",
   "metadata": {
    "colab": {
     "base_uri": "https://localhost:8080/"
    },
    "id": "-GSe63ssXaS4",
    "outputId": "81055881-de65-4c15-8f58-7c1505dc6b25",
    "tags": []
   },
   "outputs": [
    {
     "name": "stdout",
     "output_type": "stream",
     "text": [
      "DecisionTreeClassifier(ccp_alpha=0.0, class_weight=None, criterion='gini',\n",
      "                       max_depth=None, max_features=None, max_leaf_nodes=7,\n",
      "                       min_impurity_decrease=0.0, min_impurity_split=None,\n",
      "                       min_samples_leaf=1, min_samples_split=2,\n",
      "                       min_weight_fraction_leaf=0.0, random_state=None,\n",
      "                       splitter='best')\n"
     ]
    }
   ],
   "source": [
    "chosen_model = DecisionTreeClassifier(max_leaf_nodes=7) # chosen model\n",
    "print(chosen_model) # display model parameters"
   ]
  },
  {
   "cell_type": "markdown",
   "id": "785a8faf-00a0-430c-a528-ec62f3a4b45f",
   "metadata": {
    "id": "mObRT95gXrzZ",
    "tags": []
   },
   "source": [
    "## Train and test selected model"
   ]
  },
  {
   "cell_type": "markdown",
   "id": "7b35030a-a2cb-4fee-9128-7d6baa964bc9",
   "metadata": {},
   "source": [
    "**Task 2**"
   ]
  },
  {
   "cell_type": "code",
   "execution_count": 47,
   "id": "384bb010-1449-4446-b29d-4eb40d4fc214",
   "metadata": {
    "colab": {
     "base_uri": "https://localhost:8080/"
    },
    "id": "RZ_fqywZXw83",
    "outputId": "43118bbc-edd3-4596-fe28-db95266f4f38"
   },
   "outputs": [
    {
     "name": "stdout",
     "output_type": "stream",
     "text": [
      "Accuracy on test samples = 0.9615\n",
      "Classification report on test samples:\n",
      "              precision    recall  f1-score   support\n",
      "\n",
      "         0.0     0.9713    0.9533    0.9622      1028\n",
      "         1.0     0.9516    0.9702    0.9608       972\n",
      "\n",
      "    accuracy                         0.9615      2000\n",
      "   macro avg     0.9614    0.9617    0.9615      2000\n",
      "weighted avg     0.9617    0.9615    0.9615      2000\n",
      "\n",
      "Wall time: 99 ms\n"
     ]
    }
   ],
   "source": [
    "%%time\n",
    "chosen_model.fit(X_train, y_train) # train selected model on ALL training examples\n",
    "predicted = chosen_model.predict(X_test) # predicted diagnosis for test examples\n",
    "acc = accuracy_score(y_test, predicted) # accuracy on test samples\n",
    "print(f'Accuracy on test samples = {acc:0.4f}') # show test accuracy\n",
    "print(\"Classification report on test samples:\") # for precision, recall, F1-score\n",
    "print(classification_report(y_test, predicted, digits=4)) # rounded to 4 decimal places"
   ]
  },
  {
   "cell_type": "markdown",
   "id": "d7010b65-9524-4514-a802-181a3c7feaed",
   "metadata": {},
   "source": [
    "**Task 2**"
   ]
  },
  {
   "cell_type": "code",
   "execution_count": 52,
   "id": "92d67f61-0873-4bba-b2cb-7edd9c72a46e",
   "metadata": {},
   "outputs": [
    {
     "data": {
      "text/plain": [
       "array([[980,  48],\n",
       "       [ 29, 943]], dtype=int64)"
      ]
     },
     "execution_count": 52,
     "metadata": {},
     "output_type": "execute_result"
    }
   ],
   "source": [
    "confusion_matrix(y_test, predicted)"
   ]
  },
  {
   "cell_type": "markdown",
   "id": "b25e21cd-27f7-425c-be27-26e2713af03d",
   "metadata": {
    "id": "HaPNAkBiGCkA",
    "tags": []
   },
   "source": [
    "## Predict class for unlabeled samples\n",
    "We shall use our trained model to predict the output class for the unlabeled samples."
   ]
  },
  {
   "cell_type": "markdown",
   "id": "e6ea8534-99e4-4a30-b99d-dfc8fab3af0b",
   "metadata": {},
   "source": [
    "**Task 3**"
   ]
  },
  {
   "cell_type": "code",
   "execution_count": 54,
   "id": "a84f793f-d556-40d3-afcf-f582fb3de897",
   "metadata": {
    "colab": {
     "base_uri": "https://localhost:8080/",
     "height": 948
    },
    "id": "yEqI9Ic6GV_v",
    "outputId": "8e4694c6-c8c7-42c8-c170-e706c77fdde2"
   },
   "outputs": [
    {
     "data": {
      "text/html": [
       "<div>\n",
       "<style scoped>\n",
       "    .dataframe tbody tr th:only-of-type {\n",
       "        vertical-align: middle;\n",
       "    }\n",
       "\n",
       "    .dataframe tbody tr th {\n",
       "        vertical-align: top;\n",
       "    }\n",
       "\n",
       "    .dataframe thead th {\n",
       "        text-align: right;\n",
       "    }\n",
       "</style>\n",
       "<table border=\"1\" class=\"dataframe\">\n",
       "  <thead>\n",
       "    <tr style=\"text-align: right;\">\n",
       "      <th></th>\n",
       "      <th>ID</th>\n",
       "      <th>y</th>\n",
       "    </tr>\n",
       "  </thead>\n",
       "  <tbody>\n",
       "    <tr>\n",
       "      <th>0</th>\n",
       "      <td>ID_001</td>\n",
       "      <td>0.0</td>\n",
       "    </tr>\n",
       "    <tr>\n",
       "      <th>1</th>\n",
       "      <td>ID_002</td>\n",
       "      <td>0.0</td>\n",
       "    </tr>\n",
       "    <tr>\n",
       "      <th>2</th>\n",
       "      <td>ID_003</td>\n",
       "      <td>0.0</td>\n",
       "    </tr>\n",
       "    <tr>\n",
       "      <th>3</th>\n",
       "      <td>ID_004</td>\n",
       "      <td>0.0</td>\n",
       "    </tr>\n",
       "    <tr>\n",
       "      <th>4</th>\n",
       "      <td>ID_005</td>\n",
       "      <td>0.0</td>\n",
       "    </tr>\n",
       "    <tr>\n",
       "      <th>5</th>\n",
       "      <td>ID_006</td>\n",
       "      <td>0.0</td>\n",
       "    </tr>\n",
       "    <tr>\n",
       "      <th>6</th>\n",
       "      <td>ID_007</td>\n",
       "      <td>0.0</td>\n",
       "    </tr>\n",
       "    <tr>\n",
       "      <th>7</th>\n",
       "      <td>ID_008</td>\n",
       "      <td>0.0</td>\n",
       "    </tr>\n",
       "    <tr>\n",
       "      <th>8</th>\n",
       "      <td>ID_009</td>\n",
       "      <td>1.0</td>\n",
       "    </tr>\n",
       "    <tr>\n",
       "      <th>9</th>\n",
       "      <td>ID_010</td>\n",
       "      <td>0.0</td>\n",
       "    </tr>\n",
       "    <tr>\n",
       "      <th>10</th>\n",
       "      <td>ID_011</td>\n",
       "      <td>1.0</td>\n",
       "    </tr>\n",
       "    <tr>\n",
       "      <th>11</th>\n",
       "      <td>ID_012</td>\n",
       "      <td>1.0</td>\n",
       "    </tr>\n",
       "    <tr>\n",
       "      <th>12</th>\n",
       "      <td>ID_013</td>\n",
       "      <td>1.0</td>\n",
       "    </tr>\n",
       "    <tr>\n",
       "      <th>13</th>\n",
       "      <td>ID_014</td>\n",
       "      <td>1.0</td>\n",
       "    </tr>\n",
       "    <tr>\n",
       "      <th>14</th>\n",
       "      <td>ID_015</td>\n",
       "      <td>1.0</td>\n",
       "    </tr>\n",
       "    <tr>\n",
       "      <th>15</th>\n",
       "      <td>ID_016</td>\n",
       "      <td>1.0</td>\n",
       "    </tr>\n",
       "    <tr>\n",
       "      <th>16</th>\n",
       "      <td>ID_017</td>\n",
       "      <td>1.0</td>\n",
       "    </tr>\n",
       "    <tr>\n",
       "      <th>17</th>\n",
       "      <td>ID_018</td>\n",
       "      <td>1.0</td>\n",
       "    </tr>\n",
       "    <tr>\n",
       "      <th>18</th>\n",
       "      <td>ID_019</td>\n",
       "      <td>1.0</td>\n",
       "    </tr>\n",
       "    <tr>\n",
       "      <th>19</th>\n",
       "      <td>ID_020</td>\n",
       "      <td>1.0</td>\n",
       "    </tr>\n",
       "  </tbody>\n",
       "</table>\n",
       "</div>"
      ],
      "text/plain": [
       "        ID    y\n",
       "0   ID_001  0.0\n",
       "1   ID_002  0.0\n",
       "2   ID_003  0.0\n",
       "3   ID_004  0.0\n",
       "4   ID_005  0.0\n",
       "5   ID_006  0.0\n",
       "6   ID_007  0.0\n",
       "7   ID_008  0.0\n",
       "8   ID_009  1.0\n",
       "9   ID_010  0.0\n",
       "10  ID_011  1.0\n",
       "11  ID_012  1.0\n",
       "12  ID_013  1.0\n",
       "13  ID_014  1.0\n",
       "14  ID_015  1.0\n",
       "15  ID_016  1.0\n",
       "16  ID_017  1.0\n",
       "17  ID_018  1.0\n",
       "18  ID_019  1.0\n",
       "19  ID_020  1.0"
      ]
     },
     "execution_count": 54,
     "metadata": {},
     "output_type": "execute_result"
    }
   ],
   "source": [
    "predicted_new = chosen_model.predict(X_new) # predicted classes for unlabeled samples\n",
    "new_prediction = pd.DataFrame() # dataframe with predicted classes\n",
    "new_prediction['ID'] = new.ID # identifiers for unlabeled samples\n",
    "new_prediction['y'] = predicted_new # # predicted classes for unlabeled samples\n",
    "new_prediction.to_csv('MMIS671 Final Exam/final.prediction.csv', index=False) # save as CSV file\n",
    "new_prediction # display results"
   ]
  },
  {
   "cell_type": "markdown",
   "id": "339bc629-c40f-4086-a8ea-3428da2ef985",
   "metadata": {
    "id": "HuYzuoj8ZWUm",
    "tags": []
   },
   "source": [
    "## Extract rules from Decision Tree\n",
    "We shall visualize the decision tree using the *plot_tree* function\n",
    "- https://scikit-learn.org/stable/modules/generated/sklearn.tree.plot_tree.html "
   ]
  },
  {
   "cell_type": "markdown",
   "id": "449d50e3-ba0f-4521-9a7f-b8bf4f0e2518",
   "metadata": {},
   "source": [
    "**Task 2**"
   ]
  },
  {
   "cell_type": "code",
   "execution_count": 50,
   "id": "660e8bf2-b249-477e-8452-06faf9ffd7ef",
   "metadata": {
    "colab": {
     "base_uri": "https://localhost:8080/",
     "height": 575
    },
    "id": "F0sFgjOrZ3Dn",
    "outputId": "26d6f089-adb4-4d87-c3eb-cbaa07edaa4e"
   },
   "outputs": [
    {
     "data": {
      "image/png": "[encoded data removed]",
      "text/plain": [
       "<Figure size 720x720 with 1 Axes>"
      ]
     },
     "metadata": {
      "needs_background": "light"
     },
     "output_type": "display_data"
    }
   ],
   "source": [
    "plt.figure(figsize=(10, 10)) # size of figure to be displayed\n",
    "\n",
    "plot_tree(chosen_model, \n",
    "          feature_names=features, \n",
    "          class_names=[f'{c}' for c in chosen_model.classes_], \n",
    "          filled=True, rounded=True, impurity=False) # plot tree\n",
    "\n",
    "plt.savefig(\"MMIS671 Final Exam/decision_tree.png\") # save as PNG file\n",
    "plt.show() # show tree"
   ]
  },
  {
   "cell_type": "markdown",
   "id": "89315f3b-6e8e-4691-bb5b-488c22415ec5",
   "metadata": {
    "id": "pDLcDVMAeXxQ"
   },
   "source": [
    "(THIS IS AN EXAMPLE!)The Decision Tree encodes the following rules:\n",
    "\n",
    "1. IF *test_7* $>$ 0.764 THEN *diagnosis* = 0.\n",
    "2. IF *test_7* $\\le$ 0.764 AND *test_13* $>$ 0.794 THEN *diagnosis* = 0.\n",
    "3. IF *test_7* $\\le$ 0.764 AND *test_13* $\\le$ 0.794 AND *test_3* $>$ 0.806  THEN *diagnosis* = 0.\n",
    "4. IF *test_7* $\\le$ 0.764 AND *test_13* $\\le$ 0.794 AND *test_3* $\\le$ 0.806 AND *test_12* $>$ 0.816  THEN *diagnosis* = 0.\n",
    "5. IF *test_7* $\\le$ 0.764 AND *test_13* $\\le$ 0.794 AND *test_3* $\\le$ 0.806 AND *test_12* $\\le$ 0.816  THEN *diagnosis* = 0.   "
   ]
  },
  {
   "cell_type": "code",
   "execution_count": 55,
   "id": "10a3571d-e263-4e0f-b682-25bc3b0989bc",
   "metadata": {
    "colab": {
     "base_uri": "https://localhost:8080/",
     "height": 340
    },
    "id": "cQUCoFwjbJZ3",
    "outputId": "f318bd6b-f868-43dc-fbae-959dc081d3a0"
   },
   "outputs": [
    {
     "data": {
      "image/png": "[encoded data removed]",
      "text/plain": [
       "<Figure size 1152x288 with 1 Axes>"
      ]
     },
     "metadata": {
      "needs_background": "light"
     },
     "output_type": "display_data"
    }
   ],
   "source": [
    "plt.figure(figsize=(16, 4)) # size of figure to be displayed\n",
    "plt.bar(features, chosen_model.feature_importances_)\n",
    "plt.xticks(rotation = 60, fontsize=16)\n",
    "plt.title('Feature importances', fontsize=24)\n",
    "plt.show()"
   ]
  },
  {
   "cell_type": "code",
   "execution_count": null,
   "id": "dfa448a7-f909-4524-99fe-5613825ca1f3",
   "metadata": {},
   "outputs": [],
   "source": []
  }
 ],
 "metadata": {
  "kernelspec": {
   "display_name": "Python 3 (ipykernel)",
   "language": "python",
   "name": "python3"
  },
  "language_info": {
   "codemirror_mode": {
    "name": "ipython",
    "version": 3
   },
   "file_extension": ".py",
   "mimetype": "text/x-python",
   "name": "python",
   "nbconvert_exporter": "python",
   "pygments_lexer": "ipython3",
   "version": "3.9.6"
  }
 },
 "nbformat": 4,
 "nbformat_minor": 5
}
