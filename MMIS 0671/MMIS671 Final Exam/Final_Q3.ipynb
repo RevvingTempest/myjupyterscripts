{
 "cells": [
  {
   "cell_type": "markdown",
   "id": "85f6699e-9267-480d-a058-9370188c9f03",
   "metadata": {},
   "source": [
    "## Homework 2 - Question 2"
   ]
  },
  {
   "cell_type": "code",
   "execution_count": 21,
   "id": "65427803-2a89-4d6d-9bd2-1f89be2a6ee0",
   "metadata": {
    "id": "KWlSMPV4oLDw"
   },
   "outputs": [],
   "source": [
    "import pandas as pd # for data handling\n",
    "from sklearn.model_selection import cross_val_score # for cross-validation\n",
    "from sklearn.metrics import accuracy_score, classification_report, confusion_matrix # evaluation metrics\n",
    "from sklearn import set_config # enable configure\n",
    "set_config(print_changed_only=False) # configure print to show all not just changed values\n",
    "import matplotlib.pyplot as plt # for plotting\n",
    "\n",
    "# scikit-learn classifiers evaluated (change as desired)\n",
    "from sklearn.naive_bayes import GaussianNB \n",
    "from sklearn.tree import DecisionTreeClassifier, plot_tree\n",
    "from sklearn.ensemble import RandomForestClassifier, ExtraTreesClassifier\n",
    "from sklearn.neighbors import KNeighborsClassifier\n",
    "from sklearn.linear_model import LogisticRegression\n",
    "from sklearn.svm import SVC\n",
    "from sklearn.neural_network import MLPClassifier"
   ]
  },
  {
   "cell_type": "code",
   "execution_count": 22,
   "id": "fbd828f4-b3b5-4831-9e4b-cd67dd0c50f7",
   "metadata": {
    "colab": {
     "base_uri": "https://localhost:8080/",
     "height": 211
    },
    "id": "3LNrsgt9qgYQ",
    "outputId": "f3423994-cd5b-44a5-8e52-1d4b5841a8e0",
    "tags": []
   },
   "outputs": [
    {
     "name": "stdout",
     "output_type": "stream",
     "text": [
      "train contains 10000 rows and 11 columns\n",
      "test contains 2000 rows and 11 columns\n",
      "new contains 20 rows and 11 columns\n",
      "First 3 rows in train:\n"
     ]
    },
    {
     "data": {
      "text/html": [
       "<div>\n",
       "<style scoped>\n",
       "    .dataframe tbody tr th:only-of-type {\n",
       "        vertical-align: middle;\n",
       "    }\n",
       "\n",
       "    .dataframe tbody tr th {\n",
       "        vertical-align: top;\n",
       "    }\n",
       "\n",
       "    .dataframe thead th {\n",
       "        text-align: right;\n",
       "    }\n",
       "</style>\n",
       "<table border=\"1\" class=\"dataframe\">\n",
       "  <thead>\n",
       "    <tr style=\"text-align: right;\">\n",
       "      <th></th>\n",
       "      <th>y</th>\n",
       "      <th>x1</th>\n",
       "      <th>x2</th>\n",
       "      <th>x3</th>\n",
       "      <th>x4</th>\n",
       "      <th>x5</th>\n",
       "      <th>x6</th>\n",
       "      <th>x7</th>\n",
       "      <th>x8</th>\n",
       "      <th>x9</th>\n",
       "      <th>x10</th>\n",
       "    </tr>\n",
       "  </thead>\n",
       "  <tbody>\n",
       "    <tr>\n",
       "      <th>0</th>\n",
       "      <td>2.0</td>\n",
       "      <td>0.502</td>\n",
       "      <td>-1.444</td>\n",
       "      <td>-1.720</td>\n",
       "      <td>-1.363</td>\n",
       "      <td>1.391</td>\n",
       "      <td>0.587</td>\n",
       "      <td>-0.977</td>\n",
       "      <td>0.703</td>\n",
       "      <td>-1.672</td>\n",
       "      <td>-0.159</td>\n",
       "    </tr>\n",
       "    <tr>\n",
       "      <th>1</th>\n",
       "      <td>1.0</td>\n",
       "      <td>-4.329</td>\n",
       "      <td>-5.717</td>\n",
       "      <td>-7.596</td>\n",
       "      <td>-0.472</td>\n",
       "      <td>0.783</td>\n",
       "      <td>0.192</td>\n",
       "      <td>-0.145</td>\n",
       "      <td>5.362</td>\n",
       "      <td>-1.155</td>\n",
       "      <td>2.312</td>\n",
       "    </tr>\n",
       "    <tr>\n",
       "      <th>2</th>\n",
       "      <td>0.0</td>\n",
       "      <td>-1.983</td>\n",
       "      <td>1.500</td>\n",
       "      <td>-3.604</td>\n",
       "      <td>-3.164</td>\n",
       "      <td>-0.860</td>\n",
       "      <td>-0.483</td>\n",
       "      <td>1.937</td>\n",
       "      <td>-1.639</td>\n",
       "      <td>0.467</td>\n",
       "      <td>-1.198</td>\n",
       "    </tr>\n",
       "  </tbody>\n",
       "</table>\n",
       "</div>"
      ],
      "text/plain": [
       "     y     x1     x2     x3     x4     x5     x6     x7     x8     x9    x10\n",
       "0  2.0  0.502 -1.444 -1.720 -1.363  1.391  0.587 -0.977  0.703 -1.672 -0.159\n",
       "1  1.0 -4.329 -5.717 -7.596 -0.472  0.783  0.192 -0.145  5.362 -1.155  2.312\n",
       "2  0.0 -1.983  1.500 -3.604 -3.164 -0.860 -0.483  1.937 -1.639  0.467 -1.198"
      ]
     },
     "execution_count": 22,
     "metadata": {},
     "output_type": "execute_result"
    }
   ],
   "source": [
    "# Read data from CSV files into pandas dataframes\n",
    "train = pd.read_csv('MMIS671 Final Exam/final.q3.train.csv') # training data\n",
    "test = pd.read_csv('MMIS671 Final Exam/final.q3.test.csv') # test data\n",
    "new = pd.read_csv('MMIS671 Final Exam/final.q3.new.csv') # unlabeled data\n",
    "# Show number of rows and columns in each dataframe\n",
    "print('train contains %d rows and %d columns' %train.shape)\n",
    "print('test contains %d rows and %d columns' %test.shape)\n",
    "print('new contains %d rows and %d columns' %new.shape)\n",
    "print('First 3 rows in train:') \n",
    "train.head(3) # display first 3 training samples "
   ]
  },
  {
   "cell_type": "markdown",
   "id": "702665d3-306e-4a61-96db-3ec00eb987de",
   "metadata": {
    "id": "Cy4SdaiY9lFo",
    "tags": []
   },
   "source": [
    "### Specify inputs and outputs\n",
    "- **features**: List of the 16 input feature names\n",
    "- **X_train**: $4000 \\times 16$ array containing input values for training samples.\n",
    "- **y_train**: Array containing labels for the 4000 training samples.\n",
    "- **X_test**: $1000 \\times 16$ array containing input values for test samples.\n",
    "- **y_test**: Array containing labels for the 1000 training samples.\n",
    "- **X_new**: $30 \\times 16$ array containing input values for unlabeled samples.\n",
    "\n",
    "\n",
    "\n",
    "\n"
   ]
  },
  {
   "cell_type": "code",
   "execution_count": 23,
   "id": "7b366c3b-1bb4-42ea-ab94-bc92795d749c",
   "metadata": {
    "colab": {
     "base_uri": "https://localhost:8080/"
    },
    "id": "GJ8ohEGf-Mi8",
    "outputId": "b97bfe13-0702-4d81-9366-30596b83704c"
   },
   "outputs": [
    {
     "name": "stdout",
     "output_type": "stream",
     "text": [
      "features: ['x1', 'x2', 'x3', 'x4', 'x5', 'x6', 'x7', 'x8', 'x9', 'x10']\n",
      "Shapes:\n",
      "X_train: (10000, 10), X_test: (2000, 10), X_new: (20, 10)\n",
      "y_train: (10000,), y_test: (2000,)\n"
     ]
    }
   ],
   "source": [
    "features = list(train)[1:] # all but the first column header are feature names\n",
    "print(\"features:\", features)\n",
    "X_train, X_test, X_new = train[features], test[features], new[features]\n",
    "y_train, y_test = train.y, test.y\n",
    "print('Shapes:')\n",
    "print(f'X_train: {X_train.shape}, X_test: {X_test.shape}, X_new: {X_new.shape}')\n",
    "print(f'y_train: {y_train.shape}, y_test: {y_test.shape}')"
   ]
  },
  {
   "cell_type": "markdown",
   "id": "9332a134-c488-46a8-9869-e12d3033111a",
   "metadata": {
    "id": "DnxBpRlZ-5I9",
    "tags": []
   },
   "source": [
    "## Evaluate models using *k*-fold cross-validation\n",
    "We shall use **4**-fold cross-validation so that 3000 of the 4000 training samples are used for training and the remaining 1000 samples are used for validation in each fold. The mean cross-validation accuracy for each model with chosen hyper-parameters on the 4 runs will be computed using the command:\n",
    "- **score = cross_val_score(model, X_train, y_train, cv=4).mean()**\n",
    "> - *model*: classifier object with specified hyperparameters\n",
    "> - *X_train*, *y_train*: Inputs and output labels for training\n",
    "> - *cv*: number of folds in cross-validation\n",
    "> - *mean*(): computes mean accuracy from the *cv* runs \n",
    "\n",
    "You can look up the documentation for each classifier, change hyper-parameter values, and observe the results. We shall also observe the time it takes to train and evaluate each model 4 times in this *4*-fold cross-validation process.\n"
   ]
  },
  {
   "cell_type": "markdown",
   "id": "7c71b441-0be5-453b-97ed-8396aa2ae40c",
   "metadata": {
    "id": "5txUT58tqyFa"
   },
   "source": [
    "### GaussianNB\n",
    "\n",
    "https://scikit-learn.org/stable/modules/generated/sklearn.naive_bayes.GaussianNB.html"
   ]
  },
  {
   "cell_type": "code",
   "execution_count": 24,
   "id": "694ce828-8f21-44ee-94a5-51c1d706ba93",
   "metadata": {
    "colab": {
     "base_uri": "https://localhost:8080/"
    },
    "id": "NrfDQpqMq8Jr",
    "outputId": "5ab0c5b2-1359-44eb-9314-4d8846b784a8",
    "tags": []
   },
   "outputs": [
    {
     "name": "stdout",
     "output_type": "stream",
     "text": [
      "Mean cross-validation accuracy = 0.7916\n",
      "Wall time: 24 ms\n"
     ]
    }
   ],
   "source": [
    "%%time\n",
    "model = GaussianNB() # change hyperparameters as desired\n",
    "score = cross_val_score(model, X_train, y_train, cv=5).mean() # mean cross-validation accuracy\n",
    "print(f'Mean cross-validation accuracy = {score:0.4f}')"
   ]
  },
  {
   "cell_type": "code",
   "execution_count": 25,
   "id": "b3978bfc-beae-410c-8cc5-09400c4ddede",
   "metadata": {},
   "outputs": [
    {
     "data": {
      "text/plain": [
       "GaussianNB(priors=None, var_smoothing=1e-09)"
      ]
     },
     "execution_count": 25,
     "metadata": {},
     "output_type": "execute_result"
    }
   ],
   "source": [
    "model"
   ]
  },
  {
   "cell_type": "markdown",
   "id": "2def01df-1516-4eb8-85ae-4dd8973c2425",
   "metadata": {
    "id": "L61SWfGztPUz"
   },
   "source": [
    "### DecisionTreeClassifier\n",
    "\n",
    "https://scikit-learn.org/stable/modules/generated/sklearn.tree.DecisionTreeClassifier.html"
   ]
  },
  {
   "cell_type": "code",
   "execution_count": 26,
   "id": "e503ca4c-9f06-4265-9edd-cdcd6fb882a0",
   "metadata": {
    "colab": {
     "base_uri": "https://localhost:8080/"
    },
    "id": "V6IlKW1ZKFrq",
    "outputId": "bc8166ff-ede7-458d-b581-706ee8173674"
   },
   "outputs": [
    {
     "name": "stdout",
     "output_type": "stream",
     "text": [
      "Mean cross-validation accuracy = 0.7245\n",
      "Wall time: 139 ms\n"
     ]
    }
   ],
   "source": [
    "%%time\n",
    "model = DecisionTreeClassifier(max_leaf_nodes=10) # change hyperparameters as desired\n",
    "score = cross_val_score(model, X_train, y_train, cv=5).mean() # mean cross-validation accuracy\n",
    "print(f'Mean cross-validation accuracy = {score:0.4f}')"
   ]
  },
  {
   "cell_type": "markdown",
   "id": "cf46748c-f4a5-4e11-9b09-c4fa73d99372",
   "metadata": {
    "id": "dw2J3q89Kq8u"
   },
   "source": [
    "### RandomForestClassifier\n",
    "\n",
    "https://scikit-learn.org/stable/modules/generated/sklearn.ensemble.RandomForestClassifier.html"
   ]
  },
  {
   "cell_type": "code",
   "execution_count": 27,
   "id": "ec99aee3-be4b-4bb6-b601-a2d49ad8b954",
   "metadata": {
    "colab": {
     "base_uri": "https://localhost:8080/"
    },
    "id": "Bg1tRS0KK4zl",
    "outputId": "cd9374c1-5068-4d48-f4a4-1613136e7867"
   },
   "outputs": [
    {
     "name": "stdout",
     "output_type": "stream",
     "text": [
      "Mean cross-validation accuracy = 0.9256\n",
      "Wall time: 6.41 s\n"
     ]
    }
   ],
   "source": [
    "%%time\n",
    "model = RandomForestClassifier(n_estimators=100) # change hyperparameters as desired\n",
    "score = cross_val_score(model, X_train, y_train, cv=5).mean() # mean cross-validation accuracy\n",
    "print(f'Mean cross-validation accuracy = {score:0.4f}')"
   ]
  },
  {
   "cell_type": "markdown",
   "id": "9a68a1c9-7a48-4e5a-bf1b-899d61b468a9",
   "metadata": {
    "id": "d86dfu7ducAE"
   },
   "source": [
    "### ExtraTreesClassifier\n",
    "\n",
    "https://scikit-learn.org/stable/modules/generated/sklearn.ensemble.ExtraTreesClassifier.html"
   ]
  },
  {
   "cell_type": "code",
   "execution_count": 28,
   "id": "d11acca5-7655-4b1b-8b9f-02e299823fd9",
   "metadata": {
    "colab": {
     "base_uri": "https://localhost:8080/"
    },
    "id": "emyzWlJyKUSx",
    "outputId": "ea3b09a4-263e-4090-a840-8ea1c836f2da"
   },
   "outputs": [
    {
     "name": "stdout",
     "output_type": "stream",
     "text": [
      "Mean cross-validation accuracy = 0.9384\n",
      "Wall time: 2.39 s\n"
     ]
    }
   ],
   "source": [
    "%%time\n",
    "model = ExtraTreesClassifier() # change hyperparameters as desired\n",
    "score = cross_val_score(model, X_train, y_train, cv=5).mean() # mean cross-validation accuracy\n",
    "print(f'Mean cross-validation accuracy = {score:0.4f}')"
   ]
  },
  {
   "cell_type": "markdown",
   "id": "c212cdf1-4cde-422f-8dcd-8fb173b3d1a0",
   "metadata": {
    "id": "LRG62pOxwrQT"
   },
   "source": [
    "### KNeighborsClassifier\n",
    "\n",
    "https://scikit-learn.org/stable/modules/generated/sklearn.neighbors.KNeighborsClassifier.html"
   ]
  },
  {
   "cell_type": "code",
   "execution_count": 29,
   "id": "73bc9b1a-b557-4420-b45d-1fbb353ddda3",
   "metadata": {
    "colab": {
     "base_uri": "https://localhost:8080/"
    },
    "id": "bXltDGqnLHmH",
    "outputId": "2c084f31-9a2d-448a-9324-a810c0743a4c"
   },
   "outputs": [
    {
     "name": "stdout",
     "output_type": "stream",
     "text": [
      "Mean cross-validation accuracy = 0.9493\n",
      "Wall time: 762 ms\n"
     ]
    }
   ],
   "source": [
    "%%time\n",
    "model = KNeighborsClassifier() # change hyperparameters as desired\n",
    "score = cross_val_score(model, X_train, y_train, cv=5).mean() # mean cross-validation accuracy\n",
    "print(f'Mean cross-validation accuracy = {score:0.4f}')"
   ]
  },
  {
   "cell_type": "code",
   "execution_count": 47,
   "id": "63a8d3df-d745-405b-8329-937f6965df34",
   "metadata": {},
   "outputs": [
    {
     "name": "stdout",
     "output_type": "stream",
     "text": [
      "Mean cross-validation accuracy with 2 neighbors = 0.9222\n",
      "Mean cross-validation accuracy with 3 neighbors = 0.9468\n",
      "Mean cross-validation accuracy with 4 neighbors = 0.9466\n",
      "Mean cross-validation accuracy with 5 neighbors = 0.9493\n",
      "Mean cross-validation accuracy with 6 neighbors = 0.9499\n",
      "Mean cross-validation accuracy with 7 neighbors = 0.9508\n",
      "Mean cross-validation accuracy with 8 neighbors = 0.9502\n",
      "Mean cross-validation accuracy with 9 neighbors = 0.9501\n",
      "Mean cross-validation accuracy with 10 neighbors = 0.9493\n",
      "Mean cross-validation accuracy with 11 neighbors = 0.9485\n",
      "Mean cross-validation accuracy with 12 neighbors = 0.9470\n",
      "Mean cross-validation accuracy with 13 neighbors = 0.9472\n",
      "Mean cross-validation accuracy with 14 neighbors = 0.9463\n",
      "Wall time: 16.2 s\n"
     ]
    }
   ],
   "source": [
    "%%time\n",
    "# KNeighborsClassifier Loop\n",
    "for x in range(2,15):\n",
    "    \n",
    "    model = KNeighborsClassifier(n_neighbors=x, algorithm='brute') # change hyperparameters as desired\n",
    "    score = cross_val_score(model, X_train, y_train, cv=5).mean() # mean cross-validation accuracy\n",
    "    print(f'Mean cross-validation accuracy with {x} neighbors = {score:0.4f}')"
   ]
  },
  {
   "cell_type": "markdown",
   "id": "e537c950-a568-49d4-998c-2946bd4bf7fa",
   "metadata": {
    "id": "UlOltPrLLrug"
   },
   "source": [
    "### LogisticRegression\n",
    "\n",
    "https://scikit-learn.org/stable/modules/generated/sklearn.linear_model.LogisticRegression.html"
   ]
  },
  {
   "cell_type": "code",
   "execution_count": 31,
   "id": "b798c05a-e5dc-4a87-94e3-463797719e94",
   "metadata": {
    "colab": {
     "base_uri": "https://localhost:8080/"
    },
    "id": "bCHYnbyHL3SH",
    "outputId": "04964498-3188-4318-d273-60841f7ed397"
   },
   "outputs": [
    {
     "name": "stdout",
     "output_type": "stream",
     "text": [
      "Mean cross-validation accuracy = 0.7766\n",
      "Wall time: 210 ms\n"
     ]
    }
   ],
   "source": [
    "%%time\n",
    "model = LogisticRegression(max_iter=1000) # change hyperparameters as desired\n",
    "score = cross_val_score(model, X_train, y_train, cv=5).mean() # mean cross-validation accuracy\n",
    "print(f'Mean cross-validation accuracy = {score:0.4f}')"
   ]
  },
  {
   "cell_type": "markdown",
   "id": "34c185e8-fc8e-4c1a-862e-8ccbf675171b",
   "metadata": {
    "id": "A-iTOgGMMPQN"
   },
   "source": [
    "### SVC\n",
    "\n",
    "https://scikit-learn.org/stable/modules/generated/sklearn.svm.SVC.html"
   ]
  },
  {
   "cell_type": "code",
   "execution_count": 43,
   "id": "2bd9e03d-b9f1-4206-b06d-2cab8537a7d9",
   "metadata": {
    "colab": {
     "base_uri": "https://localhost:8080/"
    },
    "id": "dABpGY4CMZEx",
    "outputId": "83555671-21ab-41aa-d543-81f94441f7c2"
   },
   "outputs": [
    {
     "name": "stdout",
     "output_type": "stream",
     "text": [
      "Mean cross-validation accuracy = 0.9472\n",
      "Wall time: 7.42 s\n"
     ]
    }
   ],
   "source": [
    "%%time\n",
    "model = SVC() # change hyperparameters as desired\n",
    "score = cross_val_score(model, X_train, y_train, cv=5).mean() # mean cross-validation accuracy\n",
    "print(f'Mean cross-validation accuracy = {score:0.4f}')"
   ]
  },
  {
   "cell_type": "code",
   "execution_count": 33,
   "id": "7fada796-082c-492f-a81e-8179b2e6e39e",
   "metadata": {},
   "outputs": [
    {
     "data": {
      "text/plain": [
       "SVC(C=1.0, break_ties=False, cache_size=200, class_weight=None, coef0=0.0,\n",
       "    decision_function_shape='ovr', degree=3, gamma='scale', kernel='rbf',\n",
       "    max_iter=-1, probability=False, random_state=None, shrinking=True,\n",
       "    tol=0.001, verbose=False)"
      ]
     },
     "execution_count": 33,
     "metadata": {},
     "output_type": "execute_result"
    }
   ],
   "source": [
    "model"
   ]
  },
  {
   "cell_type": "markdown",
   "id": "20ac2b3d-b14e-4ab6-a7ff-9068b473af6b",
   "metadata": {
    "id": "HRyD_Sx_5UQa"
   },
   "source": [
    "### MLPClassifier\n",
    "https://scikit-learn.org/stable/modules/generated/sklearn.neural_network.MLPClassifier.html"
   ]
  },
  {
   "cell_type": "code",
   "execution_count": 34,
   "id": "12534bcb-3f4c-478f-bef3-ae3499160cd0",
   "metadata": {
    "colab": {
     "base_uri": "https://localhost:8080/"
    },
    "id": "IdJ-K_USNDxe",
    "outputId": "3354eb06-e84f-4379-a1d3-6884105233d1"
   },
   "outputs": [
    {
     "name": "stdout",
     "output_type": "stream",
     "text": [
      "Mean cross-validation accuracy = 0.9486\n",
      "Wall time: 38.3 s\n"
     ]
    }
   ],
   "source": [
    "%%time\n",
    "model = MLPClassifier(max_iter=1000) # change hyperparameters as desired\n",
    "score = cross_val_score(model, X_train, y_train, cv=4).mean() # mean cross-validation accuracy\n",
    "print(f'Mean cross-validation accuracy = {score:0.4f}')"
   ]
  },
  {
   "cell_type": "code",
   "execution_count": 52,
   "id": "d9ffa6a0-c880-45fc-b528-749fe2a95844",
   "metadata": {},
   "outputs": [
    {
     "name": "stdout",
     "output_type": "stream",
     "text": [
      "Mean cross-validation accuracy in 2 = 0.9573\n",
      "Wall time: 16.3 s\n"
     ]
    }
   ],
   "source": [
    "%%time\n",
    "for c in [2]:\n",
    "    model = SVC(C=c, gamma='auto')\n",
    "    score = cross_val_score(model, X_train, y_train, cv=5).mean()\n",
    "    print(f'Mean cross-validation accuracy in {c} = {score:0.4f}')"
   ]
  },
  {
   "cell_type": "code",
   "execution_count": 50,
   "id": "127798af-1d58-4c8d-8a3d-36dbf693b594",
   "metadata": {},
   "outputs": [
    {
     "data": {
      "text/plain": [
       "SVC(C=2, break_ties=False, cache_size=200, class_weight=None, coef0=0.0,\n",
       "    decision_function_shape='ovr', degree=3, gamma='auto', kernel='rbf',\n",
       "    max_iter=-1, probability=False, random_state=None, shrinking=True,\n",
       "    tol=0.001, verbose=False)"
      ]
     },
     "execution_count": 50,
     "metadata": {},
     "output_type": "execute_result"
    }
   ],
   "source": [
    "model"
   ]
  },
  {
   "cell_type": "code",
   "execution_count": 55,
   "id": "4d6293dd-d7e3-42dd-a6f7-e19dcc179aae",
   "metadata": {},
   "outputs": [
    {
     "name": "stdout",
     "output_type": "stream",
     "text": [
      "Accuracy on test samples = 0.9685\n",
      "Classification report on test samples:\n",
      "              precision    recall  f1-score   support\n",
      "\n",
      "         0.0     0.9636    0.9740    0.9688       653\n",
      "         1.0     0.9788    0.9744    0.9766       664\n",
      "         2.0     0.9632    0.9575    0.9604       683\n",
      "\n",
      "    accuracy                         0.9685      2000\n",
      "   macro avg     0.9685    0.9686    0.9686      2000\n",
      "weighted avg     0.9685    0.9685    0.9685      2000\n",
      "\n"
     ]
    },
    {
     "data": {
      "text/html": [
       "<div>\n",
       "<style scoped>\n",
       "    .dataframe tbody tr th:only-of-type {\n",
       "        vertical-align: middle;\n",
       "    }\n",
       "\n",
       "    .dataframe tbody tr th {\n",
       "        vertical-align: top;\n",
       "    }\n",
       "\n",
       "    .dataframe thead th {\n",
       "        text-align: right;\n",
       "    }\n",
       "</style>\n",
       "<table border=\"1\" class=\"dataframe\">\n",
       "  <thead>\n",
       "    <tr style=\"text-align: right;\">\n",
       "      <th></th>\n",
       "      <th>0</th>\n",
       "      <th>1</th>\n",
       "      <th>2</th>\n",
       "    </tr>\n",
       "  </thead>\n",
       "  <tbody>\n",
       "    <tr>\n",
       "      <th>0</th>\n",
       "      <td>636</td>\n",
       "      <td>2</td>\n",
       "      <td>15</td>\n",
       "    </tr>\n",
       "    <tr>\n",
       "      <th>1</th>\n",
       "      <td>7</td>\n",
       "      <td>647</td>\n",
       "      <td>10</td>\n",
       "    </tr>\n",
       "    <tr>\n",
       "      <th>2</th>\n",
       "      <td>17</td>\n",
       "      <td>12</td>\n",
       "      <td>654</td>\n",
       "    </tr>\n",
       "  </tbody>\n",
       "</table>\n",
       "</div>"
      ],
      "text/plain": [
       "     0    1    2\n",
       "0  636    2   15\n",
       "1    7  647   10\n",
       "2   17   12  654"
      ]
     },
     "execution_count": 55,
     "metadata": {},
     "output_type": "execute_result"
    }
   ],
   "source": [
    "chosen_model = SVC(C=2, gamma='auto')\n",
    "chosen_model.fit(X_train, y_train) # train selected model on ALL training examples\n",
    "predicted = chosen_model.predict(X_test) # predicted diagnosis for test examples\n",
    "acc = accuracy_score(y_test, predicted) # accuracy on test samples\n",
    "print(f'Accuracy on test samples = {acc:0.4f}') # show test accuracy\n",
    "print(\"Classification report on test samples:\") # for precision, recall, F1-score\n",
    "print(classification_report(y_test, predicted, digits=4)) # rounded to 4 decimal places\n",
    "cr = pd.DataFrame(classification_report(y_test, predicted, digits=4, output_dict=True))\n",
    "cr.to_csv('Final_Q3_Task_3.csv')\n",
    "cr\n",
    "cm = pd.DataFrame(confusion_matrix(y_test, predicted))\n",
    "cm.to_csv('cm.final.q3.csv')\n",
    "cm"
   ]
  },
  {
   "cell_type": "code",
   "execution_count": 39,
   "id": "b6f29c96-9a5f-42ef-bb5c-7f4790a0a034",
   "metadata": {},
   "outputs": [
    {
     "data": {
      "text/plain": [
       "0       0.0\n",
       "1       1.0\n",
       "2       1.0\n",
       "3       1.0\n",
       "4       2.0\n",
       "       ... \n",
       "1995    0.0\n",
       "1996    2.0\n",
       "1997    2.0\n",
       "1998    1.0\n",
       "1999    2.0\n",
       "Name: y, Length: 2000, dtype: float64"
      ]
     },
     "execution_count": 39,
     "metadata": {},
     "output_type": "execute_result"
    }
   ],
   "source": [
    "y_test"
   ]
  },
  {
   "cell_type": "code",
   "execution_count": 58,
   "id": "ad078f42-ef84-4116-8c65-fe733d49d9af",
   "metadata": {},
   "outputs": [
    {
     "data": {
      "text/html": [
       "<div>\n",
       "<style scoped>\n",
       "    .dataframe tbody tr th:only-of-type {\n",
       "        vertical-align: middle;\n",
       "    }\n",
       "\n",
       "    .dataframe tbody tr th {\n",
       "        vertical-align: top;\n",
       "    }\n",
       "\n",
       "    .dataframe thead th {\n",
       "        text-align: right;\n",
       "    }\n",
       "</style>\n",
       "<table border=\"1\" class=\"dataframe\">\n",
       "  <thead>\n",
       "    <tr style=\"text-align: right;\">\n",
       "      <th></th>\n",
       "      <th>ID</th>\n",
       "      <th>y</th>\n",
       "    </tr>\n",
       "  </thead>\n",
       "  <tbody>\n",
       "    <tr>\n",
       "      <th>0</th>\n",
       "      <td>ID_001</td>\n",
       "      <td>0.0</td>\n",
       "    </tr>\n",
       "    <tr>\n",
       "      <th>1</th>\n",
       "      <td>ID_002</td>\n",
       "      <td>0.0</td>\n",
       "    </tr>\n",
       "    <tr>\n",
       "      <th>2</th>\n",
       "      <td>ID_003</td>\n",
       "      <td>0.0</td>\n",
       "    </tr>\n",
       "    <tr>\n",
       "      <th>3</th>\n",
       "      <td>ID_004</td>\n",
       "      <td>1.0</td>\n",
       "    </tr>\n",
       "    <tr>\n",
       "      <th>4</th>\n",
       "      <td>ID_005</td>\n",
       "      <td>1.0</td>\n",
       "    </tr>\n",
       "    <tr>\n",
       "      <th>5</th>\n",
       "      <td>ID_006</td>\n",
       "      <td>1.0</td>\n",
       "    </tr>\n",
       "    <tr>\n",
       "      <th>6</th>\n",
       "      <td>ID_007</td>\n",
       "      <td>1.0</td>\n",
       "    </tr>\n",
       "    <tr>\n",
       "      <th>7</th>\n",
       "      <td>ID_008</td>\n",
       "      <td>1.0</td>\n",
       "    </tr>\n",
       "    <tr>\n",
       "      <th>8</th>\n",
       "      <td>ID_009</td>\n",
       "      <td>1.0</td>\n",
       "    </tr>\n",
       "    <tr>\n",
       "      <th>9</th>\n",
       "      <td>ID_010</td>\n",
       "      <td>1.0</td>\n",
       "    </tr>\n",
       "    <tr>\n",
       "      <th>10</th>\n",
       "      <td>ID_011</td>\n",
       "      <td>1.0</td>\n",
       "    </tr>\n",
       "    <tr>\n",
       "      <th>11</th>\n",
       "      <td>ID_012</td>\n",
       "      <td>2.0</td>\n",
       "    </tr>\n",
       "    <tr>\n",
       "      <th>12</th>\n",
       "      <td>ID_013</td>\n",
       "      <td>2.0</td>\n",
       "    </tr>\n",
       "    <tr>\n",
       "      <th>13</th>\n",
       "      <td>ID_014</td>\n",
       "      <td>2.0</td>\n",
       "    </tr>\n",
       "    <tr>\n",
       "      <th>14</th>\n",
       "      <td>ID_015</td>\n",
       "      <td>2.0</td>\n",
       "    </tr>\n",
       "    <tr>\n",
       "      <th>15</th>\n",
       "      <td>ID_016</td>\n",
       "      <td>2.0</td>\n",
       "    </tr>\n",
       "    <tr>\n",
       "      <th>16</th>\n",
       "      <td>ID_017</td>\n",
       "      <td>2.0</td>\n",
       "    </tr>\n",
       "    <tr>\n",
       "      <th>17</th>\n",
       "      <td>ID_018</td>\n",
       "      <td>2.0</td>\n",
       "    </tr>\n",
       "    <tr>\n",
       "      <th>18</th>\n",
       "      <td>ID_019</td>\n",
       "      <td>2.0</td>\n",
       "    </tr>\n",
       "    <tr>\n",
       "      <th>19</th>\n",
       "      <td>ID_020</td>\n",
       "      <td>2.0</td>\n",
       "    </tr>\n",
       "  </tbody>\n",
       "</table>\n",
       "</div>"
      ],
      "text/plain": [
       "        ID    y\n",
       "0   ID_001  0.0\n",
       "1   ID_002  0.0\n",
       "2   ID_003  0.0\n",
       "3   ID_004  1.0\n",
       "4   ID_005  1.0\n",
       "5   ID_006  1.0\n",
       "6   ID_007  1.0\n",
       "7   ID_008  1.0\n",
       "8   ID_009  1.0\n",
       "9   ID_010  1.0\n",
       "10  ID_011  1.0\n",
       "11  ID_012  2.0\n",
       "12  ID_013  2.0\n",
       "13  ID_014  2.0\n",
       "14  ID_015  2.0\n",
       "15  ID_016  2.0\n",
       "16  ID_017  2.0\n",
       "17  ID_018  2.0\n",
       "18  ID_019  2.0\n",
       "19  ID_020  2.0"
      ]
     },
     "execution_count": 58,
     "metadata": {},
     "output_type": "execute_result"
    }
   ],
   "source": [
    "predicted_new = chosen_model.predict(X_new) # predicted classes for unlabeled samples\n",
    "new_prediction = pd.DataFrame() # dataframe with predicted classes\n",
    "new_prediction['ID'] = new.ID # identifiers for unlabeled samples\n",
    "new_prediction['y'] = predicted_new # # predicted classes for unlabeled samples\n",
    "new_prediction # display results"
   ]
  },
  {
   "cell_type": "code",
   "execution_count": null,
   "id": "05468281-69ee-4e46-9d06-857093b237b3",
   "metadata": {},
   "outputs": [],
   "source": []
  }
 ],
 "metadata": {
  "kernelspec": {
   "display_name": "Python 3 (ipykernel)",
   "language": "python",
   "name": "python3"
  },
  "language_info": {
   "codemirror_mode": {
    "name": "ipython",
    "version": 3
   },
   "file_extension": ".py",
   "mimetype": "text/x-python",
   "name": "python",
   "nbconvert_exporter": "python",
   "pygments_lexer": "ipython3",
   "version": "3.9.6"
  }
 },
 "nbformat": 4,
 "nbformat_minor": 5
}
