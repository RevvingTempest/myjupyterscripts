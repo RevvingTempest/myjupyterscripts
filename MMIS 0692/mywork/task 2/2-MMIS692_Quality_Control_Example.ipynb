{
 "cells": [
  {
   "cell_type": "markdown",
   "metadata": {
    "id": "DyATmOZTBGN_"
   },
   "source": [
    "# MMIS692 Quality Control\n",
    "\n",
    "Items are produced in batches. A batch with more than 1 defective item is deemed a *poor* quality batch.\n",
    "\n",
    "We shall develop a model to predict batch quality based on measurements from the 30 quality control tests. Our goal is to predict quality reliably based on as few rules as possible. Any test that is not used for determining batch quality may be eliminated, thereby reducing quality control costs.\n",
    "\n",
    "For this classification task we shall use *Scikit-Learn* *DecisionTreeClassifier*:\n",
    "- https://scikit-learn.org/stable/modules/generated/sklearn.tree.DecisionTreeClassifier.html"
   ]
  },
  {
   "cell_type": "markdown",
   "metadata": {
    "id": "VDgcskFIiUjd"
   },
   "source": [
    "## Import libraries"
   ]
  },
  {
   "cell_type": "code",
   "execution_count": 1,
   "metadata": {
    "colab": {
     "base_uri": "https://localhost:8080/"
    },
    "id": "KtXtyIrVAxtZ",
    "outputId": "202ee4eb-5ef7-415d-ff33-f0fb087d81f3"
   },
   "outputs": [],
   "source": [
    "# ! pip install pandasql # to use SQL\n",
    "import pandasql # for SQL queries\n",
    "import pandas as pd # for data analysis\n",
    "from sklearn.tree import DecisionTreeClassifier, plot_tree # for decision tree\n",
    "from sklearn.model_selection import cross_val_score # for cross validation\n",
    "from sklearn.metrics import accuracy_score, confusion_matrix # to evaluate model\n",
    "import matplotlib.pyplot as plt # for plots"
   ]
  },
  {
   "cell_type": "markdown",
   "metadata": {
    "id": "pzyar_HlbEBU"
   },
   "source": [
    "## Get data\n",
    "\n",
    "We shall extract *CSV* files from the *zip* file with data and read the data we need for this task into *pandas* dataframes:\n",
    "- ***defective***: with data from '*quality_control.defective.csv*'\n",
    "- ***measurements***: with data from '*quality_control.measurements.csv*'\n",
    "- ***new_batches***: with data from '*quality_control.new_batches.csv*'"
   ]
  },
  {
   "cell_type": "code",
   "execution_count": 2,
   "metadata": {
    "colab": {
     "base_uri": "https://localhost:8080/"
    },
    "id": "TAYItHIMig7g",
    "outputId": "05bc3ec0-4d6d-40a5-be61-84b28193f881"
   },
   "outputs": [],
   "source": [
    "# ! unzip '/content/drive/MyDrive/Colab Notebooks/courses/MMIS692_Summer2021/data.MMIS692.Sample.zip'\n",
    "import zipfile as zf\n",
    "\n",
    "files = zf.ZipFile('data.MMIS692.Fall2022.zip', 'r')\n",
    "files.extractall()\n",
    "files.close()\n",
    "\n",
    "defective = pd.read_csv('quality_control.defective.csv')\n",
    "measurements = pd.read_csv('quality_control.measurements.csv')\n",
    "new_batches = pd.read_csv('quality_control.new_batches.csv')\n",
    "# !rm *.csv"
   ]
  },
  {
   "cell_type": "markdown",
   "metadata": {
    "id": "88goz8kdJGAl"
   },
   "source": [
    "Dataframe *defective* contains the *batchID* of batches in which defective items were produced."
   ]
  },
  {
   "cell_type": "code",
   "execution_count": 3,
   "metadata": {
    "colab": {
     "base_uri": "https://localhost:8080/",
     "height": 373
    },
    "id": "UQMFZxVLjC3n",
    "outputId": "a1f4e60e-034c-4f81-ef19-7d3abd8d1b2c"
   },
   "outputs": [
    {
     "name": "stdout",
     "output_type": "stream",
     "text": [
      "Dataframe defective contains 11520 rows and 2 columns\n"
     ]
    },
    {
     "data": {
      "text/html": [
       "<div>\n",
       "<style scoped>\n",
       "    .dataframe tbody tr th:only-of-type {\n",
       "        vertical-align: middle;\n",
       "    }\n",
       "\n",
       "    .dataframe tbody tr th {\n",
       "        vertical-align: top;\n",
       "    }\n",
       "\n",
       "    .dataframe thead th {\n",
       "        text-align: right;\n",
       "    }\n",
       "</style>\n",
       "<table border=\"1\" class=\"dataframe\">\n",
       "  <thead>\n",
       "    <tr style=\"text-align: right;\">\n",
       "      <th></th>\n",
       "      <th>serial_nbr</th>\n",
       "      <th>batchID</th>\n",
       "    </tr>\n",
       "  </thead>\n",
       "  <tbody>\n",
       "    <tr>\n",
       "      <th>0</th>\n",
       "      <td>S007B007815</td>\n",
       "      <td>B007815</td>\n",
       "    </tr>\n",
       "    <tr>\n",
       "      <th>1</th>\n",
       "      <td>S000B021620</td>\n",
       "      <td>B021620</td>\n",
       "    </tr>\n",
       "    <tr>\n",
       "      <th>2</th>\n",
       "      <td>S002B049209</td>\n",
       "      <td>B049209</td>\n",
       "    </tr>\n",
       "    <tr>\n",
       "      <th>3</th>\n",
       "      <td>S008B031389</td>\n",
       "      <td>B031389</td>\n",
       "    </tr>\n",
       "    <tr>\n",
       "      <th>4</th>\n",
       "      <td>S000B005933</td>\n",
       "      <td>B005933</td>\n",
       "    </tr>\n",
       "    <tr>\n",
       "      <th>5</th>\n",
       "      <td>S009B032474</td>\n",
       "      <td>B032474</td>\n",
       "    </tr>\n",
       "    <tr>\n",
       "      <th>6</th>\n",
       "      <td>S009B000892</td>\n",
       "      <td>B000892</td>\n",
       "    </tr>\n",
       "    <tr>\n",
       "      <th>7</th>\n",
       "      <td>S001B049865</td>\n",
       "      <td>B049865</td>\n",
       "    </tr>\n",
       "    <tr>\n",
       "      <th>8</th>\n",
       "      <td>S000B024501</td>\n",
       "      <td>B024501</td>\n",
       "    </tr>\n",
       "    <tr>\n",
       "      <th>9</th>\n",
       "      <td>S009B002403</td>\n",
       "      <td>B002403</td>\n",
       "    </tr>\n",
       "  </tbody>\n",
       "</table>\n",
       "</div>"
      ],
      "text/plain": [
       "    serial_nbr  batchID\n",
       "0  S007B007815  B007815\n",
       "1  S000B021620  B021620\n",
       "2  S002B049209  B049209\n",
       "3  S008B031389  B031389\n",
       "4  S000B005933  B005933\n",
       "5  S009B032474  B032474\n",
       "6  S009B000892  B000892\n",
       "7  S001B049865  B049865\n",
       "8  S000B024501  B024501\n",
       "9  S009B002403  B002403"
      ]
     },
     "execution_count": 3,
     "metadata": {},
     "output_type": "execute_result"
    }
   ],
   "source": [
    "print(\"Dataframe defective contains %d rows and %d columns\" %defective.shape)\n",
    "defective.head(10) # display first 10 rows of defective"
   ]
  },
  {
   "cell_type": "markdown",
   "metadata": {
    "id": "NBXitB3sJkQA"
   },
   "source": [
    "Dataframe measurements contains measurements on 30 quality control tests for each batch"
   ]
  },
  {
   "cell_type": "code",
   "execution_count": 4,
   "metadata": {
    "colab": {
     "base_uri": "https://localhost:8080/",
     "height": 239
    },
    "id": "R1j73_MPje4x",
    "outputId": "c6a036cb-cdb4-4bc4-a038-66a660a9b22e"
   },
   "outputs": [
    {
     "name": "stdout",
     "output_type": "stream",
     "text": [
      "Dataframe measurements contains 5000 rows and 31 columns\n"
     ]
    },
    {
     "data": {
      "text/html": [
       "<div>\n",
       "<style scoped>\n",
       "    .dataframe tbody tr th:only-of-type {\n",
       "        vertical-align: middle;\n",
       "    }\n",
       "\n",
       "    .dataframe tbody tr th {\n",
       "        vertical-align: top;\n",
       "    }\n",
       "\n",
       "    .dataframe thead th {\n",
       "        text-align: right;\n",
       "    }\n",
       "</style>\n",
       "<table border=\"1\" class=\"dataframe\">\n",
       "  <thead>\n",
       "    <tr style=\"text-align: right;\">\n",
       "      <th></th>\n",
       "      <th>batchID</th>\n",
       "      <th>test1</th>\n",
       "      <th>test2</th>\n",
       "      <th>test3</th>\n",
       "      <th>test4</th>\n",
       "      <th>test5</th>\n",
       "      <th>test6</th>\n",
       "      <th>test7</th>\n",
       "      <th>test8</th>\n",
       "      <th>test9</th>\n",
       "      <th>...</th>\n",
       "      <th>test21</th>\n",
       "      <th>test22</th>\n",
       "      <th>test23</th>\n",
       "      <th>test24</th>\n",
       "      <th>test25</th>\n",
       "      <th>test26</th>\n",
       "      <th>test27</th>\n",
       "      <th>test28</th>\n",
       "      <th>test29</th>\n",
       "      <th>test30</th>\n",
       "    </tr>\n",
       "  </thead>\n",
       "  <tbody>\n",
       "    <tr>\n",
       "      <th>0</th>\n",
       "      <td>B008010</td>\n",
       "      <td>900</td>\n",
       "      <td>769</td>\n",
       "      <td>977</td>\n",
       "      <td>664</td>\n",
       "      <td>376</td>\n",
       "      <td>695</td>\n",
       "      <td>114</td>\n",
       "      <td>246</td>\n",
       "      <td>152</td>\n",
       "      <td>...</td>\n",
       "      <td>129</td>\n",
       "      <td>859</td>\n",
       "      <td>448</td>\n",
       "      <td>373</td>\n",
       "      <td>124</td>\n",
       "      <td>751</td>\n",
       "      <td>611</td>\n",
       "      <td>492</td>\n",
       "      <td>99</td>\n",
       "      <td>779</td>\n",
       "    </tr>\n",
       "    <tr>\n",
       "      <th>1</th>\n",
       "      <td>B011090</td>\n",
       "      <td>760</td>\n",
       "      <td>531</td>\n",
       "      <td>6</td>\n",
       "      <td>151</td>\n",
       "      <td>195</td>\n",
       "      <td>703</td>\n",
       "      <td>436</td>\n",
       "      <td>997</td>\n",
       "      <td>364</td>\n",
       "      <td>...</td>\n",
       "      <td>667</td>\n",
       "      <td>508</td>\n",
       "      <td>215</td>\n",
       "      <td>15</td>\n",
       "      <td>48</td>\n",
       "      <td>286</td>\n",
       "      <td>887</td>\n",
       "      <td>28</td>\n",
       "      <td>938</td>\n",
       "      <td>863</td>\n",
       "    </tr>\n",
       "    <tr>\n",
       "      <th>2</th>\n",
       "      <td>B045268</td>\n",
       "      <td>32</td>\n",
       "      <td>214</td>\n",
       "      <td>948</td>\n",
       "      <td>693</td>\n",
       "      <td>461</td>\n",
       "      <td>581</td>\n",
       "      <td>667</td>\n",
       "      <td>563</td>\n",
       "      <td>714</td>\n",
       "      <td>...</td>\n",
       "      <td>668</td>\n",
       "      <td>382</td>\n",
       "      <td>221</td>\n",
       "      <td>893</td>\n",
       "      <td>384</td>\n",
       "      <td>428</td>\n",
       "      <td>199</td>\n",
       "      <td>924</td>\n",
       "      <td>7</td>\n",
       "      <td>751</td>\n",
       "    </tr>\n",
       "    <tr>\n",
       "      <th>3</th>\n",
       "      <td>B048308</td>\n",
       "      <td>509</td>\n",
       "      <td>836</td>\n",
       "      <td>193</td>\n",
       "      <td>886</td>\n",
       "      <td>834</td>\n",
       "      <td>773</td>\n",
       "      <td>349</td>\n",
       "      <td>803</td>\n",
       "      <td>146</td>\n",
       "      <td>...</td>\n",
       "      <td>656</td>\n",
       "      <td>556</td>\n",
       "      <td>168</td>\n",
       "      <td>882</td>\n",
       "      <td>314</td>\n",
       "      <td>653</td>\n",
       "      <td>711</td>\n",
       "      <td>118</td>\n",
       "      <td>735</td>\n",
       "      <td>935</td>\n",
       "    </tr>\n",
       "    <tr>\n",
       "      <th>4</th>\n",
       "      <td>B019282</td>\n",
       "      <td>34</td>\n",
       "      <td>782</td>\n",
       "      <td>171</td>\n",
       "      <td>193</td>\n",
       "      <td>521</td>\n",
       "      <td>245</td>\n",
       "      <td>265</td>\n",
       "      <td>170</td>\n",
       "      <td>791</td>\n",
       "      <td>...</td>\n",
       "      <td>509</td>\n",
       "      <td>244</td>\n",
       "      <td>246</td>\n",
       "      <td>639</td>\n",
       "      <td>783</td>\n",
       "      <td>978</td>\n",
       "      <td>809</td>\n",
       "      <td>158</td>\n",
       "      <td>786</td>\n",
       "      <td>28</td>\n",
       "    </tr>\n",
       "  </tbody>\n",
       "</table>\n",
       "<p>5 rows × 31 columns</p>\n",
       "</div>"
      ],
      "text/plain": [
       "   batchID  test1  test2  test3  test4  test5  test6  test7  test8  test9  \\\n",
       "0  B008010    900    769    977    664    376    695    114    246    152   \n",
       "1  B011090    760    531      6    151    195    703    436    997    364   \n",
       "2  B045268     32    214    948    693    461    581    667    563    714   \n",
       "3  B048308    509    836    193    886    834    773    349    803    146   \n",
       "4  B019282     34    782    171    193    521    245    265    170    791   \n",
       "\n",
       "   ...  test21  test22  test23  test24  test25  test26  test27  test28  \\\n",
       "0  ...     129     859     448     373     124     751     611     492   \n",
       "1  ...     667     508     215      15      48     286     887      28   \n",
       "2  ...     668     382     221     893     384     428     199     924   \n",
       "3  ...     656     556     168     882     314     653     711     118   \n",
       "4  ...     509     244     246     639     783     978     809     158   \n",
       "\n",
       "   test29  test30  \n",
       "0      99     779  \n",
       "1     938     863  \n",
       "2       7     751  \n",
       "3     735     935  \n",
       "4     786      28  \n",
       "\n",
       "[5 rows x 31 columns]"
      ]
     },
     "execution_count": 4,
     "metadata": {},
     "output_type": "execute_result"
    }
   ],
   "source": [
    "print(\"Dataframe measurements contains %d rows and %d columns\" %measurements.shape)\n",
    "measurements.head() # display first 5 rows of measurements"
   ]
  },
  {
   "cell_type": "markdown",
   "metadata": {
    "id": "N3fDjXDVFWi6"
   },
   "source": [
    "## Label batches\n",
    "We consider a batch to be of *poor* quality if it contains more than one defective item; otherwise, the batch quality is considered *good*. \n",
    "\n",
    "The dataframe *defective* contains *batchID* for batches in which defective items were produced.\n",
    "\n",
    "We shall identify batches with more than one defective items using *SQL* and *pandas*, and confirm that the set of poor quality batches found using both methods are identical.\n",
    "\n",
    "We shall then label each batch in the dataframe *measurements* as either a *poor* quality batch or a *good* quality batch.   \n",
    "\n",
    "\n"
   ]
  },
  {
   "cell_type": "markdown",
   "metadata": {
    "id": "8Y-8vNSXQ5aN"
   },
   "source": [
    "### Using SQL\n",
    "\n",
    "**SQL** queries may be executed using *pandasql*; each dataframe is a table."
   ]
  },
  {
   "cell_type": "code",
   "execution_count": 5,
   "metadata": {
    "colab": {
     "base_uri": "https://localhost:8080/",
     "height": 407
    },
    "id": "XldgeYERFmQq",
    "outputId": "9ae8f5e2-cf47-4726-de15-67f13fb2c401"
   },
   "outputs": [
    {
     "name": "stdout",
     "output_type": "stream",
     "text": [
      "Number of poor quality batches = 2320\n",
      "Proportion of poor quality batches = 0.4640\n",
      "Quality of first 10 batches\n"
     ]
    },
    {
     "data": {
      "text/html": [
       "<div>\n",
       "<style scoped>\n",
       "    .dataframe tbody tr th:only-of-type {\n",
       "        vertical-align: middle;\n",
       "    }\n",
       "\n",
       "    .dataframe tbody tr th {\n",
       "        vertical-align: top;\n",
       "    }\n",
       "\n",
       "    .dataframe thead th {\n",
       "        text-align: right;\n",
       "    }\n",
       "</style>\n",
       "<table border=\"1\" class=\"dataframe\">\n",
       "  <thead>\n",
       "    <tr style=\"text-align: right;\">\n",
       "      <th></th>\n",
       "      <th>batchID</th>\n",
       "      <th>quality</th>\n",
       "    </tr>\n",
       "  </thead>\n",
       "  <tbody>\n",
       "    <tr>\n",
       "      <th>0</th>\n",
       "      <td>B008010</td>\n",
       "      <td>good</td>\n",
       "    </tr>\n",
       "    <tr>\n",
       "      <th>1</th>\n",
       "      <td>B011090</td>\n",
       "      <td>poor</td>\n",
       "    </tr>\n",
       "    <tr>\n",
       "      <th>2</th>\n",
       "      <td>B045268</td>\n",
       "      <td>poor</td>\n",
       "    </tr>\n",
       "    <tr>\n",
       "      <th>3</th>\n",
       "      <td>B048308</td>\n",
       "      <td>poor</td>\n",
       "    </tr>\n",
       "    <tr>\n",
       "      <th>4</th>\n",
       "      <td>B019282</td>\n",
       "      <td>good</td>\n",
       "    </tr>\n",
       "    <tr>\n",
       "      <th>5</th>\n",
       "      <td>B034963</td>\n",
       "      <td>poor</td>\n",
       "    </tr>\n",
       "    <tr>\n",
       "      <th>6</th>\n",
       "      <td>B001208</td>\n",
       "      <td>poor</td>\n",
       "    </tr>\n",
       "    <tr>\n",
       "      <th>7</th>\n",
       "      <td>B039396</td>\n",
       "      <td>good</td>\n",
       "    </tr>\n",
       "    <tr>\n",
       "      <th>8</th>\n",
       "      <td>B047545</td>\n",
       "      <td>good</td>\n",
       "    </tr>\n",
       "    <tr>\n",
       "      <th>9</th>\n",
       "      <td>B040358</td>\n",
       "      <td>good</td>\n",
       "    </tr>\n",
       "  </tbody>\n",
       "</table>\n",
       "</div>"
      ],
      "text/plain": [
       "   batchID quality\n",
       "0  B008010    good\n",
       "1  B011090    poor\n",
       "2  B045268    poor\n",
       "3  B048308    poor\n",
       "4  B019282    good\n",
       "5  B034963    poor\n",
       "6  B001208    poor\n",
       "7  B039396    good\n",
       "8  B047545    good\n",
       "9  B040358    good"
      ]
     },
     "execution_count": 5,
     "metadata": {},
     "output_type": "execute_result"
    }
   ],
   "source": [
    "# define a string q with the SQL query to identify poor quality bacthers\n",
    "q = \"\"\"\n",
    "select batchID  \n",
    "from defective\n",
    "group by batchID \n",
    "having count(*) > 1;\n",
    "\"\"\"\n",
    "\n",
    "poor_batches_SQL = pandasql.sqldf(q).values # evaluate query to get poor quality batches\n",
    "\n",
    "print(\"Number of poor quality batches = %d\" %len(poor_batches_SQL))\n",
    "print(\"Proportion of poor quality batches = %4.4f\" %(len(poor_batches_SQL)/len(measurements)))\n",
    "\n",
    "# assign labels to each batch in the dataframe measurements\n",
    "labels = ['poor' if b in poor_batches_SQL else 'good' \n",
    "          for b in measurements.batchID] # assign labels for batches\n",
    "\n",
    "# create dataframe with quality of batches labeled 'poor' or 'good'\n",
    "quality_SQL = pd.DataFrame(zip(measurements.batchID, labels), columns=['batchID', 'quality'])\n",
    "quality_SQL.head(10).to_csv('quality_SQL.csv', index=False) # save results for first 10 batches\n",
    "print(\"Quality of first 10 batches\")\n",
    "quality_SQL.head(10)"
   ]
  },
  {
   "cell_type": "markdown",
   "metadata": {
    "id": "fKSEJnNuPVpT"
   },
   "source": [
    "### Using pandas"
   ]
  },
  {
   "cell_type": "code",
   "execution_count": 6,
   "metadata": {
    "colab": {
     "base_uri": "https://localhost:8080/",
     "height": 407
    },
    "id": "l7GXMSkTkDiV",
    "outputId": "01618966-ae6a-4655-f295-be05dcee0200"
   },
   "outputs": [
    {
     "name": "stdout",
     "output_type": "stream",
     "text": [
      "Number of poor quality batches = 2320\n",
      "Proportion of poor quality batches = 0.4640\n",
      "Quality of first 10 batches\n"
     ]
    },
    {
     "data": {
      "text/html": [
       "<div>\n",
       "<style scoped>\n",
       "    .dataframe tbody tr th:only-of-type {\n",
       "        vertical-align: middle;\n",
       "    }\n",
       "\n",
       "    .dataframe tbody tr th {\n",
       "        vertical-align: top;\n",
       "    }\n",
       "\n",
       "    .dataframe thead th {\n",
       "        text-align: right;\n",
       "    }\n",
       "</style>\n",
       "<table border=\"1\" class=\"dataframe\">\n",
       "  <thead>\n",
       "    <tr style=\"text-align: right;\">\n",
       "      <th></th>\n",
       "      <th>batchID</th>\n",
       "      <th>quality</th>\n",
       "    </tr>\n",
       "  </thead>\n",
       "  <tbody>\n",
       "    <tr>\n",
       "      <th>0</th>\n",
       "      <td>B008010</td>\n",
       "      <td>good</td>\n",
       "    </tr>\n",
       "    <tr>\n",
       "      <th>1</th>\n",
       "      <td>B011090</td>\n",
       "      <td>poor</td>\n",
       "    </tr>\n",
       "    <tr>\n",
       "      <th>2</th>\n",
       "      <td>B045268</td>\n",
       "      <td>poor</td>\n",
       "    </tr>\n",
       "    <tr>\n",
       "      <th>3</th>\n",
       "      <td>B048308</td>\n",
       "      <td>poor</td>\n",
       "    </tr>\n",
       "    <tr>\n",
       "      <th>4</th>\n",
       "      <td>B019282</td>\n",
       "      <td>good</td>\n",
       "    </tr>\n",
       "    <tr>\n",
       "      <th>5</th>\n",
       "      <td>B034963</td>\n",
       "      <td>poor</td>\n",
       "    </tr>\n",
       "    <tr>\n",
       "      <th>6</th>\n",
       "      <td>B001208</td>\n",
       "      <td>poor</td>\n",
       "    </tr>\n",
       "    <tr>\n",
       "      <th>7</th>\n",
       "      <td>B039396</td>\n",
       "      <td>good</td>\n",
       "    </tr>\n",
       "    <tr>\n",
       "      <th>8</th>\n",
       "      <td>B047545</td>\n",
       "      <td>good</td>\n",
       "    </tr>\n",
       "    <tr>\n",
       "      <th>9</th>\n",
       "      <td>B040358</td>\n",
       "      <td>good</td>\n",
       "    </tr>\n",
       "  </tbody>\n",
       "</table>\n",
       "</div>"
      ],
      "text/plain": [
       "   batchID quality\n",
       "0  B008010    good\n",
       "1  B011090    poor\n",
       "2  B045268    poor\n",
       "3  B048308    poor\n",
       "4  B019282    good\n",
       "5  B034963    poor\n",
       "6  B001208    poor\n",
       "7  B039396    good\n",
       "8  B047545    good\n",
       "9  B040358    good"
      ]
     },
     "execution_count": 6,
     "metadata": {},
     "output_type": "execute_result"
    }
   ],
   "source": [
    "g = defective.groupby('batchID') # group defective items by batches\n",
    "poor_batches = g.filter(lambda x: len(x)>1).batchID.unique() # batches with more than 1 defective items\n",
    "\n",
    "print(\"Number of poor quality batches = %d\" %len(poor_batches))\n",
    "print(\"Proportion of poor quality batches = %4.4f\" %(len(poor_batches)/len(measurements)))\n",
    "\n",
    "labels = ['poor' if b in poor_batches else 'good' for b in measurements.batchID] # labels for batches\n",
    "\n",
    "# create dataframe with quality of batches labeled 'poor' or 'good'\n",
    "quality = pd.DataFrame(zip(measurements.batchID, labels), columns=['batchID', 'quality'])\n",
    "quality.head(10).to_csv('quality.csv', index=False)\n",
    "print(\"Quality of first 10 batches\")\n",
    "quality.head(10)"
   ]
  },
  {
   "cell_type": "markdown",
   "metadata": {
    "id": "J_0X0kaHSFMd"
   },
   "source": [
    "### Confirm that quality results are identical"
   ]
  },
  {
   "cell_type": "code",
   "execution_count": 7,
   "metadata": {
    "colab": {
     "base_uri": "https://localhost:8080/"
    },
    "id": "OJxSZuA9Rq6G",
    "outputId": "bd247d74-ec28-4de7-90bc-25113ec75c34"
   },
   "outputs": [
    {
     "data": {
      "text/plain": [
       "True"
      ]
     },
     "execution_count": 7,
     "metadata": {},
     "output_type": "execute_result"
    }
   ],
   "source": [
    "all(quality==quality_SQL)"
   ]
  },
  {
   "cell_type": "markdown",
   "metadata": {
    "id": "O0vaBXE5Tjzw"
   },
   "source": [
    "## Reserve data for validation\n",
    "\n",
    "We shall use the first 4000 samples for training and reserve the last 1000 samples for validation.\n",
    "\n",
    "*X_train*, *y_train*: contain input feature values and output labels for training data.\n",
    "\n",
    "*X_test*, *y_test*: contain input feature values and output labels for validation data."
   ]
  },
  {
   "cell_type": "code",
   "execution_count": 8,
   "metadata": {
    "colab": {
     "base_uri": "https://localhost:8080/"
    },
    "id": "e9LvlZGGTnIH",
    "outputId": "75f75da9-e0e6-4d4e-e515-507f95ef024a"
   },
   "outputs": [
    {
     "name": "stdout",
     "output_type": "stream",
     "text": [
      "Number of input features = 30\n",
      "test1, test2, test3, test4, test5, test6, test7, test8, test9, test10, test11, test12, test13, test14, test15, test16, test17, test18, test19, test20, test21, test22, test23, test24, test25, test26, test27, test28, test29, test30\n",
      "First 4000 samples used for training\n"
     ]
    }
   ],
   "source": [
    "# all but the first column in dataframe measurements are input features\n",
    "features = list(measurements)[1:] # column headers for input features\n",
    "print(\"Number of input features = %d\" %len(features))\n",
    "print(', '.join(features)) # display features\n",
    "\n",
    "k = 4000 # use first k samples for training\n",
    "print(\"First %d samples used for training\" %k)\n",
    "X_train, y_train = measurements[features][:k], quality.quality[:k] # input, label for training\n",
    "X_test, y_test = measurements[features][k:], quality.quality[k:] # input, label for validation"
   ]
  },
  {
   "cell_type": "markdown",
   "metadata": {
    "id": "jo8NFYZbV1bY"
   },
   "source": [
    "## Cross validation accuracy\n",
    "\n",
    "We shall use *Scikit-Learn* *DecisionTreeClassifier* to predict batch quality based on measurements from the 30 tests.\n",
    "\n",
    "Since our goal is to achieve satisfactory classification using as few rules as possible, we shall investigate how classification accuracy varies as we increase the maximum number of leaf nodes (rules)in the decision tree. \n",
    "\n",
    "We shall use 5-fold cross-validation with the training samples for this investigation."
   ]
  },
  {
   "cell_type": "code",
   "execution_count": 9,
   "metadata": {
    "colab": {
     "base_uri": "https://localhost:8080/"
    },
    "id": "chvxgzFbkRNZ",
    "outputId": "fd15c241-8884-4c98-b3bb-7912d6a68d03"
   },
   "outputs": [
    {
     "name": "stdout",
     "output_type": "stream",
     "text": [
      "Cross validation accuracy with 2 rules = 0.6182\n",
      "Cross validation accuracy with 3 rules = 0.7330\n",
      "Cross validation accuracy with 4 rules = 0.8387\n",
      "Cross validation accuracy with 5 rules = 0.9125\n",
      "Cross validation accuracy with 6 rules = 0.9807\n",
      "Cross validation accuracy with 7 rules = 0.9803\n",
      "Cross validation accuracy with 8 rules = 0.9803\n",
      "Cross validation accuracy with 9 rules = 0.9790\n"
     ]
    }
   ],
   "source": [
    "for k in range(2, 10): # maximum number of leaf-nodes (rules)\n",
    "    model = DecisionTreeClassifier(max_leaf_nodes=k) # tree with k rules\n",
    "    acc = cross_val_score(model, X_train, y_train).mean() # mean accuracy in 5-fold cross-validation\n",
    "    print(\"Cross validation accuracy with %d rules = %4.4f\" %(k, acc))"
   ]
  },
  {
   "cell_type": "markdown",
   "metadata": {
    "id": "w_BLT8meZQXW"
   },
   "source": [
    "## Choose a good model\n",
    "\n",
    "Choose the number of rules that results in satisfactory cross-validation accuracy"
   ]
  },
  {
   "cell_type": "code",
   "execution_count": 10,
   "metadata": {
    "colab": {
     "base_uri": "https://localhost:8080/",
     "height": 575
    },
    "id": "ghh7V2gWZa4K",
    "outputId": "bb0bb29a-6cba-4a13-9127-492d8193790b"
   },
   "outputs": [
    {
     "data": {
      "image/png": "[encoded data removed]",
      "text/plain": [
       "<Figure size 720x720 with 1 Axes>"
      ]
     },
     "metadata": {
      "needs_background": "light"
     },
     "output_type": "display_data"
    }
   ],
   "source": [
    "k = 6 # chosen number of leaf nodes\n",
    "model = DecisionTreeClassifier(max_leaf_nodes=k) # create model\n",
    "model.fit(X_train, y_train) # train model \n",
    "\n",
    "plt.figure(figsize=(10, 10)) # size of figure to be displayed\n",
    "\n",
    "CL = model.classes_ # class labels (good / poor)\n",
    "plot_tree(model, feature_names=features, class_names=CL, \n",
    "          filled=True, rounded=True, impurity=False) # plot tree\n",
    "\n",
    "plt.savefig(\"decision_tree.png\") # save as PNG file\n",
    "plt.show() # show tree"
   ]
  },
  {
   "cell_type": "markdown",
   "metadata": {
    "id": "yq1mMxcaarPz"
   },
   "source": [
    "## Results with training data"
   ]
  },
  {
   "cell_type": "code",
   "execution_count": 11,
   "metadata": {
    "colab": {
     "base_uri": "https://localhost:8080/",
     "height": 127
    },
    "id": "wMWs_A9Bkf7h",
    "outputId": "0b202297-aeba-4afa-db80-ed59d9d6a4c7"
   },
   "outputs": [
    {
     "name": "stdout",
     "output_type": "stream",
     "text": [
      "Training accuracy  = 0.9815\n"
     ]
    },
    {
     "data": {
      "text/html": [
       "<div>\n",
       "<style scoped>\n",
       "    .dataframe tbody tr th:only-of-type {\n",
       "        vertical-align: middle;\n",
       "    }\n",
       "\n",
       "    .dataframe tbody tr th {\n",
       "        vertical-align: top;\n",
       "    }\n",
       "\n",
       "    .dataframe thead th {\n",
       "        text-align: right;\n",
       "    }\n",
       "</style>\n",
       "<table border=\"1\" class=\"dataframe\">\n",
       "  <thead>\n",
       "    <tr style=\"text-align: right;\">\n",
       "      <th></th>\n",
       "      <th>Predicted good</th>\n",
       "      <th>Predicted poor</th>\n",
       "    </tr>\n",
       "  </thead>\n",
       "  <tbody>\n",
       "    <tr>\n",
       "      <th>good</th>\n",
       "      <td>2109</td>\n",
       "      <td>37</td>\n",
       "    </tr>\n",
       "    <tr>\n",
       "      <th>poor</th>\n",
       "      <td>37</td>\n",
       "      <td>1817</td>\n",
       "    </tr>\n",
       "  </tbody>\n",
       "</table>\n",
       "</div>"
      ],
      "text/plain": [
       "      Predicted good  Predicted poor\n",
       "good            2109              37\n",
       "poor              37            1817"
      ]
     },
     "execution_count": 11,
     "metadata": {},
     "output_type": "execute_result"
    }
   ],
   "source": [
    "pred_train = model.predict(X_train) # predicted labels for training samples\n",
    "acc_train = accuracy_score(y_train, pred_train) # training accuracy\n",
    "print(\"Training accuracy  = %4.4f\" %(acc_train))\n",
    "# confusion matrix\n",
    "cm = pd.DataFrame(confusion_matrix(y_train, pred_train), columns=[f'Predicted {c}' for c in CL], index=CL)\n",
    "cm.to_csv('training_confusion_matrix.csv') # save confusion matrix\n",
    "cm"
   ]
  },
  {
   "cell_type": "markdown",
   "metadata": {
    "id": "b_mWImthgz-H"
   },
   "source": [
    "## Results with validation data"
   ]
  },
  {
   "cell_type": "code",
   "execution_count": 12,
   "metadata": {
    "colab": {
     "base_uri": "https://localhost:8080/",
     "height": 127
    },
    "id": "x2TiZ29fg5p2",
    "outputId": "0a05f3f2-6e60-43b8-ffb8-47f4ee7bdb01"
   },
   "outputs": [
    {
     "name": "stdout",
     "output_type": "stream",
     "text": [
      "Validation accuracy  = 0.9990\n"
     ]
    },
    {
     "data": {
      "text/html": [
       "<div>\n",
       "<style scoped>\n",
       "    .dataframe tbody tr th:only-of-type {\n",
       "        vertical-align: middle;\n",
       "    }\n",
       "\n",
       "    .dataframe tbody tr th {\n",
       "        vertical-align: top;\n",
       "    }\n",
       "\n",
       "    .dataframe thead th {\n",
       "        text-align: right;\n",
       "    }\n",
       "</style>\n",
       "<table border=\"1\" class=\"dataframe\">\n",
       "  <thead>\n",
       "    <tr style=\"text-align: right;\">\n",
       "      <th></th>\n",
       "      <th>Predicted good</th>\n",
       "      <th>Predicted poor</th>\n",
       "    </tr>\n",
       "  </thead>\n",
       "  <tbody>\n",
       "    <tr>\n",
       "      <th>good</th>\n",
       "      <td>534</td>\n",
       "      <td>0</td>\n",
       "    </tr>\n",
       "    <tr>\n",
       "      <th>poor</th>\n",
       "      <td>1</td>\n",
       "      <td>465</td>\n",
       "    </tr>\n",
       "  </tbody>\n",
       "</table>\n",
       "</div>"
      ],
      "text/plain": [
       "      Predicted good  Predicted poor\n",
       "good             534               0\n",
       "poor               1             465"
      ]
     },
     "execution_count": 12,
     "metadata": {},
     "output_type": "execute_result"
    }
   ],
   "source": [
    "pred_test = model.predict(X_test) # predicted labels for validation samples\n",
    "acc_test = accuracy_score(y_test, pred_test) # validation accuracy\n",
    "print(\"Validation accuracy  = %4.4f\" %(acc_test))\n",
    "cm = pd.DataFrame(confusion_matrix(y_test, pred_test), columns=[f'Predicted {c}' for c in CL], index=CL)\n",
    "cm.to_csv('validation_confusion_matrix.csv')\n",
    "cm"
   ]
  },
  {
   "cell_type": "markdown",
   "metadata": {
    "id": "kHTaMuTziou6"
   },
   "source": [
    "## Predict quality for unlabeled samples"
   ]
  },
  {
   "cell_type": "code",
   "execution_count": 13,
   "metadata": {
    "colab": {
     "base_uri": "https://localhost:8080/",
     "height": 1000
    },
    "id": "8NxW-m-qisch",
    "outputId": "7039bf18-c317-4251-dca1-5feec5cd70cb"
   },
   "outputs": [
    {
     "data": {
      "text/html": [
       "<div>\n",
       "<style scoped>\n",
       "    .dataframe tbody tr th:only-of-type {\n",
       "        vertical-align: middle;\n",
       "    }\n",
       "\n",
       "    .dataframe tbody tr th {\n",
       "        vertical-align: top;\n",
       "    }\n",
       "\n",
       "    .dataframe thead th {\n",
       "        text-align: right;\n",
       "    }\n",
       "</style>\n",
       "<table border=\"1\" class=\"dataframe\">\n",
       "  <thead>\n",
       "    <tr style=\"text-align: right;\">\n",
       "      <th></th>\n",
       "      <th>batchID</th>\n",
       "      <th>quality</th>\n",
       "    </tr>\n",
       "  </thead>\n",
       "  <tbody>\n",
       "    <tr>\n",
       "      <th>0</th>\n",
       "      <td>B017716</td>\n",
       "      <td>good</td>\n",
       "    </tr>\n",
       "    <tr>\n",
       "      <th>1</th>\n",
       "      <td>B048487</td>\n",
       "      <td>good</td>\n",
       "    </tr>\n",
       "    <tr>\n",
       "      <th>2</th>\n",
       "      <td>B016826</td>\n",
       "      <td>good</td>\n",
       "    </tr>\n",
       "    <tr>\n",
       "      <th>3</th>\n",
       "      <td>B012928</td>\n",
       "      <td>good</td>\n",
       "    </tr>\n",
       "    <tr>\n",
       "      <th>4</th>\n",
       "      <td>B038301</td>\n",
       "      <td>good</td>\n",
       "    </tr>\n",
       "    <tr>\n",
       "      <th>5</th>\n",
       "      <td>B037144</td>\n",
       "      <td>good</td>\n",
       "    </tr>\n",
       "    <tr>\n",
       "      <th>6</th>\n",
       "      <td>B044445</td>\n",
       "      <td>good</td>\n",
       "    </tr>\n",
       "    <tr>\n",
       "      <th>7</th>\n",
       "      <td>B040016</td>\n",
       "      <td>good</td>\n",
       "    </tr>\n",
       "    <tr>\n",
       "      <th>8</th>\n",
       "      <td>B004985</td>\n",
       "      <td>good</td>\n",
       "    </tr>\n",
       "    <tr>\n",
       "      <th>9</th>\n",
       "      <td>B036770</td>\n",
       "      <td>good</td>\n",
       "    </tr>\n",
       "    <tr>\n",
       "      <th>10</th>\n",
       "      <td>B008438</td>\n",
       "      <td>good</td>\n",
       "    </tr>\n",
       "    <tr>\n",
       "      <th>11</th>\n",
       "      <td>B005217</td>\n",
       "      <td>good</td>\n",
       "    </tr>\n",
       "    <tr>\n",
       "      <th>12</th>\n",
       "      <td>B023240</td>\n",
       "      <td>good</td>\n",
       "    </tr>\n",
       "    <tr>\n",
       "      <th>13</th>\n",
       "      <td>B020154</td>\n",
       "      <td>good</td>\n",
       "    </tr>\n",
       "    <tr>\n",
       "      <th>14</th>\n",
       "      <td>B031677</td>\n",
       "      <td>good</td>\n",
       "    </tr>\n",
       "    <tr>\n",
       "      <th>15</th>\n",
       "      <td>B016107</td>\n",
       "      <td>good</td>\n",
       "    </tr>\n",
       "    <tr>\n",
       "      <th>16</th>\n",
       "      <td>B008896</td>\n",
       "      <td>good</td>\n",
       "    </tr>\n",
       "    <tr>\n",
       "      <th>17</th>\n",
       "      <td>B005459</td>\n",
       "      <td>good</td>\n",
       "    </tr>\n",
       "    <tr>\n",
       "      <th>18</th>\n",
       "      <td>B037559</td>\n",
       "      <td>good</td>\n",
       "    </tr>\n",
       "    <tr>\n",
       "      <th>19</th>\n",
       "      <td>B037247</td>\n",
       "      <td>good</td>\n",
       "    </tr>\n",
       "    <tr>\n",
       "      <th>20</th>\n",
       "      <td>B003005</td>\n",
       "      <td>good</td>\n",
       "    </tr>\n",
       "    <tr>\n",
       "      <th>21</th>\n",
       "      <td>B003803</td>\n",
       "      <td>good</td>\n",
       "    </tr>\n",
       "    <tr>\n",
       "      <th>22</th>\n",
       "      <td>B037352</td>\n",
       "      <td>poor</td>\n",
       "    </tr>\n",
       "    <tr>\n",
       "      <th>23</th>\n",
       "      <td>B040265</td>\n",
       "      <td>poor</td>\n",
       "    </tr>\n",
       "    <tr>\n",
       "      <th>24</th>\n",
       "      <td>B013804</td>\n",
       "      <td>poor</td>\n",
       "    </tr>\n",
       "    <tr>\n",
       "      <th>25</th>\n",
       "      <td>B001425</td>\n",
       "      <td>poor</td>\n",
       "    </tr>\n",
       "    <tr>\n",
       "      <th>26</th>\n",
       "      <td>B046266</td>\n",
       "      <td>poor</td>\n",
       "    </tr>\n",
       "    <tr>\n",
       "      <th>27</th>\n",
       "      <td>B001338</td>\n",
       "      <td>poor</td>\n",
       "    </tr>\n",
       "    <tr>\n",
       "      <th>28</th>\n",
       "      <td>B029425</td>\n",
       "      <td>poor</td>\n",
       "    </tr>\n",
       "    <tr>\n",
       "      <th>29</th>\n",
       "      <td>B022578</td>\n",
       "      <td>poor</td>\n",
       "    </tr>\n",
       "    <tr>\n",
       "      <th>30</th>\n",
       "      <td>B018719</td>\n",
       "      <td>poor</td>\n",
       "    </tr>\n",
       "    <tr>\n",
       "      <th>31</th>\n",
       "      <td>B046438</td>\n",
       "      <td>poor</td>\n",
       "    </tr>\n",
       "    <tr>\n",
       "      <th>32</th>\n",
       "      <td>B010685</td>\n",
       "      <td>poor</td>\n",
       "    </tr>\n",
       "    <tr>\n",
       "      <th>33</th>\n",
       "      <td>B042160</td>\n",
       "      <td>poor</td>\n",
       "    </tr>\n",
       "    <tr>\n",
       "      <th>34</th>\n",
       "      <td>B001382</td>\n",
       "      <td>poor</td>\n",
       "    </tr>\n",
       "    <tr>\n",
       "      <th>35</th>\n",
       "      <td>B034806</td>\n",
       "      <td>poor</td>\n",
       "    </tr>\n",
       "    <tr>\n",
       "      <th>36</th>\n",
       "      <td>B049009</td>\n",
       "      <td>poor</td>\n",
       "    </tr>\n",
       "    <tr>\n",
       "      <th>37</th>\n",
       "      <td>B020917</td>\n",
       "      <td>poor</td>\n",
       "    </tr>\n",
       "    <tr>\n",
       "      <th>38</th>\n",
       "      <td>B045252</td>\n",
       "      <td>poor</td>\n",
       "    </tr>\n",
       "    <tr>\n",
       "      <th>39</th>\n",
       "      <td>B039985</td>\n",
       "      <td>poor</td>\n",
       "    </tr>\n",
       "  </tbody>\n",
       "</table>\n",
       "</div>"
      ],
      "text/plain": [
       "    batchID quality\n",
       "0   B017716    good\n",
       "1   B048487    good\n",
       "2   B016826    good\n",
       "3   B012928    good\n",
       "4   B038301    good\n",
       "5   B037144    good\n",
       "6   B044445    good\n",
       "7   B040016    good\n",
       "8   B004985    good\n",
       "9   B036770    good\n",
       "10  B008438    good\n",
       "11  B005217    good\n",
       "12  B023240    good\n",
       "13  B020154    good\n",
       "14  B031677    good\n",
       "15  B016107    good\n",
       "16  B008896    good\n",
       "17  B005459    good\n",
       "18  B037559    good\n",
       "19  B037247    good\n",
       "20  B003005    good\n",
       "21  B003803    good\n",
       "22  B037352    poor\n",
       "23  B040265    poor\n",
       "24  B013804    poor\n",
       "25  B001425    poor\n",
       "26  B046266    poor\n",
       "27  B001338    poor\n",
       "28  B029425    poor\n",
       "29  B022578    poor\n",
       "30  B018719    poor\n",
       "31  B046438    poor\n",
       "32  B010685    poor\n",
       "33  B042160    poor\n",
       "34  B001382    poor\n",
       "35  B034806    poor\n",
       "36  B049009    poor\n",
       "37  B020917    poor\n",
       "38  B045252    poor\n",
       "39  B039985    poor"
      ]
     },
     "execution_count": 13,
     "metadata": {},
     "output_type": "execute_result"
    }
   ],
   "source": [
    "new_labels = pd.DataFrame()\n",
    "new_labels['batchID'] = new_batches.batchID\n",
    "new_labels['quality'] = model.predict(new_batches[features])\n",
    "new_labels.to_csv(\"new_labels.csv\", index=False)\n",
    "new_labels"
   ]
  }
 ],
 "metadata": {
  "colab": {
   "collapsed_sections": [],
   "name": "MMIS692_Quality_Control_Example.ipynb",
   "provenance": [],
   "toc_visible": true
  },
  "kernelspec": {
   "display_name": "Python 3 (ipykernel)",
   "language": "python",
   "name": "python3"
  },
  "language_info": {
   "codemirror_mode": {
    "name": "ipython",
    "version": 3
   },
   "file_extension": ".py",
   "mimetype": "text/x-python",
   "name": "python",
   "nbconvert_exporter": "python",
   "pygments_lexer": "ipython3",
   "version": "3.9.6"
  }
 },
 "nbformat": 4,
 "nbformat_minor": 4
}
