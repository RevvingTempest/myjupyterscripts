{
 "cells": [
  {
   "cell_type": "markdown",
   "metadata": {
    "id": "YpBqvWesiCYC"
   },
   "source": [
    "# MMIS 692: Production Planning"
   ]
  },
  {
   "cell_type": "markdown",
   "metadata": {
    "id": "y8J7S64rxIkw"
   },
   "source": [
    "## Formulate LP model\n",
    "\n",
    "#### Parameters of the LP model:\n",
    "- $D_i$ is the demand (number of units required) for product $i$.\n",
    "- $C_i$ is the cost (in dollars) for producing each unit of product $i$ *in-house*.\n",
    "- $P_i$ is the price (in dollars) for purchasing each unit of product $i$.\n",
    "- $m_i$ is the machining time (in minutes) required to produce each unit of product $i$.\n",
    "- $a_i$ is the assembly time (in minutes) required to produce each unit of product $i$.\n",
    "- $f_i$ is the finishing time (in minutes) required to produce each unit of product $i$.\n",
    "- $T_m$ is the machining time available (in minutes)\n",
    "- $T_a$ is the assembly time available (in minutes)\n",
    "- $T_f$ is the finishing time available (in minutes)\n",
    "\n",
    "#### Decision Variables (all variables non-negative):\n",
    "- $X_i$ : for $i=1,2,...,5$: number of units of product $i$ produced.\n",
    "- $Y_i$ : for $i=1,2,...,5$: number of units of product $i$ purchased.\n",
    "\n",
    "#### Objective function:\n",
    "- Minimize Cost = $\\sum_{i=1}^5 \\  (C_i X_i  +  P_i Y_i)$\n",
    "\n",
    "#### Constraints:\n",
    "- Demand: $X_i + Y_i \\ge D_i$ for $i=1,2,..,5$\n",
    "- Machining time: $\\sum_{i=1}^5 \\  m_i X_i  \\le  T_m$\n",
    "- Assembly time: $\\sum_{i=1}^5 \\  a_i X_i  \\le  T_a$\n",
    "- Finishing time: $\\sum_{i=1}^5 \\  f_i X_i  \\le  T_f$\n",
    "\n"
   ]
  },
  {
   "cell_type": "markdown",
   "metadata": {
    "id": "VDgcskFIiUjd",
    "tags": []
   },
   "source": [
    "## Import libraries\r\n",
    "\r\n",
    "We shall use the Python library *PuLP* (https://pypi.org/project/PuLP/) for creating and solving the LP model. "
   ]
  },
  {
   "cell_type": "code",
   "execution_count": 1,
   "metadata": {
    "colab": {
     "base_uri": "https://localhost:8080/"
    },
    "id": "JkI-mQvUiI7S",
    "outputId": "aa5196bf-c15c-4bcd-9560-7e3677311650"
   },
   "outputs": [],
   "source": [
    "# ! pip install pulp # install if necessary\n",
    "from pulp import * # for LP model\n",
    "import pandas as pd # for data handle"
   ]
  },
  {
   "cell_type": "markdown",
   "metadata": {
    "id": "CGJgTP1oidaC"
   },
   "source": [
    "## Get data\r\n",
    "\r\n",
    "We shall extract *CSV* files from the *zip* file with data and read the data we need for this task into *pandas* dataframes:\r\n",
    "- ***product***: with data from '*production_planning.product*'.csv'\r\n",
    "- ***resource***: with data from '*production_planning.resource.csv*'"
   ]
  },
  {
   "cell_type": "code",
   "execution_count": 2,
   "metadata": {
    "colab": {
     "base_uri": "https://localhost:8080/"
    },
    "id": "TAYItHIMig7g",
    "outputId": "fdd2cbcc-500e-4635-99a7-c236636db2cd"
   },
   "outputs": [],
   "source": [
    "# ! unzip '/content/drive/MyDrive/Colab Notebooks/courses/MMIS692_Summer2021/data.MMIS692.Sample.zip'\n",
    "product = pd.read_csv('production_planning.product.csv') # dataframe with product data\n",
    "resource = pd.read_csv('production_planning.resource.csv') # dataframe with resource data\n",
    "# ! rm *.csv # remove all data files to avoid clutter"
   ]
  },
  {
   "cell_type": "code",
   "execution_count": 3,
   "metadata": {
    "colab": {
     "base_uri": "https://localhost:8080/",
     "height": 225
    },
    "id": "q35v_U_SiyUt",
    "outputId": "b6627221-ee95-4d39-ae25-f7e03b359d94"
   },
   "outputs": [
    {
     "data": {
      "text/html": [
       "<div>\n",
       "<style scoped>\n",
       "    .dataframe tbody tr th:only-of-type {\n",
       "        vertical-align: middle;\n",
       "    }\n",
       "\n",
       "    .dataframe tbody tr th {\n",
       "        vertical-align: top;\n",
       "    }\n",
       "\n",
       "    .dataframe thead th {\n",
       "        text-align: right;\n",
       "    }\n",
       "</style>\n",
       "<table border=\"1\" class=\"dataframe\">\n",
       "  <thead>\n",
       "    <tr style=\"text-align: right;\">\n",
       "      <th></th>\n",
       "      <th>parameter</th>\n",
       "      <th>P1</th>\n",
       "      <th>P2</th>\n",
       "      <th>P3</th>\n",
       "      <th>P4</th>\n",
       "      <th>P5</th>\n",
       "    </tr>\n",
       "  </thead>\n",
       "  <tbody>\n",
       "    <tr>\n",
       "      <th>0</th>\n",
       "      <td>demand</td>\n",
       "      <td>7000</td>\n",
       "      <td>9000</td>\n",
       "      <td>8000</td>\n",
       "      <td>6000</td>\n",
       "      <td>4000</td>\n",
       "    </tr>\n",
       "    <tr>\n",
       "      <th>1</th>\n",
       "      <td>cost_inhouse</td>\n",
       "      <td>49</td>\n",
       "      <td>84</td>\n",
       "      <td>50</td>\n",
       "      <td>97</td>\n",
       "      <td>70</td>\n",
       "    </tr>\n",
       "    <tr>\n",
       "      <th>2</th>\n",
       "      <td>cost_outsource</td>\n",
       "      <td>68</td>\n",
       "      <td>118</td>\n",
       "      <td>80</td>\n",
       "      <td>124</td>\n",
       "      <td>100</td>\n",
       "    </tr>\n",
       "    <tr>\n",
       "      <th>3</th>\n",
       "      <td>machine_time</td>\n",
       "      <td>1</td>\n",
       "      <td>2</td>\n",
       "      <td>2</td>\n",
       "      <td>3</td>\n",
       "      <td>4</td>\n",
       "    </tr>\n",
       "    <tr>\n",
       "      <th>4</th>\n",
       "      <td>assembly_time</td>\n",
       "      <td>3</td>\n",
       "      <td>4</td>\n",
       "      <td>2</td>\n",
       "      <td>2</td>\n",
       "      <td>3</td>\n",
       "    </tr>\n",
       "    <tr>\n",
       "      <th>5</th>\n",
       "      <td>finishing_time</td>\n",
       "      <td>2</td>\n",
       "      <td>4</td>\n",
       "      <td>4</td>\n",
       "      <td>2</td>\n",
       "      <td>1</td>\n",
       "    </tr>\n",
       "  </tbody>\n",
       "</table>\n",
       "</div>"
      ],
      "text/plain": [
       "        parameter    P1    P2    P3    P4    P5\n",
       "0          demand  7000  9000  8000  6000  4000\n",
       "1    cost_inhouse    49    84    50    97    70\n",
       "2  cost_outsource    68   118    80   124   100\n",
       "3    machine_time     1     2     2     3     4\n",
       "4   assembly_time     3     4     2     2     3\n",
       "5  finishing_time     2     4     4     2     1"
      ]
     },
     "execution_count": 3,
     "metadata": {},
     "output_type": "execute_result"
    }
   ],
   "source": [
    "product # display product data"
   ]
  },
  {
   "cell_type": "code",
   "execution_count": 4,
   "metadata": {
    "colab": {
     "base_uri": "https://localhost:8080/",
     "height": 136
    },
    "id": "3UOGUG65jYGC",
    "outputId": "96ccd8b9-005e-4441-c48a-be21d355bde3"
   },
   "outputs": [
    {
     "data": {
      "text/html": [
       "<div>\n",
       "<style scoped>\n",
       "    .dataframe tbody tr th:only-of-type {\n",
       "        vertical-align: middle;\n",
       "    }\n",
       "\n",
       "    .dataframe tbody tr th {\n",
       "        vertical-align: top;\n",
       "    }\n",
       "\n",
       "    .dataframe thead th {\n",
       "        text-align: right;\n",
       "    }\n",
       "</style>\n",
       "<table border=\"1\" class=\"dataframe\">\n",
       "  <thead>\n",
       "    <tr style=\"text-align: right;\">\n",
       "      <th></th>\n",
       "      <th>resource</th>\n",
       "      <th>available_hours</th>\n",
       "      <th>hourly_cost</th>\n",
       "    </tr>\n",
       "  </thead>\n",
       "  <tbody>\n",
       "    <tr>\n",
       "      <th>0</th>\n",
       "      <td>machine_time</td>\n",
       "      <td>1000</td>\n",
       "      <td>300</td>\n",
       "    </tr>\n",
       "    <tr>\n",
       "      <th>1</th>\n",
       "      <td>assembly_time</td>\n",
       "      <td>1293</td>\n",
       "      <td>120</td>\n",
       "    </tr>\n",
       "    <tr>\n",
       "      <th>2</th>\n",
       "      <td>finishing_time</td>\n",
       "      <td>1306</td>\n",
       "      <td>240</td>\n",
       "    </tr>\n",
       "  </tbody>\n",
       "</table>\n",
       "</div>"
      ],
      "text/plain": [
       "         resource  available_hours  hourly_cost\n",
       "0    machine_time             1000          300\n",
       "1   assembly_time             1293          120\n",
       "2  finishing_time             1306          240"
      ]
     },
     "execution_count": 4,
     "metadata": {},
     "output_type": "execute_result"
    }
   ],
   "source": [
    "resource # display resource data"
   ]
  },
  {
   "cell_type": "markdown",
   "metadata": {
    "id": "AtStK1mJjlyk"
   },
   "source": [
    "## Get LP parameters\r\n",
    "We shall read in parameter values for our LP model from  dataframes."
   ]
  },
  {
   "cell_type": "code",
   "execution_count": 5,
   "metadata": {
    "id": "sH6zmbF-j_Ex"
   },
   "outputs": [],
   "source": [
    "PRODUCTS = list(product)[1:] # list of products (all but first column header)\r\n",
    "N = len(PRODUCTS) # number of products\r\n",
    "D, C, P, m, a, f = product.values[:,1:].tolist() # parameter values\r\n",
    "\r\n",
    "RESOURCES = resource.resource.tolist() # list of resources\r\n",
    "Tm, Ta, Tf = (60*resource.available_hours).tolist() # parameter values\r\n",
    "HOURLY_COST = resource.hourly_cost.tolist()"
   ]
  },
  {
   "cell_type": "markdown",
   "metadata": {
    "id": "aen8Ve58kLd-"
   },
   "source": [
    "## Create LP model"
   ]
  },
  {
   "cell_type": "code",
   "execution_count": 6,
   "metadata": {
    "id": "gKY5-ghQkQ7j"
   },
   "outputs": [],
   "source": [
    "LP_file = 'MMIS692_prodution_planning.lp' # name of LP model file\r\n",
    "prob = LpProblem(LP_file, LpMinimize) # Create LP model object"
   ]
  },
  {
   "cell_type": "markdown",
   "metadata": {
    "id": "C41886AqkjNp"
   },
   "source": [
    "### Define decision variables"
   ]
  },
  {
   "cell_type": "code",
   "execution_count": 7,
   "metadata": {
    "id": "n7_yh9Tgkow9"
   },
   "outputs": [],
   "source": [
    "X = [LpVariable(f'x_{i+1}',0) for i in range(N)] # quantities produced\r\n",
    "Y = [LpVariable(f'y_{i+1}',0) for i in range(N)] # quantities purchased"
   ]
  },
  {
   "cell_type": "markdown",
   "metadata": {
    "id": "A6coPXr8kzSR"
   },
   "source": [
    "### Specify objective function"
   ]
  },
  {
   "cell_type": "code",
   "execution_count": 8,
   "metadata": {
    "id": "QVNXDlAAk7ES"
   },
   "outputs": [],
   "source": [
    "prob += lpSum(C[i]*X[i] + P[i]*Y[i] for i in range(N)) # objective function"
   ]
  },
  {
   "cell_type": "markdown",
   "metadata": {
    "id": "mN2GgIcplILJ"
   },
   "source": [
    "### Specify demand constraints"
   ]
  },
  {
   "cell_type": "code",
   "execution_count": 9,
   "metadata": {
    "id": "CNW4zGYclNL4"
   },
   "outputs": [],
   "source": [
    "for i in range(N):\r\n",
    "    prob += X[i] + Y[i] >= D[i] , 'Demand for '+ PRODUCTS[i] # demand for product i"
   ]
  },
  {
   "cell_type": "markdown",
   "metadata": {
    "id": "5TQqzxailWH1"
   },
   "source": [
    "### Add resource availability constraints"
   ]
  },
  {
   "cell_type": "code",
   "execution_count": 10,
   "metadata": {
    "id": "TB8PJvCKlYKp"
   },
   "outputs": [],
   "source": [
    "for r, t, q in zip(RESOURCES, [m, a, f], [Tm, Ta, Tf]): # for each resource\n",
    "    prob += sum(t[i]*X[i] for i in range(N)) <= q, r +'_availability' # add resource availability constraint"
   ]
  },
  {
   "cell_type": "markdown",
   "metadata": {
    "id": "03BT8guapuls"
   },
   "source": [
    "### Save LP model"
   ]
  },
  {
   "cell_type": "code",
   "execution_count": 11,
   "metadata": {
    "colab": {
     "base_uri": "https://localhost:8080/"
    },
    "id": "QB04CTEKgbT1",
    "outputId": "3ea947fe-c2c3-4bf2-9f9c-38c2f702ca2d"
   },
   "outputs": [
    {
     "name": "stdout",
     "output_type": "stream",
     "text": [
      "\\* MMIS692_prodution_planning.lp *\\\n",
      "Minimize\n",
      "OBJ: 49 x_1 + 84 x_2 + 50 x_3 + 97 x_4 + 70 x_5 + 68 y_1 + 118 y_2 + 80 y_3\n",
      " + 124 y_4 + 100 y_5\n",
      "Subject To\n",
      "Demand_for_P1: x_1 + y_1 >= 7000\n",
      "Demand_for_P2: x_2 + y_2 >= 9000\n",
      "Demand_for_P3: x_3 + y_3 >= 8000\n",
      "Demand_for_P4: x_4 + y_4 >= 6000\n",
      "Demand_for_P5: x_5 + y_5 >= 4000\n",
      "assembly_time_availability: 3 x_1 + 4 x_2 + 2 x_3 + 2 x_4 + 3 x_5 <= 77580\n",
      "finishing_time_availability: 2 x_1 + 4 x_2 + 4 x_3 + 2 x_4 + x_5 <= 78360\n",
      "machine_time_availability: x_1 + 2 x_2 + 2 x_3 + 3 x_4 + 4 x_5 <= 60000\n",
      "End\n",
      "\n"
     ]
    }
   ],
   "source": [
    "prob.writeLP(LP_file) # write model to LP file\r\n",
    "print(open(LP_file).read()) # show LP model"
   ]
  },
  {
   "cell_type": "markdown",
   "metadata": {
    "id": "klGEBVo-lsdq"
   },
   "source": [
    "## Solve LP model"
   ]
  },
  {
   "cell_type": "code",
   "execution_count": 12,
   "metadata": {
    "colab": {
     "base_uri": "https://localhost:8080/"
    },
    "id": "ajlcwvmagmPo",
    "outputId": "a7b88244-2667-40f6-ee79-fd923519a72e"
   },
   "outputs": [
    {
     "name": "stdout",
     "output_type": "stream",
     "text": [
      "Solution:  Optimal\n",
      "Minimum cost = $ 2,553,400.00\n"
     ]
    }
   ],
   "source": [
    "prob.solve() # solve problem\r\n",
    "status = LpStatus[prob.status] # optimal found?\r\n",
    "print(\"Solution: \", status)\r\n",
    "\r\n",
    "min_cost = value(prob.objective) # objective function value\r\n",
    "print(f'Minimum cost = $ {min_cost:,.2f}') # show optimal cost"
   ]
  },
  {
   "cell_type": "markdown",
   "metadata": {
    "id": "AVri_siem4CN"
   },
   "source": [
    "### Optimal decision variable values"
   ]
  },
  {
   "cell_type": "code",
   "execution_count": 13,
   "metadata": {
    "colab": {
     "base_uri": "https://localhost:8080/",
     "height": 123
    },
    "id": "qWuMJXW1gsnG",
    "outputId": "bf7c86fb-73fe-4bbd-8503-55dd5f62d192"
   },
   "outputs": [
    {
     "name": "stdout",
     "output_type": "stream",
     "text": [
      "Optimal quantities:\n"
     ]
    },
    {
     "data": {
      "text/html": [
       "<div>\n",
       "<style scoped>\n",
       "    .dataframe tbody tr th:only-of-type {\n",
       "        vertical-align: middle;\n",
       "    }\n",
       "\n",
       "    .dataframe tbody tr th {\n",
       "        vertical-align: top;\n",
       "    }\n",
       "\n",
       "    .dataframe thead th {\n",
       "        text-align: right;\n",
       "    }\n",
       "</style>\n",
       "<table border=\"1\" class=\"dataframe\">\n",
       "  <thead>\n",
       "    <tr style=\"text-align: right;\">\n",
       "      <th></th>\n",
       "      <th>Quantity</th>\n",
       "      <th>P1</th>\n",
       "      <th>P2</th>\n",
       "      <th>P3</th>\n",
       "      <th>P4</th>\n",
       "      <th>P5</th>\n",
       "    </tr>\n",
       "  </thead>\n",
       "  <tbody>\n",
       "    <tr>\n",
       "      <th>0</th>\n",
       "      <td>Produced</td>\n",
       "      <td>4050.0</td>\n",
       "      <td>9000.0</td>\n",
       "      <td>4935.0</td>\n",
       "      <td>6000.0</td>\n",
       "      <td>2520.0</td>\n",
       "    </tr>\n",
       "    <tr>\n",
       "      <th>1</th>\n",
       "      <td>Purchased</td>\n",
       "      <td>2950.0</td>\n",
       "      <td>0.0</td>\n",
       "      <td>3065.0</td>\n",
       "      <td>0.0</td>\n",
       "      <td>1480.0</td>\n",
       "    </tr>\n",
       "  </tbody>\n",
       "</table>\n",
       "</div>"
      ],
      "text/plain": [
       "    Quantity      P1      P2      P3      P4      P5\n",
       "0   Produced  4050.0  9000.0  4935.0  6000.0  2520.0\n",
       "1  Purchased  2950.0     0.0  3065.0     0.0  1480.0"
      ]
     },
     "execution_count": 13,
     "metadata": {},
     "output_type": "execute_result"
    }
   ],
   "source": [
    "# get optimal values for decision variables\r\n",
    "X_opt = [x.varValue for x in X] # optimal quantities produced\r\n",
    "Y_opt = [y.varValue for y in Y] # optimal quantities purchased\r\n",
    "\r\n",
    "# Save and display optimal quantities in a dataframe\r\n",
    "opt_qty = pd.DataFrame([X_opt, Y_opt], columns=PRODUCTS).round(2) # convert to dataframe\r\n",
    "opt_qty.insert(0, 'Quantity', ['Produced', 'Purchased']) # add first column\r\n",
    "opt_qty.to_csv(\"optimal_quantities.csv\", index=False) # save results\r\n",
    "print('Optimal quantities:')\r\n",
    "opt_qty # display optimal quantities"
   ]
  },
  {
   "cell_type": "markdown",
   "metadata": {
    "id": "lMdoW-Ujool6"
   },
   "source": [
    "### Resources used "
   ]
  },
  {
   "cell_type": "code",
   "execution_count": 14,
   "metadata": {
    "colab": {
     "base_uri": "https://localhost:8080/",
     "height": 136
    },
    "id": "ryM15CHmrlXR",
    "outputId": "9accac72-1dea-4e0c-8419-237ae86b15be"
   },
   "outputs": [
    {
     "data": {
      "text/html": [
       "<div>\n",
       "<style scoped>\n",
       "    .dataframe tbody tr th:only-of-type {\n",
       "        vertical-align: middle;\n",
       "    }\n",
       "\n",
       "    .dataframe tbody tr th {\n",
       "        vertical-align: top;\n",
       "    }\n",
       "\n",
       "    .dataframe thead th {\n",
       "        text-align: right;\n",
       "    }\n",
       "</style>\n",
       "<table border=\"1\" class=\"dataframe\">\n",
       "  <thead>\n",
       "    <tr style=\"text-align: right;\">\n",
       "      <th></th>\n",
       "      <th>resource</th>\n",
       "      <th>used</th>\n",
       "      <th>available</th>\n",
       "      <th>unused</th>\n",
       "    </tr>\n",
       "  </thead>\n",
       "  <tbody>\n",
       "    <tr>\n",
       "      <th>0</th>\n",
       "      <td>machine_time</td>\n",
       "      <td>60000.0</td>\n",
       "      <td>60000</td>\n",
       "      <td>-0.0</td>\n",
       "    </tr>\n",
       "    <tr>\n",
       "      <th>1</th>\n",
       "      <td>assembly_time</td>\n",
       "      <td>77580.0</td>\n",
       "      <td>77580</td>\n",
       "      <td>-0.0</td>\n",
       "    </tr>\n",
       "    <tr>\n",
       "      <th>2</th>\n",
       "      <td>finishing_time</td>\n",
       "      <td>78360.0</td>\n",
       "      <td>78360</td>\n",
       "      <td>-0.0</td>\n",
       "    </tr>\n",
       "  </tbody>\n",
       "</table>\n",
       "</div>"
      ],
      "text/plain": [
       "         resource     used  available  unused\n",
       "0    machine_time  60000.0      60000    -0.0\n",
       "1   assembly_time  77580.0      77580    -0.0\n",
       "2  finishing_time  78360.0      78360    -0.0"
      ]
     },
     "execution_count": 14,
     "metadata": {},
     "output_type": "execute_result"
    }
   ],
   "source": [
    "resource_use = [] # list with results\r\n",
    "for r in RESOURCES: # for each resource\r\n",
    "    name = f'{r}_availability' # availability constraint name\r\n",
    "    c = prob.constraints[name] # details for constraint\r\n",
    "    available = -c.constant # available minutes (RHS of the constraint)\r\n",
    "    unused = c.slack # minutes not used\r\n",
    "    used = available - unused # minutes used\r\n",
    "    resource_use.append([r, used, available, unused]) # append results for resource\r\n",
    "# convert results to dataframe\r\n",
    "resource_use = pd.DataFrame(resource_use, columns = ['resource', 'used', 'available', 'unused'])\r\n",
    "resource_use.to_csv('resource_use.csv', index=False) # sane results\r\n",
    "resource_use # show results"
   ]
  },
  {
   "cell_type": "markdown",
   "metadata": {
    "id": "IvtbmnYCu5LL"
   },
   "source": [
    "## Sensitivity analysis"
   ]
  },
  {
   "cell_type": "code",
   "execution_count": 15,
   "metadata": {
    "colab": {
     "base_uri": "https://localhost:8080/",
     "height": 136
    },
    "id": "aS5Ozx3xg0U_",
    "outputId": "8fc1a46a-4431-4c34-b207-05a9fa615041"
   },
   "outputs": [
    {
     "data": {
      "text/html": [
       "<div>\n",
       "<style scoped>\n",
       "    .dataframe tbody tr th:only-of-type {\n",
       "        vertical-align: middle;\n",
       "    }\n",
       "\n",
       "    .dataframe tbody tr th {\n",
       "        vertical-align: top;\n",
       "    }\n",
       "\n",
       "    .dataframe thead th {\n",
       "        text-align: right;\n",
       "    }\n",
       "</style>\n",
       "<table border=\"1\" class=\"dataframe\">\n",
       "  <thead>\n",
       "    <tr style=\"text-align: right;\">\n",
       "      <th></th>\n",
       "      <th>resource</th>\n",
       "      <th>cost per hour</th>\n",
       "      <th>savings per hour</th>\n",
       "      <th>max price</th>\n",
       "    </tr>\n",
       "  </thead>\n",
       "  <tbody>\n",
       "    <tr>\n",
       "      <th>0</th>\n",
       "      <td>machine_time</td>\n",
       "      <td>300</td>\n",
       "      <td>300.0</td>\n",
       "      <td>600.0</td>\n",
       "    </tr>\n",
       "    <tr>\n",
       "      <th>1</th>\n",
       "      <td>assembly_time</td>\n",
       "      <td>120</td>\n",
       "      <td>120.0</td>\n",
       "      <td>240.0</td>\n",
       "    </tr>\n",
       "    <tr>\n",
       "      <th>2</th>\n",
       "      <td>finishing_time</td>\n",
       "      <td>240</td>\n",
       "      <td>240.0</td>\n",
       "      <td>480.0</td>\n",
       "    </tr>\n",
       "  </tbody>\n",
       "</table>\n",
       "</div>"
      ],
      "text/plain": [
       "         resource  cost per hour  savings per hour  max price\n",
       "0    machine_time            300             300.0      600.0\n",
       "1   assembly_time            120             120.0      240.0\n",
       "2  finishing_time            240             240.0      480.0"
      ]
     },
     "execution_count": 15,
     "metadata": {},
     "output_type": "execute_result"
    }
   ],
   "source": [
    "max_price = [] # results with maximum cost per additional hour\r\n",
    "for r, hc in zip(RESOURCES, HOURLY_COST): # for each resource and its hourly cost\r\n",
    "    name = f'{r}_availability' # constraint name\r\n",
    "    c = prob.constraints[name] # details for constraint\r\n",
    "    shadow_price = -c.pi # cost savings per minute of resource\r\n",
    "    savings = 60*shadow_price # cost savings per additional hour of resource\r\n",
    "    price = hc + savings # maximum price for an additional hour of resource\r\n",
    "    max_price.append([r, hc, savings, price])\r\n",
    "# convert results to dataframe\r\n",
    "max_price = pd.DataFrame(max_price, columns = ['resource', 'cost per hour', 'savings per hour', 'max price'])\r\n",
    "max_price.to_csv('max_price.csv', index=False) # save results\r\n",
    "max_price # show results"
   ]
  }
 ],
 "metadata": {
  "colab": {
   "collapsed_sections": [],
   "name": "MMIS692_Production_Planning_Example.ipynb",
   "provenance": [],
   "toc_visible": true
  },
  "kernelspec": {
   "display_name": "Python 3 (ipykernel)",
   "language": "python",
   "name": "python3"
  },
  "language_info": {
   "codemirror_mode": {
    "name": "ipython",
    "version": 3
   },
   "file_extension": ".py",
   "mimetype": "text/x-python",
   "name": "python",
   "nbconvert_exporter": "python",
   "pygments_lexer": "ipython3",
   "version": "3.9.6"
  }
 },
 "nbformat": 4,
 "nbformat_minor": 4
}
