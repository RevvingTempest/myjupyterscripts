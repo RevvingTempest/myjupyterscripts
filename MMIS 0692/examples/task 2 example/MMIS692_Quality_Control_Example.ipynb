{
 "cells": [
  {
   "cell_type": "markdown",
   "metadata": {
    "id": "DyATmOZTBGN_"
   },
   "source": [
    "# MMIS692 Quality Control\n",
    "\n",
    "Items are produced in batches. A batch with more than 1 defective item is deemed a *poor* quality batch.\n",
    "\n",
    "We shall develop a model to predict batch quality based on measurements from the 30 quality control tests. Our goal is to predict quality reliably based on as few rules as possible. Any test that is not used for determining batch quality may be eliminated, thereby reducing quality control costs.\n",
    "\n",
    "For this classification task we shall use *Scikit-Learn* *DecisionTreeClassifier*:\n",
    "- https://scikit-learn.org/stable/modules/generated/sklearn.tree.DecisionTreeClassifier.html"
   ]
  },
  {
   "cell_type": "markdown",
   "metadata": {
    "id": "VDgcskFIiUjd"
   },
   "source": [
    "## Import libraries"
   ]
  },
  {
   "cell_type": "code",
   "execution_count": 1,
   "metadata": {
    "colab": {
     "base_uri": "https://localhost:8080/"
    },
    "id": "KtXtyIrVAxtZ",
    "outputId": "202ee4eb-5ef7-415d-ff33-f0fb087d81f3"
   },
   "outputs": [],
   "source": [
    "# ! pip install pandasql # to use SQL\n",
    "import pandasql # for SQL queries\n",
    "import pandas as pd # for data analysis\n",
    "from sklearn.tree import DecisionTreeClassifier, plot_tree # for decision tree\n",
    "from sklearn.model_selection import cross_val_score # for cross validation\n",
    "from sklearn.metrics import accuracy_score, confusion_matrix # to evaluate model\n",
    "import matplotlib.pyplot as plt # for plots"
   ]
  },
  {
   "cell_type": "markdown",
   "metadata": {
    "id": "pzyar_HlbEBU"
   },
   "source": [
    "## Get data\n",
    "\n",
    "We shall extract *CSV* files from the *zip* file with data and read the data we need for this task into *pandas* dataframes:\n",
    "- ***defective***: with data from '*quality_control.defective.csv*'\n",
    "- ***measurements***: with data from '*quality_control.measurements.csv*'\n",
    "- ***new_batches***: with data from '*quality_control.new_batches.csv*'"
   ]
  },
  {
   "cell_type": "code",
   "execution_count": 2,
   "metadata": {
    "colab": {
     "base_uri": "https://localhost:8080/"
    },
    "id": "TAYItHIMig7g",
    "outputId": "05bc3ec0-4d6d-40a5-be61-84b28193f881"
   },
   "outputs": [],
   "source": [
    "# ! unzip '/content/drive/MyDrive/Colab Notebooks/courses/MMIS692_Summer2021/data.MMIS692.Sample.zip'\n",
    "import zipfile as zf\n",
    "\n",
    "files = zf.ZipFile('data.MMIS692.Sample.zip', 'r')\n",
    "files.extractall()\n",
    "files.close()\n",
    "\n",
    "defective = pd.read_csv('quality_control.defective.csv')\n",
    "measurements = pd.read_csv('quality_control.measurements.csv')\n",
    "new_batches = pd.read_csv('quality_control.new_batches.csv')\n",
    "# !rm *.csv"
   ]
  },
  {
   "cell_type": "markdown",
   "metadata": {
    "id": "88goz8kdJGAl"
   },
   "source": [
    "Dataframe *defective* contains the *batchID* of batches in which defective items were produced."
   ]
  },
  {
   "cell_type": "code",
   "execution_count": 3,
   "metadata": {
    "colab": {
     "base_uri": "https://localhost:8080/",
     "height": 373
    },
    "id": "UQMFZxVLjC3n",
    "outputId": "a1f4e60e-034c-4f81-ef19-7d3abd8d1b2c"
   },
   "outputs": [
    {
     "name": "stdout",
     "output_type": "stream",
     "text": [
      "Dataframe defective contains 12476 rows and 2 columns\n"
     ]
    },
    {
     "data": {
      "text/html": [
       "<div>\n",
       "<style scoped>\n",
       "    .dataframe tbody tr th:only-of-type {\n",
       "        vertical-align: middle;\n",
       "    }\n",
       "\n",
       "    .dataframe tbody tr th {\n",
       "        vertical-align: top;\n",
       "    }\n",
       "\n",
       "    .dataframe thead th {\n",
       "        text-align: right;\n",
       "    }\n",
       "</style>\n",
       "<table border=\"1\" class=\"dataframe\">\n",
       "  <thead>\n",
       "    <tr style=\"text-align: right;\">\n",
       "      <th></th>\n",
       "      <th>serial_nbr</th>\n",
       "      <th>batchID</th>\n",
       "    </tr>\n",
       "  </thead>\n",
       "  <tbody>\n",
       "    <tr>\n",
       "      <th>0</th>\n",
       "      <td>S008B017905</td>\n",
       "      <td>B017905</td>\n",
       "    </tr>\n",
       "    <tr>\n",
       "      <th>1</th>\n",
       "      <td>S003B047981</td>\n",
       "      <td>B047981</td>\n",
       "    </tr>\n",
       "    <tr>\n",
       "      <th>2</th>\n",
       "      <td>S003B047081</td>\n",
       "      <td>B047081</td>\n",
       "    </tr>\n",
       "    <tr>\n",
       "      <th>3</th>\n",
       "      <td>S006B030185</td>\n",
       "      <td>B030185</td>\n",
       "    </tr>\n",
       "    <tr>\n",
       "      <th>4</th>\n",
       "      <td>S000B018620</td>\n",
       "      <td>B018620</td>\n",
       "    </tr>\n",
       "    <tr>\n",
       "      <th>5</th>\n",
       "      <td>S006B017504</td>\n",
       "      <td>B017504</td>\n",
       "    </tr>\n",
       "    <tr>\n",
       "      <th>6</th>\n",
       "      <td>S002B018949</td>\n",
       "      <td>B018949</td>\n",
       "    </tr>\n",
       "    <tr>\n",
       "      <th>7</th>\n",
       "      <td>S002B006554</td>\n",
       "      <td>B006554</td>\n",
       "    </tr>\n",
       "    <tr>\n",
       "      <th>8</th>\n",
       "      <td>S003B048799</td>\n",
       "      <td>B048799</td>\n",
       "    </tr>\n",
       "    <tr>\n",
       "      <th>9</th>\n",
       "      <td>S000B043870</td>\n",
       "      <td>B043870</td>\n",
       "    </tr>\n",
       "  </tbody>\n",
       "</table>\n",
       "</div>"
      ],
      "text/plain": [
       "    serial_nbr  batchID\n",
       "0  S008B017905  B017905\n",
       "1  S003B047981  B047981\n",
       "2  S003B047081  B047081\n",
       "3  S006B030185  B030185\n",
       "4  S000B018620  B018620\n",
       "5  S006B017504  B017504\n",
       "6  S002B018949  B018949\n",
       "7  S002B006554  B006554\n",
       "8  S003B048799  B048799\n",
       "9  S000B043870  B043870"
      ]
     },
     "execution_count": 3,
     "metadata": {},
     "output_type": "execute_result"
    }
   ],
   "source": [
    "print(\"Dataframe defective contains %d rows and %d columns\" %defective.shape)\n",
    "defective.head(10) # display first 10 rows of defective"
   ]
  },
  {
   "cell_type": "markdown",
   "metadata": {
    "id": "NBXitB3sJkQA"
   },
   "source": [
    "Dataframe measurements contains measurements on 30 quality control tests for each batch"
   ]
  },
  {
   "cell_type": "code",
   "execution_count": 4,
   "metadata": {
    "colab": {
     "base_uri": "https://localhost:8080/",
     "height": 239
    },
    "id": "R1j73_MPje4x",
    "outputId": "c6a036cb-cdb4-4bc4-a038-66a660a9b22e"
   },
   "outputs": [
    {
     "name": "stdout",
     "output_type": "stream",
     "text": [
      "Dataframe measurements contains 5000 rows and 31 columns\n"
     ]
    },
    {
     "data": {
      "text/html": [
       "<div>\n",
       "<style scoped>\n",
       "    .dataframe tbody tr th:only-of-type {\n",
       "        vertical-align: middle;\n",
       "    }\n",
       "\n",
       "    .dataframe tbody tr th {\n",
       "        vertical-align: top;\n",
       "    }\n",
       "\n",
       "    .dataframe thead th {\n",
       "        text-align: right;\n",
       "    }\n",
       "</style>\n",
       "<table border=\"1\" class=\"dataframe\">\n",
       "  <thead>\n",
       "    <tr style=\"text-align: right;\">\n",
       "      <th></th>\n",
       "      <th>batchID</th>\n",
       "      <th>test1</th>\n",
       "      <th>test2</th>\n",
       "      <th>test3</th>\n",
       "      <th>test4</th>\n",
       "      <th>test5</th>\n",
       "      <th>test6</th>\n",
       "      <th>test7</th>\n",
       "      <th>test8</th>\n",
       "      <th>test9</th>\n",
       "      <th>...</th>\n",
       "      <th>test21</th>\n",
       "      <th>test22</th>\n",
       "      <th>test23</th>\n",
       "      <th>test24</th>\n",
       "      <th>test25</th>\n",
       "      <th>test26</th>\n",
       "      <th>test27</th>\n",
       "      <th>test28</th>\n",
       "      <th>test29</th>\n",
       "      <th>test30</th>\n",
       "    </tr>\n",
       "  </thead>\n",
       "  <tbody>\n",
       "    <tr>\n",
       "      <th>0</th>\n",
       "      <td>B028174</td>\n",
       "      <td>101</td>\n",
       "      <td>724</td>\n",
       "      <td>230</td>\n",
       "      <td>674</td>\n",
       "      <td>190</td>\n",
       "      <td>433</td>\n",
       "      <td>172</td>\n",
       "      <td>80</td>\n",
       "      <td>755</td>\n",
       "      <td>...</td>\n",
       "      <td>656</td>\n",
       "      <td>457</td>\n",
       "      <td>312</td>\n",
       "      <td>850</td>\n",
       "      <td>961</td>\n",
       "      <td>510</td>\n",
       "      <td>84</td>\n",
       "      <td>755</td>\n",
       "      <td>44</td>\n",
       "      <td>3</td>\n",
       "    </tr>\n",
       "    <tr>\n",
       "      <th>1</th>\n",
       "      <td>B032782</td>\n",
       "      <td>842</td>\n",
       "      <td>881</td>\n",
       "      <td>312</td>\n",
       "      <td>163</td>\n",
       "      <td>230</td>\n",
       "      <td>773</td>\n",
       "      <td>198</td>\n",
       "      <td>691</td>\n",
       "      <td>105</td>\n",
       "      <td>...</td>\n",
       "      <td>894</td>\n",
       "      <td>391</td>\n",
       "      <td>632</td>\n",
       "      <td>656</td>\n",
       "      <td>792</td>\n",
       "      <td>588</td>\n",
       "      <td>908</td>\n",
       "      <td>7</td>\n",
       "      <td>672</td>\n",
       "      <td>394</td>\n",
       "    </tr>\n",
       "    <tr>\n",
       "      <th>2</th>\n",
       "      <td>B008211</td>\n",
       "      <td>865</td>\n",
       "      <td>935</td>\n",
       "      <td>715</td>\n",
       "      <td>249</td>\n",
       "      <td>207</td>\n",
       "      <td>263</td>\n",
       "      <td>794</td>\n",
       "      <td>104</td>\n",
       "      <td>416</td>\n",
       "      <td>...</td>\n",
       "      <td>263</td>\n",
       "      <td>141</td>\n",
       "      <td>173</td>\n",
       "      <td>440</td>\n",
       "      <td>114</td>\n",
       "      <td>67</td>\n",
       "      <td>650</td>\n",
       "      <td>342</td>\n",
       "      <td>773</td>\n",
       "      <td>252</td>\n",
       "    </tr>\n",
       "    <tr>\n",
       "      <th>3</th>\n",
       "      <td>B013581</td>\n",
       "      <td>920</td>\n",
       "      <td>369</td>\n",
       "      <td>966</td>\n",
       "      <td>574</td>\n",
       "      <td>170</td>\n",
       "      <td>579</td>\n",
       "      <td>850</td>\n",
       "      <td>280</td>\n",
       "      <td>880</td>\n",
       "      <td>...</td>\n",
       "      <td>424</td>\n",
       "      <td>0</td>\n",
       "      <td>631</td>\n",
       "      <td>247</td>\n",
       "      <td>912</td>\n",
       "      <td>875</td>\n",
       "      <td>570</td>\n",
       "      <td>767</td>\n",
       "      <td>669</td>\n",
       "      <td>770</td>\n",
       "    </tr>\n",
       "    <tr>\n",
       "      <th>4</th>\n",
       "      <td>B009542</td>\n",
       "      <td>721</td>\n",
       "      <td>359</td>\n",
       "      <td>428</td>\n",
       "      <td>907</td>\n",
       "      <td>177</td>\n",
       "      <td>18</td>\n",
       "      <td>918</td>\n",
       "      <td>932</td>\n",
       "      <td>550</td>\n",
       "      <td>...</td>\n",
       "      <td>800</td>\n",
       "      <td>396</td>\n",
       "      <td>813</td>\n",
       "      <td>145</td>\n",
       "      <td>378</td>\n",
       "      <td>706</td>\n",
       "      <td>190</td>\n",
       "      <td>114</td>\n",
       "      <td>584</td>\n",
       "      <td>690</td>\n",
       "    </tr>\n",
       "  </tbody>\n",
       "</table>\n",
       "<p>5 rows × 31 columns</p>\n",
       "</div>"
      ],
      "text/plain": [
       "   batchID  test1  test2  test3  test4  test5  test6  test7  test8  test9  \\\n",
       "0  B028174    101    724    230    674    190    433    172     80    755   \n",
       "1  B032782    842    881    312    163    230    773    198    691    105   \n",
       "2  B008211    865    935    715    249    207    263    794    104    416   \n",
       "3  B013581    920    369    966    574    170    579    850    280    880   \n",
       "4  B009542    721    359    428    907    177     18    918    932    550   \n",
       "\n",
       "   ...  test21  test22  test23  test24  test25  test26  test27  test28  \\\n",
       "0  ...     656     457     312     850     961     510      84     755   \n",
       "1  ...     894     391     632     656     792     588     908       7   \n",
       "2  ...     263     141     173     440     114      67     650     342   \n",
       "3  ...     424       0     631     247     912     875     570     767   \n",
       "4  ...     800     396     813     145     378     706     190     114   \n",
       "\n",
       "   test29  test30  \n",
       "0      44       3  \n",
       "1     672     394  \n",
       "2     773     252  \n",
       "3     669     770  \n",
       "4     584     690  \n",
       "\n",
       "[5 rows x 31 columns]"
      ]
     },
     "execution_count": 4,
     "metadata": {},
     "output_type": "execute_result"
    }
   ],
   "source": [
    "print(\"Dataframe measurements contains %d rows and %d columns\" %measurements.shape)\n",
    "measurements.head() # display first 5 rows of measurements"
   ]
  },
  {
   "cell_type": "markdown",
   "metadata": {
    "id": "N3fDjXDVFWi6"
   },
   "source": [
    "## Label batches\n",
    "We consider a batch to be of *poor* quality if it contains more than one defective item; otherwise, the batch quality is considered *good*. \n",
    "\n",
    "The dataframe *defective* contains *batchID* for batches in which defective items were produced.\n",
    "\n",
    "We shall identify batches with more than one defective items using *SQL* and *pandas*, and confirm that the set of poor quality batches found using both methods are identical.\n",
    "\n",
    "We shall then label each batch in the dataframe *measurements* as either a *poor* quality batch or a *good* quality batch.   \n",
    "\n",
    "\n"
   ]
  },
  {
   "cell_type": "markdown",
   "metadata": {
    "id": "8Y-8vNSXQ5aN"
   },
   "source": [
    "### Using SQL\n",
    "\n",
    "**SQL** queries may be executed using *pandasql*; each dataframe is a table."
   ]
  },
  {
   "cell_type": "code",
   "execution_count": 5,
   "metadata": {
    "colab": {
     "base_uri": "https://localhost:8080/",
     "height": 407
    },
    "id": "XldgeYERFmQq",
    "outputId": "9ae8f5e2-cf47-4726-de15-67f13fb2c401"
   },
   "outputs": [
    {
     "name": "stdout",
     "output_type": "stream",
     "text": [
      "Number of poor quality batches = 2478\n",
      "Proportion of poor quality batches = 0.4956\n",
      "Quality of first 10 batches\n"
     ]
    },
    {
     "data": {
      "text/html": [
       "<div>\n",
       "<style scoped>\n",
       "    .dataframe tbody tr th:only-of-type {\n",
       "        vertical-align: middle;\n",
       "    }\n",
       "\n",
       "    .dataframe tbody tr th {\n",
       "        vertical-align: top;\n",
       "    }\n",
       "\n",
       "    .dataframe thead th {\n",
       "        text-align: right;\n",
       "    }\n",
       "</style>\n",
       "<table border=\"1\" class=\"dataframe\">\n",
       "  <thead>\n",
       "    <tr style=\"text-align: right;\">\n",
       "      <th></th>\n",
       "      <th>batchID</th>\n",
       "      <th>quality</th>\n",
       "    </tr>\n",
       "  </thead>\n",
       "  <tbody>\n",
       "    <tr>\n",
       "      <th>0</th>\n",
       "      <td>B028174</td>\n",
       "      <td>poor</td>\n",
       "    </tr>\n",
       "    <tr>\n",
       "      <th>1</th>\n",
       "      <td>B032782</td>\n",
       "      <td>good</td>\n",
       "    </tr>\n",
       "    <tr>\n",
       "      <th>2</th>\n",
       "      <td>B008211</td>\n",
       "      <td>poor</td>\n",
       "    </tr>\n",
       "    <tr>\n",
       "      <th>3</th>\n",
       "      <td>B013581</td>\n",
       "      <td>poor</td>\n",
       "    </tr>\n",
       "    <tr>\n",
       "      <th>4</th>\n",
       "      <td>B009542</td>\n",
       "      <td>good</td>\n",
       "    </tr>\n",
       "    <tr>\n",
       "      <th>5</th>\n",
       "      <td>B021807</td>\n",
       "      <td>good</td>\n",
       "    </tr>\n",
       "    <tr>\n",
       "      <th>6</th>\n",
       "      <td>B003282</td>\n",
       "      <td>good</td>\n",
       "    </tr>\n",
       "    <tr>\n",
       "      <th>7</th>\n",
       "      <td>B036304</td>\n",
       "      <td>poor</td>\n",
       "    </tr>\n",
       "    <tr>\n",
       "      <th>8</th>\n",
       "      <td>B028520</td>\n",
       "      <td>good</td>\n",
       "    </tr>\n",
       "    <tr>\n",
       "      <th>9</th>\n",
       "      <td>B022785</td>\n",
       "      <td>poor</td>\n",
       "    </tr>\n",
       "  </tbody>\n",
       "</table>\n",
       "</div>"
      ],
      "text/plain": [
       "   batchID quality\n",
       "0  B028174    poor\n",
       "1  B032782    good\n",
       "2  B008211    poor\n",
       "3  B013581    poor\n",
       "4  B009542    good\n",
       "5  B021807    good\n",
       "6  B003282    good\n",
       "7  B036304    poor\n",
       "8  B028520    good\n",
       "9  B022785    poor"
      ]
     },
     "execution_count": 5,
     "metadata": {},
     "output_type": "execute_result"
    }
   ],
   "source": [
    "# define a string q with the SQL query to identify poor quality bacthers\n",
    "q = \"\"\"\n",
    "select batchID  \n",
    "from defective\n",
    "group by batchID \n",
    "having count(*) > 1;\n",
    "\"\"\"\n",
    "\n",
    "poor_batches_SQL = pandasql.sqldf(q).values # evaluate query to get poor quality batches\n",
    "\n",
    "print(\"Number of poor quality batches = %d\" %len(poor_batches_SQL))\n",
    "print(\"Proportion of poor quality batches = %4.4f\" %(len(poor_batches_SQL)/len(measurements)))\n",
    "\n",
    "# assign labels to each batch in the dataframe measurements\n",
    "labels = ['poor' if b in poor_batches_SQL else 'good' \n",
    "          for b in measurements.batchID] # assign labels for batches\n",
    "\n",
    "# create dataframe with quality of batches labeled 'poor' or 'good'\n",
    "quality_SQL = pd.DataFrame(zip(measurements.batchID, labels), columns=['batchID', 'quality'])\n",
    "quality_SQL.head(10).to_csv('quality_SQL.csv', index=False) # save results for first 10 batches\n",
    "print(\"Quality of first 10 batches\")\n",
    "quality_SQL.head(10)"
   ]
  },
  {
   "cell_type": "markdown",
   "metadata": {
    "id": "fKSEJnNuPVpT"
   },
   "source": [
    "### Using pandas"
   ]
  },
  {
   "cell_type": "code",
   "execution_count": 6,
   "metadata": {
    "colab": {
     "base_uri": "https://localhost:8080/",
     "height": 407
    },
    "id": "l7GXMSkTkDiV",
    "outputId": "01618966-ae6a-4655-f295-be05dcee0200"
   },
   "outputs": [
    {
     "name": "stdout",
     "output_type": "stream",
     "text": [
      "Number of poor quality batches = 2478\n",
      "Proportion of poor quality batches = 0.4956\n",
      "Quality of first 10 batches\n"
     ]
    },
    {
     "data": {
      "text/html": [
       "<div>\n",
       "<style scoped>\n",
       "    .dataframe tbody tr th:only-of-type {\n",
       "        vertical-align: middle;\n",
       "    }\n",
       "\n",
       "    .dataframe tbody tr th {\n",
       "        vertical-align: top;\n",
       "    }\n",
       "\n",
       "    .dataframe thead th {\n",
       "        text-align: right;\n",
       "    }\n",
       "</style>\n",
       "<table border=\"1\" class=\"dataframe\">\n",
       "  <thead>\n",
       "    <tr style=\"text-align: right;\">\n",
       "      <th></th>\n",
       "      <th>batchID</th>\n",
       "      <th>quality</th>\n",
       "    </tr>\n",
       "  </thead>\n",
       "  <tbody>\n",
       "    <tr>\n",
       "      <th>0</th>\n",
       "      <td>B028174</td>\n",
       "      <td>poor</td>\n",
       "    </tr>\n",
       "    <tr>\n",
       "      <th>1</th>\n",
       "      <td>B032782</td>\n",
       "      <td>good</td>\n",
       "    </tr>\n",
       "    <tr>\n",
       "      <th>2</th>\n",
       "      <td>B008211</td>\n",
       "      <td>poor</td>\n",
       "    </tr>\n",
       "    <tr>\n",
       "      <th>3</th>\n",
       "      <td>B013581</td>\n",
       "      <td>poor</td>\n",
       "    </tr>\n",
       "    <tr>\n",
       "      <th>4</th>\n",
       "      <td>B009542</td>\n",
       "      <td>good</td>\n",
       "    </tr>\n",
       "    <tr>\n",
       "      <th>5</th>\n",
       "      <td>B021807</td>\n",
       "      <td>good</td>\n",
       "    </tr>\n",
       "    <tr>\n",
       "      <th>6</th>\n",
       "      <td>B003282</td>\n",
       "      <td>good</td>\n",
       "    </tr>\n",
       "    <tr>\n",
       "      <th>7</th>\n",
       "      <td>B036304</td>\n",
       "      <td>poor</td>\n",
       "    </tr>\n",
       "    <tr>\n",
       "      <th>8</th>\n",
       "      <td>B028520</td>\n",
       "      <td>good</td>\n",
       "    </tr>\n",
       "    <tr>\n",
       "      <th>9</th>\n",
       "      <td>B022785</td>\n",
       "      <td>poor</td>\n",
       "    </tr>\n",
       "  </tbody>\n",
       "</table>\n",
       "</div>"
      ],
      "text/plain": [
       "   batchID quality\n",
       "0  B028174    poor\n",
       "1  B032782    good\n",
       "2  B008211    poor\n",
       "3  B013581    poor\n",
       "4  B009542    good\n",
       "5  B021807    good\n",
       "6  B003282    good\n",
       "7  B036304    poor\n",
       "8  B028520    good\n",
       "9  B022785    poor"
      ]
     },
     "execution_count": 6,
     "metadata": {},
     "output_type": "execute_result"
    }
   ],
   "source": [
    "g = defective.groupby('batchID') # group defective items by batches\n",
    "poor_batches = g.filter(lambda x: len(x)>1).batchID.unique() # batches with more than 1 defective items\n",
    "\n",
    "print(\"Number of poor quality batches = %d\" %len(poor_batches))\n",
    "print(\"Proportion of poor quality batches = %4.4f\" %(len(poor_batches)/len(measurements)))\n",
    "\n",
    "labels = ['poor' if b in poor_batches else 'good' for b in measurements.batchID] # labels for batches\n",
    "\n",
    "# create dataframe with quality of batches labeled 'poor' or 'good'\n",
    "quality = pd.DataFrame(zip(measurements.batchID, labels), columns=['batchID', 'quality'])\n",
    "quality.head(10).to_csv('quality.csv', index=False)\n",
    "print(\"Quality of first 10 batches\")\n",
    "quality.head(10)"
   ]
  },
  {
   "cell_type": "markdown",
   "metadata": {
    "id": "J_0X0kaHSFMd"
   },
   "source": [
    "### Confirm that quality results are identical"
   ]
  },
  {
   "cell_type": "code",
   "execution_count": 7,
   "metadata": {
    "colab": {
     "base_uri": "https://localhost:8080/"
    },
    "id": "OJxSZuA9Rq6G",
    "outputId": "bd247d74-ec28-4de7-90bc-25113ec75c34"
   },
   "outputs": [
    {
     "data": {
      "text/plain": [
       "True"
      ]
     },
     "execution_count": 7,
     "metadata": {},
     "output_type": "execute_result"
    }
   ],
   "source": [
    "all(quality==quality_SQL)"
   ]
  },
  {
   "cell_type": "markdown",
   "metadata": {
    "id": "O0vaBXE5Tjzw"
   },
   "source": [
    "## Reserve data for validation\n",
    "\n",
    "We shall use the first 4000 samples for training and reserve the last 1000 samples for validation.\n",
    "\n",
    "*X_train*, *y_train*: contain input feature values and output labels for training data.\n",
    "\n",
    "*X_test*, *y_test*: contain input feature values and output labels for validation data."
   ]
  },
  {
   "cell_type": "code",
   "execution_count": 8,
   "metadata": {
    "colab": {
     "base_uri": "https://localhost:8080/"
    },
    "id": "e9LvlZGGTnIH",
    "outputId": "75f75da9-e0e6-4d4e-e515-507f95ef024a"
   },
   "outputs": [
    {
     "name": "stdout",
     "output_type": "stream",
     "text": [
      "Number of input features = 30\n",
      "test1, test2, test3, test4, test5, test6, test7, test8, test9, test10, test11, test12, test13, test14, test15, test16, test17, test18, test19, test20, test21, test22, test23, test24, test25, test26, test27, test28, test29, test30\n",
      "First 4000 samples used for training\n"
     ]
    }
   ],
   "source": [
    "# all but the first column in dataframe measurements are input features\n",
    "features = list(measurements)[1:] # column headers for input features\n",
    "print(\"Number of input features = %d\" %len(features))\n",
    "print(', '.join(features)) # display features\n",
    "\n",
    "k = 4000 # use first k samples for training\n",
    "print(\"First %d samples used for training\" %k)\n",
    "X_train, y_train = measurements[features][:k], quality.quality[:k] # input, label for training\n",
    "X_test, y_test = measurements[features][k:], quality.quality[k:] # input, label for validation"
   ]
  },
  {
   "cell_type": "markdown",
   "metadata": {
    "id": "jo8NFYZbV1bY"
   },
   "source": [
    "## Cross validation accuracy\n",
    "\n",
    "We shall use *Scikit-Learn* *DecisionTreeClassifier* to predict batch quality based on measurements from the 30 tests.\n",
    "\n",
    "Since our goal is to achieve satisfactory classification using as few rules as possible, we shall investigate how classification accuracy varies as we increase the maximum number of leaf nodes (rules)in the decision tree. \n",
    "\n",
    "We shall use 5-fold cross-validation with the training samples for this investigation."
   ]
  },
  {
   "cell_type": "code",
   "execution_count": 9,
   "metadata": {
    "colab": {
     "base_uri": "https://localhost:8080/"
    },
    "id": "chvxgzFbkRNZ",
    "outputId": "fd15c241-8884-4c98-b3bb-7912d6a68d03"
   },
   "outputs": [
    {
     "name": "stdout",
     "output_type": "stream",
     "text": [
      "Cross validation accuracy with 2 rules = 0.6980\n",
      "Cross validation accuracy with 3 rules = 0.8678\n",
      "Cross validation accuracy with 4 rules = 0.9795\n",
      "Cross validation accuracy with 5 rules = 0.9793\n",
      "Cross validation accuracy with 6 rules = 0.9783\n",
      "Cross validation accuracy with 7 rules = 0.9780\n",
      "Cross validation accuracy with 8 rules = 0.9778\n",
      "Cross validation accuracy with 9 rules = 0.9768\n"
     ]
    }
   ],
   "source": [
    "for k in range(2, 10): # maximum number of leaf-nodes (rules)\n",
    "    model = DecisionTreeClassifier(max_leaf_nodes=k) # tree with k rules\n",
    "    acc = cross_val_score(model, X_train, y_train).mean() # mean accuracy in 5-fold cross-validation\n",
    "    print(\"Cross validation accuracy with %d rules = %4.4f\" %(k, acc))"
   ]
  },
  {
   "cell_type": "markdown",
   "metadata": {
    "id": "w_BLT8meZQXW"
   },
   "source": [
    "## Choose a good model\n",
    "\n",
    "Choose the number of rules that results in satisfactory cross-validation accuracy"
   ]
  },
  {
   "cell_type": "code",
   "execution_count": 10,
   "metadata": {
    "colab": {
     "base_uri": "https://localhost:8080/",
     "height": 575
    },
    "id": "ghh7V2gWZa4K",
    "outputId": "bb0bb29a-6cba-4a13-9127-492d8193790b"
   },
   "outputs": [
    {
     "data": {
      "image/png": "[encoded data removed]",
      "text/plain": [
       "<Figure size 720x720 with 1 Axes>"
      ]
     },
     "metadata": {
      "needs_background": "light"
     },
     "output_type": "display_data"
    }
   ],
   "source": [
    "k = 4 # chosen number of leaf nodes\n",
    "model = DecisionTreeClassifier(max_leaf_nodes=k) # create model\n",
    "model.fit(X_train, y_train) # train model \n",
    "\n",
    "plt.figure(figsize=(10, 10)) # size of figure to be displayed\n",
    "\n",
    "CL = model.classes_ # class labels (good / poor)\n",
    "plot_tree(model, feature_names=features, class_names=CL, \n",
    "          filled=True, rounded=True, impurity=False) # plot tree\n",
    "\n",
    "plt.savefig(\"decision_tree.png\") # save as PNG file\n",
    "plt.show() # show tree"
   ]
  },
  {
   "cell_type": "markdown",
   "metadata": {
    "id": "yq1mMxcaarPz"
   },
   "source": [
    "## Results with training data"
   ]
  },
  {
   "cell_type": "code",
   "execution_count": 11,
   "metadata": {
    "colab": {
     "base_uri": "https://localhost:8080/",
     "height": 127
    },
    "id": "wMWs_A9Bkf7h",
    "outputId": "0b202297-aeba-4afa-db80-ed59d9d6a4c7"
   },
   "outputs": [
    {
     "name": "stdout",
     "output_type": "stream",
     "text": [
      "Training accuracy  = 0.9802\n"
     ]
    },
    {
     "data": {
      "text/html": [
       "<div>\n",
       "<style scoped>\n",
       "    .dataframe tbody tr th:only-of-type {\n",
       "        vertical-align: middle;\n",
       "    }\n",
       "\n",
       "    .dataframe tbody tr th {\n",
       "        vertical-align: top;\n",
       "    }\n",
       "\n",
       "    .dataframe thead th {\n",
       "        text-align: right;\n",
       "    }\n",
       "</style>\n",
       "<table border=\"1\" class=\"dataframe\">\n",
       "  <thead>\n",
       "    <tr style=\"text-align: right;\">\n",
       "      <th></th>\n",
       "      <th>Predicted good</th>\n",
       "      <th>Predicted poor</th>\n",
       "    </tr>\n",
       "  </thead>\n",
       "  <tbody>\n",
       "    <tr>\n",
       "      <th>good</th>\n",
       "      <td>1994</td>\n",
       "      <td>36</td>\n",
       "    </tr>\n",
       "    <tr>\n",
       "      <th>poor</th>\n",
       "      <td>43</td>\n",
       "      <td>1927</td>\n",
       "    </tr>\n",
       "  </tbody>\n",
       "</table>\n",
       "</div>"
      ],
      "text/plain": [
       "      Predicted good  Predicted poor\n",
       "good            1994              36\n",
       "poor              43            1927"
      ]
     },
     "execution_count": 11,
     "metadata": {},
     "output_type": "execute_result"
    }
   ],
   "source": [
    "pred_train = model.predict(X_train) # predicted labels for training samples\n",
    "acc_train = accuracy_score(y_train, pred_train) # training accuracy\n",
    "print(\"Training accuracy  = %4.4f\" %(acc_train))\n",
    "# confusion matrix\n",
    "cm = pd.DataFrame(confusion_matrix(y_train, pred_train), columns=[f'Predicted {c}' for c in CL], index=CL)\n",
    "cm.to_csv('training_confusion_matrix.csv') # save confusion matrix\n",
    "cm"
   ]
  },
  {
   "cell_type": "markdown",
   "metadata": {
    "id": "b_mWImthgz-H"
   },
   "source": [
    "## Results with validation data"
   ]
  },
  {
   "cell_type": "code",
   "execution_count": 12,
   "metadata": {
    "colab": {
     "base_uri": "https://localhost:8080/",
     "height": 127
    },
    "id": "x2TiZ29fg5p2",
    "outputId": "0a05f3f2-6e60-43b8-ffb8-47f4ee7bdb01"
   },
   "outputs": [
    {
     "name": "stdout",
     "output_type": "stream",
     "text": [
      "Validation accuracy  = 1.0000\n"
     ]
    },
    {
     "data": {
      "text/html": [
       "<div>\n",
       "<style scoped>\n",
       "    .dataframe tbody tr th:only-of-type {\n",
       "        vertical-align: middle;\n",
       "    }\n",
       "\n",
       "    .dataframe tbody tr th {\n",
       "        vertical-align: top;\n",
       "    }\n",
       "\n",
       "    .dataframe thead th {\n",
       "        text-align: right;\n",
       "    }\n",
       "</style>\n",
       "<table border=\"1\" class=\"dataframe\">\n",
       "  <thead>\n",
       "    <tr style=\"text-align: right;\">\n",
       "      <th></th>\n",
       "      <th>Predicted good</th>\n",
       "      <th>Predicted poor</th>\n",
       "    </tr>\n",
       "  </thead>\n",
       "  <tbody>\n",
       "    <tr>\n",
       "      <th>good</th>\n",
       "      <td>492</td>\n",
       "      <td>0</td>\n",
       "    </tr>\n",
       "    <tr>\n",
       "      <th>poor</th>\n",
       "      <td>0</td>\n",
       "      <td>508</td>\n",
       "    </tr>\n",
       "  </tbody>\n",
       "</table>\n",
       "</div>"
      ],
      "text/plain": [
       "      Predicted good  Predicted poor\n",
       "good             492               0\n",
       "poor               0             508"
      ]
     },
     "execution_count": 12,
     "metadata": {},
     "output_type": "execute_result"
    }
   ],
   "source": [
    "pred_test = model.predict(X_test) # predicted labels for validation samples\n",
    "acc_test = accuracy_score(y_test, pred_test) # validation accuracy\n",
    "print(\"Validation accuracy  = %4.4f\" %(acc_test))\n",
    "cm = pd.DataFrame(confusion_matrix(y_test, pred_test), columns=[f'Predicted {c}' for c in CL], index=CL)\n",
    "cm.to_csv('validation_confusion_matrix.csv')\n",
    "cm"
   ]
  },
  {
   "cell_type": "markdown",
   "metadata": {
    "id": "kHTaMuTziou6"
   },
   "source": [
    "## Predict quality for unlabeled samples"
   ]
  },
  {
   "cell_type": "code",
   "execution_count": 13,
   "metadata": {
    "colab": {
     "base_uri": "https://localhost:8080/",
     "height": 1000
    },
    "id": "8NxW-m-qisch",
    "outputId": "7039bf18-c317-4251-dca1-5feec5cd70cb"
   },
   "outputs": [
    {
     "data": {
      "text/html": [
       "<div>\n",
       "<style scoped>\n",
       "    .dataframe tbody tr th:only-of-type {\n",
       "        vertical-align: middle;\n",
       "    }\n",
       "\n",
       "    .dataframe tbody tr th {\n",
       "        vertical-align: top;\n",
       "    }\n",
       "\n",
       "    .dataframe thead th {\n",
       "        text-align: right;\n",
       "    }\n",
       "</style>\n",
       "<table border=\"1\" class=\"dataframe\">\n",
       "  <thead>\n",
       "    <tr style=\"text-align: right;\">\n",
       "      <th></th>\n",
       "      <th>batchID</th>\n",
       "      <th>quality</th>\n",
       "    </tr>\n",
       "  </thead>\n",
       "  <tbody>\n",
       "    <tr>\n",
       "      <th>0</th>\n",
       "      <td>B040188</td>\n",
       "      <td>good</td>\n",
       "    </tr>\n",
       "    <tr>\n",
       "      <th>1</th>\n",
       "      <td>B025510</td>\n",
       "      <td>good</td>\n",
       "    </tr>\n",
       "    <tr>\n",
       "      <th>2</th>\n",
       "      <td>B041196</td>\n",
       "      <td>good</td>\n",
       "    </tr>\n",
       "    <tr>\n",
       "      <th>3</th>\n",
       "      <td>B042534</td>\n",
       "      <td>good</td>\n",
       "    </tr>\n",
       "    <tr>\n",
       "      <th>4</th>\n",
       "      <td>B028581</td>\n",
       "      <td>good</td>\n",
       "    </tr>\n",
       "    <tr>\n",
       "      <th>5</th>\n",
       "      <td>B043338</td>\n",
       "      <td>good</td>\n",
       "    </tr>\n",
       "    <tr>\n",
       "      <th>6</th>\n",
       "      <td>B008259</td>\n",
       "      <td>good</td>\n",
       "    </tr>\n",
       "    <tr>\n",
       "      <th>7</th>\n",
       "      <td>B049978</td>\n",
       "      <td>good</td>\n",
       "    </tr>\n",
       "    <tr>\n",
       "      <th>8</th>\n",
       "      <td>B037925</td>\n",
       "      <td>good</td>\n",
       "    </tr>\n",
       "    <tr>\n",
       "      <th>9</th>\n",
       "      <td>B007727</td>\n",
       "      <td>good</td>\n",
       "    </tr>\n",
       "    <tr>\n",
       "      <th>10</th>\n",
       "      <td>B044193</td>\n",
       "      <td>good</td>\n",
       "    </tr>\n",
       "    <tr>\n",
       "      <th>11</th>\n",
       "      <td>B042770</td>\n",
       "      <td>good</td>\n",
       "    </tr>\n",
       "    <tr>\n",
       "      <th>12</th>\n",
       "      <td>B009169</td>\n",
       "      <td>good</td>\n",
       "    </tr>\n",
       "    <tr>\n",
       "      <th>13</th>\n",
       "      <td>B027840</td>\n",
       "      <td>good</td>\n",
       "    </tr>\n",
       "    <tr>\n",
       "      <th>14</th>\n",
       "      <td>B010327</td>\n",
       "      <td>good</td>\n",
       "    </tr>\n",
       "    <tr>\n",
       "      <th>15</th>\n",
       "      <td>B014658</td>\n",
       "      <td>good</td>\n",
       "    </tr>\n",
       "    <tr>\n",
       "      <th>16</th>\n",
       "      <td>B037461</td>\n",
       "      <td>poor</td>\n",
       "    </tr>\n",
       "    <tr>\n",
       "      <th>17</th>\n",
       "      <td>B005226</td>\n",
       "      <td>poor</td>\n",
       "    </tr>\n",
       "    <tr>\n",
       "      <th>18</th>\n",
       "      <td>B043084</td>\n",
       "      <td>poor</td>\n",
       "    </tr>\n",
       "    <tr>\n",
       "      <th>19</th>\n",
       "      <td>B026755</td>\n",
       "      <td>poor</td>\n",
       "    </tr>\n",
       "    <tr>\n",
       "      <th>20</th>\n",
       "      <td>B049240</td>\n",
       "      <td>poor</td>\n",
       "    </tr>\n",
       "    <tr>\n",
       "      <th>21</th>\n",
       "      <td>B009775</td>\n",
       "      <td>poor</td>\n",
       "    </tr>\n",
       "    <tr>\n",
       "      <th>22</th>\n",
       "      <td>B008886</td>\n",
       "      <td>poor</td>\n",
       "    </tr>\n",
       "    <tr>\n",
       "      <th>23</th>\n",
       "      <td>B049660</td>\n",
       "      <td>poor</td>\n",
       "    </tr>\n",
       "    <tr>\n",
       "      <th>24</th>\n",
       "      <td>B033953</td>\n",
       "      <td>poor</td>\n",
       "    </tr>\n",
       "    <tr>\n",
       "      <th>25</th>\n",
       "      <td>B009938</td>\n",
       "      <td>poor</td>\n",
       "    </tr>\n",
       "    <tr>\n",
       "      <th>26</th>\n",
       "      <td>B028649</td>\n",
       "      <td>poor</td>\n",
       "    </tr>\n",
       "    <tr>\n",
       "      <th>27</th>\n",
       "      <td>B020673</td>\n",
       "      <td>poor</td>\n",
       "    </tr>\n",
       "    <tr>\n",
       "      <th>28</th>\n",
       "      <td>B021115</td>\n",
       "      <td>poor</td>\n",
       "    </tr>\n",
       "    <tr>\n",
       "      <th>29</th>\n",
       "      <td>B025018</td>\n",
       "      <td>poor</td>\n",
       "    </tr>\n",
       "    <tr>\n",
       "      <th>30</th>\n",
       "      <td>B032030</td>\n",
       "      <td>poor</td>\n",
       "    </tr>\n",
       "    <tr>\n",
       "      <th>31</th>\n",
       "      <td>B014067</td>\n",
       "      <td>poor</td>\n",
       "    </tr>\n",
       "    <tr>\n",
       "      <th>32</th>\n",
       "      <td>B007941</td>\n",
       "      <td>poor</td>\n",
       "    </tr>\n",
       "    <tr>\n",
       "      <th>33</th>\n",
       "      <td>B029364</td>\n",
       "      <td>poor</td>\n",
       "    </tr>\n",
       "    <tr>\n",
       "      <th>34</th>\n",
       "      <td>B004895</td>\n",
       "      <td>poor</td>\n",
       "    </tr>\n",
       "    <tr>\n",
       "      <th>35</th>\n",
       "      <td>B004296</td>\n",
       "      <td>poor</td>\n",
       "    </tr>\n",
       "    <tr>\n",
       "      <th>36</th>\n",
       "      <td>B016059</td>\n",
       "      <td>poor</td>\n",
       "    </tr>\n",
       "    <tr>\n",
       "      <th>37</th>\n",
       "      <td>B044916</td>\n",
       "      <td>poor</td>\n",
       "    </tr>\n",
       "    <tr>\n",
       "      <th>38</th>\n",
       "      <td>B017416</td>\n",
       "      <td>poor</td>\n",
       "    </tr>\n",
       "    <tr>\n",
       "      <th>39</th>\n",
       "      <td>B037411</td>\n",
       "      <td>poor</td>\n",
       "    </tr>\n",
       "  </tbody>\n",
       "</table>\n",
       "</div>"
      ],
      "text/plain": [
       "    batchID quality\n",
       "0   B040188    good\n",
       "1   B025510    good\n",
       "2   B041196    good\n",
       "3   B042534    good\n",
       "4   B028581    good\n",
       "5   B043338    good\n",
       "6   B008259    good\n",
       "7   B049978    good\n",
       "8   B037925    good\n",
       "9   B007727    good\n",
       "10  B044193    good\n",
       "11  B042770    good\n",
       "12  B009169    good\n",
       "13  B027840    good\n",
       "14  B010327    good\n",
       "15  B014658    good\n",
       "16  B037461    poor\n",
       "17  B005226    poor\n",
       "18  B043084    poor\n",
       "19  B026755    poor\n",
       "20  B049240    poor\n",
       "21  B009775    poor\n",
       "22  B008886    poor\n",
       "23  B049660    poor\n",
       "24  B033953    poor\n",
       "25  B009938    poor\n",
       "26  B028649    poor\n",
       "27  B020673    poor\n",
       "28  B021115    poor\n",
       "29  B025018    poor\n",
       "30  B032030    poor\n",
       "31  B014067    poor\n",
       "32  B007941    poor\n",
       "33  B029364    poor\n",
       "34  B004895    poor\n",
       "35  B004296    poor\n",
       "36  B016059    poor\n",
       "37  B044916    poor\n",
       "38  B017416    poor\n",
       "39  B037411    poor"
      ]
     },
     "execution_count": 13,
     "metadata": {},
     "output_type": "execute_result"
    }
   ],
   "source": [
    "new_labels = pd.DataFrame()\n",
    "new_labels['batchID'] = new_batches.batchID\n",
    "new_labels['quality'] = model.predict(new_batches[features])\n",
    "new_labels.to_csv(\"new_labels.csv\", index=False)\n",
    "new_labels"
   ]
  }
 ],
 "metadata": {
  "colab": {
   "collapsed_sections": [],
   "name": "MMIS692_Quality_Control_Example.ipynb",
   "provenance": [],
   "toc_visible": true
  },
  "kernelspec": {
   "display_name": "Python 3 (ipykernel)",
   "language": "python",
   "name": "python3"
  },
  "language_info": {
   "codemirror_mode": {
    "name": "ipython",
    "version": 3
   },
   "file_extension": ".py",
   "mimetype": "text/x-python",
   "name": "python",
   "nbconvert_exporter": "python",
   "pygments_lexer": "ipython3",
   "version": "3.9.6"
  }
 },
 "nbformat": 4,
 "nbformat_minor": 4
}
