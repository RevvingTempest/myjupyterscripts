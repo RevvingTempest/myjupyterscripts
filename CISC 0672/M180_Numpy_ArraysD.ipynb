{
 "cells": [
  {
   "cell_type": "markdown",
   "metadata": {
    "colab_type": "text",
    "id": "70B-9l26V74d"
   },
   "source": [
    "## NumPy arrays"
   ]
  },
  {
   "cell_type": "markdown",
   "metadata": {
    "colab_type": "text",
    "id": "VwBNFvEpV74g"
   },
   "source": [
    "NumPy has become the de facto standard package for general scientific programming in Python. Its core object is the *ndarray,* a multidimensional array of a single data type which can be sorted, reshaped, subject to mathematical operations and statistical analysis, written to and read from files, and much more. The NumPy implementations of these mathematical operations and algorithms have two main advantages over  “core” Python objects. \n",
    "\n",
    "First, NumPy arrays are implemented as precompiled C code and so approach the speed of execution of a program written in C itself. Unlike Python lists, *ndarrays* are homogeneous (all items have the same type) so per-item type checking that gets performed in Python is bypassed. \n",
    "\n",
    "Second, NumPy supports vectorization: a single operation can be carried out on an entire array, rather than requiring an explicit loop over the array’s elements."
   ]
  },
  {
   "cell_type": "code",
   "execution_count": 1,
   "metadata": {
    "colab": {
     "base_uri": "https://localhost:8080/",
     "height": 33
    },
    "colab_type": "code",
    "executionInfo": {
     "elapsed": 1337,
     "status": "ok",
     "timestamp": 1582214993333,
     "user": {
      "displayName": "Michael Laszlo",
      "photoUrl": "https://lh3.googleusercontent.com/a-/AAuE7mCT1FM8bo1whshk0hlWrdX8KtWxWnS_srhoY5ByEA=s64",
      "userId": "08687711341432696125"
     },
     "user_tz": 300
    },
    "id": "37v3zBxTV74i",
    "outputId": "9a474d2a-0333-4579-d696-186da4fd9e87"
   },
   "outputs": [],
   "source": [
    "# from google.colab import drive\n",
    "# drive.mount('/content/drive')\n",
    "\n",
    "from IPython.display import Image, display\n",
    "\n",
    "datadir = 'data/'\n",
    "imagesdir = 'images/'\n",
    "\n",
    "# datadir = '/content/drive/My Drive/Courses/672/Notebooks/data/'\n",
    "# imagesdir = '/content/drive/My Drive/Courses/672/Notebooks/images/'\n",
    "\n",
    "def display_images(images, dir=imagesdir):\n",
    "    for image in images:\n",
    "        display(Image(dir + image))"
   ]
  },
  {
   "cell_type": "code",
   "execution_count": 2,
   "metadata": {
    "colab": {},
    "colab_type": "code",
    "id": "WZB49jVQV74m"
   },
   "outputs": [],
   "source": [
    "import numpy as np\n",
    "import matplotlib.pyplot as plt\n",
    "%matplotlib inline"
   ]
  },
  {
   "cell_type": "code",
   "execution_count": 3,
   "metadata": {
    "colab": {
     "base_uri": "https://localhost:8080/",
     "height": 33
    },
    "colab_type": "code",
    "executionInfo": {
     "elapsed": 517,
     "status": "ok",
     "timestamp": 1582214820427,
     "user": {
      "displayName": "Michael Laszlo",
      "photoUrl": "https://lh3.googleusercontent.com/a-/AAuE7mCT1FM8bo1whshk0hlWrdX8KtWxWnS_srhoY5ByEA=s64",
      "userId": "08687711341432696125"
     },
     "user_tz": 300
    },
    "id": "bXTDSxAkV74p",
    "outputId": "c8a7afcd-e0ba-4c82-97a9-379c35a3e633"
   },
   "outputs": [
    {
     "name": "stdout",
     "output_type": "stream",
     "text": [
      "[0, 10, 20, 30, 40, 50, 60, 70, 80, 90, 100, 110, 120, 130, 140, 150, 160, 170, 180, 190]\n"
     ]
    }
   ],
   "source": [
    "# using standard Python\n",
    "n = 20\n",
    "a = list(range(20))\n",
    "c = 10\n",
    "res = []\n",
    "for i in range(n):\n",
    "    res.append(c * a[i])\n",
    "print(res)"
   ]
  },
  {
   "cell_type": "code",
   "execution_count": 4,
   "metadata": {
    "colab": {
     "base_uri": "https://localhost:8080/",
     "height": 50
    },
    "colab_type": "code",
    "executionInfo": {
     "elapsed": 376,
     "status": "ok",
     "timestamp": 1582214822921,
     "user": {
      "displayName": "Michael Laszlo",
      "photoUrl": "https://lh3.googleusercontent.com/a-/AAuE7mCT1FM8bo1whshk0hlWrdX8KtWxWnS_srhoY5ByEA=s64",
      "userId": "08687711341432696125"
     },
     "user_tz": 300
    },
    "id": "0GtiWz25V74u",
    "outputId": "9edd6c18-501e-4488-bc48-4aa24a4a1712"
   },
   "outputs": [
    {
     "name": "stdout",
     "output_type": "stream",
     "text": [
      "[  0  10  20  30  40  50  60  70  80  90 100 110 120 130 140 150 160 170\n",
      " 180 190]\n"
     ]
    }
   ],
   "source": [
    "# using NumPy\n",
    "a = np.array(range(n))\n",
    "res = c * a\n",
    "print(res)"
   ]
  },
  {
   "cell_type": "markdown",
   "metadata": {
    "colab_type": "text",
    "id": "p4Xsejk5V74x"
   },
   "source": [
    "## Constructing arrays"
   ]
  },
  {
   "cell_type": "markdown",
   "metadata": {
    "colab_type": "text",
    "id": "RUXqp-6OV74y"
   },
   "source": [
    "There are many ways to create a new numpy array. These include:\n",
    "+ from a Python sequence, such as a list or tuple;\n",
    "+ from a numpy array-construction function; and\n",
    "+ from a data file."
   ]
  },
  {
   "cell_type": "code",
   "execution_count": 5,
   "metadata": {
    "colab": {
     "base_uri": "https://localhost:8080/",
     "height": 84
    },
    "colab_type": "code",
    "executionInfo": {
     "elapsed": 396,
     "status": "ok",
     "timestamp": 1582214825573,
     "user": {
      "displayName": "Michael Laszlo",
      "photoUrl": "https://lh3.googleusercontent.com/a-/AAuE7mCT1FM8bo1whshk0hlWrdX8KtWxWnS_srhoY5ByEA=s64",
      "userId": "08687711341432696125"
     },
     "user_tz": 300
    },
    "id": "VNkvzxIwV74z",
    "outputId": "37d94e1f-4233-4868-ddac-d1d00962f4ce"
   },
   "outputs": [
    {
     "name": "stdout",
     "output_type": "stream",
     "text": [
      "[0 1 2 3 4]\n",
      "[2.2 4.2 6.6 8. ]\n",
      "[[1 2]\n",
      " [3 4]]\n"
     ]
    }
   ],
   "source": [
    "a = np.array(range(5))\n",
    "b = np.array([2.2,4.2,6.6,8.0])\n",
    "c = np.array([[1,2], [3,4]])\n",
    "\n",
    "print(a)\n",
    "print(b)\n",
    "print(c)"
   ]
  },
  {
   "cell_type": "markdown",
   "metadata": {
    "colab_type": "text",
    "id": "dJOwg28bV742"
   },
   "source": [
    "Array type is determined by content type. Note we can have multidimensional arrays. Here, *c* is a two-dimensional array."
   ]
  },
  {
   "cell_type": "code",
   "execution_count": 6,
   "metadata": {
    "colab": {
     "base_uri": "https://localhost:8080/",
     "height": 33
    },
    "colab_type": "code",
    "executionInfo": {
     "elapsed": 300,
     "status": "ok",
     "timestamp": 1582214827646,
     "user": {
      "displayName": "Michael Laszlo",
      "photoUrl": "https://lh3.googleusercontent.com/a-/AAuE7mCT1FM8bo1whshk0hlWrdX8KtWxWnS_srhoY5ByEA=s64",
      "userId": "08687711341432696125"
     },
     "user_tz": 300
    },
    "id": "RCd5ltIOV746",
    "outputId": "c1131d07-bba1-4806-ab77-9d097015b90b"
   },
   "outputs": [
    {
     "data": {
      "text/plain": [
       "(dtype('int64'), dtype('float64'), dtype('int64'))"
      ]
     },
     "execution_count": 6,
     "metadata": {},
     "output_type": "execute_result"
    }
   ],
   "source": [
    "a.dtype, b.dtype, c.dtype"
   ]
  },
  {
   "cell_type": "code",
   "execution_count": 7,
   "metadata": {
    "colab": {
     "base_uri": "https://localhost:8080/",
     "height": 67
    },
    "colab_type": "code",
    "executionInfo": {
     "elapsed": 395,
     "status": "ok",
     "timestamp": 1582214829884,
     "user": {
      "displayName": "Michael Laszlo",
      "photoUrl": "https://lh3.googleusercontent.com/a-/AAuE7mCT1FM8bo1whshk0hlWrdX8KtWxWnS_srhoY5ByEA=s64",
      "userId": "08687711341432696125"
     },
     "user_tz": 300
    },
    "id": "1arwpmp8V74_",
    "outputId": "a0536fc6-56e4-4481-f97e-367bfe9dcd2b"
   },
   "outputs": [
    {
     "name": "stdout",
     "output_type": "stream",
     "text": [
      "a:  (5,)\n",
      "b:  (4,)\n",
      "c: (2, 2)\n"
     ]
    }
   ],
   "source": [
    "print('a: ', a.shape)\n",
    "print('b: ', b.shape)\n",
    "print('c:', c.shape)"
   ]
  },
  {
   "cell_type": "code",
   "execution_count": 8,
   "metadata": {
    "colab": {
     "base_uri": "https://localhost:8080/",
     "height": 67
    },
    "colab_type": "code",
    "executionInfo": {
     "elapsed": 394,
     "status": "ok",
     "timestamp": 1582214830739,
     "user": {
      "displayName": "Michael Laszlo",
      "photoUrl": "https://lh3.googleusercontent.com/a-/AAuE7mCT1FM8bo1whshk0hlWrdX8KtWxWnS_srhoY5ByEA=s64",
      "userId": "08687711341432696125"
     },
     "user_tz": 300
    },
    "id": "p-BBSBiJV75D",
    "outputId": "d6935730-53be-47df-a07a-5f56229855ba"
   },
   "outputs": [
    {
     "name": "stdout",
     "output_type": "stream",
     "text": [
      "a:  1\n",
      "b:  1\n",
      "c: 2\n"
     ]
    }
   ],
   "source": [
    "print('a: ', a.ndim)\n",
    "print('b: ', b.ndim)\n",
    "print('c:', c.ndim)"
   ]
  },
  {
   "cell_type": "markdown",
   "metadata": {
    "colab_type": "text",
    "id": "2Xb8fsnfV75J"
   },
   "source": [
    "You can set the array's type explicitly too using various type codes:"
   ]
  },
  {
   "cell_type": "code",
   "execution_count": 9,
   "metadata": {
    "colab": {
     "base_uri": "https://localhost:8080/",
     "height": 50
    },
    "colab_type": "code",
    "executionInfo": {
     "elapsed": 399,
     "status": "ok",
     "timestamp": 1582214833392,
     "user": {
      "displayName": "Michael Laszlo",
      "photoUrl": "https://lh3.googleusercontent.com/a-/AAuE7mCT1FM8bo1whshk0hlWrdX8KtWxWnS_srhoY5ByEA=s64",
      "userId": "08687711341432696125"
     },
     "user_tz": 300
    },
    "id": "TWej2wJZV75K",
    "outputId": "0d7e250b-f0a1-4809-e90c-c87602d1efe7"
   },
   "outputs": [
    {
     "name": "stdout",
     "output_type": "stream",
     "text": [
      "float64\n",
      "[2. 4.]\n"
     ]
    }
   ],
   "source": [
    "d = np.array([2, 4], dtype='float64')\n",
    "print(d.dtype)\n",
    "print(d)"
   ]
  },
  {
   "cell_type": "markdown",
   "metadata": {
    "colab_type": "text",
    "id": "jyI_5R49V75O"
   },
   "source": [
    "NumPy's *arange* is analogous to Python's *range* function:"
   ]
  },
  {
   "cell_type": "code",
   "execution_count": 10,
   "metadata": {
    "colab": {
     "base_uri": "https://localhost:8080/",
     "height": 50
    },
    "colab_type": "code",
    "executionInfo": {
     "elapsed": 388,
     "status": "ok",
     "timestamp": 1582214834533,
     "user": {
      "displayName": "Michael Laszlo",
      "photoUrl": "https://lh3.googleusercontent.com/a-/AAuE7mCT1FM8bo1whshk0hlWrdX8KtWxWnS_srhoY5ByEA=s64",
      "userId": "08687711341432696125"
     },
     "user_tz": 300
    },
    "id": "NfCxZ0whV75P",
    "outputId": "a877d94f-59ed-4843-bf67-f3f86015657f"
   },
   "outputs": [
    {
     "name": "stdout",
     "output_type": "stream",
     "text": [
      "[0 1 2 3 4 5 6 7]\n",
      "[0 2 4 6 8]\n"
     ]
    }
   ],
   "source": [
    "e = np.arange(8)\n",
    "f = np.arange(0, 10, 2)   # arguments: start, stop, step\n",
    "print(e)\n",
    "print(f)"
   ]
  },
  {
   "cell_type": "markdown",
   "metadata": {
    "colab_type": "text",
    "id": "EcLfJeKbV75S"
   },
   "source": [
    "*Linspace* creates *num* evenly-spaced values between start and stop."
   ]
  },
  {
   "cell_type": "code",
   "execution_count": 11,
   "metadata": {
    "colab": {
     "base_uri": "https://localhost:8080/",
     "height": 84
    },
    "colab_type": "code",
    "executionInfo": {
     "elapsed": 381,
     "status": "ok",
     "timestamp": 1582214836470,
     "user": {
      "displayName": "Michael Laszlo",
      "photoUrl": "https://lh3.googleusercontent.com/a-/AAuE7mCT1FM8bo1whshk0hlWrdX8KtWxWnS_srhoY5ByEA=s64",
      "userId": "08687711341432696125"
     },
     "user_tz": 300
    },
    "id": "CXdCec9RV75T",
    "outputId": "c571aad9-0ba2-4548-d3d1-5bc8b364a882"
   },
   "outputs": [
    {
     "name": "stdout",
     "output_type": "stream",
     "text": [
      "[  0.    2.5   5.    7.5  10.   12.5  15.   17.5  20.   22.5  25.   27.5\n",
      "  30.   32.5  35.   37.5  40.   42.5  45.   47.5  50.   52.5  55.   57.5\n",
      "  60.   62.5  65.   67.5  70.   72.5  75.   77.5  80.   82.5  85.   87.5\n",
      "  90.   92.5  95.   97.5 100. ]\n"
     ]
    }
   ],
   "source": [
    "print(np.linspace(0, 100, 41))     # arguments: start, stop, number of vals"
   ]
  },
  {
   "cell_type": "markdown",
   "metadata": {
    "colab_type": "text",
    "id": "bEA9q6IAV75W"
   },
   "source": [
    "We can initialize an array with zeros or ones. These functions are called with a tuple that describes the array's shape."
   ]
  },
  {
   "cell_type": "code",
   "execution_count": 12,
   "metadata": {
    "colab": {
     "base_uri": "https://localhost:8080/",
     "height": 117
    },
    "colab_type": "code",
    "executionInfo": {
     "elapsed": 522,
     "status": "ok",
     "timestamp": 1582214837580,
     "user": {
      "displayName": "Michael Laszlo",
      "photoUrl": "https://lh3.googleusercontent.com/a-/AAuE7mCT1FM8bo1whshk0hlWrdX8KtWxWnS_srhoY5ByEA=s64",
      "userId": "08687711341432696125"
     },
     "user_tz": 300
    },
    "id": "pHQ4fukLV75X",
    "outputId": "ab7e56c6-d9b7-49b6-effc-6c2d160069e8"
   },
   "outputs": [
    {
     "name": "stdout",
     "output_type": "stream",
     "text": [
      "[[0. 0. 0.]\n",
      " [0. 0. 0.]\n",
      " [0. 0. 0.]]\n",
      "[[1. 1. 1.]\n",
      " [1. 1. 1.]\n",
      " [1. 1. 1.]]\n"
     ]
    }
   ],
   "source": [
    "print(np.zeros((3,3)))\n",
    "print(np.ones((3,3)))"
   ]
  },
  {
   "cell_type": "markdown",
   "metadata": {
    "colab_type": "text",
    "id": "C8BcPyxnV75a"
   },
   "source": [
    "We can create arrays of zeros or ones of the same shape as a given array."
   ]
  },
  {
   "cell_type": "code",
   "execution_count": 13,
   "metadata": {
    "colab": {
     "base_uri": "https://localhost:8080/",
     "height": 134
    },
    "colab_type": "code",
    "executionInfo": {
     "elapsed": 396,
     "status": "ok",
     "timestamp": 1582214839578,
     "user": {
      "displayName": "Michael Laszlo",
      "photoUrl": "https://lh3.googleusercontent.com/a-/AAuE7mCT1FM8bo1whshk0hlWrdX8KtWxWnS_srhoY5ByEA=s64",
      "userId": "08687711341432696125"
     },
     "user_tz": 300
    },
    "id": "GrGzb-KqV75b",
    "outputId": "9aee92be-b157-492b-a8db-ea559d9f80ea"
   },
   "outputs": [
    {
     "name": "stdout",
     "output_type": "stream",
     "text": [
      "[[1 2]\n",
      " [3 4]]\n",
      "(2, 2)\n",
      "[[0 0]\n",
      " [0 0]]\n",
      "[[1 1]\n",
      " [1 1]]\n"
     ]
    }
   ],
   "source": [
    "print(c)\n",
    "print(c.shape)\n",
    "print(np.zeros_like(c))\n",
    "print(np.ones_like(c))"
   ]
  },
  {
   "cell_type": "markdown",
   "metadata": {
    "colab_type": "text",
    "id": "bMP4KBDDV75e"
   },
   "source": [
    "To create an array initialized with values calculated using a function, use NumPy’s ```fromfunction``` method, which takes as its arguments a function and a tuple representing the shape of the desired array. The function should  take the same number of arguments as dimensions in the array: these arguments index each element at which the function returns a value. "
   ]
  },
  {
   "cell_type": "code",
   "execution_count": 14,
   "metadata": {
    "colab": {
     "base_uri": "https://localhost:8080/",
     "height": 84
    },
    "colab_type": "code",
    "executionInfo": {
     "elapsed": 376,
     "status": "ok",
     "timestamp": 1582214841468,
     "user": {
      "displayName": "Michael Laszlo",
      "photoUrl": "https://lh3.googleusercontent.com/a-/AAuE7mCT1FM8bo1whshk0hlWrdX8KtWxWnS_srhoY5ByEA=s64",
      "userId": "08687711341432696125"
     },
     "user_tz": 300
    },
    "id": "bNk5klqoV75f",
    "outputId": "09afc8f1-f5b3-4857-a0e0-02d137b7673a"
   },
   "outputs": [
    {
     "name": "stdout",
     "output_type": "stream",
     "text": [
      "[ 0.  2.  4.  6.  8. 10. 12. 14. 16. 18.]\n",
      "[[0. 1. 2.]\n",
      " [1. 2. 3.]\n",
      " [2. 3. 4.]]\n"
     ]
    }
   ],
   "source": [
    "def double(x):\n",
    "    return 2 * x\n",
    "\n",
    "def add(x, y):\n",
    "    return x + y\n",
    "\n",
    "print(np.fromfunction(double, (10,)))\n",
    "print(np.fromfunction(add, (3, 3)))"
   ]
  },
  {
   "cell_type": "markdown",
   "metadata": {
    "colab_type": "text",
    "id": "uwbH_vI5V75i"
   },
   "source": [
    "## Reshaping arrays"
   ]
  },
  {
   "cell_type": "markdown",
   "metadata": {
    "colab_type": "text",
    "id": "MSLKdjiQV75j"
   },
   "source": [
    "Multidimensional arrays can be flattened (in row-major order) to one dimension."
   ]
  },
  {
   "cell_type": "code",
   "execution_count": 15,
   "metadata": {
    "colab": {
     "base_uri": "https://localhost:8080/",
     "height": 67
    },
    "colab_type": "code",
    "executionInfo": {
     "elapsed": 407,
     "status": "ok",
     "timestamp": 1582214844872,
     "user": {
      "displayName": "Michael Laszlo",
      "photoUrl": "https://lh3.googleusercontent.com/a-/AAuE7mCT1FM8bo1whshk0hlWrdX8KtWxWnS_srhoY5ByEA=s64",
      "userId": "08687711341432696125"
     },
     "user_tz": 300
    },
    "id": "DnTaeh6AV75j",
    "outputId": "ae35c881-0804-4c2d-f291-b77093b738c8"
   },
   "outputs": [
    {
     "name": "stdout",
     "output_type": "stream",
     "text": [
      "[[1 2]\n",
      " [3 4]]\n",
      "[1 2 3 4]\n"
     ]
    }
   ],
   "source": [
    "print(c)\n",
    "print(c.flatten())"
   ]
  },
  {
   "cell_type": "markdown",
   "metadata": {
    "colab_type": "text",
    "id": "Za5aQrrOV75m"
   },
   "source": [
    "*flatten* takes a keyword argument *order*. If set to 'C' (for C-style, the default), row-major flattening is performed; if set to 'F' (for Fortran-style), column-major is performed."
   ]
  },
  {
   "cell_type": "code",
   "execution_count": 16,
   "metadata": {
    "colab": {
     "base_uri": "https://localhost:8080/",
     "height": 33
    },
    "colab_type": "code",
    "executionInfo": {
     "elapsed": 273,
     "status": "ok",
     "timestamp": 1582214847322,
     "user": {
      "displayName": "Michael Laszlo",
      "photoUrl": "https://lh3.googleusercontent.com/a-/AAuE7mCT1FM8bo1whshk0hlWrdX8KtWxWnS_srhoY5ByEA=s64",
      "userId": "08687711341432696125"
     },
     "user_tz": 300
    },
    "id": "DeNcm6gCV75n",
    "outputId": "9bc4d430-d773-4807-a2c1-0c355e5f1e9b"
   },
   "outputs": [
    {
     "data": {
      "text/plain": [
       "array([1, 3, 2, 4])"
      ]
     },
     "execution_count": 16,
     "metadata": {},
     "output_type": "execute_result"
    }
   ],
   "source": [
    "c.flatten(order='F')"
   ]
  },
  {
   "cell_type": "markdown",
   "metadata": {
    "colab_type": "text",
    "id": "MMbVSNrdV75q"
   },
   "source": [
    "More generally, we can reshape an *ndarray*. The desired shape, passed as a tuple argument, must be consistent with the shape of the input array. As usual, the array being 'reshaped' is not affected by the operation."
   ]
  },
  {
   "cell_type": "code",
   "execution_count": 17,
   "metadata": {
    "colab": {
     "base_uri": "https://localhost:8080/",
     "height": 334
    },
    "colab_type": "code",
    "executionInfo": {
     "elapsed": 255,
     "status": "ok",
     "timestamp": 1582214848272,
     "user": {
      "displayName": "Michael Laszlo",
      "photoUrl": "https://lh3.googleusercontent.com/a-/AAuE7mCT1FM8bo1whshk0hlWrdX8KtWxWnS_srhoY5ByEA=s64",
      "userId": "08687711341432696125"
     },
     "user_tz": 300
    },
    "id": "WbsFlZupV75r",
    "outputId": "f17c88a4-1c66-4c7e-8bb3-b594be639239"
   },
   "outputs": [
    {
     "name": "stdout",
     "output_type": "stream",
     "text": [
      "[[1 2]\n",
      " [3 4]]\n",
      "[1 2 3 4]\n",
      "\n",
      "[ 0  1  2  3  4  5  6  7  8  9 10 11 12 13 14 15 16 17 18 19 20 21 22 23]\n",
      "[[ 0  1  2  3]\n",
      " [ 4  5  6  7]\n",
      " [ 8  9 10 11]\n",
      " [12 13 14 15]\n",
      " [16 17 18 19]\n",
      " [20 21 22 23]]\n",
      "\n",
      "[[[ 0  1  2  3]\n",
      "  [ 4  5  6  7]\n",
      "  [ 8  9 10 11]]\n",
      "\n",
      " [[12 13 14 15]\n",
      "  [16 17 18 19]\n",
      "  [20 21 22 23]]]\n"
     ]
    }
   ],
   "source": [
    "print(c)\n",
    "print(c.reshape(4,))\n",
    "print()\n",
    "a = np.arange(24)\n",
    "print(a)\n",
    "print(a.reshape((6,4)))\n",
    "print()\n",
    "print(a.reshape((2,3,4)))"
   ]
  },
  {
   "cell_type": "markdown",
   "metadata": {
    "colab_type": "text",
    "id": "OpVX2K7gV75t"
   },
   "source": [
    "## Random arrays"
   ]
  },
  {
   "cell_type": "markdown",
   "metadata": {
    "colab_type": "text",
    "id": "nKqq3APTV75v"
   },
   "source": [
    "The module *np.random* contains functions for generating arrays with random values. The arguments describe the shape of the resulting array."
   ]
  },
  {
   "cell_type": "code",
   "execution_count": 18,
   "metadata": {
    "colab": {},
    "colab_type": "code",
    "id": "2hc0La5uV75w",
    "outputId": "968b4050-811a-4da8-8a3a-f143d3b3159d"
   },
   "outputs": [
    {
     "name": "stdout",
     "output_type": "stream",
     "text": [
      "[0.67834088 0.25243751 0.98120534 0.82809136 0.13111741 0.68675361\n",
      " 0.50296709 0.65328128]\n",
      "[[0.90299944 0.808872   0.89768269 0.68485052]\n",
      " [0.58038706 0.22837309 0.91473707 0.25213569]\n",
      " [0.4181442  0.16614196 0.82639912 0.45620036]\n",
      " [0.46201431 0.85363032 0.93237907 0.78785287]]\n",
      "\n",
      "[[[ 1.4196237  -0.26760586  0.37818333]\n",
      "  [ 1.30650461  0.57352023  1.85785266]\n",
      "  [ 0.91330187  1.01991961 -1.48685846]]\n",
      "\n",
      " [[ 0.09608829  0.14067608  0.323308  ]\n",
      "  [ 1.88988085  0.08130921  0.70347246]\n",
      "  [ 0.14524764 -0.42182239 -0.17370236]]]\n"
     ]
    }
   ],
   "source": [
    "# uniform random in [0,1] \n",
    "print(np.random.rand(8)) #  1D\n",
    "print(np.random.rand(4,4))   # 2D\n",
    "print()\n",
    "print(np.random.randn(2, 3, 3)) # 3D"
   ]
  },
  {
   "cell_type": "code",
   "execution_count": 19,
   "metadata": {
    "colab": {},
    "colab_type": "code",
    "id": "HO8Ha378V75y",
    "outputId": "46715f85-231e-4e0c-f834-fe6483fc8cca"
   },
   "outputs": [
    {
     "data": {
      "text/plain": [
       "array([[0, 1, 1],\n",
       "       [1, 0, 0],\n",
       "       [1, 1, 0]])"
      ]
     },
     "execution_count": 19,
     "metadata": {},
     "output_type": "execute_result"
    }
   ],
   "source": [
    "# a 3x3 array of random ints in interval [0, 10]\n",
    "np.random.randint(0, 2, (3,3))"
   ]
  },
  {
   "cell_type": "code",
   "execution_count": 20,
   "metadata": {
    "colab": {},
    "colab_type": "code",
    "id": "8XTk2uf6V750",
    "outputId": "30a66145-5d98-4998-f4fa-7c3f6019da1e"
   },
   "outputs": [
    {
     "data": {
      "text/plain": [
       "array([[ 2.13471394e+00,  3.81080930e-01, -1.55715227e+00],\n",
       "       [-1.33595633e+00, -5.52613230e-01,  6.52303269e-01],\n",
       "       [-7.94732853e-01,  2.16206911e+00,  2.12810607e-04]])"
      ]
     },
     "execution_count": 20,
     "metadata": {},
     "output_type": "execute_result"
    }
   ],
   "source": [
    "# a 3x3 array of normally distributed random variables\n",
    "# with mean 0 and standard deviation 1\n",
    "np.random.normal(0, 1, (3, 3))"
   ]
  },
  {
   "cell_type": "markdown",
   "metadata": {
    "colab_type": "text",
    "collapsed": true,
    "id": "q91hMsG0V753"
   },
   "source": [
    "## Indexing arrays"
   ]
  },
  {
   "cell_type": "markdown",
   "metadata": {
    "colab_type": "text",
    "id": "Sa9jD-sTV754"
   },
   "source": [
    "In standard Python, a list slice yields a *copy* of a slice of the original list."
   ]
  },
  {
   "cell_type": "code",
   "execution_count": 21,
   "metadata": {
    "colab": {},
    "colab_type": "code",
    "id": "8Ph6yh8KV755",
    "outputId": "ca5e83c0-dc66-4194-fccd-ad712c982d27"
   },
   "outputs": [
    {
     "name": "stdout",
     "output_type": "stream",
     "text": [
      "[0, 1, 2]\n",
      "a:  [0, 1, 2, 3, 4, 5, 6, 7, 8, 9]\n",
      "b:  [18, 1, 2]\n"
     ]
    }
   ],
   "source": [
    "a = list(range(10))\n",
    "b = a[:3]\n",
    "print(b)\n",
    "b[0] = 18\n",
    "print('a: ', a)  # a not affected by assignment to b\n",
    "print('b: ', b)"
   ]
  },
  {
   "cell_type": "markdown",
   "metadata": {
    "colab_type": "text",
    "id": "9H9LM6IsV757"
   },
   "source": [
    "But when we slice a NumPy array, we obtain a *view* of the original array rather than a copy."
   ]
  },
  {
   "cell_type": "code",
   "execution_count": 22,
   "metadata": {
    "colab": {},
    "colab_type": "code",
    "id": "Q2tsFoJHV758",
    "outputId": "9b614ee2-5d8a-4bc9-f05a-3429dd3170bb"
   },
   "outputs": [
    {
     "name": "stdout",
     "output_type": "stream",
     "text": [
      "a:  [18  1  2  3  4  5  6  7  8  9]\n",
      "b:  [18  1  2]\n"
     ]
    }
   ],
   "source": [
    "a = np.array(range(10))\n",
    "b = a[:3]\n",
    "b[0] = 18\n",
    "print('a: ', a)  # note a has changed by assignment to b\n",
    "print('b: ', b)"
   ]
  },
  {
   "cell_type": "markdown",
   "metadata": {
    "colab_type": "text",
    "id": "XH7hloVsV75_"
   },
   "source": [
    "We can use the *copy* function to create an independent copy."
   ]
  },
  {
   "cell_type": "code",
   "execution_count": 23,
   "metadata": {
    "colab": {},
    "colab_type": "code",
    "id": "PLlL6wTGV76B",
    "outputId": "39a33153-6be7-44c7-acfd-92980c68f17a"
   },
   "outputs": [
    {
     "name": "stdout",
     "output_type": "stream",
     "text": [
      "a:  [0 1 2 3 4 5 6 7 8 9]\n",
      "b:  [18  1  2  3  4  5  6  7  8  9]\n"
     ]
    }
   ],
   "source": [
    "a = np.array(range(10))\n",
    "b = a.copy()\n",
    "b[0] = 18\n",
    "print('a: ', a)  # note a has changed by assignment to b\n",
    "print('b: ', b)"
   ]
  },
  {
   "cell_type": "code",
   "execution_count": 24,
   "metadata": {
    "colab": {},
    "colab_type": "code",
    "id": "pvMLj0pzV76E",
    "outputId": "b3bc7627-66fd-4e1f-d4b0-3b8caef49648"
   },
   "outputs": [
    {
     "name": "stdout",
     "output_type": "stream",
     "text": [
      "[[0 1 2]\n",
      " [3 4 5]\n",
      " [6 7 8]]\n"
     ]
    }
   ],
   "source": [
    "c = np.array(range(9)).reshape((3,3))\n",
    "print(c)"
   ]
  },
  {
   "cell_type": "markdown",
   "metadata": {
    "colab_type": "text",
    "id": "L22mWi9WV76G"
   },
   "source": [
    "We can index individual elements using two different notations."
   ]
  },
  {
   "cell_type": "code",
   "execution_count": 25,
   "metadata": {
    "colab": {},
    "colab_type": "code",
    "id": "PodBEdt9V76H",
    "outputId": "0e985812-06b7-4c79-d00a-621c2d3496c3"
   },
   "outputs": [
    {
     "data": {
      "text/plain": [
       "(4, 4)"
      ]
     },
     "execution_count": 25,
     "metadata": {},
     "output_type": "execute_result"
    }
   ],
   "source": [
    "c[1][1], c[1,1]"
   ]
  },
  {
   "cell_type": "markdown",
   "metadata": {
    "colab_type": "text",
    "id": "w4UGKXPWV76K"
   },
   "source": [
    "We use 'comma' notation when accessing multiple elements from a multidimensional array. There is an index for each axis, where indexes are separated by commas. If you want to select every item along a particular axis, replace its index with a single colon."
   ]
  },
  {
   "cell_type": "code",
   "execution_count": 26,
   "metadata": {
    "colab": {},
    "colab_type": "code",
    "id": "UOuZLcjGV76L",
    "outputId": "9ea1b2c0-b7f6-47f7-dae3-cb620193c6ad"
   },
   "outputs": [
    {
     "name": "stdout",
     "output_type": "stream",
     "text": [
      "[[0 1 2]\n",
      " [3 4 5]\n",
      " [6 7 8]] \n",
      "\n",
      "[[1 2]\n",
      " [4 5]]\n",
      "shape:  (2, 2) \n",
      "\n",
      "[6 7 8]\n",
      "shape:  (3,) \n",
      "\n",
      "[6 7 8]\n",
      "shape:  (3,) \n",
      "\n",
      "[[6 7 8]]\n",
      "shape:  (1, 3) \n",
      "\n",
      "[[0 1]\n",
      " [3 4]\n",
      " [6 7]]\n",
      "shape:  (3, 2) \n",
      "\n",
      "[3 4]\n",
      "shape:  (2,) \n",
      "\n",
      "[[3 4]]\n",
      "shape:  (1, 2) \n",
      "\n"
     ]
    }
   ],
   "source": [
    "a = {}\n",
    "a[1] = c[:2, 1:]   # upper right (2,2) shape\n",
    "a[2] = c[2]        # bottom row (3,)\n",
    "a[3] = c[2, :]     # bottom row (3,)\n",
    "a[4] = c[2:, :]    # bottom row (1, 3)\n",
    "a[5] = c[:, :2]    # two left columns (3, 2)\n",
    "a[6] = c[1, :2]    # elements [3,4]  (2,)\n",
    "a[7] = c[1:2, :2]  # [3,4]  (1, 2)\n",
    "print(c, '\\n')\n",
    "for i in range(1, 8):\n",
    "    print(a[i])\n",
    "    print('shape: ', a[i].shape, '\\n')"
   ]
  },
  {
   "cell_type": "markdown",
   "metadata": {
    "colab_type": "text",
    "id": "SdmKxFJkV76O"
   },
   "source": [
    "An example from one of our recommended texts:"
   ]
  },
  {
   "cell_type": "code",
   "execution_count": 27,
   "metadata": {
    "colab": {},
    "colab_type": "code",
    "id": "_-HubaZXV76O",
    "outputId": "2bf67d50-b98c-499b-f29d-8c89974370d4"
   },
   "outputs": [
    {
     "name": "stdout",
     "output_type": "stream",
     "text": [
      "[[ 1.  2.  3.]\n",
      " [ 4.  5.  6.]\n",
      " [ 7.  8.  9.]\n",
      " [10. 11. 12.]]\n"
     ]
    }
   ],
   "source": [
    "a = np.linspace(1,12,12).reshape(4,3)\n",
    "print(a)"
   ]
  },
  {
   "cell_type": "code",
   "execution_count": 28,
   "metadata": {
    "colab": {
     "base_uri": "https://localhost:8080/",
     "height": 485
    },
    "colab_type": "code",
    "executionInfo": {
     "elapsed": 3783,
     "status": "ok",
     "timestamp": 1582215006823,
     "user": {
      "displayName": "Michael Laszlo",
      "photoUrl": "https://lh3.googleusercontent.com/a-/AAuE7mCT1FM8bo1whshk0hlWrdX8KtWxWnS_srhoY5ByEA=s64",
      "userId": "08687711341432696125"
     },
     "user_tz": 300
    },
    "id": "CY72Wj7PW7Mc",
    "outputId": "a9562a14-6cf3-4f1e-e3b1-cb17f96629f2"
   },
   "outputs": [
    {
     "data": {
      "image/png": "[encoded data removed]",
      "text/plain": [
       "<IPython.core.display.Image object>"
      ]
     },
     "metadata": {},
     "output_type": "display_data"
    }
   ],
   "source": [
    "display_images(['numpyArraySlices.png'])"
   ]
  },
  {
   "cell_type": "markdown",
   "metadata": {
    "colab_type": "text",
    "id": "Tve1KNw7V76R"
   },
   "source": [
    "Multidimensional slices are views on the underlying array. Assigning to a slice changes the underlying array."
   ]
  },
  {
   "cell_type": "code",
   "execution_count": 29,
   "metadata": {
    "colab": {},
    "colab_type": "code",
    "id": "XZU9tbBQV76S",
    "outputId": "7c1e4500-14ae-4f82-8f9b-fa5cfb5a9d53"
   },
   "outputs": [
    {
     "name": "stdout",
     "output_type": "stream",
     "text": [
      "[[0 1 2]\n",
      " [3 4 5]\n",
      " [6 7 8]] \n",
      "\n",
      "[[0 1 2]\n",
      " [0 4 5]\n",
      " [0 7 8]] \n",
      "\n",
      "[[ 0  1  2]\n",
      " [ 0 20  5]\n",
      " [ 0  7  8]] \n",
      "\n",
      "[[ 0  1  2]\n",
      " [ 0 20  5]\n",
      " [40 40 40]] \n",
      "\n"
     ]
    }
   ],
   "source": [
    "print(c, '\\n')\n",
    "c[:, 0] = 0 # set first column to 0\n",
    "print(c, '\\n')\n",
    "c[1, 1] = 20 # set center element to 20\n",
    "print(c, '\\n')\n",
    "c[2, :] = 40 # set bottom row to 40\n",
    "print(c, '\\n')"
   ]
  },
  {
   "cell_type": "markdown",
   "metadata": {
    "colab_type": "text",
    "id": "j0v8ccBSV76V"
   },
   "source": [
    "### Fancy indexing\n",
    "When we subscript by an array of indexes, we extract the values at those positions. This is known as *fancy indexing*."
   ]
  },
  {
   "cell_type": "code",
   "execution_count": 30,
   "metadata": {
    "colab": {},
    "colab_type": "code",
    "id": "NQI95GmlV76W",
    "outputId": "307e51bf-72f9-4c11-bb18-6c4cdcfe61f9"
   },
   "outputs": [
    {
     "name": "stdout",
     "output_type": "stream",
     "text": [
      "[9 2 1 0 2 0 0 1 4 2]\n",
      "[0 2 0]\n"
     ]
    }
   ],
   "source": [
    "a = np.random.randint(0, 10, 10)\n",
    "print(a)\n",
    "indx = [3, 1, 5]\n",
    "print(a[indx])"
   ]
  },
  {
   "cell_type": "markdown",
   "metadata": {
    "colab_type": "text",
    "id": "7onRCkJkV76Y"
   },
   "source": [
    "The resulting array assumes the shape of the index array."
   ]
  },
  {
   "cell_type": "code",
   "execution_count": 31,
   "metadata": {
    "colab": {},
    "colab_type": "code",
    "id": "GYj59dx_V76Z",
    "outputId": "cac20d17-a42a-4cfd-c753-9ff90a05cd0a"
   },
   "outputs": [
    {
     "name": "stdout",
     "output_type": "stream",
     "text": [
      "[9 2 1 0 2 0 0 1 4 2] \n",
      "\n",
      "[[2 0]\n",
      " [9 2]]\n"
     ]
    }
   ],
   "source": [
    "indx2 = np.array([[1, 3], [0, 4]])\n",
    "print(a, '\\n')\n",
    "print(a[indx2])"
   ]
  },
  {
   "cell_type": "markdown",
   "metadata": {
    "colab_type": "text",
    "id": "RIkpyNGgV76b"
   },
   "source": [
    "We can apply fancy indexing on multidimensional arrays by providing a list of values for each dimension, using comma subscript notation."
   ]
  },
  {
   "cell_type": "code",
   "execution_count": 32,
   "metadata": {
    "colab": {},
    "colab_type": "code",
    "id": "PGW6TbEaV76c",
    "outputId": "a7bbed0e-fdc0-4cf8-bdf2-b7ea6942268f"
   },
   "outputs": [
    {
     "name": "stdout",
     "output_type": "stream",
     "text": [
      "[[1 9 3]\n",
      " [0 8 2]\n",
      " [0 2 0]] \n",
      "\n",
      "[9 2 3]\n"
     ]
    }
   ],
   "source": [
    "a = np.random.randint(0, 10, (3,3))\n",
    "print(a, '\\n')\n",
    "rows = [0, 1, 0]\n",
    "cols = [1, 2, 2]\n",
    "print(a[rows, cols])"
   ]
  },
  {
   "cell_type": "markdown",
   "metadata": {
    "colab_type": "text",
    "id": "5aDiil9gV76e"
   },
   "source": [
    "Here we use fancy indexing to modify values in an array."
   ]
  },
  {
   "cell_type": "code",
   "execution_count": 33,
   "metadata": {
    "colab": {},
    "colab_type": "code",
    "id": "svRytpY8V76f",
    "outputId": "4c212b6a-505f-4147-aba5-a0279dd6acc4"
   },
   "outputs": [
    {
     "name": "stdout",
     "output_type": "stream",
     "text": [
      "[[5 1 4]\n",
      " [9 7 2]\n",
      " [9 2 2]] \n",
      "\n",
      "[[ 5 18 18]\n",
      " [ 9  7 18]\n",
      " [ 9  2  2]]\n"
     ]
    }
   ],
   "source": [
    "a = np.random.randint(0, 10, (3,3))\n",
    "print(a, '\\n')\n",
    "rows = [0, 1, 0]\n",
    "cols = [1, 2, 2]\n",
    "a[rows, cols] = 18\n",
    "print(a)"
   ]
  },
  {
   "cell_type": "markdown",
   "metadata": {
    "colab_type": "text",
    "collapsed": true,
    "id": "Qui96EzkV76s"
   },
   "source": [
    "### Visualizing two-dimensional arrays\n",
    "Two-dimensonal arrays can be visualized with the ```plt.matshow``` function. The array below is small but it illustrates the general principle. A colorbar is added as a legend. The ticks in the colorbar are specified to be 2, 4, 6, and 8. Note that the first row of the matrix (with index 0), is plotted at the top, which corresponds to the location of the first row in the matrix."
   ]
  },
  {
   "cell_type": "code",
   "execution_count": 34,
   "metadata": {
    "colab": {
     "base_uri": "https://localhost:8080/",
     "height": 299
    },
    "colab_type": "code",
    "executionInfo": {
     "elapsed": 520,
     "status": "ok",
     "timestamp": 1582215069161,
     "user": {
      "displayName": "Michael Laszlo",
      "photoUrl": "https://lh3.googleusercontent.com/a-/AAuE7mCT1FM8bo1whshk0hlWrdX8KtWxWnS_srhoY5ByEA=s64",
      "userId": "08687711341432696125"
     },
     "user_tz": 300
    },
    "id": "KhnUCFK2V76v",
    "outputId": "2403a2eb-bfd4-4d3d-8f97-b299149652e1"
   },
   "outputs": [
    {
     "name": "stdout",
     "output_type": "stream",
     "text": [
      "[[8 4 6 2]\n",
      " [4 8 6 2]\n",
      " [4 8 2 6]\n",
      " [8 2 4 6]]\n"
     ]
    },
    {
     "data": {
      "image/png": "[encoded data removed]",
      "text/plain": [
       "<Figure size 288x288 with 2 Axes>"
      ]
     },
     "metadata": {
      "needs_background": "light"
     },
     "output_type": "display_data"
    }
   ],
   "source": [
    "x = np.array([[8, 4, 6, 2],\n",
    "              [4, 8, 6, 2],\n",
    "              [4, 8, 2, 6],\n",
    "              [8, 2, 4, 6]])\n",
    "plt.matshow(x)\n",
    "plt.colorbar(ticks=[2, 4, 6, 8], shrink=0.8)\n",
    "print(x)"
   ]
  },
  {
   "cell_type": "markdown",
   "metadata": {
    "colab_type": "text",
    "id": "uR6AEBPpV76y"
   },
   "source": [
    "\n",
    "A function ```plot_function(f, nrows, ncols, cmap)``` that takes a two-argument function *f(i, j)* that returns a real number.\n"
   ]
  },
  {
   "cell_type": "code",
   "execution_count": 35,
   "metadata": {
    "colab": {
     "base_uri": "https://localhost:8080/",
     "height": 445
    },
    "colab_type": "code",
    "executionInfo": {
     "elapsed": 861,
     "status": "ok",
     "timestamp": 1582215335682,
     "user": {
      "displayName": "Michael Laszlo",
      "photoUrl": "https://lh3.googleusercontent.com/a-/AAuE7mCT1FM8bo1whshk0hlWrdX8KtWxWnS_srhoY5ByEA=s64",
      "userId": "08687711341432696125"
     },
     "user_tz": 300
    },
    "id": "4avyPVlAV76z",
    "outputId": "a6576ede-5b42-4395-e5a7-02350daa69d0"
   },
   "outputs": [
    {
     "data": {
      "image/png": "[encoded data removed]",
      "text/plain": [
       "<Figure size 288x288 with 2 Axes>"
      ]
     },
     "metadata": {
      "needs_background": "light"
     },
     "output_type": "display_data"
    },
    {
     "data": {
      "image/png": "[encoded data removed]",
      "text/plain": [
       "<Figure size 288x288 with 2 Axes>"
      ]
     },
     "metadata": {
      "needs_background": "light"
     },
     "output_type": "display_data"
    }
   ],
   "source": [
    "\n",
    "def plot_function(f, nrows, ncols, cmap='viridis'):\n",
    "    a = np.zeros((nrows, ncols))\n",
    "    for i in range(nrows):\n",
    "        for j in range(ncols):\n",
    "            a[i][j] = f(i, j)\n",
    "    plt.matshow(a, cmap=cmap)\n",
    "    plt.colorbar(shrink=0.8)\n",
    "    \n",
    "def f(i, j):\n",
    "    return i + j\n",
    "\n",
    "def g(i, j):\n",
    "    return np.sin(np.cos(np.tan(i))) * np.sin(np.cos(np.tan(j)))\n",
    "\n",
    "plot_function(f, 11, 11)\n",
    "plot_function(g, 100, 100, cmap='rainbow')"
   ]
  },
  {
   "cell_type": "markdown",
   "metadata": {
    "colab_type": "text",
    "id": "Cr6yEqTnV769"
   },
   "source": [
    "### Conditions on arrays\n",
    "We can apply Boolean operator to a numpy array to produce a Boolean numpy array of the same shape. "
   ]
  },
  {
   "cell_type": "code",
   "execution_count": 36,
   "metadata": {
    "colab": {
     "base_uri": "https://localhost:8080/",
     "height": 150
    },
    "colab_type": "code",
    "executionInfo": {
     "elapsed": 317,
     "status": "ok",
     "timestamp": 1582215367751,
     "user": {
      "displayName": "Michael Laszlo",
      "photoUrl": "https://lh3.googleusercontent.com/a-/AAuE7mCT1FM8bo1whshk0hlWrdX8KtWxWnS_srhoY5ByEA=s64",
      "userId": "08687711341432696125"
     },
     "user_tz": 300
    },
    "id": "FxuYbPokV769",
    "outputId": "02b437ca-a0b1-4ec9-894b-b610d7970bfa"
   },
   "outputs": [
    {
     "name": "stdout",
     "output_type": "stream",
     "text": [
      "[[ 1.  2.  3.]\n",
      " [ 4.  5.  6.]\n",
      " [ 7.  8.  9.]\n",
      " [10. 11. 12.]]\n",
      "[[ True  True  True]\n",
      " [ True False False]\n",
      " [False False False]\n",
      " [False False False]]\n"
     ]
    }
   ],
   "source": [
    "a = np.linspace(1,12,12).reshape(4,3)\n",
    "print(a)\n",
    "a_lt_5 = a < 5\n",
    "print(a_lt_5)"
   ]
  },
  {
   "cell_type": "markdown",
   "metadata": {
    "colab_type": "text",
    "id": "UAEZHUOqV76_"
   },
   "source": [
    "When the indices of an array are specified with a Boolean array, only the values of the array where the boolean array is True are selected. This lets us extract the values of an array that satisfy a certain condition. The Boolean array is used as a mask."
   ]
  },
  {
   "cell_type": "code",
   "execution_count": 37,
   "metadata": {
    "colab": {
     "base_uri": "https://localhost:8080/",
     "height": 33
    },
    "colab_type": "code",
    "executionInfo": {
     "elapsed": 411,
     "status": "ok",
     "timestamp": 1582215370013,
     "user": {
      "displayName": "Michael Laszlo",
      "photoUrl": "https://lh3.googleusercontent.com/a-/AAuE7mCT1FM8bo1whshk0hlWrdX8KtWxWnS_srhoY5ByEA=s64",
      "userId": "08687711341432696125"
     },
     "user_tz": 300
    },
    "id": "CQe22ATaV77A",
    "outputId": "da131461-e024-48b5-deef-c78d35abd885"
   },
   "outputs": [
    {
     "data": {
      "text/plain": [
       "array([ 6.,  7.,  8.,  9., 10., 11., 12.])"
      ]
     },
     "execution_count": 37,
     "metadata": {},
     "output_type": "execute_result"
    }
   ],
   "source": [
    "a[a > 5]"
   ]
  },
  {
   "cell_type": "markdown",
   "metadata": {
    "colab_type": "text",
    "id": "BS-jAt55V77F"
   },
   "source": [
    "We can use both fancy indexing and masking to compute the primes up to *n* using sieve of Eratosthenes. Here we compute a Boolean array ```is_prime``` which is True in index *i* iff *i* is prime."
   ]
  },
  {
   "cell_type": "code",
   "execution_count": 38,
   "metadata": {
    "colab": {},
    "colab_type": "code",
    "id": "qjdz9ssHV77G",
    "outputId": "fac438eb-a83a-4887-d8d7-830bcf2ff7c2"
   },
   "outputs": [
    {
     "name": "stdout",
     "output_type": "stream",
     "text": [
      "[ 2  3  5  7 11 13 17 19 23 29 31 37 41 43 47 53 59 61 67 71 73 79 83 89\n",
      " 97]\n"
     ]
    }
   ],
   "source": [
    "is_prime = np.ones((100,), dtype=bool)\n",
    "# 0 and 1 are not prime\n",
    "is_prime[:2] = False\n",
    "lim = int(np.sqrt(len(is_prime)))\n",
    "# cross out multiples of i starting with 2i for each i\n",
    "for i in range(2, lim):\n",
    "    is_prime[2*i::i] = False\n",
    "is_prime\n",
    "print(np.arange(100)[is_prime])"
   ]
  },
  {
   "cell_type": "markdown",
   "metadata": {
    "colab_type": "text",
    "id": "MqOxlo1LV77H"
   },
   "source": [
    "A function that returns the array of all primes up to input *n*. "
   ]
  },
  {
   "cell_type": "code",
   "execution_count": 39,
   "metadata": {
    "colab": {},
    "colab_type": "code",
    "id": "y6KXT301V77I"
   },
   "outputs": [],
   "source": [
    "def primes_upto(n):\n",
    "    is_prime = np.ones((n+1,), dtype=bool)\n",
    "    is_prime[:2] = False\n",
    "    lim = int(np.sqrt(len(is_prime)))\n",
    "    for i in range(2, lim):\n",
    "        is_prime[2*i::i] = False\n",
    "    return np.arange(n+1)[is_prime]"
   ]
  },
  {
   "cell_type": "code",
   "execution_count": 40,
   "metadata": {
    "colab": {},
    "colab_type": "code",
    "id": "DCPN4W6KV77J",
    "outputId": "46fc7694-342e-4190-bab0-33023893beaa"
   },
   "outputs": [
    {
     "data": {
      "text/plain": [
       "array([ 2,  3,  5,  7, 11, 13, 17, 19])"
      ]
     },
     "execution_count": 40,
     "metadata": {},
     "output_type": "execute_result"
    }
   ],
   "source": [
    "primes_upto(20)"
   ]
  },
  {
   "cell_type": "code",
   "execution_count": null,
   "metadata": {
    "colab": {},
    "colab_type": "code",
    "id": "c3l3heDiV77L"
   },
   "outputs": [],
   "source": []
  }
 ],
 "metadata": {
  "anaconda-cloud": {},
  "colab": {
   "collapsed_sections": [],
   "name": "M180_Numpy_ArraysD.ipynb",
   "provenance": []
  },
  "kernelspec": {
   "display_name": "Python [default]",
   "language": "python",
   "name": "python3"
  },
  "language_info": {
   "codemirror_mode": {
    "name": "ipython",
    "version": 3
   },
   "file_extension": ".py",
   "mimetype": "text/x-python",
   "name": "python",
   "nbconvert_exporter": "python",
   "pygments_lexer": "ipython3",
   "version": "3.5.5"
  }
 },
 "nbformat": 4,
 "nbformat_minor": 1
}
